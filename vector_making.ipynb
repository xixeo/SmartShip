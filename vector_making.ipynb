{
 "cells": [
  {
   "cell_type": "code",
   "execution_count": 1,
   "id": "50a5e7dd-4485-4f89-84b7-fbb7ac3765fc",
   "metadata": {},
   "outputs": [],
   "source": [
    "import numpy as np\n",
    "import pandas as pd\n",
    "import pickle\n",
    "import os\n",
    "from gensim.models import Word2Vec\n",
    "from sklearn.preprocessing import MinMaxScaler, OneHotEncoder\n",
    "from sklearn.metrics.pairwise import cosine_similarity\n",
    "from datetime import datetime, timedelta"
   ]
  },
  {
   "cell_type": "code",
   "execution_count": 3,
   "id": "a299f841-dcb1-485f-b005-a126748281f1",
   "metadata": {},
   "outputs": [],
   "source": [
    "# 현재 디렉토리 설정\n",
    "current_dir = os.getcwd()  \n",
    "# Word2Vec 모델 로드\n",
    "word2vec_machinery = Word2Vec.load(os.path.join(current_dir, 'models', 'word2vec_machinery.model'))\n",
    "word2vec_assembly = Word2Vec.load(os.path.join(current_dir, 'models', 'word2vec_assembly.model'))\n",
    "word2vec_supplier = Word2Vec.load(os.path.join(current_dir, 'models', 'word2vec_supplier.model'))\n",
    "\n",
    "# 고정 피처 데이터 로드\n",
    "df_fixed = pd.read_csv(os.path.join(current_dir, '1001_features.csv'))"
   ]
  },
  {
   "cell_type": "code",
   "execution_count": 4,
   "id": "fb6288a2-ed14-4cf8-a503-c56bab9a36c0",
   "metadata": {},
   "outputs": [],
   "source": [
    "# 벡터화 함수\n",
    "def sentence_vector(sentence, model):\n",
    "    vectors = [model.wv[word] for word in sentence if word in model.wv]\n",
    "    if len(vectors) > 0:\n",
    "        return np.mean(vectors, axis=0)\n",
    "    else:\n",
    "        return np.zeros(model.vector_size)\n"
   ]
  },
  {
   "cell_type": "code",
   "execution_count": 7,
   "id": "8a803e14-f7d1-4c90-88ba-ed03d4997ba0",
   "metadata": {},
   "outputs": [],
   "source": [
    "# 벡터 사전 계산\n",
    "def precompute_combined_vectors(df, word2vec_machinery, word2vec_assembly, word2vec_supplier):\n",
    "    df['machinery_vector'] = df['cleaned_machinery'].apply(lambda x: sentence_vector(x.split(), word2vec_machinery))\n",
    "    df['assembly_vector'] = df['cleaned_assembly'].apply(lambda x: sentence_vector(x.split(), word2vec_assembly))\n",
    "    df['supplier_vector'] = df['cleaned_supplier'].apply(lambda x: sentence_vector(x.split(), word2vec_supplier))  # 이미 분할됨\n",
    "    df['combined_vector'] = df.apply(lambda row: np.hstack((row['machinery_vector'], row['assembly_vector'], row['supplier_vector'])), axis=1)\n",
    "    return df"
   ]
  },
  {
   "cell_type": "code",
   "execution_count": 8,
   "id": "20a7d18d-20de-45ce-980a-435b55601fa3",
   "metadata": {},
   "outputs": [],
   "source": [
    "# 벡터 사전 계산\n",
    "df_fixed = precompute_combined_vectors(df_fixed, word2vec_machinery, word2vec_assembly, word2vec_supplier)\n"
   ]
  },
  {
   "cell_type": "code",
   "execution_count": 9,
   "id": "bd7323a1-6b2f-463d-9406-8db8beaca8fa",
   "metadata": {},
   "outputs": [],
   "source": [
    "# combined_vector를 별도의 .npy 파일로 저장\n",
    "combined_vectors = np.vstack(df_fixed['combined_vector'].values)\n",
    "np.save(os.path.join(current_dir, 'combined_vectors.npy'), combined_vectors)\n"
   ]
  },
  {
   "cell_type": "code",
   "execution_count": 11,
   "id": "21ddaf7d-f704-44f9-b9cd-611f3a6d2c25",
   "metadata": {},
   "outputs": [
    {
     "name": "stdout",
     "output_type": "stream",
     "text": [
      "벡터 사전 계산 및 저장 완료!\n"
     ]
    }
   ],
   "source": [
    "df_fixed.drop(['machinery_vector', 'assembly_vector', 'supplier_vector', 'combined_vector'], axis=1).to_csv(os.path.join(current_dir, 'features_fixed.csv'), index=False)\n",
    "\n",
    "\n",
    "print(\"벡터 사전 계산 및 저장 완료!\")"
   ]
  },
  {
   "cell_type": "code",
   "execution_count": null,
   "id": "e2e483b7-eac3-469f-8937-a5d4e5061914",
   "metadata": {},
   "outputs": [],
   "source": []
  },
  {
   "cell_type": "code",
   "execution_count": null,
   "id": "e3492e78-8c87-46c3-bb59-a98846561c90",
   "metadata": {},
   "outputs": [],
   "source": []
  }
 ],
 "metadata": {
  "kernelspec": {
   "display_name": "Python (ship)",
   "language": "python",
   "name": "ship"
  },
  "language_info": {
   "codemirror_mode": {
    "name": "ipython",
    "version": 3
   },
   "file_extension": ".py",
   "mimetype": "text/x-python",
   "name": "python",
   "nbconvert_exporter": "python",
   "pygments_lexer": "ipython3",
   "version": "3.12.5"
  }
 },
 "nbformat": 4,
 "nbformat_minor": 5
}
