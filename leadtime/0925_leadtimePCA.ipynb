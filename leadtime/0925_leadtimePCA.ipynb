{
 "cells": [
  {
   "cell_type": "code",
   "execution_count": 1,
   "id": "496f2a9e-661c-4800-af46-a4eeefc9998f",
   "metadata": {},
   "outputs": [],
   "source": [
    "import pandas as pd\n",
    "import numpy as np\n",
    "import re\n",
    "import matplotlib.pyplot as plt\n",
    "\n",
    "from sklearn.model_selection import train_test_split\n",
    "from sklearn.preprocessing import LabelEncoder, OneHotEncoder\n",
    "from sklearn.ensemble import RandomForestClassifier\n",
    "from sklearn.metrics import classification_report, accuracy_score\n",
    "from transformers import BertTokenizer"
   ]
  },
  {
   "cell_type": "code",
   "execution_count": 2,
   "id": "ead46d44-e3c4-464b-9c55-8e68b61685f8",
   "metadata": {},
   "outputs": [],
   "source": [
    "df=pd.read_excel('dataset_filledsupplier_currency_orderday.xlsx')"
   ]
  },
  {
   "cell_type": "code",
   "execution_count": 3,
   "id": "05aef43a-0b3e-408b-ba95-70285b38f602",
   "metadata": {},
   "outputs": [
    {
     "name": "stdout",
     "output_type": "stream",
     "text": [
      "<class 'pandas.core.frame.DataFrame'>\n",
      "RangeIndex: 24621 entries, 0 to 24620\n",
      "Data columns (total 32 columns):\n",
      " #   Column       Non-Null Count  Dtype  \n",
      "---  ------       --------------  -----  \n",
      " 0   청구서번호        24621 non-null  object \n",
      " 1   No.          24621 non-null  int64  \n",
      " 2   Subject      24599 non-null  object \n",
      " 3   Machinery    24621 non-null  object \n",
      " 4   Assembly     24621 non-null  object \n",
      " 5   청구품목         24621 non-null  object \n",
      " 6   Unnamed: 6   0 non-null      float64\n",
      " 7   Part No.1    24602 non-null  object \n",
      " 8   Part No.2    3592 non-null   object \n",
      " 9   청구량          24517 non-null  float64\n",
      " 10  견적           24171 non-null  object \n",
      " 11  견적수량         24517 non-null  float64\n",
      " 12  견적화폐         24621 non-null  object \n",
      " 13  견적단가         24621 non-null  float64\n",
      " 14  발주번호         24621 non-null  object \n",
      " 15  발주처          24621 non-null  object \n",
      " 16  발주           24621 non-null  object \n",
      " 17  발주수량         24621 non-null  int64  \n",
      " 18  발주금액         24621 non-null  float64\n",
      " 19  D/T          22292 non-null  object \n",
      " 20  미입고 기간       1620 non-null   object \n",
      " 21  창고입고         21302 non-null  object \n",
      " 22  창고입고수량       24621 non-null  int64  \n",
      " 23  Control No.  15433 non-null  object \n",
      " 24  입고창고         21302 non-null  object \n",
      " 25  창고출고         19258 non-null  object \n",
      " 26  창고출고수량       24621 non-null  int64  \n",
      " 27  출고선박         19258 non-null  object \n",
      " 28  출고운반선        19258 non-null  object \n",
      " 29  선박입고         5374 non-null   object \n",
      " 30  선박입고수량       24621 non-null  int64  \n",
      " 31  완료 여부        5362 non-null   object \n",
      "dtypes: float64(5), int64(5), object(22)\n",
      "memory usage: 6.0+ MB\n"
     ]
    }
   ],
   "source": [
    "df.info()"
   ]
  },
  {
   "cell_type": "code",
   "execution_count": 4,
   "id": "eb2252db-28d5-446a-877e-e003fc04a134",
   "metadata": {},
   "outputs": [
    {
     "name": "stdout",
     "output_type": "stream",
     "text": [
      "81\n"
     ]
    }
   ],
   "source": [
    "print(len(df['발주처'].unique()))"
   ]
  },
  {
   "cell_type": "markdown",
   "id": "8fce6d15-4bb0-4aaa-8501-039d839b3bc4",
   "metadata": {},
   "source": [
    "## 클리닝"
   ]
  },
  {
   "cell_type": "code",
   "execution_count": 5,
   "id": "b2089545-cb02-4012-88a9-0da4869c274e",
   "metadata": {},
   "outputs": [
    {
     "name": "stdout",
     "output_type": "stream",
     "text": [
      "발주 일자는 있지만 미입고 기간, 창고 입고, 선박 입고도 없는 경우: 1699개\n",
      "삭제된 행의 개수: 1699개\n",
      "남은 데이터프레임의 크기: (22922, 32)\n"
     ]
    }
   ],
   "source": [
    "missing_conditions = df[\n",
    "    df['발주'].notnull() &  # 발주 일자는 비어있지 않음\n",
    "    df['미입고 기간'].isnull() &  # 미입고 기간은 비어있음\n",
    "    df['창고입고'].isnull() & # 창고 입고도 비어있음\n",
    "    df['선박입고'].isnull()  # 선박 입고도 비어있음\n",
    "\n",
    "]\n",
    "\n",
    "print(f\"발주 일자는 있지만 미입고 기간, 창고 입고, 선박 입고도 없는 경우: {len(missing_conditions)}개\")\n",
    "df = df.drop(missing_conditions.index)\n",
    "\n",
    "print(f\"삭제된 행의 개수: {len(missing_conditions)}개\")\n",
    "print(f\"남은 데이터프레임의 크기: {df.shape}\")"
   ]
  },
  {
   "cell_type": "code",
   "execution_count": 6,
   "id": "116fd26a-b562-4f62-a379-b2f3c8de8dce",
   "metadata": {},
   "outputs": [
    {
     "name": "stdout",
     "output_type": "stream",
     "text": [
      "창고 입고일은 없고 미입고 기간은 명시되어 있어 미입고 기간으로 분류해야 할 경우 : 1620개\n"
     ]
    }
   ],
   "source": [
    "#미입고기간으로 처리.\n",
    "missing_both = df[df['창고입고'].isnull() & df['미입고 기간'].notnull()]\n",
    "\n",
    "print(f\"창고 입고일은 없고 미입고 기간은 명시되어 있어 미입고 기간으로 분류해야 할 경우 : {len(missing_both)}개\")"
   ]
  },
  {
   "cell_type": "code",
   "execution_count": 7,
   "id": "36dff9d6-5060-49b2-a382-09f8f9dea533",
   "metadata": {},
   "outputs": [],
   "source": [
    "df['발주'] = pd.to_datetime(df['발주'], errors='coerce')\n",
    "df['창고입고'] = pd.to_datetime(df['창고입고'], errors='coerce')\n",
    "\n",
    "# 리드타임 계산\n",
    "df['리드타임'] = (df['창고입고'] - df['발주']).dt.days\n",
    "\n",
    "# 리드타임이 0인 경우 1로 변경\n",
    "df['리드타임'] = df['리드타임'].apply(lambda x: 1 if x == 0 else x)"
   ]
  },
  {
   "cell_type": "code",
   "execution_count": 8,
   "id": "ad7c6f0d-1824-4137-b59c-b9b42303c78b",
   "metadata": {},
   "outputs": [
    {
     "name": "stdout",
     "output_type": "stream",
     "text": [
      "(18800, 33)\n"
     ]
    }
   ],
   "source": [
    "df = df[df['미입고 기간'].isnull()]\n",
    "\n",
    "df['발주'] = pd.to_datetime(df['발주'], errors='coerce')\n",
    "df['창고입고'] = pd.to_datetime(df['창고입고'], errors='coerce')\n",
    "\n",
    "# 리드타임 계산\n",
    "df['리드타임'] = (df['창고입고'] - df['발주']).dt.days\n",
    "\n",
    "# 리드타임이 0인 경우 1로 변경\n",
    "df['리드타임'] = df['리드타임'].apply(lambda x: 1 if x == 0 else x)\n",
    "\n",
    "# 리드타임이 1일 미만이거나 200일을 초과한 경우 제거\n",
    "df = df[(df['리드타임'] > 0 ) & (df['리드타임'] < 160)]\n",
    "\n",
    "# 창고입고가 결측값인 행 제거\n",
    "df = df.dropna(subset=['창고입고'])\n",
    "\n",
    "print(df.shape)"
   ]
  },
  {
   "cell_type": "code",
   "execution_count": 9,
   "id": "a9f0dfc3-5f22-4e8e-acec-bc366c02df60",
   "metadata": {},
   "outputs": [
    {
     "data": {
      "image/png": "[encoded data removed]",
      "text/plain": [
       "<Figure size 600x400 with 1 Axes>"
      ]
     },
     "metadata": {},
     "output_type": "display_data"
    }
   ],
   "source": [
    "import matplotlib.pyplot as plt\n",
    "import seaborn as sns\n",
    "\n",
    "# 리드타임 분포 확인\n",
    "plt.rcParams['font.family']='Malgun Gothic'\n",
    "\n",
    "plt.figure(figsize=(6, 4))\n",
    "sns.histplot(df['리드타임'], kde=True)\n",
    "plt.title('리드타임 분포')\n",
    "plt.show()"
   ]
  },
  {
   "cell_type": "code",
   "execution_count": 10,
   "id": "74c885e4-868c-4225-af2b-d0d53b365913",
   "metadata": {},
   "outputs": [
    {
     "data": {
      "text/html": [
       "<div>\n",
       "<style scoped>\n",
       "    .dataframe tbody tr th:only-of-type {\n",
       "        vertical-align: middle;\n",
       "    }\n",
       "\n",
       "    .dataframe tbody tr th {\n",
       "        vertical-align: top;\n",
       "    }\n",
       "\n",
       "    .dataframe thead th {\n",
       "        text-align: right;\n",
       "    }\n",
       "</style>\n",
       "<table border=\"1\" class=\"dataframe\">\n",
       "  <thead>\n",
       "    <tr style=\"text-align: right;\">\n",
       "      <th></th>\n",
       "      <th>청구서번호</th>\n",
       "      <th>No.</th>\n",
       "      <th>Subject</th>\n",
       "      <th>Machinery</th>\n",
       "      <th>Assembly</th>\n",
       "      <th>청구품목</th>\n",
       "      <th>Unnamed: 6</th>\n",
       "      <th>Part No.1</th>\n",
       "      <th>Part No.2</th>\n",
       "      <th>청구량</th>\n",
       "      <th>...</th>\n",
       "      <th>Control No.</th>\n",
       "      <th>입고창고</th>\n",
       "      <th>창고출고</th>\n",
       "      <th>창고출고수량</th>\n",
       "      <th>출고선박</th>\n",
       "      <th>출고운반선</th>\n",
       "      <th>선박입고</th>\n",
       "      <th>선박입고수량</th>\n",
       "      <th>완료 여부</th>\n",
       "      <th>리드타임</th>\n",
       "    </tr>\n",
       "  </thead>\n",
       "  <tbody>\n",
       "    <tr>\n",
       "      <th>0</th>\n",
       "      <td>COK-BS-DSP-1901004</td>\n",
       "      <td>1</td>\n",
       "      <td>COK-F-DECK-190104-01</td>\n",
       "      <td>CARGO BOOM VANG BLOCK (STBD 하)</td>\n",
       "      <td>BLOCK</td>\n",
       "      <td>MCKISSICK CONSTRUCTION BLOCKS (WIRE SIZE : 5/8\")</td>\n",
       "      <td>NaN</td>\n",
       "      <td>C15S10BS</td>\n",
       "      <td>2103170</td>\n",
       "      <td>2.0</td>\n",
       "      <td>...</td>\n",
       "      <td>19-04-077</td>\n",
       "      <td>BW</td>\n",
       "      <td>2019-05-20</td>\n",
       "      <td>2</td>\n",
       "      <td>COK</td>\n",
       "      <td>ONENESS</td>\n",
       "      <td>2019-06-09</td>\n",
       "      <td>2</td>\n",
       "      <td>완료</td>\n",
       "      <td>112</td>\n",
       "    </tr>\n",
       "    <tr>\n",
       "      <th>1</th>\n",
       "      <td>COK-BS-DSP-1901004</td>\n",
       "      <td>2</td>\n",
       "      <td>COK-F-DECK-190104-01</td>\n",
       "      <td>SPANISH BOOM VANG BLOCK (PORT 상)</td>\n",
       "      <td>BLOCK</td>\n",
       "      <td>MCKISSICK CONSTRUCTION BLOCKS (WIRE SIZE : 5/8\")</td>\n",
       "      <td>NaN</td>\n",
       "      <td>C15D10BS</td>\n",
       "      <td>2103180</td>\n",
       "      <td>1.0</td>\n",
       "      <td>...</td>\n",
       "      <td>19-04-064</td>\n",
       "      <td>BW</td>\n",
       "      <td>2019-05-20</td>\n",
       "      <td>1</td>\n",
       "      <td>COK</td>\n",
       "      <td>ONENESS편 탁송</td>\n",
       "      <td>2019-06-09</td>\n",
       "      <td>1</td>\n",
       "      <td>완료</td>\n",
       "      <td>97</td>\n",
       "    </tr>\n",
       "    <tr>\n",
       "      <th>2</th>\n",
       "      <td>COK-BS-DSP-1901004</td>\n",
       "      <td>3</td>\n",
       "      <td>COK-F-DECK-190104-01</td>\n",
       "      <td>PURSE BLOCK</td>\n",
       "      <td>TOW BLOCK</td>\n",
       "      <td>WESTEC 20TON TOW BLOCK</td>\n",
       "      <td>NaN</td>\n",
       "      <td>WESTEC 20TON TOW BLOCK</td>\n",
       "      <td>NaN</td>\n",
       "      <td>1.0</td>\n",
       "      <td>...</td>\n",
       "      <td>19-04-077</td>\n",
       "      <td>BW</td>\n",
       "      <td>2019-05-20</td>\n",
       "      <td>1</td>\n",
       "      <td>COK</td>\n",
       "      <td>ONENESS</td>\n",
       "      <td>2019-06-09</td>\n",
       "      <td>1</td>\n",
       "      <td>완료</td>\n",
       "      <td>112</td>\n",
       "    </tr>\n",
       "    <tr>\n",
       "      <th>3</th>\n",
       "      <td>COK-BS-DSP-1905036</td>\n",
       "      <td>1</td>\n",
       "      <td>폰페이 재고정정</td>\n",
       "      <td>MAIN ENGINE</td>\n",
       "      <td>POWER PACK AS</td>\n",
       "      <td>GE POWER PACK FORK - E7(B)</td>\n",
       "      <td>NaN</td>\n",
       "      <td>40028340</td>\n",
       "      <td>NaN</td>\n",
       "      <td>8.0</td>\n",
       "      <td>...</td>\n",
       "      <td>NaN</td>\n",
       "      <td>PN</td>\n",
       "      <td>2019-08-01</td>\n",
       "      <td>1</td>\n",
       "      <td>DEO</td>\n",
       "      <td>HANARO</td>\n",
       "      <td>2019-08-24</td>\n",
       "      <td>1</td>\n",
       "      <td>완료</td>\n",
       "      <td>1</td>\n",
       "    </tr>\n",
       "    <tr>\n",
       "      <th>4</th>\n",
       "      <td>COK-BS-DSP-1905036</td>\n",
       "      <td>2</td>\n",
       "      <td>폰페이 재고정정</td>\n",
       "      <td>MAIN ENGINE</td>\n",
       "      <td>POWER PACK AS</td>\n",
       "      <td>GE POWER PACK FORK - E7(B)</td>\n",
       "      <td>NaN</td>\n",
       "      <td>40028340</td>\n",
       "      <td>NaN</td>\n",
       "      <td>8.0</td>\n",
       "      <td>...</td>\n",
       "      <td>NaN</td>\n",
       "      <td>PN</td>\n",
       "      <td>2019-08-29</td>\n",
       "      <td>7</td>\n",
       "      <td>ELS</td>\n",
       "      <td>SL ARCHI</td>\n",
       "      <td>2019-09-30</td>\n",
       "      <td>7</td>\n",
       "      <td>완료</td>\n",
       "      <td>1</td>\n",
       "    </tr>\n",
       "  </tbody>\n",
       "</table>\n",
       "<p>5 rows × 33 columns</p>\n",
       "</div>"
      ],
      "text/plain": [
       "                청구서번호  No.               Subject  \\\n",
       "0  COK-BS-DSP-1901004    1  COK-F-DECK-190104-01   \n",
       "1  COK-BS-DSP-1901004    2  COK-F-DECK-190104-01   \n",
       "2  COK-BS-DSP-1901004    3  COK-F-DECK-190104-01   \n",
       "3  COK-BS-DSP-1905036    1              폰페이 재고정정   \n",
       "4  COK-BS-DSP-1905036    2              폰페이 재고정정   \n",
       "\n",
       "                          Machinery       Assembly  \\\n",
       "0    CARGO BOOM VANG BLOCK (STBD 하)          BLOCK   \n",
       "1  SPANISH BOOM VANG BLOCK (PORT 상)          BLOCK   \n",
       "2                       PURSE BLOCK      TOW BLOCK   \n",
       "3                       MAIN ENGINE  POWER PACK AS   \n",
       "4                       MAIN ENGINE  POWER PACK AS   \n",
       "\n",
       "                                               청구품목  Unnamed: 6  \\\n",
       "0  MCKISSICK CONSTRUCTION BLOCKS (WIRE SIZE : 5/8\")         NaN   \n",
       "1  MCKISSICK CONSTRUCTION BLOCKS (WIRE SIZE : 5/8\")         NaN   \n",
       "2                            WESTEC 20TON TOW BLOCK         NaN   \n",
       "3                        GE POWER PACK FORK - E7(B)         NaN   \n",
       "4                        GE POWER PACK FORK - E7(B)         NaN   \n",
       "\n",
       "                Part No.1 Part No.2  청구량  ... Control No.  입고창고        창고출고  \\\n",
       "0                C15S10BS   2103170  2.0  ...   19-04-077    BW  2019-05-20   \n",
       "1                C15D10BS   2103180  1.0  ...   19-04-064    BW  2019-05-20   \n",
       "2  WESTEC 20TON TOW BLOCK       NaN  1.0  ...   19-04-077    BW  2019-05-20   \n",
       "3                40028340       NaN  8.0  ...         NaN    PN  2019-08-01   \n",
       "4                40028340       NaN  8.0  ...         NaN    PN  2019-08-29   \n",
       "\n",
       "   창고출고수량 출고선박        출고운반선        선박입고  선박입고수량  완료 여부 리드타임  \n",
       "0       2  COK      ONENESS  2019-06-09       2     완료  112  \n",
       "1       1  COK  ONENESS편 탁송  2019-06-09       1     완료   97  \n",
       "2       1  COK      ONENESS  2019-06-09       1     완료  112  \n",
       "3       1  DEO       HANARO  2019-08-24       1     완료    1  \n",
       "4       7  ELS     SL ARCHI  2019-09-30       7     완료    1  \n",
       "\n",
       "[5 rows x 33 columns]"
      ]
     },
     "execution_count": 10,
     "metadata": {},
     "output_type": "execute_result"
    }
   ],
   "source": [
    "df.head()"
   ]
  },
  {
   "cell_type": "code",
   "execution_count": 11,
   "id": "51166f8a-d406-4d21-a813-487b919f0a3b",
   "metadata": {},
   "outputs": [
    {
     "name": "stdout",
     "output_type": "stream",
     "text": [
      "count    18800.000000\n",
      "mean        62.027606\n",
      "std         46.304150\n",
      "min          1.000000\n",
      "25%         18.000000\n",
      "50%         56.000000\n",
      "75%         97.000000\n",
      "max        159.000000\n",
      "Name: 리드타임, dtype: float64\n"
     ]
    }
   ],
   "source": [
    "print(df['리드타임'].describe())\n"
   ]
  },
  {
   "cell_type": "markdown",
   "id": "315aaac3-23bc-4114-aa65-724a5fdaac0d",
   "metadata": {},
   "source": [
    "### 리드타임 예측 (회귀)\n",
    "1. 텍스트 칼럼 결합 및 BERT 임베딩\n",
    "2. ( 수치형 데이터(견적단가 및 발주량) Scaling )\n",
    "3. 범주형 데이터(견적화폐) onehotEncoding\n",
    "4. 모델의 입력, 2.3데이터 결합 => 리드타임 예측"
   ]
  },
  {
   "cell_type": "markdown",
   "id": "debf6c2a-35d8-4df0-a7ef-cd9d3c2541d6",
   "metadata": {},
   "source": [
    "## 전처리\n",
    "\n",
    "> 각 텍스트 필드 개별적으로 rf idf 변환하고 결합"
   ]
  },
  {
   "cell_type": "code",
   "execution_count": 70,
   "id": "2afba987-9259-427d-ac6a-05ea121a8136",
   "metadata": {},
   "outputs": [],
   "source": [
    "#!conda install conda-forge::category_encoders -y"
   ]
  },
  {
   "cell_type": "code",
   "execution_count": 13,
   "id": "9e7ef725-6684-4966-bcbe-5e3250bb34b6",
   "metadata": {},
   "outputs": [],
   "source": [
    "machinery_avg_leadtime = df.groupby('Machinery')['리드타임'].mean().reset_index()\n",
    "df = df.merge(machinery_avg_leadtime, on='Machinery', how='left', suffixes=('', '_machinery_avg'))\n",
    "\n",
    "assembly_avg_leadtime = df.groupby('Assembly')['리드타임'].mean().reset_index()\n",
    "df = df.merge(assembly_avg_leadtime, on='Assembly', how='left', suffixes=('', '_assembly_avg'))\n",
    "\n",
    "supplier_leadtime_avg = df.groupby('발주처')['리드타임'].mean().reset_index()\n",
    "df = df.merge(supplier_leadtime_avg, on='발주처', how='left', suffixes=('', '_supplier_avg'))"
   ]
  },
  {
   "cell_type": "code",
   "execution_count": 35,
   "id": "37b9df62-1728-46ea-bc47-b87908e0383d",
   "metadata": {},
   "outputs": [
    {
     "ename": "ValueError",
     "evalue": "Shape of passed values is (4, 6), indices imply (4, 4)",
     "output_type": "error",
     "traceback": [
      "\u001b[1;31m---------------------------------------------------------------------------\u001b[0m",
      "\u001b[1;31mValueError\u001b[0m                                Traceback (most recent call last)",
      "Cell \u001b[1;32mIn[35], line 46\u001b[0m\n\u001b[0;32m     43\u001b[0m explained_variance \u001b[38;5;241m=\u001b[39m pca\u001b[38;5;241m.\u001b[39mexplained_variance_ratio_\n\u001b[0;32m     45\u001b[0m \u001b[38;5;66;03m# 주성분에서의 기여도 확인\u001b[39;00m\n\u001b[1;32m---> 46\u001b[0m components \u001b[38;5;241m=\u001b[39m \u001b[43mpd\u001b[49m\u001b[38;5;241;43m.\u001b[39;49m\u001b[43mDataFrame\u001b[49m\u001b[43m(\u001b[49m\u001b[43mpca\u001b[49m\u001b[38;5;241;43m.\u001b[39;49m\u001b[43mcomponents_\u001b[49m\u001b[43m,\u001b[49m\u001b[43m \u001b[49m\u001b[43mcolumns\u001b[49m\u001b[38;5;241;43m=\u001b[39;49m\u001b[43mnumeric_columns\u001b[49m\u001b[43m)\u001b[49m  \u001b[38;5;66;03m# 원래 칼럼으로 설정\u001b[39;00m\n\u001b[0;32m     48\u001b[0m \u001b[38;5;28mprint\u001b[39m(\u001b[38;5;124mf\u001b[39m\u001b[38;5;124m\"\u001b[39m\u001b[38;5;124mExplained Variance Ratio: \u001b[39m\u001b[38;5;132;01m{\u001b[39;00mexplained_variance\u001b[38;5;132;01m}\u001b[39;00m\u001b[38;5;124m\"\u001b[39m)\n\u001b[0;32m     49\u001b[0m \u001b[38;5;28mprint\u001b[39m(\u001b[38;5;124mf\u001b[39m\u001b[38;5;124m\"\u001b[39m\u001b[38;5;124mPCA Components Contribution:\u001b[39m\u001b[38;5;130;01m\\n\u001b[39;00m\u001b[38;5;132;01m{\u001b[39;00mcomponents\u001b[38;5;132;01m}\u001b[39;00m\u001b[38;5;124m\"\u001b[39m)\n",
      "File \u001b[1;32m~\\anaconda3\\envs\\ship\\Lib\\site-packages\\pandas\\core\\frame.py:827\u001b[0m, in \u001b[0;36mDataFrame.__init__\u001b[1;34m(self, data, index, columns, dtype, copy)\u001b[0m\n\u001b[0;32m    816\u001b[0m         mgr \u001b[38;5;241m=\u001b[39m dict_to_mgr(\n\u001b[0;32m    817\u001b[0m             \u001b[38;5;66;03m# error: Item \"ndarray\" of \"Union[ndarray, Series, Index]\" has no\u001b[39;00m\n\u001b[0;32m    818\u001b[0m             \u001b[38;5;66;03m# attribute \"name\"\u001b[39;00m\n\u001b[1;32m   (...)\u001b[0m\n\u001b[0;32m    824\u001b[0m             copy\u001b[38;5;241m=\u001b[39m_copy,\n\u001b[0;32m    825\u001b[0m         )\n\u001b[0;32m    826\u001b[0m     \u001b[38;5;28;01melse\u001b[39;00m:\n\u001b[1;32m--> 827\u001b[0m         mgr \u001b[38;5;241m=\u001b[39m \u001b[43mndarray_to_mgr\u001b[49m\u001b[43m(\u001b[49m\n\u001b[0;32m    828\u001b[0m \u001b[43m            \u001b[49m\u001b[43mdata\u001b[49m\u001b[43m,\u001b[49m\n\u001b[0;32m    829\u001b[0m \u001b[43m            \u001b[49m\u001b[43mindex\u001b[49m\u001b[43m,\u001b[49m\n\u001b[0;32m    830\u001b[0m \u001b[43m            \u001b[49m\u001b[43mcolumns\u001b[49m\u001b[43m,\u001b[49m\n\u001b[0;32m    831\u001b[0m \u001b[43m            \u001b[49m\u001b[43mdtype\u001b[49m\u001b[38;5;241;43m=\u001b[39;49m\u001b[43mdtype\u001b[49m\u001b[43m,\u001b[49m\n\u001b[0;32m    832\u001b[0m \u001b[43m            \u001b[49m\u001b[43mcopy\u001b[49m\u001b[38;5;241;43m=\u001b[39;49m\u001b[43mcopy\u001b[49m\u001b[43m,\u001b[49m\n\u001b[0;32m    833\u001b[0m \u001b[43m            \u001b[49m\u001b[43mtyp\u001b[49m\u001b[38;5;241;43m=\u001b[39;49m\u001b[43mmanager\u001b[49m\u001b[43m,\u001b[49m\n\u001b[0;32m    834\u001b[0m \u001b[43m        \u001b[49m\u001b[43m)\u001b[49m\n\u001b[0;32m    836\u001b[0m \u001b[38;5;66;03m# For data is list-like, or Iterable (will consume into list)\u001b[39;00m\n\u001b[0;32m    837\u001b[0m \u001b[38;5;28;01melif\u001b[39;00m is_list_like(data):\n",
      "File \u001b[1;32m~\\anaconda3\\envs\\ship\\Lib\\site-packages\\pandas\\core\\internals\\construction.py:336\u001b[0m, in \u001b[0;36mndarray_to_mgr\u001b[1;34m(values, index, columns, dtype, copy, typ)\u001b[0m\n\u001b[0;32m    331\u001b[0m \u001b[38;5;66;03m# _prep_ndarraylike ensures that values.ndim == 2 at this point\u001b[39;00m\n\u001b[0;32m    332\u001b[0m index, columns \u001b[38;5;241m=\u001b[39m _get_axes(\n\u001b[0;32m    333\u001b[0m     values\u001b[38;5;241m.\u001b[39mshape[\u001b[38;5;241m0\u001b[39m], values\u001b[38;5;241m.\u001b[39mshape[\u001b[38;5;241m1\u001b[39m], index\u001b[38;5;241m=\u001b[39mindex, columns\u001b[38;5;241m=\u001b[39mcolumns\n\u001b[0;32m    334\u001b[0m )\n\u001b[1;32m--> 336\u001b[0m \u001b[43m_check_values_indices_shape_match\u001b[49m\u001b[43m(\u001b[49m\u001b[43mvalues\u001b[49m\u001b[43m,\u001b[49m\u001b[43m \u001b[49m\u001b[43mindex\u001b[49m\u001b[43m,\u001b[49m\u001b[43m \u001b[49m\u001b[43mcolumns\u001b[49m\u001b[43m)\u001b[49m\n\u001b[0;32m    338\u001b[0m \u001b[38;5;28;01mif\u001b[39;00m typ \u001b[38;5;241m==\u001b[39m \u001b[38;5;124m\"\u001b[39m\u001b[38;5;124marray\u001b[39m\u001b[38;5;124m\"\u001b[39m:\n\u001b[0;32m    339\u001b[0m     \u001b[38;5;28;01mif\u001b[39;00m \u001b[38;5;28missubclass\u001b[39m(values\u001b[38;5;241m.\u001b[39mdtype\u001b[38;5;241m.\u001b[39mtype, \u001b[38;5;28mstr\u001b[39m):\n",
      "File \u001b[1;32m~\\anaconda3\\envs\\ship\\Lib\\site-packages\\pandas\\core\\internals\\construction.py:420\u001b[0m, in \u001b[0;36m_check_values_indices_shape_match\u001b[1;34m(values, index, columns)\u001b[0m\n\u001b[0;32m    418\u001b[0m passed \u001b[38;5;241m=\u001b[39m values\u001b[38;5;241m.\u001b[39mshape\n\u001b[0;32m    419\u001b[0m implied \u001b[38;5;241m=\u001b[39m (\u001b[38;5;28mlen\u001b[39m(index), \u001b[38;5;28mlen\u001b[39m(columns))\n\u001b[1;32m--> 420\u001b[0m \u001b[38;5;28;01mraise\u001b[39;00m \u001b[38;5;167;01mValueError\u001b[39;00m(\u001b[38;5;124mf\u001b[39m\u001b[38;5;124m\"\u001b[39m\u001b[38;5;124mShape of passed values is \u001b[39m\u001b[38;5;132;01m{\u001b[39;00mpassed\u001b[38;5;132;01m}\u001b[39;00m\u001b[38;5;124m, indices imply \u001b[39m\u001b[38;5;132;01m{\u001b[39;00mimplied\u001b[38;5;132;01m}\u001b[39;00m\u001b[38;5;124m\"\u001b[39m)\n",
      "\u001b[1;31mValueError\u001b[0m: Shape of passed values is (4, 6), indices imply (4, 4)"
     ]
    }
   ],
   "source": [
    "import numpy as np\n",
    "from sklearn.decomposition import PCA\n",
    "from sklearn.preprocessing import StandardScaler\n",
    "import pandas as pd\n",
    "# 환율 설정\n",
    "exchange_rate = {\n",
    "    'KRW': 1/1300,\n",
    "    'USD': 1,\n",
    "    'EUR': 1.1,\n",
    "    'JPY': 1/110\n",
    "}\n",
    "\n",
    "# 수치형 칼럼 리스트\n",
    "numeric_columns = ['log_converted_price', '리드타임_machinery_avg', '리드타임_assembly_avg', '리드타임_supplier_avg']\n",
    "\n",
    "# 수치형 데이터 처리 (로그 변환 및 NaN 처리)\n",
    "df['converted_unit_price'] = df.apply(lambda x: x['견적단가'] * exchange_rate.get(x['견적화폐'], np.nan), axis=1)\n",
    "df['converted_price'] = df['converted_unit_price'] * df['발주수량']\n",
    "\n",
    "# 로그 변환 전에 0 이하의 값 제거\n",
    "df = df[df['converted_price'] > 0]\n",
    "\n",
    "# 결측치 제거\n",
    "df = df.dropna(subset=['converted_price'])\n",
    "df['log_converted_price'] = np.log1p(df['converted_price'])\n",
    "\n",
    "# NaN 값을 포함한 행을 삭제 (numeric_columns 기준으로)\n",
    "df_cleaned = df.dropna(subset=numeric_columns)\n",
    "\n",
    "# 선택된 수치형 칼럼만 가져옴\n",
    "X_numeric = df_cleaned[numeric_columns]\n",
    "\n",
    "# 데이터 정규화\n",
    "scaler = StandardScaler()\n",
    "X_scaled = scaler.fit_transform(X_numeric)\n",
    "\n",
    "# PCA 수행\n",
    "n_components = min(len(numeric_columns), X_scaled.shape[1])  # 주성분 개수 조정\n",
    "pca = PCA(n_components=n_components)\n",
    "pca_result = pca.fit_transform(X_scaled)\n",
    "\n",
    "# 주성분들이 설명하는 분산 비율\n",
    "explained_variance = pca.explained_variance_ratio_\n",
    "\n",
    "# 주성분에서의 기여도 확인\n",
    "components = pd.DataFrame(pca.components_, columns=numeric_columns)  # 원래 칼럼으로 설정\n",
    "\n",
    "print(f\"Explained Variance Ratio: {explained_variance}\")\n",
    "print(f\"PCA Components Contribution:\\n{components}\")"
   ]
  },
  {
   "cell_type": "code",
   "execution_count": 106,
   "id": "f8edadfc-690c-4180-8bc5-5c7c742f6c3f",
   "metadata": {},
   "outputs": [
    {
     "name": "stdout",
     "output_type": "stream",
     "text": [
      "수치형 데이터 PCA 주성분과 리드타임의 상관관계:\n",
      "PC1     0.535133\n",
      "PC2    -0.007834\n",
      "PC3    -0.024814\n",
      "PC4    -0.101619\n",
      "리드타임    1.000000\n",
      "Name: 리드타임, dtype: float64\n"
     ]
    }
   ],
   "source": [
    "## 수치형 PCA 결과와 리드타임 데이터 결합\n",
    "y_numeric = df_cleaned['리드타임'].values  # 리드타임을 가져옴\n",
    "\n",
    "# PCA 결과와 리드타임을 결합\n",
    "pca_numeric_df = pd.DataFrame(pca_result, columns=[f'PC{i+1}' for i in range(pca_result.shape[1])])\n",
    "pca_numeric_df['리드타임'] = y_numeric\n",
    "\n",
    "# 상관관계 계산\n",
    "correlation_numeric = pca_numeric_df.corr()\n",
    "\n",
    "# 리드타임과 주성분 간의 상관관계 출력\n",
    "print(\"수치형 데이터 PCA 주성분과 리드타임의 상관관계:\")\n",
    "print(correlation_numeric['리드타임'])"
   ]
  },
  {
   "cell_type": "markdown",
   "id": "6ea64a09-3a3e-4446-9f37-cbe16134da2f",
   "metadata": {},
   "source": [
    "> PC1 : 리드타임_avg와 리드타임_supplier_avg"
   ]
  },
  {
   "cell_type": "code",
   "execution_count": 107,
   "id": "4e958f3e-ca68-4d81-b566-72bc7d097499",
   "metadata": {},
   "outputs": [
    {
     "name": "stdout",
     "output_type": "stream",
     "text": [
      "Explained Variance Ratio: [0.2240373  0.16731529 0.10755754 0.06643078 0.05989296]\n"
     ]
    }
   ],
   "source": [
    "from gensim.models import Word2Vec\n",
    "\n",
    "# 데이터 전처리 후 토큰화 (문장을 단어 리스트로 변환)\n",
    "machinery_sentences = [text.split() for text in df['cleaned_machinery']]\n",
    "assembly_sentences = [text.split() for text in df['cleaned_assembly']]\n",
    "\n",
    "# 각각의 Word2Vec 모델 학습\n",
    "word2vec_machinery = Word2Vec(sentences=machinery_sentences, vector_size=100, window=5, min_count=1, workers=4)\n",
    "word2vec_assembly = Word2Vec(sentences=assembly_sentences, vector_size=100, window=5, min_count=1, workers=4)\n",
    "\n",
    "# 각 텍스트에 대한 벡터 평균값 계산 (문장 단위로 벡터를 평균화하여 문장 벡터 생성)\n",
    "def sentence_vector(sentence, model):\n",
    "    vectors = [model.wv[word] for word in sentence if word in model.wv]\n",
    "    if len(vectors) > 0:\n",
    "        return np.mean(vectors, axis=0)\n",
    "    else:\n",
    "        return np.zeros(model.vector_size)\n",
    "\n",
    "# 각 컬럼별로 벡터화\n",
    "machinery_vectors = np.array([sentence_vector(sentence, word2vec_machinery) for sentence in machinery_sentences])\n",
    "assembly_vectors = np.array([sentence_vector(sentence, word2vec_assembly) for sentence in assembly_sentences])\n",
    "\n",
    "# 4. 벡터 합치기 (machinery + assembly)\n",
    "X_text = np.hstack([machinery_vectors, assembly_vectors])\n",
    "\n",
    "# 5. 스케일링 (PCA 적용 전 스케일링)\n",
    "scaler = StandardScaler()\n",
    "X_scaled = scaler.fit_transform(X_text)\n",
    "\n",
    "# 6. PCA 적용 (주성분을 5개로 제한)\n",
    "pca = PCA(n_components=5)\n",
    "pca_result = pca.fit_transform(X_scaled)\n",
    "\n",
    "# 7. 설명된 분산 비율 확인\n",
    "explained_variance = pca.explained_variance_ratio_\n",
    "print(f\"Explained Variance Ratio: {explained_variance}\")\n",
    "\n",
    "# 8. 주성분 분석 기여도 확인\n",
    "components = pca.components_"
   ]
  },
  {
   "cell_type": "code",
   "execution_count": 108,
   "id": "ecd668fb-71f9-4f97-8651-5f1f6ddd240a",
   "metadata": {},
   "outputs": [
    {
     "name": "stdout",
     "output_type": "stream",
     "text": [
      "텍스트 데이터 PCA 주성분과 리드타임의 상관관계:\n",
      "PC1     0.119664\n",
      "PC2     0.047677\n",
      "PC3    -0.159888\n",
      "PC4    -0.127443\n",
      "PC5    -0.111427\n",
      "리드타임    1.000000\n",
      "Name: 리드타임, dtype: float64\n"
     ]
    }
   ],
   "source": [
    "# 텍스트 PCA 결과와 리드타임 데이터 결합\n",
    "y_text = df_cleaned['리드타임'].values  # 리드타임을 가져옴\n",
    "\n",
    "# 텍스트 PCA 결과와 리드타임을 결합\n",
    "pca_text_df = pd.DataFrame(pca_result, columns=[f'PC{i+1}' for i in range(pca_result.shape[1])])\n",
    "pca_text_df['리드타임'] = y_text\n",
    "\n",
    "# 상관관계 계산\n",
    "correlation_text = pca_text_df.corr()\n",
    "\n",
    "# 리드타임과 주성분 간의 상관관계 출력\n",
    "print(\"텍스트 데이터 PCA 주성분과 리드타임의 상관관계:\")\n",
    "print(correlation_text['리드타임'])"
   ]
  },
  {
   "cell_type": "code",
   "execution_count": 72,
   "id": "32bf1105-6574-4b0c-9be3-000d7c8445af",
   "metadata": {},
   "outputs": [],
   "source": [
    "import re\n",
    "\n",
    "def preprocess_text(text):\n",
    "    text = text.lower()\n",
    "    text = re.sub(r'\\([^)]*\\)', '', text)\n",
    "    text = re.sub(r'[^\\w\\s\\*/\\-\\+.,#&]', '', text)\n",
    "    text = re.sub(r'\\s+', ' ', text)\n",
    "    text = re.sub(r'\\b(사용금지|사)\\b', '', text, flags=re.IGNORECASE)\n",
    "    text = text.strip()\n",
    "    return text\n",
    "    \n",
    "    \n",
    "def clean_supplier_name(name):\n",
    "    name = name.lower()\n",
    "    name = re.sub(r'coporation|coropration|coproration|corporration', 'corporation', name)\n",
    "    name = re.sub(r'\\(사용금지\\)', '', name)\n",
    "    name = re.sub(r'u\\.s\\.a', '_usa', name)\n",
    "    name = re.sub(r'\\.', '', name)\n",
    "    suffixes = r'(corporation|corp|company|co|incorporated|inc|limited|ltd|상사|공사|엔지니어링|주식회사|주|gmbh|pte ltd|llc)'\n",
    "    name = re.sub(suffixes, '', name, flags=re.IGNORECASE)\n",
    "    name = re.sub(r'[^\\w\\s-]', '', name)\n",
    "    name = re.sub(r'\\s+', ' ', name).strip()\n",
    "    return name"
   ]
  },
  {
   "cell_type": "code",
   "execution_count": 99,
   "id": "c1a32dbe-4fa5-4a49-ae53-88496680801a",
   "metadata": {},
   "outputs": [],
   "source": [
    "text_columns = ['Machinery', 'Assembly', '청구품목', '발주처']\n",
    "\n",
    "for col in text_columns:\n",
    "    df[col] = df[col].astype(str)\n",
    "df['cleaned_machinery'] = df['Machinery'].apply(preprocess_text)\n",
    "df['cleaned_assembly'] = df['Assembly'].apply(preprocess_text)\n",
    "df['cleaned_item'] = df['청구품목'].apply(preprocess_text)\n",
    "df['cleaned_supplier'] = df['발주처'].apply(clean_supplier_name)"
   ]
  },
  {
   "cell_type": "code",
   "execution_count": 75,
   "id": "8aa68003-13c2-431f-8371-f74117c52da4",
   "metadata": {},
   "outputs": [],
   "source": [
    "# BERT 입력을 위한 딕셔너리 형식으로 텍스트 결합\n",
    "df['combined_text'] = (\n",
    "    'machinery: ' + df['cleaned_machinery'].astype(str) + ', ' +\n",
    "    'assembly: ' + df['cleaned_assembly'].astype(str) + ' ,' +\n",
    "    '청구품목: ' + df['cleaned_item'].astype(str) + ', ' +\n",
    "    '발주처: ' + df['cleaned_supplier'].astype(str)\n",
    ")"
   ]
  },
  {
   "cell_type": "code",
   "execution_count": 77,
   "id": "f43ab801-c8b5-4a87-82b3-2171501ea398",
   "metadata": {},
   "outputs": [
    {
     "name": "stdout",
     "output_type": "stream",
     "text": [
      "BERT Embeddings Shape: (19765, 768)\n"
     ]
    }
   ],
   "source": [
    "from transformers import BertTokenizer, BertModel\n",
    "\n",
    "# BERT 모델 불러오기 (이 부분은 huggingface의 BERT 모델을 사용)\n",
    "bert_model = BertModel.from_pretrained('bert-base-uncased')\n",
    "bert_model.to(device)\n",
    "\n",
    "# 배치 단위로 BERT 임베딩 생성 함수\n",
    "def generate_bert_embeddings(texts, batch_size):\n",
    "    embeddings = []\n",
    "    \n",
    "    # 데이터를 배치 단위로 나누기\n",
    "    for i in range(0, len(texts), batch_size):\n",
    "        batch_texts = texts[i:i + batch_size]\n",
    "        \n",
    "        # BERT 토크나이징\n",
    "        inputs = tokenizer(batch_texts, return_tensors='pt', padding=True, truncation=True, max_length=128).to(device)\n",
    "        \n",
    "        # BERT 임베딩 계산\n",
    "        with torch.no_grad():\n",
    "            outputs = bert_model(**inputs)\n",
    "            batch_embeddings = outputs.last_hidden_state.mean(dim=1).cpu().numpy()  # Mean pooling\n",
    "            embeddings.append(batch_embeddings)\n",
    "    \n",
    "    # 모든 배치의 임베딩을 합치기\n",
    "    embeddings = np.vstack(embeddings)\n",
    "    return embeddings\n",
    "\n",
    "# BERT 임베딩 생성\n",
    "bert_embeddings = generate_bert_embeddings(texts, batch_size)\n",
    "\n",
    "print(f\"BERT Embeddings Shape: {bert_embeddings.shape}\")"
   ]
  },
  {
   "cell_type": "code",
   "execution_count": 78,
   "id": "a149a03c-3ef6-4909-b0c4-a9adde00c5dc",
   "metadata": {},
   "outputs": [
    {
     "name": "stdout",
     "output_type": "stream",
     "text": [
      "currency_encoded : (19765, 4)\n"
     ]
    }
   ],
   "source": [
    "# 5. One-Hot Encoding: 견적화폐와 발주처\n",
    "currency_ohe = OneHotEncoder(sparse_output=False) \n",
    "currency_encoded = currency_ohe.fit_transform(df[['견적화폐']])\n",
    "\n",
    "print(f\"currency_encoded : {currency_encoded.shape}\")"
   ]
  },
  {
   "cell_type": "code",
   "execution_count": 79,
   "id": "314c2165-b860-4d29-ab94-109e3b8e8591",
   "metadata": {},
   "outputs": [],
   "source": [
    "# BERT 임베딩과 currency_encoded 결합\n",
    "X_final = np.hstack([bert_embeddings, currency_encoded])"
   ]
  },
  {
   "cell_type": "code",
   "execution_count": 80,
   "id": "e7171162-91b9-4c94-b8cb-633ae3b6589e",
   "metadata": {},
   "outputs": [],
   "source": [
    "from sklearn.model_selection import train_test_split\n",
    "import torch\n",
    "from torch.utils.data import DataLoader, TensorDataset\n",
    "\n",
    "# 리드타임 타겟\n",
    "y = df['리드타임'].values\n",
    "\n",
    "X_train, X_test, y_train, y_test = train_test_split(X_final, y, test_size=0.2, random_state=42)\n"
   ]
  },
  {
   "cell_type": "markdown",
   "id": "8ea612f1-3192-4263-bccb-40dc435ebd1d",
   "metadata": {},
   "source": [
    "### 데이터 분할\n",
    "\n",
    ">  BERT 임베딩과 currency 인코딩을 각각 생성, 분리발주 "
   ]
  },
  {
   "cell_type": "code",
   "execution_count": null,
   "id": "59305015-a5c1-447a-b74b-4531c62cc7db",
   "metadata": {},
   "outputs": [],
   "source": []
  }
 ],
 "metadata": {
  "kernelspec": {
   "display_name": "Python (ship)",
   "language": "python",
   "name": "ship"
  },
  "language_info": {
   "codemirror_mode": {
    "name": "ipython",
    "version": 3
   },
   "file_extension": ".py",
   "mimetype": "text/x-python",
   "name": "python",
   "nbconvert_exporter": "python",
   "pygments_lexer": "ipython3",
   "version": "3.12.5"
  }
 },
 "nbformat": 4,
 "nbformat_minor": 5
}
