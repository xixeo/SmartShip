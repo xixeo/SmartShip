{
 "cells": [
  {
   "cell_type": "code",
   "execution_count": 28,
   "id": "496f2a9e-661c-4800-af46-a4eeefc9998f",
   "metadata": {},
   "outputs": [],
   "source": [
    "import pandas as pd\n",
    "import numpy as np\n",
    "import re\n",
    "import matplotlib.pyplot as plt\n",
    "\n",
    "from sklearn.model_selection import train_test_split\n",
    "from sklearn.preprocessing import LabelEncoder, OneHotEncoder\n",
    "from sklearn.ensemble import RandomForestClassifier\n",
    "from sklearn.metrics import classification_report, accuracy_score\n",
    "from transformers import BertTokenizer"
   ]
  },
  {
   "cell_type": "code",
   "execution_count": 29,
   "id": "ead46d44-e3c4-464b-9c55-8e68b61685f8",
   "metadata": {},
   "outputs": [],
   "source": [
    "df=pd.read_excel('dataset_filledsupplier_currency_orderday.xlsx')"
   ]
  },
  {
   "cell_type": "code",
   "execution_count": 30,
   "id": "05aef43a-0b3e-408b-ba95-70285b38f602",
   "metadata": {},
   "outputs": [
    {
     "name": "stdout",
     "output_type": "stream",
     "text": [
      "<class 'pandas.core.frame.DataFrame'>\n",
      "RangeIndex: 24621 entries, 0 to 24620\n",
      "Data columns (total 32 columns):\n",
      " #   Column       Non-Null Count  Dtype  \n",
      "---  ------       --------------  -----  \n",
      " 0   청구서번호        24621 non-null  object \n",
      " 1   No.          24621 non-null  int64  \n",
      " 2   Subject      24599 non-null  object \n",
      " 3   Machinery    24621 non-null  object \n",
      " 4   Assembly     24621 non-null  object \n",
      " 5   청구품목         24621 non-null  object \n",
      " 6   Unnamed: 6   0 non-null      float64\n",
      " 7   Part No.1    24602 non-null  object \n",
      " 8   Part No.2    3592 non-null   object \n",
      " 9   청구량          24517 non-null  float64\n",
      " 10  견적           24171 non-null  object \n",
      " 11  견적수량         24517 non-null  float64\n",
      " 12  견적화폐         24621 non-null  object \n",
      " 13  견적단가         24621 non-null  float64\n",
      " 14  발주번호         24621 non-null  object \n",
      " 15  발주처          24621 non-null  object \n",
      " 16  발주           24621 non-null  object \n",
      " 17  발주수량         24621 non-null  int64  \n",
      " 18  발주금액         24621 non-null  float64\n",
      " 19  D/T          22292 non-null  object \n",
      " 20  미입고 기간       1620 non-null   object \n",
      " 21  창고입고         21302 non-null  object \n",
      " 22  창고입고수량       24621 non-null  int64  \n",
      " 23  Control No.  15433 non-null  object \n",
      " 24  입고창고         21302 non-null  object \n",
      " 25  창고출고         19258 non-null  object \n",
      " 26  창고출고수량       24621 non-null  int64  \n",
      " 27  출고선박         19258 non-null  object \n",
      " 28  출고운반선        19258 non-null  object \n",
      " 29  선박입고         5374 non-null   object \n",
      " 30  선박입고수량       24621 non-null  int64  \n",
      " 31  완료 여부        5362 non-null   object \n",
      "dtypes: float64(5), int64(5), object(22)\n",
      "memory usage: 6.0+ MB\n"
     ]
    }
   ],
   "source": [
    "df.info()"
   ]
  },
  {
   "cell_type": "code",
   "execution_count": 31,
   "id": "eb2252db-28d5-446a-877e-e003fc04a134",
   "metadata": {},
   "outputs": [
    {
     "name": "stdout",
     "output_type": "stream",
     "text": [
      "81\n"
     ]
    }
   ],
   "source": [
    "print(len(df['발주처'].unique()))"
   ]
  },
  {
   "cell_type": "markdown",
   "id": "8fce6d15-4bb0-4aaa-8501-039d839b3bc4",
   "metadata": {},
   "source": [
    "## 클리닝"
   ]
  },
  {
   "cell_type": "code",
   "execution_count": 32,
   "id": "b2089545-cb02-4012-88a9-0da4869c274e",
   "metadata": {},
   "outputs": [
    {
     "name": "stdout",
     "output_type": "stream",
     "text": [
      "발주 일자는 있지만 미입고 기간, 창고 입고, 선박 입고도 없는 경우: 1699개\n",
      "삭제된 행의 개수: 1699개\n",
      "남은 데이터프레임의 크기: (22922, 32)\n"
     ]
    }
   ],
   "source": [
    "missing_conditions = df[\n",
    "    df['발주'].notnull() &  # 발주 일자는 비어있지 않음\n",
    "    df['미입고 기간'].isnull() &  # 미입고 기간은 비어있음\n",
    "    df['창고입고'].isnull() & # 창고 입고도 비어있음\n",
    "    df['선박입고'].isnull()  # 선박 입고도 비어있음\n",
    "\n",
    "]\n",
    "\n",
    "print(f\"발주 일자는 있지만 미입고 기간, 창고 입고, 선박 입고도 없는 경우: {len(missing_conditions)}개\")\n",
    "df = df.drop(missing_conditions.index)\n",
    "\n",
    "print(f\"삭제된 행의 개수: {len(missing_conditions)}개\")\n",
    "print(f\"남은 데이터프레임의 크기: {df.shape}\")"
   ]
  },
  {
   "cell_type": "code",
   "execution_count": 33,
   "id": "116fd26a-b562-4f62-a379-b2f3c8de8dce",
   "metadata": {},
   "outputs": [
    {
     "name": "stdout",
     "output_type": "stream",
     "text": [
      "창고 입고일은 없고 미입고 기간은 명시되어 있어 미입고 기간으로 분류해야 할 경우 : 1620개\n"
     ]
    }
   ],
   "source": [
    "#미입고기간으로 처리.\n",
    "missing_both = df[df['창고입고'].isnull() & df['미입고 기간'].notnull()]\n",
    "\n",
    "print(f\"창고 입고일은 없고 미입고 기간은 명시되어 있어 미입고 기간으로 분류해야 할 경우 : {len(missing_both)}개\")"
   ]
  },
  {
   "cell_type": "code",
   "execution_count": 34,
   "id": "ad7c6f0d-1824-4137-b59c-b9b42303c78b",
   "metadata": {},
   "outputs": [
    {
     "name": "stdout",
     "output_type": "stream",
     "text": [
      "(19333, 33)\n"
     ]
    }
   ],
   "source": [
    "df = df[df['미입고 기간'].isnull()]\n",
    "\n",
    "df['발주'] = pd.to_datetime(df['발주'], errors='coerce')\n",
    "df['창고입고'] = pd.to_datetime(df['창고입고'], errors='coerce')\n",
    "\n",
    "# 리드타임 계산\n",
    "df['리드타임'] = (df['창고입고'] - df['발주']).dt.days\n",
    "\n",
    "# 리드타임이 0인 경우 1로 변경\n",
    "df['리드타임'] = df['리드타임'].apply(lambda x: 1 if x == 0 else x)\n",
    "\n",
    "# 리드타임이 1일 미만이거나 200일을 초과한 경우 제거\n",
    "df = df[(df['리드타임'] > 1 ) & (df['리드타임'] <=200)]\n",
    "\n",
    "# 창고입고가 결측값인 행 제거\n",
    "df = df.dropna(subset=['창고입고'])\n",
    "\n",
    "print(df.shape)"
   ]
  },
  {
   "cell_type": "code",
   "execution_count": 35,
   "id": "1894f939-32f5-428b-b4db-9213b334e072",
   "metadata": {},
   "outputs": [],
   "source": [
    "machinery_avg_leadtime = df.groupby('Machinery')['리드타임'].mean().reset_index()\n",
    "\n",
    "# 원본 데이터프레임에 병합하여 'Machinery'별 평균 리드타임 추가\n",
    "df = df.merge(machinery_avg_leadtime, on='Machinery', how='left', suffixes=('', '_avg'))"
   ]
  },
  {
   "cell_type": "code",
   "execution_count": 36,
   "id": "74c885e4-868c-4225-af2b-d0d53b365913",
   "metadata": {},
   "outputs": [
    {
     "data": {
      "text/html": [
       "<div>\n",
       "<style scoped>\n",
       "    .dataframe tbody tr th:only-of-type {\n",
       "        vertical-align: middle;\n",
       "    }\n",
       "\n",
       "    .dataframe tbody tr th {\n",
       "        vertical-align: top;\n",
       "    }\n",
       "\n",
       "    .dataframe thead th {\n",
       "        text-align: right;\n",
       "    }\n",
       "</style>\n",
       "<table border=\"1\" class=\"dataframe\">\n",
       "  <thead>\n",
       "    <tr style=\"text-align: right;\">\n",
       "      <th></th>\n",
       "      <th>청구서번호</th>\n",
       "      <th>No.</th>\n",
       "      <th>Subject</th>\n",
       "      <th>Machinery</th>\n",
       "      <th>Assembly</th>\n",
       "      <th>청구품목</th>\n",
       "      <th>Unnamed: 6</th>\n",
       "      <th>Part No.1</th>\n",
       "      <th>Part No.2</th>\n",
       "      <th>청구량</th>\n",
       "      <th>...</th>\n",
       "      <th>입고창고</th>\n",
       "      <th>창고출고</th>\n",
       "      <th>창고출고수량</th>\n",
       "      <th>출고선박</th>\n",
       "      <th>출고운반선</th>\n",
       "      <th>선박입고</th>\n",
       "      <th>선박입고수량</th>\n",
       "      <th>완료 여부</th>\n",
       "      <th>리드타임</th>\n",
       "      <th>리드타임_avg</th>\n",
       "    </tr>\n",
       "  </thead>\n",
       "  <tbody>\n",
       "    <tr>\n",
       "      <th>0</th>\n",
       "      <td>COK-BS-DSP-1901004</td>\n",
       "      <td>1</td>\n",
       "      <td>COK-F-DECK-190104-01</td>\n",
       "      <td>CARGO BOOM VANG BLOCK (STBD 하)</td>\n",
       "      <td>BLOCK</td>\n",
       "      <td>MCKISSICK CONSTRUCTION BLOCKS (WIRE SIZE : 5/8\")</td>\n",
       "      <td>NaN</td>\n",
       "      <td>C15S10BS</td>\n",
       "      <td>2103170</td>\n",
       "      <td>2.0</td>\n",
       "      <td>...</td>\n",
       "      <td>BW</td>\n",
       "      <td>2019-05-20</td>\n",
       "      <td>2</td>\n",
       "      <td>COK</td>\n",
       "      <td>ONENESS</td>\n",
       "      <td>2019-06-09</td>\n",
       "      <td>2</td>\n",
       "      <td>완료</td>\n",
       "      <td>112</td>\n",
       "      <td>101.500000</td>\n",
       "    </tr>\n",
       "    <tr>\n",
       "      <th>1</th>\n",
       "      <td>COK-BS-DSP-1901004</td>\n",
       "      <td>2</td>\n",
       "      <td>COK-F-DECK-190104-01</td>\n",
       "      <td>SPANISH BOOM VANG BLOCK (PORT 상)</td>\n",
       "      <td>BLOCK</td>\n",
       "      <td>MCKISSICK CONSTRUCTION BLOCKS (WIRE SIZE : 5/8\")</td>\n",
       "      <td>NaN</td>\n",
       "      <td>C15D10BS</td>\n",
       "      <td>2103180</td>\n",
       "      <td>1.0</td>\n",
       "      <td>...</td>\n",
       "      <td>BW</td>\n",
       "      <td>2019-05-20</td>\n",
       "      <td>1</td>\n",
       "      <td>COK</td>\n",
       "      <td>ONENESS편 탁송</td>\n",
       "      <td>2019-06-09</td>\n",
       "      <td>1</td>\n",
       "      <td>완료</td>\n",
       "      <td>97</td>\n",
       "      <td>51.500000</td>\n",
       "    </tr>\n",
       "    <tr>\n",
       "      <th>2</th>\n",
       "      <td>COK-BS-DSP-1901004</td>\n",
       "      <td>3</td>\n",
       "      <td>COK-F-DECK-190104-01</td>\n",
       "      <td>PURSE BLOCK</td>\n",
       "      <td>TOW BLOCK</td>\n",
       "      <td>WESTEC 20TON TOW BLOCK</td>\n",
       "      <td>NaN</td>\n",
       "      <td>WESTEC 20TON TOW BLOCK</td>\n",
       "      <td>NaN</td>\n",
       "      <td>1.0</td>\n",
       "      <td>...</td>\n",
       "      <td>BW</td>\n",
       "      <td>2019-05-20</td>\n",
       "      <td>1</td>\n",
       "      <td>COK</td>\n",
       "      <td>ONENESS</td>\n",
       "      <td>2019-06-09</td>\n",
       "      <td>1</td>\n",
       "      <td>완료</td>\n",
       "      <td>112</td>\n",
       "      <td>100.000000</td>\n",
       "    </tr>\n",
       "    <tr>\n",
       "      <th>3</th>\n",
       "      <td>COK-BS-DSP-1906004</td>\n",
       "      <td>1</td>\n",
       "      <td>COK-D-DECK-190527-02, NET 및 SAMSON ROPE</td>\n",
       "      <td>NET</td>\n",
       "      <td>H-EX</td>\n",
       "      <td>H-EX #30 * 4 1/4\", 100MD * 120FMS</td>\n",
       "      <td>NaN</td>\n",
       "      <td>HEX#30X4 1/4\"X100MDX120FMS</td>\n",
       "      <td>NaN</td>\n",
       "      <td>2.0</td>\n",
       "      <td>...</td>\n",
       "      <td>BS</td>\n",
       "      <td>2019-06-15</td>\n",
       "      <td>2</td>\n",
       "      <td>COK</td>\n",
       "      <td>OCEANUS</td>\n",
       "      <td>2019-07-09</td>\n",
       "      <td>2</td>\n",
       "      <td>완료</td>\n",
       "      <td>12</td>\n",
       "      <td>16.627119</td>\n",
       "    </tr>\n",
       "    <tr>\n",
       "      <th>4</th>\n",
       "      <td>COK-BS-DSP-1906004</td>\n",
       "      <td>2</td>\n",
       "      <td>COK-D-DECK-190527-02, NET 및 SAMSON ROPE</td>\n",
       "      <td>NET</td>\n",
       "      <td>NYLON</td>\n",
       "      <td>NYLON #54 * 4 1/4\", 100MD * 50FMS</td>\n",
       "      <td>NaN</td>\n",
       "      <td>NYLON#54X4-1/4\"X100MDX50FMS</td>\n",
       "      <td>NaN</td>\n",
       "      <td>1.0</td>\n",
       "      <td>...</td>\n",
       "      <td>BS</td>\n",
       "      <td>2019-06-15</td>\n",
       "      <td>1</td>\n",
       "      <td>COK</td>\n",
       "      <td>OCEANUS</td>\n",
       "      <td>2019-07-09</td>\n",
       "      <td>1</td>\n",
       "      <td>완료</td>\n",
       "      <td>12</td>\n",
       "      <td>16.627119</td>\n",
       "    </tr>\n",
       "  </tbody>\n",
       "</table>\n",
       "<p>5 rows × 34 columns</p>\n",
       "</div>"
      ],
      "text/plain": [
       "                청구서번호  No.                                  Subject  \\\n",
       "0  COK-BS-DSP-1901004    1                     COK-F-DECK-190104-01   \n",
       "1  COK-BS-DSP-1901004    2                     COK-F-DECK-190104-01   \n",
       "2  COK-BS-DSP-1901004    3                     COK-F-DECK-190104-01   \n",
       "3  COK-BS-DSP-1906004    1  COK-D-DECK-190527-02, NET 및 SAMSON ROPE   \n",
       "4  COK-BS-DSP-1906004    2  COK-D-DECK-190527-02, NET 및 SAMSON ROPE   \n",
       "\n",
       "                          Machinery   Assembly  \\\n",
       "0    CARGO BOOM VANG BLOCK (STBD 하)      BLOCK   \n",
       "1  SPANISH BOOM VANG BLOCK (PORT 상)      BLOCK   \n",
       "2                       PURSE BLOCK  TOW BLOCK   \n",
       "3                               NET       H-EX   \n",
       "4                               NET      NYLON   \n",
       "\n",
       "                                               청구품목  Unnamed: 6  \\\n",
       "0  MCKISSICK CONSTRUCTION BLOCKS (WIRE SIZE : 5/8\")         NaN   \n",
       "1  MCKISSICK CONSTRUCTION BLOCKS (WIRE SIZE : 5/8\")         NaN   \n",
       "2                            WESTEC 20TON TOW BLOCK         NaN   \n",
       "3                 H-EX #30 * 4 1/4\", 100MD * 120FMS         NaN   \n",
       "4                 NYLON #54 * 4 1/4\", 100MD * 50FMS         NaN   \n",
       "\n",
       "                     Part No.1 Part No.2  청구량  ... 입고창고        창고출고 창고출고수량  \\\n",
       "0                     C15S10BS   2103170  2.0  ...   BW  2019-05-20      2   \n",
       "1                     C15D10BS   2103180  1.0  ...   BW  2019-05-20      1   \n",
       "2       WESTEC 20TON TOW BLOCK       NaN  1.0  ...   BW  2019-05-20      1   \n",
       "3   HEX#30X4 1/4\"X100MDX120FMS       NaN  2.0  ...   BS  2019-06-15      2   \n",
       "4  NYLON#54X4-1/4\"X100MDX50FMS       NaN  1.0  ...   BS  2019-06-15      1   \n",
       "\n",
       "   출고선박        출고운반선        선박입고 선박입고수량  완료 여부  리드타임    리드타임_avg  \n",
       "0   COK      ONENESS  2019-06-09      2     완료   112  101.500000  \n",
       "1   COK  ONENESS편 탁송  2019-06-09      1     완료    97   51.500000  \n",
       "2   COK      ONENESS  2019-06-09      1     완료   112  100.000000  \n",
       "3   COK      OCEANUS  2019-07-09      2     완료    12   16.627119  \n",
       "4   COK      OCEANUS  2019-07-09      1     완료    12   16.627119  \n",
       "\n",
       "[5 rows x 34 columns]"
      ]
     },
     "execution_count": 36,
     "metadata": {},
     "output_type": "execute_result"
    }
   ],
   "source": [
    "df.head()"
   ]
  },
  {
   "cell_type": "code",
   "execution_count": 37,
   "id": "51166f8a-d406-4d21-a813-487b919f0a3b",
   "metadata": {},
   "outputs": [
    {
     "name": "stdout",
     "output_type": "stream",
     "text": [
      "count    19333.000000\n",
      "mean        69.477784\n",
      "std         51.866529\n",
      "min          2.000000\n",
      "25%         20.000000\n",
      "50%         61.000000\n",
      "75%        107.000000\n",
      "max        200.000000\n",
      "Name: 리드타임, dtype: float64\n"
     ]
    }
   ],
   "source": [
    "print(df['리드타임'].describe())\n"
   ]
  },
  {
   "cell_type": "code",
   "execution_count": 38,
   "id": "588ca0cd-070a-4eab-9cb9-cdec247c167f",
   "metadata": {},
   "outputs": [
    {
     "data": {
      "image/png": "[encoded data removed]",
      "text/plain": [
       "<Figure size 1000x600 with 1 Axes>"
      ]
     },
     "metadata": {},
     "output_type": "display_data"
    }
   ],
   "source": [
    "import matplotlib.pyplot as plt\n",
    "import seaborn as sns\n",
    "\n",
    "plt.rcParams['font.family']='Malgun Gothic'\n",
    "\n",
    "plt.figure(figsize=(10, 6))\n",
    "sns.histplot(df['리드타임'], bins=30, kde=True)\n",
    "plt.title('리드타임 분포')\n",
    "plt.xlabel('리드타임 (일)')\n",
    "plt.ylabel('빈도')\n",
    "plt.show()"
   ]
  },
  {
   "cell_type": "code",
   "execution_count": 12,
   "id": "fa168de0-9556-4a8e-9766-9c9f123683f9",
   "metadata": {},
   "outputs": [
    {
     "data": {
      "image/png": "[encoded data removed]",
      "text/plain": [
       "<Figure size 1000x600 with 1 Axes>"
      ]
     },
     "metadata": {},
     "output_type": "display_data"
    }
   ],
   "source": [
    "df['리드타임_범주'] = pd.cut(df['리드타임'], bins=[0, 7, 14, 30, 60, 90, df['리드타임'].max()], labels=['1주 이내', '2주 이내', '1개월 이내', '2개월 이내', '3개월 이내', '3개월 이상'])\n",
    "plt.rcParams['font.family']='Malgun Gothic'\n",
    "plt.figure(figsize=(10, 6))\n",
    "sns.countplot(data=df, x='리드타임_범주')\n",
    "plt.title('리드타임 범주 분포')\n",
    "plt.xlabel('리드타임 범주')\n",
    "plt.ylabel('빈도')\n",
    "plt.show()"
   ]
  },
  {
   "cell_type": "markdown",
   "id": "315aaac3-23bc-4114-aa65-724a5fdaac0d",
   "metadata": {},
   "source": [
    "### 리드타임 예측 (회귀)\n",
    "1. 텍스트 칼럼 결합 및 BERT 임베딩\n",
    "2. ( 수치형 데이터(견적단가 및 발주량) Scaling )\n",
    "3. 범주형 데이터(견적화폐) onehotEncoding\n",
    "4. 모델의 입력, 2.3데이터 결합 => 리드타임 예측"
   ]
  },
  {
   "cell_type": "markdown",
   "id": "debf6c2a-35d8-4df0-a7ef-cd9d3c2541d6",
   "metadata": {},
   "source": [
    "## 전처리\n",
    "\n",
    "> 각 텍스트 필드 개별적으로 rf idf 변환하고 결합"
   ]
  },
  {
   "cell_type": "code",
   "execution_count": 45,
   "id": "b81e9c88-d80d-45b4-b343-f433a440d48b",
   "metadata": {},
   "outputs": [],
   "source": [
    "import re\n",
    "\n",
    "def preprocess_text(text):\n",
    "    text = text.lower()\n",
    "    text = re.sub(r'\\([^)]*\\)', '', text)\n",
    "    text = re.sub(r'[^\\w\\s\\*/\\-\\+.,#&]', '', text)\n",
    "    text = re.sub(r'\\s+', ' ', text)\n",
    "    text = re.sub(r'\\b(사용금지|사)\\b', '', text, flags=re.IGNORECASE)\n",
    "    text = text.strip()\n",
    "    return text\n",
    "\n",
    "def clean_supplier_name(name):\n",
    "    name = name.lower()\n",
    "    name = re.sub(r'coporation|coropration|coproration|corporration', 'corporation', name)\n",
    "    name = re.sub(r'\\(사용금지\\)', '', name)\n",
    "    name = re.sub(r'u\\.s\\.a', '_usa', name)\n",
    "    name = re.sub(r'\\.', '', name)\n",
    "    suffixes = r'(corporation|corp|company|co|incorporated|inc|limited|ltd|상사|공사|엔지니어링|주식회사|주|gmbh|pte ltd|llc)'\n",
    "    name = re.sub(suffixes, '', name, flags=re.IGNORECASE)\n",
    "    name = re.sub(r'[^\\w\\s-]', '', name)\n",
    "    name = re.sub(r'\\s+', ' ', name).strip()\n",
    "    return name"
   ]
  },
  {
   "cell_type": "code",
   "execution_count": 46,
   "id": "05f08286-d27f-4c2a-afca-dce765e72b12",
   "metadata": {},
   "outputs": [],
   "source": [
    "text_columns = ['Machinery', 'Assembly', '청구품목']\n",
    "\n",
    "for col in text_columns:\n",
    "    df[col] = df[col].astype(str)\n",
    "df['cleaned_machinery'] = df['Machinery'].apply(preprocess_text)\n",
    "df['cleaned_assembly'] = df['Assembly'].apply(preprocess_text)\n",
    "df['cleaned_item'] = df['청구품목'].apply(preprocess_text)\n"
   ]
  },
  {
   "cell_type": "code",
   "execution_count": 47,
   "id": "000ba884-3eaa-4a6e-9b57-6e43cc96453c",
   "metadata": {},
   "outputs": [
    {
     "name": "stdout",
     "output_type": "stream",
     "text": [
      "FastText Machinery Shape: (19333, 100)\n",
      "FastText Assembly Shape: (19333, 100)\n",
      "FastText Item Shape: (19333, 100)\n"
     ]
    }
   ],
   "source": [
    "from gensim.models import FastText\n",
    "import numpy as np\n",
    "\n",
    "# 데이터 전처리 후 토큰화 (문장을 단어 리스트로 변환)\n",
    "machinery_sentences = [text.split() for text in df['cleaned_machinery']]\n",
    "assembly_sentences = [text.split() for text in df['cleaned_assembly']]\n",
    "item_sentences = [text.split() for text in df['cleaned_item']]\n",
    "\n",
    "# 각각의 FastText 모델 학습\n",
    "fasttext_machinery = FastText(sentences=machinery_sentences, vector_size=100, window=5, min_count=1, workers=4)\n",
    "fasttext_assembly = FastText(sentences=assembly_sentences, vector_size=100, window=5, min_count=1, workers=4)\n",
    "fasttext_item = FastText(sentences=item_sentences, vector_size=100, window=5, min_count=1, workers=4)\n",
    "\n",
    "# 각 텍스트에 대한 벡터 평균값 계산 (문장 단위로 벡터를 평균화하여 문장 벡터 생성)\n",
    "def sentence_vector(sentence, model):\n",
    "    vectors = [model.wv[word] for word in sentence if word in model.wv]\n",
    "    if len(vectors) > 0:\n",
    "        return np.mean(vectors, axis=0)\n",
    "    else:\n",
    "        return np.zeros(model.vector_size)\n",
    "\n",
    "# 각 컬럼별로 벡터화\n",
    "machinery_vectors = np.array([sentence_vector(sentence, fasttext_machinery) for sentence in machinery_sentences])\n",
    "assembly_vectors = np.array([sentence_vector(sentence, fasttext_assembly) for sentence in assembly_sentences])\n",
    "item_vectors = np.array([sentence_vector(sentence, fasttext_item) for sentence in item_sentences])\n",
    "\n",
    "# 결과 확인\n",
    "print(f\"FastText Machinery Shape: {machinery_vectors.shape}\")\n",
    "print(f\"FastText Assembly Shape: {assembly_vectors.shape}\")\n",
    "print(f\"FastText Item Shape: {item_vectors.shape}\")"
   ]
  },
  {
   "cell_type": "code",
   "execution_count": 42,
   "id": "2afba987-9259-427d-ac6a-05ea121a8136",
   "metadata": {},
   "outputs": [],
   "source": [
    "#!conda install conda-forge::category_encoders -y"
   ]
  },
  {
   "cell_type": "code",
   "execution_count": 48,
   "id": "cbbd380a-07de-42d9-8df0-c9b6399434fb",
   "metadata": {},
   "outputs": [
    {
     "name": "stderr",
     "output_type": "stream",
     "text": [
      "C:\\Users\\User\\AppData\\Local\\Temp\\ipykernel_11364\\3444543933.py:22: SettingWithCopyWarning: \n",
      "A value is trying to be set on a copy of a slice from a DataFrame.\n",
      "Try using .loc[row_indexer,col_indexer] = value instead\n",
      "\n",
      "See the caveats in the documentation: https://pandas.pydata.org/pandas-docs/stable/user_guide/indexing.html#returning-a-view-versus-a-copy\n",
      "  df['log_converted_price'] = np.log1p(df['converted_price'])\n"
     ]
    }
   ],
   "source": [
    "from sklearn.preprocessing import OneHotEncoder, StandardScaler, MinMaxScaler\n",
    "import numpy as np\n",
    "from scipy.sparse import hstack, csr_matrix\n",
    "import category_encoders as ce\n",
    "\n",
    "# 환율 설정\n",
    "exchange_rate = {\n",
    "    'KRW': 1/1300, \n",
    "    'USD': 1,      \n",
    "    'EUR': 1.1,     \n",
    "    'JPY': 1/110    \n",
    "}\n",
    "\n",
    "# 1. 수치형 데이터 처리 (로그 변환 및 NaN 처리)\n",
    "df['converted_unit_price'] = df.apply(lambda x: x['견적단가'] * exchange_rate[x['견적화폐']], axis=1)\n",
    "df['converted_price'] = df['converted_unit_price'] * df['발주수량']\n",
    "\n",
    "# 로그 변환 전에 0 이하의 값 제거\n",
    "df = df[df['converted_price'] > 0]\n",
    "\n",
    "# 로그 변환 후 NaN 값 제거\n",
    "df['log_converted_price'] = np.log1p(df['converted_price'])\n",
    "\n",
    "# 수치형 데이터에 대해 NaN 제거\n",
    "df = df.dropna(subset=['log_converted_price', '발주수량'])\n",
    "\n",
    "\n"
   ]
  },
  {
   "cell_type": "code",
   "execution_count": 62,
   "id": "9313bee8-c6d0-4afc-8cde-0c872ea21443",
   "metadata": {},
   "outputs": [],
   "source": [
    "from sklearn.preprocessing import OneHotEncoder\n",
    "\n",
    "# 2. 발주처 전처리 및 인코딩\n",
    "df['cleaned_supplier'] = df['발주처'].apply(clean_supplier_name)\n",
    "\n",
    "from sklearn.preprocessing import OneHotEncoder\n",
    "\n",
    "ohe = OneHotEncoder(sparse_output=False)\n",
    "supplier_encoded = ohe.fit_transform(df[['cleaned_supplier']])\n",
    "\n"
   ]
  },
  {
   "cell_type": "code",
   "execution_count": 64,
   "id": "82bdffaa-87cb-4e6b-9507-4ed95e9cf4b1",
   "metadata": {},
   "outputs": [],
   "source": [
    "# 5. One-Hot Encoding: 견적화폐와 발주처\n",
    "currency_ohe = OneHotEncoder(sparse_output=False) \n",
    "currency_encoded = currency_ohe.fit_transform(df[['견적화폐']])"
   ]
  },
  {
   "cell_type": "code",
   "execution_count": 65,
   "id": "6d486e71-9031-4467-873b-2b74ac13d2f9",
   "metadata": {},
   "outputs": [],
   "source": [
    "from sklearn.preprocessing import MinMaxScaler\n",
    "\n",
    "# 3. 수치형 데이터 스케일링\n",
    "scaler = StandardScaler()\n",
    "log_price_scaled = scaler.fit_transform(df[['log_converted_price']])\n",
    "leadtime_avg_scaled = scaler.fit_transform(df[['리드타임_avg']])\n",
    "\n",
    "#발주수량은 스케일러 안함\n",
    "q_scaler=MinMaxScaler ()\n",
    "quantity_scaled = q_scaler.fit_transform(df[['발주수량']])\n",
    "\n"
   ]
  },
  {
   "cell_type": "markdown",
   "id": "8ea612f1-3192-4263-bccb-40dc435ebd1d",
   "metadata": {},
   "source": [
    "### 데이터 분할\n",
    "\n",
    "> 로그 변환 및 tf-idf 벡터화 시 nan 값 생길 수 있으므로 처리에 주의요함"
   ]
  },
  {
   "cell_type": "code",
   "execution_count": 66,
   "id": "9aa50697-89e1-48eb-9928-7e75f8a7c262",
   "metadata": {},
   "outputs": [
    {
     "name": "stdout",
     "output_type": "stream",
     "text": [
      "Final Feature Shape: (19285, 280)\n"
     ]
    }
   ],
   "source": [
    "\n",
    "# 5. 수치형 데이터 결합 \n",
    "# 5. 수치형 데이터 결합 \n",
    "X_combined_numeric = np.hstack([\n",
    "    log_price_scaled, \n",
    "    leadtime_avg_scaled,\n",
    "    quantity_scaled,  # 여기서 스케일링된 수량 사용\n",
    "    supplier_encoded,  # 타겟 인코딩된 발주처가 아닌, 원핫인코딩된 발주처 사용\n",
    "    currency_encoded,  # 원핫인코딩된 견적화폐\n",
    "])\n",
    "\n",
    "# 2. FastText 벡터 크기 맞추기 (min_rows로 잘라서 크기 일치)\n",
    "min_rows = min(X_combined_numeric.shape[0], machinery_vectors.shape[0], assembly_vectors.shape[0])\n",
    "\n",
    "X_combined_numeric = X_combined_numeric[:min_rows]\n",
    "machinery_vectors = machinery_vectors[:min_rows]\n",
    "assembly_vectors = assembly_vectors[:min_rows]\n",
    "\n",
    "# 3. FastText 벡터 결합\n",
    "X_text = np.hstack([machinery_vectors, assembly_vectors])\n",
    "\n",
    "# 4. 수치형 데이터와 FastText 벡터 결합\n",
    "X_final = np.hstack([X_text, X_combined_numeric])\n",
    "\n",
    "# 최종 결과 확인\n",
    "print(f\"Final Feature Shape: {X_final.shape}\")"
   ]
  },
  {
   "cell_type": "code",
   "execution_count": 67,
   "id": "154a9140-d5fe-4a7a-aaaf-f5fc53377a62",
   "metadata": {},
   "outputs": [],
   "source": [
    "import torch\n",
    "import torch.nn as nn\n",
    "import torch.optim as optim\n",
    "from torch.utils.data import DataLoader, TensorDataset\n",
    "from sklearn.model_selection import train_test_split\n",
    "y = df['리드타임'].values\n",
    "\n",
    "X_train, X_test, y_train, y_test = train_test_split(X_final, y, test_size=0.2, random_state=42)\n"
   ]
  },
  {
   "cell_type": "code",
   "execution_count": 68,
   "id": "0b0ece38-0ed0-430d-9204-b3072b87ba03",
   "metadata": {},
   "outputs": [],
   "source": [
    "from sklearn.ensemble import RandomForestRegressor\n",
    "\n",
    "model = RandomForestRegressor(n_estimators=100, max_depth=10)\n",
    "model.fit(X_train, y_train)\n",
    "y_pred = model.predict(X_test)"
   ]
  },
  {
   "cell_type": "code",
   "execution_count": 69,
   "id": "f6bb7a98-6529-4914-95b7-e2110a325ba5",
   "metadata": {},
   "outputs": [
    {
     "name": "stdout",
     "output_type": "stream",
     "text": [
      "Mean Squared Error (MSE): 1167.838054103956\n",
      "Mean Absolute Error (MAE): 24.52170547972605\n",
      "R^2 Score: 0.5575889408712141\n"
     ]
    }
   ],
   "source": [
    "# 10. 모델 평가\n",
    "from sklearn.metrics import mean_squared_error, mean_absolute_error, r2_score\n",
    "\n",
    "# 성능 평가\n",
    "mse = mean_squared_error(y_test, y_pred)\n",
    "mae = mean_absolute_error(y_test, y_pred)\n",
    "r2 = r2_score(y_test, y_pred)\n",
    "\n",
    "print(f\"Mean Squared Error (MSE): {mse}\")\n",
    "print(f\"Mean Absolute Error (MAE): {mae}\")\n",
    "print(f\"R^2 Score: {r2}\")"
   ]
  },
  {
   "cell_type": "code",
   "execution_count": null,
   "id": "59305015-a5c1-447a-b74b-4531c62cc7db",
   "metadata": {},
   "outputs": [],
   "source": []
  },
  {
   "cell_type": "code",
   "execution_count": null,
   "id": "345d2127-578b-4042-8605-4db7f70f8ce6",
   "metadata": {},
   "outputs": [],
   "source": []
  }
 ],
 "metadata": {
  "kernelspec": {
   "display_name": "Python (ship)",
   "language": "python",
   "name": "ship"
  },
  "language_info": {
   "codemirror_mode": {
    "name": "ipython",
    "version": 3
   },
   "file_extension": ".py",
   "mimetype": "text/x-python",
   "name": "python",
   "nbconvert_exporter": "python",
   "pygments_lexer": "ipython3",
   "version": "3.12.5"
  }
 },
 "nbformat": 4,
 "nbformat_minor": 5
}
