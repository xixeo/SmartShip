{
 "cells": [
  {
   "cell_type": "code",
   "execution_count": 1,
   "id": "496f2a9e-661c-4800-af46-a4eeefc9998f",
   "metadata": {},
   "outputs": [],
   "source": [
    "import pandas as pd\n",
    "import numpy as np\n",
    "import re\n",
    "import matplotlib.pyplot as plt\n",
    "import csv\n",
    "\n",
    "from sklearn.model_selection import train_test_split\n",
    "from sklearn.preprocessing import LabelEncoder, OneHotEncoder\n",
    "from sklearn.ensemble import RandomForestClassifier\n",
    "from sklearn.metrics import classification_report, accuracy_score\n",
    "from transformers import BertTokenizer"
   ]
  },
  {
   "cell_type": "code",
   "execution_count": 2,
   "id": "ead46d44-e3c4-464b-9c55-8e68b61685f8",
   "metadata": {},
   "outputs": [],
   "source": [
    "df=pd.read_excel('dataset_filledsupplier_currency_orderday.xlsx')"
   ]
  },
  {
   "cell_type": "code",
   "execution_count": 3,
   "id": "05aef43a-0b3e-408b-ba95-70285b38f602",
   "metadata": {},
   "outputs": [
    {
     "name": "stdout",
     "output_type": "stream",
     "text": [
      "<class 'pandas.core.frame.DataFrame'>\n",
      "RangeIndex: 24621 entries, 0 to 24620\n",
      "Data columns (total 32 columns):\n",
      " #   Column       Non-Null Count  Dtype  \n",
      "---  ------       --------------  -----  \n",
      " 0   청구서번호        24621 non-null  object \n",
      " 1   No.          24621 non-null  int64  \n",
      " 2   Subject      24599 non-null  object \n",
      " 3   Machinery    24621 non-null  object \n",
      " 4   Assembly     24621 non-null  object \n",
      " 5   청구품목         24621 non-null  object \n",
      " 6   Unnamed: 6   0 non-null      float64\n",
      " 7   Part No.1    24602 non-null  object \n",
      " 8   Part No.2    3592 non-null   object \n",
      " 9   청구량          24517 non-null  float64\n",
      " 10  견적           24171 non-null  object \n",
      " 11  견적수량         24517 non-null  float64\n",
      " 12  견적화폐         24621 non-null  object \n",
      " 13  견적단가         24621 non-null  float64\n",
      " 14  발주번호         24621 non-null  object \n",
      " 15  발주처          24621 non-null  object \n",
      " 16  발주           24621 non-null  object \n",
      " 17  발주수량         24621 non-null  int64  \n",
      " 18  발주금액         24621 non-null  float64\n",
      " 19  D/T          22292 non-null  object \n",
      " 20  미입고 기간       1620 non-null   object \n",
      " 21  창고입고         21302 non-null  object \n",
      " 22  창고입고수량       24621 non-null  int64  \n",
      " 23  Control No.  15433 non-null  object \n",
      " 24  입고창고         21302 non-null  object \n",
      " 25  창고출고         19258 non-null  object \n",
      " 26  창고출고수량       24621 non-null  int64  \n",
      " 27  출고선박         19258 non-null  object \n",
      " 28  출고운반선        19258 non-null  object \n",
      " 29  선박입고         5374 non-null   object \n",
      " 30  선박입고수량       24621 non-null  int64  \n",
      " 31  완료 여부        5362 non-null   object \n",
      "dtypes: float64(5), int64(5), object(22)\n",
      "memory usage: 6.0+ MB\n"
     ]
    }
   ],
   "source": [
    "df.info()"
   ]
  },
  {
   "cell_type": "code",
   "execution_count": 4,
   "id": "eb2252db-28d5-446a-877e-e003fc04a134",
   "metadata": {},
   "outputs": [
    {
     "name": "stdout",
     "output_type": "stream",
     "text": [
      "81\n"
     ]
    }
   ],
   "source": [
    "print(len(df['발주처'].unique()))"
   ]
  },
  {
   "cell_type": "markdown",
   "id": "8fce6d15-4bb0-4aaa-8501-039d839b3bc4",
   "metadata": {},
   "source": [
    "## 클리닝"
   ]
  },
  {
   "cell_type": "code",
   "execution_count": 5,
   "id": "b2089545-cb02-4012-88a9-0da4869c274e",
   "metadata": {},
   "outputs": [
    {
     "name": "stdout",
     "output_type": "stream",
     "text": [
      "발주 일자는 있지만 미입고 기간, 창고 입고, 선박 입고도 없는 경우: 1699개\n",
      "삭제된 행의 개수: 1699개\n",
      "남은 데이터프레임의 크기: (22922, 32)\n"
     ]
    }
   ],
   "source": [
    "missing_conditions = df[\n",
    "    df['발주'].notnull() &  # 발주 일자는 비어있지 않음\n",
    "    df['미입고 기간'].isnull() &  # 미입고 기간은 비어있음\n",
    "    df['창고입고'].isnull() & # 창고 입고도 비어있음\n",
    "    df['선박입고'].isnull()  # 선박 입고도 비어있음\n",
    "\n",
    "]\n",
    "\n",
    "print(f\"발주 일자는 있지만 미입고 기간, 창고 입고, 선박 입고도 없는 경우: {len(missing_conditions)}개\")\n",
    "df = df.drop(missing_conditions.index)\n",
    "\n",
    "print(f\"삭제된 행의 개수: {len(missing_conditions)}개\")\n",
    "print(f\"남은 데이터프레임의 크기: {df.shape}\")"
   ]
  },
  {
   "cell_type": "code",
   "execution_count": 6,
   "id": "116fd26a-b562-4f62-a379-b2f3c8de8dce",
   "metadata": {},
   "outputs": [
    {
     "name": "stdout",
     "output_type": "stream",
     "text": [
      "창고 입고일은 없고 미입고 기간은 명시되어 있어 미입고 기간으로 분류해야 할 경우 : 1620개\n"
     ]
    }
   ],
   "source": [
    "#미입고기간으로 처리.\n",
    "missing_both = df[df['창고입고'].isnull() & df['미입고 기간'].notnull()]\n",
    "\n",
    "print(f\"창고 입고일은 없고 미입고 기간은 명시되어 있어 미입고 기간으로 분류해야 할 경우 : {len(missing_both)}개\")"
   ]
  },
  {
   "cell_type": "code",
   "execution_count": 7,
   "id": "ad7c6f0d-1824-4137-b59c-b9b42303c78b",
   "metadata": {},
   "outputs": [],
   "source": [
    "df = df[df['미입고 기간'].isnull()]\n",
    "\n",
    "df['발주'] = pd.to_datetime(df['발주'], errors='coerce')\n",
    "df['창고입고'] = pd.to_datetime(df['창고입고'], errors='coerce')\n",
    "\n",
    "# 리드타임 계산\n",
    "df['리드타임'] = (df['창고입고'] - df['발주']).dt.days\n",
    "df['리드타임'] = df['리드타임'].apply(lambda x: 1 if x == 0 else x)"
   ]
  },
  {
   "cell_type": "code",
   "execution_count": 8,
   "id": "fdc6f34f-77bb-4e1e-a534-a2c206edcbce",
   "metadata": {},
   "outputs": [],
   "source": [
    "\n",
    "df = df[(df['리드타임'] > 1 ) & (df['리드타임'] < 150)]\n",
    "df = df.dropna(subset=['창고입고'])"
   ]
  },
  {
   "cell_type": "code",
   "execution_count": 9,
   "id": "0068e50e-6ccf-4ca2-b1fb-402ba3c01e81",
   "metadata": {},
   "outputs": [
    {
     "name": "stdout",
     "output_type": "stream",
     "text": [
      "          발주       창고입고\n",
      "0 2019-01-11 2019-05-03\n",
      "1 2019-01-11 2019-04-18\n",
      "2 2019-01-11 2019-05-03\n",
      "5 2019-06-03 2019-06-15\n",
      "6 2019-06-03 2019-06-15 0\n"
     ]
    }
   ],
   "source": [
    "print(df[['발주', '창고입고']].head(), df['창고입고'].isnull().sum())"
   ]
  },
  {
   "cell_type": "code",
   "execution_count": 10,
   "id": "c34a4c81-49b7-40d6-8250-c1dd03afffb1",
   "metadata": {},
   "outputs": [
    {
     "name": "stdout",
     "output_type": "stream",
     "text": [
      "<class 'pandas.core.frame.DataFrame'>\n",
      "Index: 17520 entries, 0 to 24602\n",
      "Data columns (total 33 columns):\n",
      " #   Column       Non-Null Count  Dtype         \n",
      "---  ------       --------------  -----         \n",
      " 0   청구서번호        17520 non-null  object        \n",
      " 1   No.          17520 non-null  int64         \n",
      " 2   Subject      17509 non-null  object        \n",
      " 3   Machinery    17520 non-null  object        \n",
      " 4   Assembly     17520 non-null  object        \n",
      " 5   청구품목         17520 non-null  object        \n",
      " 6   Unnamed: 6   0 non-null      float64       \n",
      " 7   Part No.1    17505 non-null  object        \n",
      " 8   Part No.2    2528 non-null   object        \n",
      " 9   청구량          17455 non-null  float64       \n",
      " 10  견적           17288 non-null  object        \n",
      " 11  견적수량         17455 non-null  float64       \n",
      " 12  견적화폐         17520 non-null  object        \n",
      " 13  견적단가         17520 non-null  float64       \n",
      " 14  발주번호         17520 non-null  object        \n",
      " 15  발주처          17520 non-null  object        \n",
      " 16  발주           17520 non-null  datetime64[ns]\n",
      " 17  발주수량         17520 non-null  int64         \n",
      " 18  발주금액         17520 non-null  float64       \n",
      " 19  D/T          16305 non-null  object        \n",
      " 20  미입고 기간       0 non-null      object        \n",
      " 21  창고입고         17520 non-null  datetime64[ns]\n",
      " 22  창고입고수량       17520 non-null  int64         \n",
      " 23  Control No.  12975 non-null  object        \n",
      " 24  입고창고         17520 non-null  object        \n",
      " 25  창고출고         16277 non-null  object        \n",
      " 26  창고출고수량       17520 non-null  int64         \n",
      " 27  출고선박         16277 non-null  object        \n",
      " 28  출고운반선        16277 non-null  object        \n",
      " 29  선박입고         4626 non-null   object        \n",
      " 30  선박입고수량       17520 non-null  int64         \n",
      " 31  완료 여부        4616 non-null   object        \n",
      " 32  리드타임         17520 non-null  int64         \n",
      "dtypes: datetime64[ns](2), float64(5), int64(6), object(20)\n",
      "memory usage: 4.5+ MB\n"
     ]
    }
   ],
   "source": [
    "df.info()"
   ]
  },
  {
   "cell_type": "markdown",
   "id": "7b6d6586-5c71-4000-b5c4-5406b8412a90",
   "metadata": {},
   "source": [
    "### 날짜뽑기\n",
    "\n",
    "> 연도는 숫자형으로 처리(새로운 연도에 대응)\n",
    "> 나머지는 원핫인코딩"
   ]
  },
  {
   "cell_type": "code",
   "execution_count": 11,
   "id": "fe52b73b-4230-4fe6-ac88-97692fe75ef7",
   "metadata": {},
   "outputs": [],
   "source": [
    "def remove_restricted_text(text):\n",
    "    return re.sub(r'\\(사용금지\\)', '', text).strip()\n",
    "\n",
    "# Remove \"(사용금지)\" from '청구품목' and '발주처' columnsdf['청구품목'] = df['청구품목'].apply(remove_restricted_text)\n",
    "df['발주처'] = df['발주처'].apply(remove_restricted_text)"
   ]
  },
  {
   "cell_type": "code",
   "execution_count": 13,
   "id": "6d942b9a-3c88-4567-9e48-864af18262b4",
   "metadata": {},
   "outputs": [],
   "source": [
    "past_columns = [\n",
    "    'Machinery', 'Assembly', '청구품목', 'Part No.1', '견적화폐', '견적단가', '발주처', '발주', '창고입고', '리드타임'\n",
    "]\n",
    "\n",
    "# 해당 컬럼들만 선택하여 새로운 데이터프레임 생성\n",
    "df_past = df[past_columns]"
   ]
  },
  {
   "cell_type": "code",
   "execution_count": 14,
   "id": "457dbdec-6933-49fb-8cd9-5c299db4b633",
   "metadata": {},
   "outputs": [],
   "source": [
    "df_past_normalized = df_past.apply(lambda x: x.str.strip().str.upper() if x.dtype == \"object\" else x)\n"
   ]
  },
  {
   "cell_type": "code",
   "execution_count": 15,
   "id": "efa53119-7f3a-40f0-ac66-30e90860ce48",
   "metadata": {},
   "outputs": [],
   "source": [
    "# 1. Machinery 테이블 생성\n",
    "machinery_df = df_past_normalized[['Machinery']].drop_duplicates().reset_index(drop=True)\n",
    "machinery_df['machinery_id'] = machinery_df.index + 1  # machinery_id 생성"
   ]
  },
  {
   "cell_type": "code",
   "execution_count": 16,
   "id": "47ee5d05-828d-453f-b17d-7addf64ca906",
   "metadata": {},
   "outputs": [],
   "source": [
    "# 2. Assembly 테이블 생성 및 Machinery와의 관계 설정 (고유한 assembly_id 설정)\n",
    "assembly_df = df_past_normalized[['Assembly']].drop_duplicates().reset_index(drop=True)\n",
    "assembly_df['assembly_id'] = assembly_df.index + 1  # 고유 assembly_id 생성"
   ]
  },
  {
   "cell_type": "code",
   "execution_count": 17,
   "id": "0f76bbb5-cf60-458d-b58e-86e801ceaabf",
   "metadata": {},
   "outputs": [],
   "source": [
    "# Machinery와 Assembly를 매핑하여 assembly_df 확장 (machinery_id 추가)\n",
    "assembly_df = pd.merge(df_past_normalized[['Machinery', 'Assembly']].drop_duplicates(), assembly_df, on='Assembly', how='left')\n",
    "assembly_df = pd.merge(assembly_df, machinery_df, on='Machinery', how='left')"
   ]
  },
  {
   "cell_type": "code",
   "execution_count": 18,
   "id": "0eb0c852-8b75-45c5-8fda-3e59e8ddb7c3",
   "metadata": {},
   "outputs": [],
   "source": [
    "assembly_df['machinery_assembly_id'] = assembly_df.index + 1\n"
   ]
  },
  {
   "cell_type": "code",
   "execution_count": 17,
   "id": "ffbd41f9-bd00-45b6-a175-bd25c72ed6d9",
   "metadata": {},
   "outputs": [],
   "source": [
    "# 3. 청구품목 등 상세 테이블 생성 및 병합\n",
    "details_df = df_past_normalized[['Machinery', 'Assembly', '청구품목', 'Part No.1', '견적화폐', '견적단가', '발주처', '발주', '창고입고', '리드타임']]\n",
    "details_df = pd.merge(details_df, assembly_df, on=['Machinery', 'Assembly'], how='left')  # assembly_id와 machinery_id 추가\n"
   ]
  },
  {
   "cell_type": "code",
   "execution_count": 18,
   "id": "8ff5e8dc-4612-4bad-a58f-2cbb87c48013",
   "metadata": {},
   "outputs": [],
   "source": [
    "# 발주와 창고입고가 동일한 경우 중복 제거 (하나만 살리기)\n",
    "group_columns = ['machinery_id', 'assembly_id', '청구품목', 'Part No.1', '견적화폐', '견적단가', '발주처']\n",
    "details_df = details_df.drop_duplicates(subset=group_columns + ['발주', '창고입고'], keep='first')\n",
    "\n"
   ]
  },
  {
   "cell_type": "code",
   "execution_count": 21,
   "id": "b167ec69-e924-4d4a-836d-905ae39d91c7",
   "metadata": {},
   "outputs": [],
   "source": [
    "# 동일한 그룹에서 '발주'와 '창고입고'가 서로 다른 경우는 모두 살려둠\n",
    "grouped = details_df.groupby(group_columns)\n",
    "details_1002 = grouped.filter(lambda x: len(x[['발주', '창고입고']].drop_duplicates()) > 1)\n",
    "\n"
   ]
  },
  {
   "cell_type": "code",
   "execution_count": 22,
   "id": "3e42d75d-a686-4c43-9dbf-e64ccd18ce68",
   "metadata": {},
   "outputs": [],
   "source": [
    "machinery_df.to_csv('machinery_1002.csv', index=False, quotechar='\"', quoting=csv.QUOTE_MINIMAL)\n",
    "assembly_df.to_csv('assembly_1002.csv', index=False, quotechar='\"', quoting=csv.QUOTE_MINIMAL)\n",
    "details_1002.to_csv('details_1002.csv', index=False, quotechar='\"', quoting=csv.QUOTE_MINIMAL)"
   ]
  },
  {
   "cell_type": "code",
   "execution_count": 19,
   "id": "fc55469d-8cd2-4729-bfaf-a62ba479427f",
   "metadata": {},
   "outputs": [],
   "source": [
    "columns_1002 = [\n",
    "    'Machinery', 'Assembly', '청구품목', 'Part No.1', '견적화폐', '견적단가', '발주처'\n",
    "]\n",
    "\n",
    "# 해당 컬럼들만 선택하여 새로운 데이터프레임 생성\n",
    "df_1002 = df[columns_1002]"
   ]
  },
  {
   "cell_type": "code",
   "execution_count": 20,
   "id": "da6b3507-c69c-460b-9e79-a24fe3597c7d",
   "metadata": {},
   "outputs": [],
   "source": [
    "# 양쪽 공백만 제거한 데이터프레임 생성 (중간 공백은 유지)\n",
    "df_1002_normalized = df_1002.apply(lambda x: x.str.strip().str.upper() if x.dtype == \"object\" else x)\n"
   ]
  },
  {
   "cell_type": "code",
   "execution_count": 21,
   "id": "9fa95004-56ea-4e24-abdc-7899e0fe6d5c",
   "metadata": {},
   "outputs": [],
   "source": [
    "# 3. 청구품목 등 상세 테이블 생성 및 병합\n",
    "details_for_item = df_1002_normalized[['Machinery', 'Assembly', '청구품목', 'Part No.1', '견적화폐', '견적단가', '발주처']]\n",
    "details_for_item = pd.merge(details_for_item, assembly_df, on=['Machinery', 'Assembly'], how='left')  # assembly_id와 machinery_id 추가\n"
   ]
  },
  {
   "cell_type": "code",
   "execution_count": 22,
   "id": "38712c2c-16d1-4228-9d3a-10426c359230",
   "metadata": {},
   "outputs": [],
   "source": [
    "# 기존의 details_for_item에 machinery_assembly_id 추가\n",
    "details_for_item = pd.merge(details_for_item, assembly_df[['Machinery', 'Assembly', 'machinery_assembly_id']], on=['Machinery', 'Assembly'], how='left')\n"
   ]
  },
  {
   "cell_type": "code",
   "execution_count": 23,
   "id": "da0036b0-2817-4542-8a71-81579f1e8627",
   "metadata": {},
   "outputs": [],
   "source": [
    "# 모든 컬럼을 기준으로 그룹화하여 중복이 없는 항목들만 남기기\n",
    "group_columns = ['machinery_id', 'assembly_id', '청구품목', 'Part No.1', '견적화폐', '견적단가', '발주처']\n",
    "# 그룹 크기가 1인 항목만 필터링\n",
    "details_for_item_unique = details_for_item.groupby(group_columns).filter(lambda x: len(x) == 1)\n"
   ]
  },
  {
   "cell_type": "code",
   "execution_count": 24,
   "id": "36f0f79b-f6f5-4340-8726-375947e510bf",
   "metadata": {},
   "outputs": [],
   "source": [
    "# 최종 결과 확인 및 CSV 파일 생성\n",
    "details_for_item_unique.to_csv('item_1002_v0.2.csv', index=False, encoding='utf-8-sig')\n"
   ]
  },
  {
   "cell_type": "code",
   "execution_count": 25,
   "id": "a4fd1deb-0a6a-42ee-bd2a-a6b85956ec67",
   "metadata": {},
   "outputs": [],
   "source": [
    "\n",
    "assembly_df.to_json('assembly_1002_v0.2.json', orient='records', force_ascii=False)"
   ]
  },
  {
   "cell_type": "code",
   "execution_count": 26,
   "id": "dd08ab9a-b307-4b83-8a51-8471ce144b91",
   "metadata": {},
   "outputs": [],
   "source": [
    "assembly_df.to_csv('assembly_1002_v0.csv', index=False, quotechar='\"', quoting=csv.QUOTE_MINIMAL)\n"
   ]
  },
  {
   "cell_type": "code",
   "execution_count": 44,
   "id": "26a11959-2b15-4c37-a33b-b384b2ae0022",
   "metadata": {},
   "outputs": [],
   "source": [
    "# 최종 데이터프레임을 json 파일로 저장\n",
    "machinery_df.to_json('machinery1001.json', orient='records', force_ascii=False)\n"
   ]
  },
  {
   "cell_type": "code",
   "execution_count": 46,
   "id": "3821f389-0260-407d-84c3-e129b43446cc",
   "metadata": {},
   "outputs": [],
   "source": [
    "# CSV로 저장\n",
    "machinery_df.to_csv('machinery_df.csv', index=False, quotechar='\"', quoting=csv.QUOTE_MINIMAL)\n",
    "assembly_df.to_csv('assembly_df.csv', index=False, quotechar='\"', quoting=csv.QUOTE_MINIMAL)\n",
    "details_df_diff_dates.to_csv('details_df_diff_dates.csv', index=False, quotechar='\"', quoting=csv.QUOTE_MINIMAL)"
   ]
  },
  {
   "cell_type": "code",
   "execution_count": null,
   "id": "c0e08c05-b7f7-4d22-9eaf-e496c68c90eb",
   "metadata": {},
   "outputs": [],
   "source": []
  }
 ],
 "metadata": {
  "kernelspec": {
   "display_name": "Python (ship)",
   "language": "python",
   "name": "ship"
  },
  "language_info": {
   "codemirror_mode": {
    "name": "ipython",
    "version": 3
   },
   "file_extension": ".py",
   "mimetype": "text/x-python",
   "name": "python",
   "nbconvert_exporter": "python",
   "pygments_lexer": "ipython3",
   "version": "3.12.5"
  }
 },
 "nbformat": 4,
 "nbformat_minor": 5
}
