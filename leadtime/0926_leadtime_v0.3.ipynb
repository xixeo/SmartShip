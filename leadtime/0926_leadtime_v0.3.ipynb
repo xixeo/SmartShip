{
 "cells": [
  {
   "cell_type": "code",
   "execution_count": 2,
   "id": "496f2a9e-661c-4800-af46-a4eeefc9998f",
   "metadata": {},
   "outputs": [],
   "source": [
    "import pandas as pd\n",
    "import numpy as np\n",
    "import re\n",
    "import matplotlib.pyplot as plt\n",
    "\n",
    "from sklearn.model_selection import train_test_split\n",
    "from sklearn.preprocessing import LabelEncoder, OneHotEncoder\n",
    "from sklearn.ensemble import RandomForestClassifier\n",
    "from sklearn.metrics import classification_report, accuracy_score\n",
    "from transformers import BertTokenizer"
   ]
  },
  {
   "cell_type": "code",
   "execution_count": 47,
   "id": "ead46d44-e3c4-464b-9c55-8e68b61685f8",
   "metadata": {},
   "outputs": [],
   "source": [
    "df=pd.read_excel('dataset_filledsupplier_currency_orderday.xlsx')"
   ]
  },
  {
   "cell_type": "code",
   "execution_count": 48,
   "id": "05aef43a-0b3e-408b-ba95-70285b38f602",
   "metadata": {},
   "outputs": [
    {
     "name": "stdout",
     "output_type": "stream",
     "text": [
      "<class 'pandas.core.frame.DataFrame'>\n",
      "RangeIndex: 24621 entries, 0 to 24620\n",
      "Data columns (total 32 columns):\n",
      " #   Column       Non-Null Count  Dtype  \n",
      "---  ------       --------------  -----  \n",
      " 0   청구서번호        24621 non-null  object \n",
      " 1   No.          24621 non-null  int64  \n",
      " 2   Subject      24599 non-null  object \n",
      " 3   Machinery    24621 non-null  object \n",
      " 4   Assembly     24621 non-null  object \n",
      " 5   청구품목         24621 non-null  object \n",
      " 6   Unnamed: 6   0 non-null      float64\n",
      " 7   Part No.1    24602 non-null  object \n",
      " 8   Part No.2    3592 non-null   object \n",
      " 9   청구량          24517 non-null  float64\n",
      " 10  견적           24171 non-null  object \n",
      " 11  견적수량         24517 non-null  float64\n",
      " 12  견적화폐         24621 non-null  object \n",
      " 13  견적단가         24621 non-null  float64\n",
      " 14  발주번호         24621 non-null  object \n",
      " 15  발주처          24621 non-null  object \n",
      " 16  발주           24621 non-null  object \n",
      " 17  발주수량         24621 non-null  int64  \n",
      " 18  발주금액         24621 non-null  float64\n",
      " 19  D/T          22292 non-null  object \n",
      " 20  미입고 기간       1620 non-null   object \n",
      " 21  창고입고         21302 non-null  object \n",
      " 22  창고입고수량       24621 non-null  int64  \n",
      " 23  Control No.  15433 non-null  object \n",
      " 24  입고창고         21302 non-null  object \n",
      " 25  창고출고         19258 non-null  object \n",
      " 26  창고출고수량       24621 non-null  int64  \n",
      " 27  출고선박         19258 non-null  object \n",
      " 28  출고운반선        19258 non-null  object \n",
      " 29  선박입고         5374 non-null   object \n",
      " 30  선박입고수량       24621 non-null  int64  \n",
      " 31  완료 여부        5362 non-null   object \n",
      "dtypes: float64(5), int64(5), object(22)\n",
      "memory usage: 6.0+ MB\n"
     ]
    }
   ],
   "source": [
    "df.info()"
   ]
  },
  {
   "cell_type": "code",
   "execution_count": 49,
   "id": "eb2252db-28d5-446a-877e-e003fc04a134",
   "metadata": {},
   "outputs": [
    {
     "name": "stdout",
     "output_type": "stream",
     "text": [
      "81\n"
     ]
    }
   ],
   "source": [
    "print(len(df['발주처'].unique()))"
   ]
  },
  {
   "cell_type": "markdown",
   "id": "8fce6d15-4bb0-4aaa-8501-039d839b3bc4",
   "metadata": {},
   "source": [
    "## 클리닝"
   ]
  },
  {
   "cell_type": "code",
   "execution_count": 50,
   "id": "b2089545-cb02-4012-88a9-0da4869c274e",
   "metadata": {},
   "outputs": [
    {
     "name": "stdout",
     "output_type": "stream",
     "text": [
      "발주 일자는 있지만 미입고 기간, 창고 입고, 선박 입고도 없는 경우: 1699개\n",
      "삭제된 행의 개수: 1699개\n",
      "남은 데이터프레임의 크기: (22922, 32)\n"
     ]
    }
   ],
   "source": [
    "missing_conditions = df[\n",
    "    df['발주'].notnull() &  # 발주 일자는 비어있지 않음\n",
    "    df['미입고 기간'].isnull() &  # 미입고 기간은 비어있음\n",
    "    df['창고입고'].isnull() & # 창고 입고도 비어있음\n",
    "    df['선박입고'].isnull()  # 선박 입고도 비어있음\n",
    "\n",
    "]\n",
    "\n",
    "print(f\"발주 일자는 있지만 미입고 기간, 창고 입고, 선박 입고도 없는 경우: {len(missing_conditions)}개\")\n",
    "df = df.drop(missing_conditions.index)\n",
    "\n",
    "print(f\"삭제된 행의 개수: {len(missing_conditions)}개\")\n",
    "print(f\"남은 데이터프레임의 크기: {df.shape}\")"
   ]
  },
  {
   "cell_type": "code",
   "execution_count": 51,
   "id": "116fd26a-b562-4f62-a379-b2f3c8de8dce",
   "metadata": {},
   "outputs": [
    {
     "name": "stdout",
     "output_type": "stream",
     "text": [
      "창고 입고일은 없고 미입고 기간은 명시되어 있어 미입고 기간으로 분류해야 할 경우 : 1620개\n"
     ]
    }
   ],
   "source": [
    "#미입고기간으로 처리.\n",
    "missing_both = df[df['창고입고'].isnull() & df['미입고 기간'].notnull()]\n",
    "\n",
    "print(f\"창고 입고일은 없고 미입고 기간은 명시되어 있어 미입고 기간으로 분류해야 할 경우 : {len(missing_both)}개\")"
   ]
  },
  {
   "cell_type": "code",
   "execution_count": 59,
   "id": "ad7c6f0d-1824-4137-b59c-b9b42303c78b",
   "metadata": {},
   "outputs": [],
   "source": [
    "df = df[df['미입고 기간'].isnull()]\n",
    "\n",
    "df['발주'] = pd.to_datetime(df['발주'], errors='coerce')\n",
    "df['창고입고'] = pd.to_datetime(df['창고입고'], errors='coerce')\n",
    "\n",
    "# 리드타임 계산\n",
    "df['리드타임'] = (df['창고입고'] - df['발주']).dt.days\n",
    "df['리드타임'] = df['리드타임'].apply(lambda x: 1 if x == 0 else x)\n",
    "df = df[(df['리드타임'] > 1 ) & (df['리드타임'] < 200)]\n",
    "df = df.dropna(subset=['창고입고'])"
   ]
  },
  {
   "cell_type": "code",
   "execution_count": 61,
   "id": "0068e50e-6ccf-4ca2-b1fb-402ba3c01e81",
   "metadata": {},
   "outputs": [
    {
     "name": "stdout",
     "output_type": "stream",
     "text": [
      "          발주       창고입고\n",
      "0 2019-01-11 2019-05-03\n",
      "1 2019-01-11 2019-04-18\n",
      "2 2019-01-11 2019-05-03\n",
      "5 2019-06-03 2019-06-15\n",
      "6 2019-06-03 2019-06-15 0\n"
     ]
    }
   ],
   "source": [
    "print(df[['발주', '창고입고']].head(), df['창고입고'].isnull().sum())"
   ]
  },
  {
   "cell_type": "code",
   "execution_count": 41,
   "id": "30de58f1-7565-4f8d-90f2-a6c887b95e0e",
   "metadata": {},
   "outputs": [
    {
     "name": "stdout",
     "output_type": "stream",
     "text": [
      "Index(['청구서번호', 'No.', 'Subject', 'Machinery', 'Assembly', '청구품목',\n",
      "       'Unnamed: 6', 'Part No.1', 'Part No.2', '청구량', '견적', '견적수량', '견적화폐',\n",
      "       '견적단가', '발주번호', '발주처', '발주', '발주수량', '발주금액', 'D/T', '미입고 기간', '창고입고',\n",
      "       '창고입고수량', 'Control No.', '입고창고', '창고출고', '창고출고수량', '출고선박', '출고운반선',\n",
      "       '선박입고', '선박입고수량', '완료 여부', 'cleaned_machinery', 'cleaned_assembly',\n",
      "       'cleaned_item', 'machinery_assembly', '리드타임', 'machinery_avg_leadtime',\n",
      "       'assembly_avg_leadtime', '리드타임_supplier_avg', '리드타임_avg'],\n",
      "      dtype='object')\n"
     ]
    }
   ],
   "source": [
    "print(df.columns)\n",
    "df['리드타임'] = df['리드타임'].astype(float)  # 필요시 데이터 타입 변환\n"
   ]
  },
  {
   "cell_type": "code",
   "execution_count": 66,
   "id": "170138d8-a35a-4332-9e89-b80c9db7e196",
   "metadata": {},
   "outputs": [
    {
     "name": "stdout",
     "output_type": "stream",
     "text": [
      "(19330, 34)\n"
     ]
    }
   ],
   "source": [
    "\n",
    "# 2019년 ~ 2022년 공휴일 리스트\n",
    "holidays = [\n",
    "    '2019-01-01', '2019-02-04', '2019-02-05', '2019-02-06', '2019-03-01', \n",
    "    '2019-05-05', '2019-05-06', '2019-06-06', '2019-08-15', '2019-09-12', \n",
    "    '2019-09-13', '2019-10-03', '2019-10-09', '2019-12-25',\n",
    "    '2020-01-01', '2020-01-24', '2020-01-25', '2020-01-26', '2020-03-01', \n",
    "    '2020-05-05', '2020-06-06', '2020-08-15', '2020-10-01', '2020-10-02', \n",
    "    '2020-10-03', '2020-10-09', '2020-12-25',\n",
    "    '2021-01-01', '2021-02-11', '2021-02-12', '2021-02-13', '2021-03-01',\n",
    "    '2021-05-05', '2021-06-06', '2021-08-15', '2021-09-20', '2021-09-21',\n",
    "    '2021-09-22', '2021-10-03', '2021-10-09', '2021-12-25',\n",
    "    '2022-01-01', '2022-01-31', '2022-02-01', '2022-02-02', '2022-03-01',\n",
    "    '2022-05-05', '2022-06-06', '2022-08-15', '2022-09-09', '2022-09-10',\n",
    "    '2022-09-11', '2022-10-03', '2022-10-09', '2022-12-25'\n",
    "]\n",
    "holidays = pd.to_datetime(holidays)\n",
    "\n",
    "def calculate_working_days(row, holidays):\n",
    "    if pd.notna(row['발주']) and pd.notna(row['창고입고']):\n",
    "        try:\n",
    "            return np.busday_count(row['발주'].date(), row['창고입고'].date(), holidays=holidays)\n",
    "        except Exception as e:\n",
    "            return np.nan\n",
    "    else:\n",
    "        return np.nan\n",
    "\n",
    "# 근무일 계산 적용\n",
    "df['working_days'] = df.apply(calculate_working_days, holidays=holidays, axis=1)\n",
    "print(df.shape)"
   ]
  },
  {
   "cell_type": "code",
   "execution_count": 71,
   "id": "c9270a3e-fe22-4884-a4f6-6a909ee3dfd9",
   "metadata": {},
   "outputs": [],
   "source": [
    "# 월(month), 요일(day of the week) 추출\n",
    "df['month'] = df['창고입고'].dt.month\n",
    "df['day_of_week'] = df['창고입고'].dt.dayofweek\n",
    "# 'month'와 'day_of_week' 열을 OneHotEncoding하여 수치형 피처로 변환\n",
    "df = pd.get_dummies(df, columns=['month', 'day_of_week'], drop_first=True)\n",
    "# 계절(season) 추출 (3월~5월: 봄, 6월~8월: 여름, 9월~11월: 가을, 12월~2월: 겨울)\n",
    "def get_season(date):\n",
    "    month = date.month\n",
    "    if month in [3, 4, 5]:\n",
    "        return '봄'\n",
    "    elif month in [6, 7, 8]:\n",
    "        return '여름'\n",
    "    elif month in [9, 10, 11]:\n",
    "        return '가을'\n",
    "    else:\n",
    "        return '겨울'\n",
    "\n",
    "df['season'] = df['창고입고'].apply(get_season)\n",
    "\n",
    "# 'season' 열을 OneHotEncoding하여 수치형 피처로 변환\n",
    "df = pd.get_dummies(df, columns=['season'], drop_first=True)"
   ]
  },
  {
   "cell_type": "code",
   "execution_count": 67,
   "id": "b81e9c88-d80d-45b4-b343-f433a440d48b",
   "metadata": {},
   "outputs": [],
   "source": [
    "import re\n",
    "\n",
    "def preprocess_text(text):\n",
    "    text = text.lower()\n",
    "    text = re.sub(r'\\([^)]*\\)', '', text)\n",
    "    text = re.sub(r'[^\\w\\s\\*/\\-\\+.,#&]', '', text)\n",
    "    text = re.sub(r'\\s+', ' ', text)\n",
    "    text = re.sub(r'\\b(사용금지|사)\\b', '', text, flags=re.IGNORECASE)\n",
    "    text = text.strip()\n",
    "    return text\n",
    "\n",
    "def clean_supplier_name(name):\n",
    "    name = name.lower()\n",
    "    name = re.sub(r'coporation|coropration|coproration|corporration', 'corporation', name)\n",
    "    name = re.sub(r'\\(사용금지\\)', '', name)\n",
    "    name = re.sub(r'u\\.s\\.a', '_usa', name)\n",
    "    name = re.sub(r'\\.', '', name)\n",
    "    suffixes = r'(corporation|corp|company|co|incorporated|inc|limited|ltd|상사|공사|엔지니어링|주식회사|주|gmbh|pte ltd|llc)'\n",
    "    name = re.sub(suffixes, '', name, flags=re.IGNORECASE)\n",
    "    name = re.sub(r'[^\\w\\s-]', '', name)\n",
    "    name = re.sub(r'\\s+', ' ', name).strip()\n",
    "    return name\n",
    "\n"
   ]
  },
  {
   "cell_type": "code",
   "execution_count": 68,
   "id": "a63d029f-ffd7-4ee0-b01d-832decf0b7a4",
   "metadata": {},
   "outputs": [],
   "source": [
    "\n",
    "text_columns = ['Machinery', 'Assembly', '청구품목']\n",
    "\n",
    "for col in text_columns:\n",
    "    df[col] = df[col].astype(str)\n",
    "df['cleaned_machinery'] = df['Machinery'].apply(preprocess_text)\n",
    "df['cleaned_assembly'] = df['Assembly'].apply(preprocess_text)\n",
    "df['cleaned_item'] = df['청구품목'].apply(preprocess_text)"
   ]
  },
  {
   "cell_type": "code",
   "execution_count": 73,
   "id": "1894f939-32f5-428b-b4db-9213b334e072",
   "metadata": {},
   "outputs": [],
   "source": [
    "# Machinery별 평균 리드타임 계산\n",
    "machinery_avg_leadtime = df.groupby('cleaned_machinery')['리드타임'].mean().reset_index()\n",
    "machinery_avg_leadtime.rename(columns={'리드타임': 'machinery_avg_leadtime'}, inplace=True)\n",
    "\n",
    "# 데이터프레임에 평균 리드타임 추가\n",
    "df = df.merge(machinery_avg_leadtime, on='cleaned_machinery', how='left')\n",
    "\n",
    "# Assembly별 평균 리드타임 계산\n",
    "#assembly_avg_leadtime = df.groupby('cleaned_assembly')['리드타임'].mean().reset_index()\n",
    "#assembly_avg_leadtime.rename(columns={'리드타임': 'assembly_avg_leadtime'}, inplace=True)\n",
    "\n",
    "# 데이터프레임에 평균 리드타임 추가\n",
    "#df = df.merge(assembly_avg_leadtime, on='cleaned_assembly', how='left')"
   ]
  },
  {
   "cell_type": "code",
   "execution_count": 74,
   "id": "c6e7d398-a8cc-4eab-bdf4-ec5caffbc44f",
   "metadata": {},
   "outputs": [],
   "source": [
    "df['machinery_assembly'] = df['cleaned_machinery'] + \" & \" + df['cleaned_assembly']\n",
    "\n",
    "# 조합에 따른 평균 리드타임 계산\n",
    "assembly_machinery_avg_leadtime = df.groupby('machinery_assembly')['리드타임'].mean().reset_index()\n",
    "\n",
    "# 데이터프레임에 평균 리드타임 추가\n",
    "df = df.merge(assembly_machinery_avg_leadtime, on='machinery_assembly', how='left', suffixes=('', '_avg'))"
   ]
  },
  {
   "cell_type": "code",
   "execution_count": 75,
   "id": "2d0a84c2-46f7-4c0c-b266-11a1b8124592",
   "metadata": {},
   "outputs": [],
   "source": [
    "# 발주처별 평균 리드타임 계산\n",
    "supplier_leadtime_avg = df.groupby('발주처')['리드타임'].mean().reset_index()\n",
    "\n",
    "# 원본 데이터프레임에 추가\n",
    "df = df.merge(supplier_leadtime_avg, on='발주처', how='left', suffixes=('', '_supplier_avg'))"
   ]
  },
  {
   "cell_type": "code",
   "execution_count": 40,
   "id": "74c885e4-868c-4225-af2b-d0d53b365913",
   "metadata": {},
   "outputs": [
    {
     "data": {
      "text/html": [
       "<div>\n",
       "<style scoped>\n",
       "    .dataframe tbody tr th:only-of-type {\n",
       "        vertical-align: middle;\n",
       "    }\n",
       "\n",
       "    .dataframe tbody tr th {\n",
       "        vertical-align: top;\n",
       "    }\n",
       "\n",
       "    .dataframe thead th {\n",
       "        text-align: right;\n",
       "    }\n",
       "</style>\n",
       "<table border=\"1\" class=\"dataframe\">\n",
       "  <thead>\n",
       "    <tr style=\"text-align: right;\">\n",
       "      <th></th>\n",
       "      <th>Machinery</th>\n",
       "      <th>Assembly</th>\n",
       "      <th>리드타임</th>\n",
       "      <th>발주처</th>\n",
       "      <th>machinery_avg_leadtime</th>\n",
       "      <th>리드타임_supplier_avg</th>\n",
       "      <th>리드타임_avg</th>\n",
       "    </tr>\n",
       "  </thead>\n",
       "  <tbody>\n",
       "    <tr>\n",
       "      <th>0</th>\n",
       "      <td>CARGO BOOM VANG BLOCK (STBD 하)</td>\n",
       "      <td>BLOCK</td>\n",
       "      <td>112.0</td>\n",
       "      <td>MATSUI(U.S.A) COROPRATION</td>\n",
       "      <td>98.333333</td>\n",
       "      <td>90.609616</td>\n",
       "      <td>102.000000</td>\n",
       "    </tr>\n",
       "    <tr>\n",
       "      <th>1</th>\n",
       "      <td>SPANISH BOOM VANG BLOCK (PORT 상)</td>\n",
       "      <td>BLOCK</td>\n",
       "      <td>97.0</td>\n",
       "      <td>MATSUI(U.S.A) COROPRATION</td>\n",
       "      <td>72.000000</td>\n",
       "      <td>90.609616</td>\n",
       "      <td>63.750000</td>\n",
       "    </tr>\n",
       "    <tr>\n",
       "      <th>2</th>\n",
       "      <td>PURSE BLOCK</td>\n",
       "      <td>TOW BLOCK</td>\n",
       "      <td>112.0</td>\n",
       "      <td>MATSUI(U.S.A) COROPRATION</td>\n",
       "      <td>100.000000</td>\n",
       "      <td>90.609616</td>\n",
       "      <td>91.333333</td>\n",
       "    </tr>\n",
       "    <tr>\n",
       "      <th>3</th>\n",
       "      <td>NET</td>\n",
       "      <td>H-EX</td>\n",
       "      <td>12.0</td>\n",
       "      <td>KTI</td>\n",
       "      <td>16.627119</td>\n",
       "      <td>18.484472</td>\n",
       "      <td>16.642857</td>\n",
       "    </tr>\n",
       "    <tr>\n",
       "      <th>4</th>\n",
       "      <td>NET</td>\n",
       "      <td>NYLON</td>\n",
       "      <td>12.0</td>\n",
       "      <td>KTI</td>\n",
       "      <td>16.627119</td>\n",
       "      <td>18.484472</td>\n",
       "      <td>12.190476</td>\n",
       "    </tr>\n",
       "    <tr>\n",
       "      <th>5</th>\n",
       "      <td>NET</td>\n",
       "      <td>NYLON</td>\n",
       "      <td>12.0</td>\n",
       "      <td>KTI</td>\n",
       "      <td>16.627119</td>\n",
       "      <td>18.484472</td>\n",
       "      <td>12.190476</td>\n",
       "    </tr>\n",
       "    <tr>\n",
       "      <th>6</th>\n",
       "      <td>NET</td>\n",
       "      <td>NYLON</td>\n",
       "      <td>12.0</td>\n",
       "      <td>KTI</td>\n",
       "      <td>16.627119</td>\n",
       "      <td>18.484472</td>\n",
       "      <td>12.190476</td>\n",
       "    </tr>\n",
       "    <tr>\n",
       "      <th>7</th>\n",
       "      <td>NET</td>\n",
       "      <td>NYLON</td>\n",
       "      <td>12.0</td>\n",
       "      <td>KTI</td>\n",
       "      <td>16.627119</td>\n",
       "      <td>18.484472</td>\n",
       "      <td>12.190476</td>\n",
       "    </tr>\n",
       "    <tr>\n",
       "      <th>8</th>\n",
       "      <td>NET</td>\n",
       "      <td>NYLON</td>\n",
       "      <td>12.0</td>\n",
       "      <td>KTI</td>\n",
       "      <td>16.627119</td>\n",
       "      <td>18.484472</td>\n",
       "      <td>12.190476</td>\n",
       "    </tr>\n",
       "    <tr>\n",
       "      <th>9</th>\n",
       "      <td>NET</td>\n",
       "      <td>H-EX</td>\n",
       "      <td>12.0</td>\n",
       "      <td>KTI</td>\n",
       "      <td>16.627119</td>\n",
       "      <td>18.484472</td>\n",
       "      <td>16.642857</td>\n",
       "    </tr>\n",
       "    <tr>\n",
       "      <th>10</th>\n",
       "      <td>NET</td>\n",
       "      <td>H-EX</td>\n",
       "      <td>12.0</td>\n",
       "      <td>KTI</td>\n",
       "      <td>16.627119</td>\n",
       "      <td>18.484472</td>\n",
       "      <td>16.642857</td>\n",
       "    </tr>\n",
       "    <tr>\n",
       "      <th>11</th>\n",
       "      <td>NET</td>\n",
       "      <td>H-EX</td>\n",
       "      <td>12.0</td>\n",
       "      <td>KTI</td>\n",
       "      <td>16.627119</td>\n",
       "      <td>18.484472</td>\n",
       "      <td>16.642857</td>\n",
       "    </tr>\n",
       "    <tr>\n",
       "      <th>12</th>\n",
       "      <td>SAMSON ROPE</td>\n",
       "      <td>SAMSON ROPE</td>\n",
       "      <td>12.0</td>\n",
       "      <td>KTI</td>\n",
       "      <td>23.680851</td>\n",
       "      <td>18.484472</td>\n",
       "      <td>23.680851</td>\n",
       "    </tr>\n",
       "    <tr>\n",
       "      <th>13</th>\n",
       "      <td>WIRE ROPE</td>\n",
       "      <td>WIRE ROPE</td>\n",
       "      <td>30.0</td>\n",
       "      <td>대광기업(주)</td>\n",
       "      <td>19.659794</td>\n",
       "      <td>22.445545</td>\n",
       "      <td>20.552632</td>\n",
       "    </tr>\n",
       "    <tr>\n",
       "      <th>14</th>\n",
       "      <td>WIRE ROPE</td>\n",
       "      <td>WIRE ROPE</td>\n",
       "      <td>30.0</td>\n",
       "      <td>대광기업(주)</td>\n",
       "      <td>19.659794</td>\n",
       "      <td>22.445545</td>\n",
       "      <td>20.552632</td>\n",
       "    </tr>\n",
       "    <tr>\n",
       "      <th>15</th>\n",
       "      <td>WIRE ROPE</td>\n",
       "      <td>WIRE ROPE</td>\n",
       "      <td>30.0</td>\n",
       "      <td>대광기업(주)</td>\n",
       "      <td>19.659794</td>\n",
       "      <td>22.445545</td>\n",
       "      <td>20.552632</td>\n",
       "    </tr>\n",
       "    <tr>\n",
       "      <th>16</th>\n",
       "      <td>WIRE ROPE</td>\n",
       "      <td>WIRE ROPE</td>\n",
       "      <td>30.0</td>\n",
       "      <td>대광기업(주)</td>\n",
       "      <td>19.659794</td>\n",
       "      <td>22.445545</td>\n",
       "      <td>20.552632</td>\n",
       "    </tr>\n",
       "    <tr>\n",
       "      <th>17</th>\n",
       "      <td>MAIN BOOM DOUBLE BLOCK(하)</td>\n",
       "      <td>BLOCK</td>\n",
       "      <td>23.0</td>\n",
       "      <td>대광기업(주)</td>\n",
       "      <td>25.900000</td>\n",
       "      <td>22.445545</td>\n",
       "      <td>24.000000</td>\n",
       "    </tr>\n",
       "    <tr>\n",
       "      <th>18</th>\n",
       "      <td>WIRE ROPE</td>\n",
       "      <td>WIRE ROPE</td>\n",
       "      <td>46.0</td>\n",
       "      <td>대광기업(주)</td>\n",
       "      <td>19.659794</td>\n",
       "      <td>22.445545</td>\n",
       "      <td>20.552632</td>\n",
       "    </tr>\n",
       "    <tr>\n",
       "      <th>19</th>\n",
       "      <td>WIRE ROPE</td>\n",
       "      <td>WIRE ROPE</td>\n",
       "      <td>46.0</td>\n",
       "      <td>대광기업(주)</td>\n",
       "      <td>19.659794</td>\n",
       "      <td>22.445545</td>\n",
       "      <td>20.552632</td>\n",
       "    </tr>\n",
       "  </tbody>\n",
       "</table>\n",
       "</div>"
      ],
      "text/plain": [
       "                           Machinery     Assembly   리드타임  \\\n",
       "0     CARGO BOOM VANG BLOCK (STBD 하)        BLOCK  112.0   \n",
       "1   SPANISH BOOM VANG BLOCK (PORT 상)        BLOCK   97.0   \n",
       "2                        PURSE BLOCK    TOW BLOCK  112.0   \n",
       "3                                NET         H-EX   12.0   \n",
       "4                                NET        NYLON   12.0   \n",
       "5                                NET        NYLON   12.0   \n",
       "6                                NET        NYLON   12.0   \n",
       "7                                NET        NYLON   12.0   \n",
       "8                                NET        NYLON   12.0   \n",
       "9                                NET         H-EX   12.0   \n",
       "10                               NET         H-EX   12.0   \n",
       "11                               NET         H-EX   12.0   \n",
       "12                       SAMSON ROPE  SAMSON ROPE   12.0   \n",
       "13                         WIRE ROPE    WIRE ROPE   30.0   \n",
       "14                         WIRE ROPE    WIRE ROPE   30.0   \n",
       "15                         WIRE ROPE    WIRE ROPE   30.0   \n",
       "16                         WIRE ROPE    WIRE ROPE   30.0   \n",
       "17         MAIN BOOM DOUBLE BLOCK(하)        BLOCK   23.0   \n",
       "18                         WIRE ROPE    WIRE ROPE   46.0   \n",
       "19                         WIRE ROPE    WIRE ROPE   46.0   \n",
       "\n",
       "                          발주처  machinery_avg_leadtime  리드타임_supplier_avg  \\\n",
       "0   MATSUI(U.S.A) COROPRATION               98.333333          90.609616   \n",
       "1   MATSUI(U.S.A) COROPRATION               72.000000          90.609616   \n",
       "2   MATSUI(U.S.A) COROPRATION              100.000000          90.609616   \n",
       "3                         KTI               16.627119          18.484472   \n",
       "4                         KTI               16.627119          18.484472   \n",
       "5                         KTI               16.627119          18.484472   \n",
       "6                         KTI               16.627119          18.484472   \n",
       "7                         KTI               16.627119          18.484472   \n",
       "8                         KTI               16.627119          18.484472   \n",
       "9                         KTI               16.627119          18.484472   \n",
       "10                        KTI               16.627119          18.484472   \n",
       "11                        KTI               16.627119          18.484472   \n",
       "12                        KTI               23.680851          18.484472   \n",
       "13                    대광기업(주)               19.659794          22.445545   \n",
       "14                    대광기업(주)               19.659794          22.445545   \n",
       "15                    대광기업(주)               19.659794          22.445545   \n",
       "16                    대광기업(주)               19.659794          22.445545   \n",
       "17                    대광기업(주)               25.900000          22.445545   \n",
       "18                    대광기업(주)               19.659794          22.445545   \n",
       "19                    대광기업(주)               19.659794          22.445545   \n",
       "\n",
       "      리드타임_avg  \n",
       "0   102.000000  \n",
       "1    63.750000  \n",
       "2    91.333333  \n",
       "3    16.642857  \n",
       "4    12.190476  \n",
       "5    12.190476  \n",
       "6    12.190476  \n",
       "7    12.190476  \n",
       "8    12.190476  \n",
       "9    16.642857  \n",
       "10   16.642857  \n",
       "11   16.642857  \n",
       "12   23.680851  \n",
       "13   20.552632  \n",
       "14   20.552632  \n",
       "15   20.552632  \n",
       "16   20.552632  \n",
       "17   24.000000  \n",
       "18   20.552632  \n",
       "19   20.552632  "
      ]
     },
     "execution_count": 40,
     "metadata": {},
     "output_type": "execute_result"
    }
   ],
   "source": [
    "df[['Machinery','Assembly','리드타임', '발주처', 'machinery_avg_leadtime','리드타임_supplier_avg', '리드타임_avg']].head(20)"
   ]
  },
  {
   "cell_type": "code",
   "execution_count": 76,
   "id": "51166f8a-d406-4d21-a813-487b919f0a3b",
   "metadata": {},
   "outputs": [
    {
     "name": "stdout",
     "output_type": "stream",
     "text": [
      "                청구서번호  No.                                  Subject  \\\n",
      "0  COK-BS-DSP-1901004    1                     COK-F-DECK-190104-01   \n",
      "1  COK-BS-DSP-1901004    2                     COK-F-DECK-190104-01   \n",
      "2  COK-BS-DSP-1901004    3                     COK-F-DECK-190104-01   \n",
      "3  COK-BS-DSP-1906004    1  COK-D-DECK-190527-02, NET 및 SAMSON ROPE   \n",
      "4  COK-BS-DSP-1906004    2  COK-D-DECK-190527-02, NET 및 SAMSON ROPE   \n",
      "\n",
      "                          Machinery   Assembly  \\\n",
      "0    CARGO BOOM VANG BLOCK (STBD 하)      BLOCK   \n",
      "1  SPANISH BOOM VANG BLOCK (PORT 상)      BLOCK   \n",
      "2                       PURSE BLOCK  TOW BLOCK   \n",
      "3                               NET       H-EX   \n",
      "4                               NET      NYLON   \n",
      "\n",
      "                                               청구품목  Unnamed: 6  \\\n",
      "0  MCKISSICK CONSTRUCTION BLOCKS (WIRE SIZE : 5/8\")         NaN   \n",
      "1  MCKISSICK CONSTRUCTION BLOCKS (WIRE SIZE : 5/8\")         NaN   \n",
      "2                            WESTEC 20TON TOW BLOCK         NaN   \n",
      "3                 H-EX #30 * 4 1/4\", 100MD * 120FMS         NaN   \n",
      "4                 NYLON #54 * 4 1/4\", 100MD * 50FMS         NaN   \n",
      "\n",
      "                     Part No.1 Part No.2  청구량  ... day_of_week_4  \\\n",
      "0                     C15S10BS   2103170  2.0  ...          True   \n",
      "1                     C15D10BS   2103180  1.0  ...         False   \n",
      "2       WESTEC 20TON TOW BLOCK       NaN  1.0  ...          True   \n",
      "3   HEX#30X4 1/4\"X100MDX120FMS       NaN  2.0  ...         False   \n",
      "4  NYLON#54X4-1/4\"X100MDX50FMS       NaN  1.0  ...         False   \n",
      "\n",
      "   day_of_week_5 day_of_week_6  season_겨울 season_봄 season_여름  \\\n",
      "0          False         False      False     True     False   \n",
      "1          False         False      False     True     False   \n",
      "2          False         False      False     True     False   \n",
      "3           True         False      False    False      True   \n",
      "4           True         False      False    False      True   \n",
      "\n",
      "  machinery_avg_leadtime_y  assembly_avg_leadtime_y    리드타임_avg  \\\n",
      "0                98.333333                43.724138  102.000000   \n",
      "1                72.000000                43.724138   63.750000   \n",
      "2               100.000000                91.333333   91.333333   \n",
      "3                16.627119                16.642857   16.642857   \n",
      "4                16.627119                12.190476   12.190476   \n",
      "\n",
      "  리드타임_supplier_avg  \n",
      "0         90.609616  \n",
      "1         90.609616  \n",
      "2         90.609616  \n",
      "3         18.484472  \n",
      "4         18.484472  \n",
      "\n",
      "[5 rows x 65 columns]\n"
     ]
    }
   ],
   "source": [
    "print(df.head())\n"
   ]
  },
  {
   "cell_type": "markdown",
   "id": "315aaac3-23bc-4114-aa65-724a5fdaac0d",
   "metadata": {},
   "source": [
    "### 리드타임 예측 (회귀)\n",
    "1. 텍스트 칼럼 결합 및 BERT 임베딩\n",
    "2. ( 수치형 데이터(견적단가 및 발주량) Scaling )\n",
    "3. 범주형 데이터(견적화폐) onehotEncoding\n",
    "4. 모델의 입력, 2.3데이터 결합 => 리드타임 예측"
   ]
  },
  {
   "cell_type": "code",
   "execution_count": 77,
   "id": "000ba884-3eaa-4a6e-9b57-6e43cc96453c",
   "metadata": {},
   "outputs": [
    {
     "name": "stdout",
     "output_type": "stream",
     "text": [
      "Word2Vec Machinery Shape: (19330, 100)\n",
      "Word2Vec Assembly Shape: (19330, 100)\n"
     ]
    }
   ],
   "source": [
    "from gensim.models import Word2Vec\n",
    "\n",
    "# 데이터 전처리 후 토큰화 (문장을 단어 리스트로 변환)\n",
    "machinery_sentences = [text.split() for text in df['cleaned_machinery']]\n",
    "assembly_sentences = [text.split() for text in df['cleaned_assembly']]\n",
    "#item_sentences = [text.split() for text in df['cleaned_item']]\n",
    "\n",
    "# 각각의 Word2Vec 모델 학습\n",
    "word2vec_machinery = Word2Vec(sentences=machinery_sentences, vector_size=100, window=5, min_count=1, workers=4)\n",
    "word2vec_assembly = Word2Vec(sentences=assembly_sentences, vector_size=100, window=5, min_count=1, workers=4)\n",
    "#word2vec_item = Word2Vec(sentences=item_sentences, vector_size=100, window=5, min_count=1, workers=4)\n",
    "\n",
    "# 각 텍스트에 대한 벡터 평균값 계산 (문장 단위로 벡터를 평균화하여 문장 벡터 생성)\n",
    "def sentence_vector(sentence, model):\n",
    "    vectors = [model.wv[word] for word in sentence if word in model.wv]\n",
    "    if len(vectors) > 0:\n",
    "        return np.mean(vectors, axis=0)\n",
    "    else:\n",
    "        return np.zeros(model.vector_size)\n",
    "\n",
    "# 각 컬럼별로 벡터화\n",
    "machinery_vectors = np.array([sentence_vector(sentence, word2vec_machinery) for sentence in machinery_sentences])\n",
    "assembly_vectors = np.array([sentence_vector(sentence, word2vec_assembly) for sentence in assembly_sentences])\n",
    "#item_vectors = np.array([sentence_vector(sentence, word2vec_item) for sentence in item_sentences])\n",
    "\n",
    "# 결과 확인\n",
    "print(f\"Word2Vec Machinery Shape: {machinery_vectors.shape}\")\n",
    "print(f\"Word2Vec Assembly Shape: {assembly_vectors.shape}\")\n",
    "#print(f\"Word2Vec Item Shape: {item_vectors.shape}\")"
   ]
  },
  {
   "cell_type": "code",
   "execution_count": 17,
   "id": "2afba987-9259-427d-ac6a-05ea121a8136",
   "metadata": {},
   "outputs": [],
   "source": [
    "#!conda install conda-forge::category_encoders -y"
   ]
  },
  {
   "cell_type": "code",
   "execution_count": 78,
   "id": "82bdffaa-87cb-4e6b-9507-4ed95e9cf4b1",
   "metadata": {},
   "outputs": [],
   "source": [
    "from sklearn.preprocessing import MinMaxScaler\n",
    "\n",
    "# 1. 수치형 피처 스케일링\n",
    "scaler = MinMaxScaler()\n",
    "\n",
    "# 수치형 피처 (리드타임 관련 피처들) 스케일링\n",
    "numerical_features = df[['machinery_avg_leadtime_y', '리드타임_avg', '리드타임_supplier_avg']].values\n",
    "scaled_numerical_features = scaler.fit_transform(numerical_features)"
   ]
  },
  {
   "cell_type": "code",
   "execution_count": 79,
   "id": "ff0a7b11-64a8-41f9-8de3-7d955f098f4a",
   "metadata": {},
   "outputs": [],
   "source": [
    "# 2. 요일과 계절 One-Hot-Encoding (이미 더미 처리된 값들)\n",
    "day_of_week_features = df.filter(like='day_of_week_').values\n",
    "season_features = df.filter(like='season_').values"
   ]
  },
  {
   "cell_type": "code",
   "execution_count": 80,
   "id": "56778ad5-1f42-4152-96ef-cb8717d96a10",
   "metadata": {},
   "outputs": [],
   "source": [
    "\n",
    "# 3. 견적화폐 One-Hot-Encoding\n",
    "currency_ohe = OneHotEncoder(sparse_output=False)\n",
    "currency_encoded = currency_ohe.fit_transform(df[['견적화폐']])\n"
   ]
  },
  {
   "cell_type": "markdown",
   "id": "8ea612f1-3192-4263-bccb-40dc435ebd1d",
   "metadata": {},
   "source": [
    "### 데이터 분할\n"
   ]
  },
  {
   "cell_type": "code",
   "execution_count": 85,
   "id": "9aa50697-89e1-48eb-9928-7e75f8a7c262",
   "metadata": {},
   "outputs": [
    {
     "name": "stdout",
     "output_type": "stream",
     "text": [
      "Shape of word2vec_machinery: (19330, 100)\n",
      "Shape of word2vec_assembly: (19330, 100)\n",
      "Shape of word2vec_combined: (19330, 200)\n",
      "Shape of X: (19330, 217)\n"
     ]
    }
   ],
   "source": [
    "from sklearn.preprocessing import OneHotEncoder, StandardScaler, MinMaxScaler\n",
    "import numpy as np\n",
    "from scipy.sparse import hstack\n",
    "\n",
    "# word2vec_machinery와 word2vec_assembly의 차원 확인\n",
    "print(f\"Shape of word2vec_machinery: {machinery_vectors.shape}\")\n",
    "print(f\"Shape of word2vec_assembly: {assembly_vectors.shape}\")\n",
    "\n",
    "# Word2Vec 임베딩 배열 차원 수정\n",
    "# (19330, 100) 형태의 배열 두 개를 가로로 결합하여 (19330, 200) 형태로 만들기\n",
    "word2vec_combined = np.hstack((machinery_vectors, assembly_vectors))\n",
    "\n",
    "# 크기 확인\n",
    "print(f\"Shape of word2vec_combined: {word2vec_combined.shape}\")\n",
    "\n",
    "# 모든 배열의 첫 번째 차원 (행 수)이 일치하는지 확인 후 결합\n",
    "if word2vec_combined.shape[0] == scaled_numerical_features.shape[0]:\n",
    "    # 모든 피처 결합 (수치형 + 요일/계절 OHE + 견적화폐 OHE + Word2Vec 임베딩)\n",
    "    X = np.hstack((\n",
    "        scaled_numerical_features,  # 스케일링된 수치형 피처들\n",
    "        day_of_week_features,  # 요일 One-Hot-Encoding 피처\n",
    "        season_features,  # 계절 One-Hot-Encoding 피처\n",
    "        currency_encoded,  # 견적화폐 One-Hot-Encoding 피처\n",
    "        word2vec_combined  # Word2Vec 임베딩 피처들\n",
    "    ))\n",
    "    \n",
    "    print(f\"Shape of X: {X.shape}\")\n",
    "    "
   ]
  },
  {
   "cell_type": "code",
   "execution_count": 86,
   "id": "154a9140-d5fe-4a7a-aaaf-f5fc53377a62",
   "metadata": {},
   "outputs": [],
   "source": [
    "import torch\n",
    "import torch.nn as nn\n",
    "import torch.optim as optim\n",
    "from torch.utils.data import DataLoader, TensorDataset\n",
    "from sklearn.model_selection import train_test_split\n",
    "y = df['리드타임'].values\n",
    "\n",
    "X_train, X_test, y_train, y_test = train_test_split(X, y, test_size=0.2, random_state=42)\n"
   ]
  },
  {
   "cell_type": "code",
   "execution_count": 87,
   "id": "5a160f3d-32a1-4e2e-ba6a-cf2d1be9591d",
   "metadata": {
    "scrolled": true
   },
   "outputs": [
    {
     "name": "stdout",
     "output_type": "stream",
     "text": [
      "X_train shape: (15464, 217)\n",
      "y_train shape: (15464,)\n",
      "X_test shape: (3866, 217)\n",
      "y_test shape: (3866,)\n"
     ]
    }
   ],
   "source": [
    "print(f\"X_train shape: {X_train.shape}\")\n",
    "print(f\"y_train shape: {y_train.shape}\")\n",
    "print(f\"X_test shape: {X_test.shape}\")\n",
    "print(f\"y_test shape: {y_test.shape}\")"
   ]
  },
  {
   "cell_type": "code",
   "execution_count": 88,
   "id": "0b0ece38-0ed0-430d-9204-b3072b87ba03",
   "metadata": {},
   "outputs": [],
   "source": [
    "from sklearn.ensemble import RandomForestRegressor\n",
    "\n",
    "# 랜덤 포레스트 모델 학습\n",
    "model_rf = RandomForestRegressor(random_state=42)\n",
    "model_rf.fit(X_train, y_train)\n",
    "\n",
    "# 예측 및 평가\n",
    "predictions = model_rf.predict(X_test)"
   ]
  },
  {
   "cell_type": "code",
   "execution_count": 90,
   "id": "f6bb7a98-6529-4914-95b7-e2110a325ba5",
   "metadata": {},
   "outputs": [
    {
     "name": "stdout",
     "output_type": "stream",
     "text": [
      "Mean Squared Error (MSE): 442.5089678678581\n",
      "Mean Absolute Error (MAE): 9.19210051895314\n",
      "R^2 Score: 0.8343523055269169\n"
     ]
    }
   ],
   "source": [
    "# 10. 모델 평가\n",
    "from sklearn.metrics import mean_squared_error, mean_absolute_error, r2_score\n",
    "\n",
    "# 성능 평가\n",
    "mse = mean_squared_error(y_test, predictions)\n",
    "mae = mean_absolute_error(y_test, predictions)\n",
    "r2 = r2_score(y_test, predictions)\n",
    "\n",
    "print(f\"Mean Squared Error (MSE): {mse}\")\n",
    "print(f\"Mean Absolute Error (MAE): {mae}\")\n",
    "print(f\"R^2 Score: {r2}\")"
   ]
  },
  {
   "cell_type": "code",
   "execution_count": null,
   "id": "59305015-a5c1-447a-b74b-4531c62cc7db",
   "metadata": {},
   "outputs": [],
   "source": []
  }
 ],
 "metadata": {
  "kernelspec": {
   "display_name": "Python (ship)",
   "language": "python",
   "name": "ship"
  },
  "language_info": {
   "codemirror_mode": {
    "name": "ipython",
    "version": 3
   },
   "file_extension": ".py",
   "mimetype": "text/x-python",
   "name": "python",
   "nbconvert_exporter": "python",
   "pygments_lexer": "ipython3",
   "version": "3.12.5"
  }
 },
 "nbformat": 4,
 "nbformat_minor": 5
}
