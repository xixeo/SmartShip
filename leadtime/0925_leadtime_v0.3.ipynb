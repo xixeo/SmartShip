{
 "cells": [
  {
   "cell_type": "code",
   "execution_count": 198,
   "id": "496f2a9e-661c-4800-af46-a4eeefc9998f",
   "metadata": {},
   "outputs": [],
   "source": [
    "import pandas as pd\n",
    "import numpy as np\n",
    "import re\n",
    "import matplotlib.pyplot as plt\n",
    "\n",
    "from sklearn.model_selection import train_test_split\n",
    "from sklearn.preprocessing import LabelEncoder, OneHotEncoder\n",
    "from sklearn.ensemble import RandomForestClassifier\n",
    "from sklearn.metrics import classification_report, accuracy_score\n",
    "from transformers import BertTokenizer"
   ]
  },
  {
   "cell_type": "code",
   "execution_count": 208,
   "id": "ead46d44-e3c4-464b-9c55-8e68b61685f8",
   "metadata": {},
   "outputs": [],
   "source": [
    "df=pd.read_excel('dataset_filledsupplier_currency_orderday.xlsx')"
   ]
  },
  {
   "cell_type": "code",
   "execution_count": 200,
   "id": "05aef43a-0b3e-408b-ba95-70285b38f602",
   "metadata": {},
   "outputs": [
    {
     "name": "stdout",
     "output_type": "stream",
     "text": [
      "<class 'pandas.core.frame.DataFrame'>\n",
      "RangeIndex: 24621 entries, 0 to 24620\n",
      "Data columns (total 32 columns):\n",
      " #   Column       Non-Null Count  Dtype  \n",
      "---  ------       --------------  -----  \n",
      " 0   청구서번호        24621 non-null  object \n",
      " 1   No.          24621 non-null  int64  \n",
      " 2   Subject      24599 non-null  object \n",
      " 3   Machinery    24621 non-null  object \n",
      " 4   Assembly     24621 non-null  object \n",
      " 5   청구품목         24621 non-null  object \n",
      " 6   Unnamed: 6   0 non-null      float64\n",
      " 7   Part No.1    24602 non-null  object \n",
      " 8   Part No.2    3592 non-null   object \n",
      " 9   청구량          24517 non-null  float64\n",
      " 10  견적           24171 non-null  object \n",
      " 11  견적수량         24517 non-null  float64\n",
      " 12  견적화폐         24621 non-null  object \n",
      " 13  견적단가         24621 non-null  float64\n",
      " 14  발주번호         24621 non-null  object \n",
      " 15  발주처          24621 non-null  object \n",
      " 16  발주           24621 non-null  object \n",
      " 17  발주수량         24621 non-null  int64  \n",
      " 18  발주금액         24621 non-null  float64\n",
      " 19  D/T          22292 non-null  object \n",
      " 20  미입고 기간       1620 non-null   object \n",
      " 21  창고입고         21302 non-null  object \n",
      " 22  창고입고수량       24621 non-null  int64  \n",
      " 23  Control No.  15433 non-null  object \n",
      " 24  입고창고         21302 non-null  object \n",
      " 25  창고출고         19258 non-null  object \n",
      " 26  창고출고수량       24621 non-null  int64  \n",
      " 27  출고선박         19258 non-null  object \n",
      " 28  출고운반선        19258 non-null  object \n",
      " 29  선박입고         5374 non-null   object \n",
      " 30  선박입고수량       24621 non-null  int64  \n",
      " 31  완료 여부        5362 non-null   object \n",
      "dtypes: float64(5), int64(5), object(22)\n",
      "memory usage: 6.0+ MB\n"
     ]
    }
   ],
   "source": [
    "df.info()"
   ]
  },
  {
   "cell_type": "code",
   "execution_count": 201,
   "id": "eb2252db-28d5-446a-877e-e003fc04a134",
   "metadata": {},
   "outputs": [
    {
     "name": "stdout",
     "output_type": "stream",
     "text": [
      "81\n"
     ]
    }
   ],
   "source": [
    "print(len(df['발주처'].unique()))"
   ]
  },
  {
   "cell_type": "markdown",
   "id": "8fce6d15-4bb0-4aaa-8501-039d839b3bc4",
   "metadata": {},
   "source": [
    "## 클리닝"
   ]
  },
  {
   "cell_type": "code",
   "execution_count": 209,
   "id": "b2089545-cb02-4012-88a9-0da4869c274e",
   "metadata": {},
   "outputs": [
    {
     "name": "stdout",
     "output_type": "stream",
     "text": [
      "발주 일자는 있지만 미입고 기간, 창고 입고, 선박 입고도 없는 경우: 1699개\n",
      "삭제된 행의 개수: 1699개\n",
      "남은 데이터프레임의 크기: (22922, 32)\n"
     ]
    }
   ],
   "source": [
    "missing_conditions = df[\n",
    "    df['발주'].notnull() &  # 발주 일자는 비어있지 않음\n",
    "    df['미입고 기간'].isnull() &  # 미입고 기간은 비어있음\n",
    "    df['창고입고'].isnull() & # 창고 입고도 비어있음\n",
    "    df['선박입고'].isnull()  # 선박 입고도 비어있음\n",
    "\n",
    "]\n",
    "\n",
    "print(f\"발주 일자는 있지만 미입고 기간, 창고 입고, 선박 입고도 없는 경우: {len(missing_conditions)}개\")\n",
    "df = df.drop(missing_conditions.index)\n",
    "\n",
    "print(f\"삭제된 행의 개수: {len(missing_conditions)}개\")\n",
    "print(f\"남은 데이터프레임의 크기: {df.shape}\")"
   ]
  },
  {
   "cell_type": "code",
   "execution_count": 210,
   "id": "116fd26a-b562-4f62-a379-b2f3c8de8dce",
   "metadata": {},
   "outputs": [
    {
     "name": "stdout",
     "output_type": "stream",
     "text": [
      "창고 입고일은 없고 미입고 기간은 명시되어 있어 미입고 기간으로 분류해야 할 경우 : 1620개\n"
     ]
    }
   ],
   "source": [
    "#미입고기간으로 처리.\n",
    "missing_both = df[df['창고입고'].isnull() & df['미입고 기간'].notnull()]\n",
    "\n",
    "print(f\"창고 입고일은 없고 미입고 기간은 명시되어 있어 미입고 기간으로 분류해야 할 경우 : {len(missing_both)}개\")"
   ]
  },
  {
   "cell_type": "code",
   "execution_count": 211,
   "id": "36dff9d6-5060-49b2-a382-09f8f9dea533",
   "metadata": {},
   "outputs": [],
   "source": [
    "\n",
    "df['발주'] = pd.to_datetime(df['발주'], errors='coerce')\n",
    "df['창고입고'] = pd.to_datetime(df['창고입고'], errors='coerce')\n",
    "\n",
    "# 리드타임 계산\n",
    "df['리드타임'] = (df['창고입고'] - df['발주']).dt.days\n",
    "\n",
    "# 리드타임이 0인 경우 1로 변경\n",
    "df['리드타임'] = df['리드타임'].apply(lambda x: 1 if x == 0 else x)"
   ]
  },
  {
   "cell_type": "code",
   "execution_count": 212,
   "id": "56c3c87c-1cce-4211-a9de-af57d246bff1",
   "metadata": {},
   "outputs": [
    {
     "name": "stderr",
     "output_type": "stream",
     "text": [
      "C:\\Users\\User\\anaconda3\\envs\\ship\\Lib\\site-packages\\IPython\\core\\pylabtools.py:170: UserWarning: Glyph 8722 (\\N{MINUS SIGN}) missing from font(s) Malgun Gothic.\n",
      "  fig.canvas.print_figure(bytes_io, **kw)\n"
     ]
    },
    {
     "data": {
      "image/png": "[encoded data removed]",
      "text/plain": [
       "<Figure size 1000x600 with 1 Axes>"
      ]
     },
     "metadata": {},
     "output_type": "display_data"
    }
   ],
   "source": [
    "import matplotlib.pyplot as plt\n",
    "import seaborn as sns\n",
    "\n",
    "# 리드타임 분포 확인\n",
    "plt.figure(figsize=(10, 6))\n",
    "sns.histplot(df['리드타임'], kde=True)\n",
    "plt.title('리드타임 분포')\n",
    "plt.show()"
   ]
  },
  {
   "cell_type": "code",
   "execution_count": 213,
   "id": "ad7c6f0d-1824-4137-b59c-b9b42303c78b",
   "metadata": {},
   "outputs": [
    {
     "name": "stdout",
     "output_type": "stream",
     "text": [
      "(19765, 33)\n"
     ]
    }
   ],
   "source": [
    "df = df[df['미입고 기간'].isnull()]\n",
    "\n",
    "df['발주'] = pd.to_datetime(df['발주'], errors='coerce')\n",
    "df['창고입고'] = pd.to_datetime(df['창고입고'], errors='coerce')\n",
    "\n",
    "# 리드타임 계산\n",
    "df['리드타임'] = (df['창고입고'] - df['발주']).dt.days\n",
    "\n",
    "# 리드타임이 0인 경우 1로 변경\n",
    "df['리드타임'] = df['리드타임'].apply(lambda x: 1 if x == 0 else x)\n",
    "\n",
    "# 리드타임이 1일 미만이거나 200일을 초과한 경우 제거\n",
    "df = df[(df['리드타임'] > 0 ) & (df['리드타임'] < 200)]\n",
    "\n",
    "# 창고입고가 결측값인 행 제거\n",
    "df = df.dropna(subset=['창고입고'])\n",
    "\n",
    "print(df.shape)"
   ]
  },
  {
   "cell_type": "code",
   "execution_count": 215,
   "id": "a9f0dfc3-5f22-4e8e-acec-bc366c02df60",
   "metadata": {},
   "outputs": [
    {
     "data": {
      "image/png": "[encoded data removed]",
      "text/plain": [
       "<Figure size 1000x600 with 1 Axes>"
      ]
     },
     "metadata": {},
     "output_type": "display_data"
    }
   ],
   "source": [
    "import matplotlib.pyplot as plt\n",
    "import seaborn as sns\n",
    "\n",
    "# 리드타임 분포 확인\n",
    "plt.figure(figsize=(10, 6))\n",
    "sns.histplot(df['리드타임'], kde=True)\n",
    "plt.title('리드타임 분포')\n",
    "plt.show()"
   ]
  },
  {
   "cell_type": "code",
   "execution_count": 216,
   "id": "74c885e4-868c-4225-af2b-d0d53b365913",
   "metadata": {},
   "outputs": [
    {
     "data": {
      "text/html": [
       "<div>\n",
       "<style scoped>\n",
       "    .dataframe tbody tr th:only-of-type {\n",
       "        vertical-align: middle;\n",
       "    }\n",
       "\n",
       "    .dataframe tbody tr th {\n",
       "        vertical-align: top;\n",
       "    }\n",
       "\n",
       "    .dataframe thead th {\n",
       "        text-align: right;\n",
       "    }\n",
       "</style>\n",
       "<table border=\"1\" class=\"dataframe\">\n",
       "  <thead>\n",
       "    <tr style=\"text-align: right;\">\n",
       "      <th></th>\n",
       "      <th>청구서번호</th>\n",
       "      <th>No.</th>\n",
       "      <th>Subject</th>\n",
       "      <th>Machinery</th>\n",
       "      <th>Assembly</th>\n",
       "      <th>청구품목</th>\n",
       "      <th>Unnamed: 6</th>\n",
       "      <th>Part No.1</th>\n",
       "      <th>Part No.2</th>\n",
       "      <th>청구량</th>\n",
       "      <th>...</th>\n",
       "      <th>Control No.</th>\n",
       "      <th>입고창고</th>\n",
       "      <th>창고출고</th>\n",
       "      <th>창고출고수량</th>\n",
       "      <th>출고선박</th>\n",
       "      <th>출고운반선</th>\n",
       "      <th>선박입고</th>\n",
       "      <th>선박입고수량</th>\n",
       "      <th>완료 여부</th>\n",
       "      <th>리드타임</th>\n",
       "    </tr>\n",
       "  </thead>\n",
       "  <tbody>\n",
       "    <tr>\n",
       "      <th>0</th>\n",
       "      <td>COK-BS-DSP-1901004</td>\n",
       "      <td>1</td>\n",
       "      <td>COK-F-DECK-190104-01</td>\n",
       "      <td>CARGO BOOM VANG BLOCK (STBD 하)</td>\n",
       "      <td>BLOCK</td>\n",
       "      <td>MCKISSICK CONSTRUCTION BLOCKS (WIRE SIZE : 5/8\")</td>\n",
       "      <td>NaN</td>\n",
       "      <td>C15S10BS</td>\n",
       "      <td>2103170</td>\n",
       "      <td>2.0</td>\n",
       "      <td>...</td>\n",
       "      <td>19-04-077</td>\n",
       "      <td>BW</td>\n",
       "      <td>2019-05-20</td>\n",
       "      <td>2</td>\n",
       "      <td>COK</td>\n",
       "      <td>ONENESS</td>\n",
       "      <td>2019-06-09</td>\n",
       "      <td>2</td>\n",
       "      <td>완료</td>\n",
       "      <td>112</td>\n",
       "    </tr>\n",
       "    <tr>\n",
       "      <th>1</th>\n",
       "      <td>COK-BS-DSP-1901004</td>\n",
       "      <td>2</td>\n",
       "      <td>COK-F-DECK-190104-01</td>\n",
       "      <td>SPANISH BOOM VANG BLOCK (PORT 상)</td>\n",
       "      <td>BLOCK</td>\n",
       "      <td>MCKISSICK CONSTRUCTION BLOCKS (WIRE SIZE : 5/8\")</td>\n",
       "      <td>NaN</td>\n",
       "      <td>C15D10BS</td>\n",
       "      <td>2103180</td>\n",
       "      <td>1.0</td>\n",
       "      <td>...</td>\n",
       "      <td>19-04-064</td>\n",
       "      <td>BW</td>\n",
       "      <td>2019-05-20</td>\n",
       "      <td>1</td>\n",
       "      <td>COK</td>\n",
       "      <td>ONENESS편 탁송</td>\n",
       "      <td>2019-06-09</td>\n",
       "      <td>1</td>\n",
       "      <td>완료</td>\n",
       "      <td>97</td>\n",
       "    </tr>\n",
       "    <tr>\n",
       "      <th>2</th>\n",
       "      <td>COK-BS-DSP-1901004</td>\n",
       "      <td>3</td>\n",
       "      <td>COK-F-DECK-190104-01</td>\n",
       "      <td>PURSE BLOCK</td>\n",
       "      <td>TOW BLOCK</td>\n",
       "      <td>WESTEC 20TON TOW BLOCK</td>\n",
       "      <td>NaN</td>\n",
       "      <td>WESTEC 20TON TOW BLOCK</td>\n",
       "      <td>NaN</td>\n",
       "      <td>1.0</td>\n",
       "      <td>...</td>\n",
       "      <td>19-04-077</td>\n",
       "      <td>BW</td>\n",
       "      <td>2019-05-20</td>\n",
       "      <td>1</td>\n",
       "      <td>COK</td>\n",
       "      <td>ONENESS</td>\n",
       "      <td>2019-06-09</td>\n",
       "      <td>1</td>\n",
       "      <td>완료</td>\n",
       "      <td>112</td>\n",
       "    </tr>\n",
       "    <tr>\n",
       "      <th>3</th>\n",
       "      <td>COK-BS-DSP-1905036</td>\n",
       "      <td>1</td>\n",
       "      <td>폰페이 재고정정</td>\n",
       "      <td>MAIN ENGINE</td>\n",
       "      <td>POWER PACK AS</td>\n",
       "      <td>GE POWER PACK FORK - E7(B)</td>\n",
       "      <td>NaN</td>\n",
       "      <td>40028340</td>\n",
       "      <td>NaN</td>\n",
       "      <td>8.0</td>\n",
       "      <td>...</td>\n",
       "      <td>NaN</td>\n",
       "      <td>PN</td>\n",
       "      <td>2019-08-01</td>\n",
       "      <td>1</td>\n",
       "      <td>DEO</td>\n",
       "      <td>HANARO</td>\n",
       "      <td>2019-08-24</td>\n",
       "      <td>1</td>\n",
       "      <td>완료</td>\n",
       "      <td>1</td>\n",
       "    </tr>\n",
       "    <tr>\n",
       "      <th>4</th>\n",
       "      <td>COK-BS-DSP-1905036</td>\n",
       "      <td>2</td>\n",
       "      <td>폰페이 재고정정</td>\n",
       "      <td>MAIN ENGINE</td>\n",
       "      <td>POWER PACK AS</td>\n",
       "      <td>GE POWER PACK FORK - E7(B)</td>\n",
       "      <td>NaN</td>\n",
       "      <td>40028340</td>\n",
       "      <td>NaN</td>\n",
       "      <td>8.0</td>\n",
       "      <td>...</td>\n",
       "      <td>NaN</td>\n",
       "      <td>PN</td>\n",
       "      <td>2019-08-29</td>\n",
       "      <td>7</td>\n",
       "      <td>ELS</td>\n",
       "      <td>SL ARCHI</td>\n",
       "      <td>2019-09-30</td>\n",
       "      <td>7</td>\n",
       "      <td>완료</td>\n",
       "      <td>1</td>\n",
       "    </tr>\n",
       "  </tbody>\n",
       "</table>\n",
       "<p>5 rows × 33 columns</p>\n",
       "</div>"
      ],
      "text/plain": [
       "                청구서번호  No.               Subject  \\\n",
       "0  COK-BS-DSP-1901004    1  COK-F-DECK-190104-01   \n",
       "1  COK-BS-DSP-1901004    2  COK-F-DECK-190104-01   \n",
       "2  COK-BS-DSP-1901004    3  COK-F-DECK-190104-01   \n",
       "3  COK-BS-DSP-1905036    1              폰페이 재고정정   \n",
       "4  COK-BS-DSP-1905036    2              폰페이 재고정정   \n",
       "\n",
       "                          Machinery       Assembly  \\\n",
       "0    CARGO BOOM VANG BLOCK (STBD 하)          BLOCK   \n",
       "1  SPANISH BOOM VANG BLOCK (PORT 상)          BLOCK   \n",
       "2                       PURSE BLOCK      TOW BLOCK   \n",
       "3                       MAIN ENGINE  POWER PACK AS   \n",
       "4                       MAIN ENGINE  POWER PACK AS   \n",
       "\n",
       "                                               청구품목  Unnamed: 6  \\\n",
       "0  MCKISSICK CONSTRUCTION BLOCKS (WIRE SIZE : 5/8\")         NaN   \n",
       "1  MCKISSICK CONSTRUCTION BLOCKS (WIRE SIZE : 5/8\")         NaN   \n",
       "2                            WESTEC 20TON TOW BLOCK         NaN   \n",
       "3                        GE POWER PACK FORK - E7(B)         NaN   \n",
       "4                        GE POWER PACK FORK - E7(B)         NaN   \n",
       "\n",
       "                Part No.1 Part No.2  청구량  ... Control No.  입고창고        창고출고  \\\n",
       "0                C15S10BS   2103170  2.0  ...   19-04-077    BW  2019-05-20   \n",
       "1                C15D10BS   2103180  1.0  ...   19-04-064    BW  2019-05-20   \n",
       "2  WESTEC 20TON TOW BLOCK       NaN  1.0  ...   19-04-077    BW  2019-05-20   \n",
       "3                40028340       NaN  8.0  ...         NaN    PN  2019-08-01   \n",
       "4                40028340       NaN  8.0  ...         NaN    PN  2019-08-29   \n",
       "\n",
       "   창고출고수량 출고선박        출고운반선        선박입고  선박입고수량  완료 여부 리드타임  \n",
       "0       2  COK      ONENESS  2019-06-09       2     완료  112  \n",
       "1       1  COK  ONENESS편 탁송  2019-06-09       1     완료   97  \n",
       "2       1  COK      ONENESS  2019-06-09       1     완료  112  \n",
       "3       1  DEO       HANARO  2019-08-24       1     완료    1  \n",
       "4       7  ELS     SL ARCHI  2019-09-30       7     완료    1  \n",
       "\n",
       "[5 rows x 33 columns]"
      ]
     },
     "execution_count": 216,
     "metadata": {},
     "output_type": "execute_result"
    }
   ],
   "source": [
    "df.head()"
   ]
  },
  {
   "cell_type": "code",
   "execution_count": 166,
   "id": "51166f8a-d406-4d21-a813-487b919f0a3b",
   "metadata": {},
   "outputs": [
    {
     "name": "stdout",
     "output_type": "stream",
     "text": [
      "count    19765.000000\n",
      "mean        67.950873\n",
      "std         52.245829\n",
      "min          1.000000\n",
      "25%         19.000000\n",
      "50%         59.000000\n",
      "75%        105.000000\n",
      "max        199.000000\n",
      "Name: 리드타임, dtype: float64\n"
     ]
    }
   ],
   "source": [
    "print(df['리드타임'].describe())\n"
   ]
  },
  {
   "cell_type": "markdown",
   "id": "315aaac3-23bc-4114-aa65-724a5fdaac0d",
   "metadata": {},
   "source": [
    "### 리드타임 예측 (회귀)\n",
    "1. 텍스트 칼럼 결합 및 BERT 임베딩\n",
    "2. ( 수치형 데이터(견적단가 및 발주량) Scaling )\n",
    "3. 범주형 데이터(견적화폐) onehotEncoding\n",
    "4. 모델의 입력, 2.3데이터 결합 => 리드타임 예측"
   ]
  },
  {
   "cell_type": "markdown",
   "id": "debf6c2a-35d8-4df0-a7ef-cd9d3c2541d6",
   "metadata": {},
   "source": [
    "## 전처리\n",
    "\n",
    "> 각 텍스트 필드 개별적으로 rf idf 변환하고 결합"
   ]
  },
  {
   "cell_type": "code",
   "execution_count": 109,
   "id": "2afba987-9259-427d-ac6a-05ea121a8136",
   "metadata": {},
   "outputs": [],
   "source": [
    "#!conda install conda-forge::category_encoders -y"
   ]
  },
  {
   "cell_type": "code",
   "execution_count": 218,
   "id": "9e7ef725-6684-4966-bcbe-5e3250bb34b6",
   "metadata": {},
   "outputs": [],
   "source": [
    "machinery_avg_leadtime = df.groupby('Machinery')['리드타임'].mean().reset_index()\n",
    "df = df.merge(machinery_avg_leadtime, on='Machinery', how='left', suffixes=('', '_avg'))\n",
    "\n",
    "supplier_leadtime_avg = df.groupby('발주처')['리드타임'].mean().reset_index()\n",
    "df = df.merge(supplier_leadtime_avg, on='발주처', how='left', suffixes=('', '_supplier_avg'))"
   ]
  },
  {
   "cell_type": "code",
   "execution_count": 219,
   "id": "32bf1105-6574-4b0c-9be3-000d7c8445af",
   "metadata": {},
   "outputs": [],
   "source": [
    "import re\n",
    "\n",
    "def preprocess_text(text):\n",
    "    text = text.lower()\n",
    "    text = re.sub(r'\\([^)]*\\)', '', text)\n",
    "    text = re.sub(r'[^\\w\\s\\*/\\-\\+.,#&]', '', text)\n",
    "    text = re.sub(r'\\s+', ' ', text)\n",
    "    text = re.sub(r'\\b(사용금지|사)\\b', '', text, flags=re.IGNORECASE)\n",
    "    text = text.strip()\n",
    "    return text\n",
    "    \n",
    "    \n",
    "def clean_supplier_name(name):\n",
    "    name = name.lower()\n",
    "    name = re.sub(r'coporation|coropration|coproration|corporration', 'corporation', name)\n",
    "    name = re.sub(r'\\(사용금지\\)', '', name)\n",
    "    name = re.sub(r'u\\.s\\.a', '_usa', name)\n",
    "    name = re.sub(r'\\.', '', name)\n",
    "    suffixes = r'(corporation|corp|company|co|incorporated|inc|limited|ltd|상사|공사|엔지니어링|주식회사|주|gmbh|pte ltd|llc)'\n",
    "    name = re.sub(suffixes, '', name, flags=re.IGNORECASE)\n",
    "    name = re.sub(r'[^\\w\\s-]', '', name)\n",
    "    name = re.sub(r'\\s+', ' ', name).strip()\n",
    "    return name"
   ]
  },
  {
   "cell_type": "code",
   "execution_count": 220,
   "id": "c1a32dbe-4fa5-4a49-ae53-88496680801a",
   "metadata": {},
   "outputs": [],
   "source": [
    "text_columns = ['Machinery', 'Assembly', '발주처']\n",
    "\n",
    "for col in text_columns:\n",
    "    df[col] = df[col].astype(str)\n",
    "df['cleaned_machinery'] = df['Machinery'].apply(preprocess_text)\n",
    "df['cleaned_assembly'] = df['Assembly'].apply(preprocess_text)\n",
    "df['cleaned_supplier'] = df['발주처'].apply(clean_supplier_name)"
   ]
  },
  {
   "cell_type": "code",
   "execution_count": 221,
   "id": "cbbd380a-07de-42d9-8df0-c9b6399434fb",
   "metadata": {},
   "outputs": [],
   "source": [
    "from sklearn.preprocessing import OneHotEncoder, StandardScaler, MinMaxScaler\n",
    "import numpy as np\n",
    "from scipy.sparse import hstack, csr_matrix\n",
    "import category_encoders as ce\n",
    "\n",
    "# 환율 설정\n",
    "exchange_rate = {\n",
    "    'KRW': 1/1300, \n",
    "    'USD': 1,      \n",
    "    'EUR': 1.1,     \n",
    "    'JPY': 1/110    \n",
    "}\n",
    "\n",
    "# 1. 수치형 데이터 처리 (로그 변환 및 NaN 처리)\n",
    "df['converted_unit_price'] = df.apply(lambda x: x['견적단가'] * exchange_rate[x['견적화폐']], axis=1)\n",
    "df['converted_price'] = df['converted_unit_price'] * df['발주수량']\n",
    "\n",
    "# 로그 변환 전에 0 이하의 값 제거\n",
    "df = df[df['converted_price'] > 0]\n",
    "\n",
    "df = df.dropna(subset=['converted_price', '발주수량'])\n",
    "df['log_converted_price'] = np.log1p(df['converted_price'])\n"
   ]
  },
  {
   "cell_type": "code",
   "execution_count": 222,
   "id": "6d486e71-9031-4467-873b-2b74ac13d2f9",
   "metadata": {},
   "outputs": [],
   "source": [
    "from sklearn.preprocessing import MinMaxScaler\n",
    "\n",
    "# 3. 수치형 데이터 스케일링\n",
    "scaler = StandardScaler()\n",
    "log_price_scaled = scaler.fit_transform(df[['log_converted_price']])\n",
    "leadtime_avg_scaled = scaler.fit_transform(df[['리드타임_avg']])\n",
    "supplier_avg_scaled = scaler.fit_transform(df[['리드타임_supplier_avg']])\n"
   ]
  },
  {
   "cell_type": "code",
   "execution_count": 223,
   "id": "a149a03c-3ef6-4909-b0c4-a9adde00c5dc",
   "metadata": {},
   "outputs": [],
   "source": [
    "X_numeric = np.hstack([log_price_scaled, leadtime_avg_scaled, supplier_avg_scaled])\n",
    "# 5. One-Hot Encoding: 견적화폐와 발주처\n",
    "currency_ohe = OneHotEncoder(sparse_output=False) \n",
    "currency_encoded = currency_ohe.fit_transform(df[['견적화폐']])"
   ]
  },
  {
   "cell_type": "code",
   "execution_count": 224,
   "id": "db303d09-42c4-46b9-974a-2979d7bfab85",
   "metadata": {},
   "outputs": [
    {
     "name": "stdout",
     "output_type": "stream",
     "text": [
      "log_price_scaled: (19717, 1)\n",
      "leadtime_avg_scaled: (19717, 1)\n",
      "supplier_avg_scaled: (19717, 1)\n",
      "machinery_vectors: (19717, 100)\n"
     ]
    }
   ],
   "source": [
    "print(f\"log_price_scaled: {log_price_scaled.shape}\")\n",
    "print(f\"leadtime_avg_scaled: {leadtime_avg_scaled.shape}\")\n",
    "print(f\"supplier_avg_scaled: {supplier_avg_scaled.shape}\")\n",
    "print(f\"machinery_vectors: {machinery_vectors.shape}\")\n"
   ]
  },
  {
   "cell_type": "markdown",
   "id": "8ea612f1-3192-4263-bccb-40dc435ebd1d",
   "metadata": {},
   "source": [
    "### 데이터 분할\n",
    "\n",
    "> 로그 변환 및 tf-idf 벡터화 시 nan 값 생길 수 있으므로 처리에 주의요함"
   ]
  },
  {
   "cell_type": "code",
   "execution_count": 225,
   "id": "8b90bbeb-1165-47ec-8d0c-b2e832556472",
   "metadata": {},
   "outputs": [
    {
     "name": "stdout",
     "output_type": "stream",
     "text": [
      "Word2Vec Machinery Shape: (19717, 100)\n",
      "Word2Vec Assembly Shape: (19717, 150)\n",
      "Word2Vec Item Shape: (19717, 100)\n"
     ]
    }
   ],
   "source": [
    "from gensim.models import Word2Vec\n",
    "\n",
    "# 데이터 전처리 후 토큰화 (문장을 단어 리스트로 변환)\n",
    "machinery_sentences = [text.split() for text in df['cleaned_machinery']]\n",
    "assembly_sentences = [text.split() for text in df['cleaned_assembly']]\n",
    "supplier_sentences = [text.split() for text in df['cleaned_supplier']]\n",
    "\n",
    "# 각각의 Word2Vec 모델 학습\n",
    "word2vec_machinery = Word2Vec(sentences=machinery_sentences, vector_size=100, window=5, min_count=1, workers=4)\n",
    "word2vec_assembly = Word2Vec(sentences=assembly_sentences, vector_size=150, window=5, min_count=1, workers=4)\n",
    "word2vec_supplier = Word2Vec(sentences=supplier_sentences, vector_size=100, window=5, min_count=1, workers=4)\n",
    "\n",
    "# 각 텍스트에 대한 벡터 평균값 계산 (문장 단위로 벡터를 평균화하여 문장 벡터 생성)\n",
    "def sentence_vector(sentence, model):\n",
    "    vectors = [model.wv[word] for word in sentence if word in model.wv]\n",
    "    if len(vectors) > 0:\n",
    "        return np.mean(vectors, axis=0)\n",
    "    else:\n",
    "        return np.zeros(model.vector_size)\n",
    "\n",
    "# 각 컬럼별로 벡터화\n",
    "machinery_vectors = np.array([sentence_vector(sentence, word2vec_machinery) for sentence in machinery_sentences])\n",
    "assembly_vectors = np.array([sentence_vector(sentence, word2vec_assembly) for sentence in assembly_sentences])\n",
    "supplier_vectors = np.array([sentence_vector(sentence, word2vec_supplier) for sentence in supplier_sentences])\n",
    "\n",
    "# 결과 확인\n",
    "print(f\"Word2Vec Machinery Shape: {machinery_vectors.shape}\")\n",
    "print(f\"Word2Vec Assembly Shape: {assembly_vectors.shape}\")\n",
    "print(f\"Word2Vec Item Shape: {supplier_vectors.shape}\")"
   ]
  },
  {
   "cell_type": "code",
   "execution_count": 239,
   "id": "9aa50697-89e1-48eb-9928-7e75f8a7c262",
   "metadata": {},
   "outputs": [
    {
     "name": "stdout",
     "output_type": "stream",
     "text": [
      "Combined X Shape: (19717, 357)\n",
      "Target y Shape: (19717,)\n"
     ]
    }
   ],
   "source": [
    "from scipy.sparse import hstack\n",
    "\n",
    "# 수치형 데이터가 CSR 형식이기 때문에, 이를 밀집 벡터로 변환\n",
    "X_numeric_dense = X_numeric_csr.toarray()\n",
    "\n",
    "# Word2Vec 벡터 (밀집 벡터)와 결합\n",
    "X = np.hstack([\n",
    "    X_numeric_dense,         # 수치형 데이터 (밀집 벡터)\n",
    "    currency_encoded,        # One-Hot 인코딩된 범주형 데이터 (밀집 벡터)\n",
    "    machinery_vectors,       # Word2Vec로 만든 Machinery 벡터\n",
    "    assembly_vectors,        # Word2Vec로 만든 Assembly 벡터\n",
    "    supplier_vectors         # Word2Vec로 만든 Supplier 벡터\n",
    "])\n",
    "\n",
    "# y 값 (리드타임)\n",
    "df['log_리드타임'] = np.log1p(df['리드타임'])\n",
    "y = df['log_리드타임'].values\n",
    "y_original = df['리드타임'].values  # 로그 변환되지 않은 y 값\n",
    "\n",
    "\n",
    "print(f\"Combined X Shape: {X.shape}\")\n",
    "print(f\"Target y Shape: {y.shape}\")"
   ]
  },
  {
   "cell_type": "code",
   "execution_count": 240,
   "id": "b503a88f-1849-4d8a-8672-49fe3a166ab2",
   "metadata": {},
   "outputs": [],
   "source": [
    "# 학습 및 테스트 데이터 분리\n",
    "from sklearn.model_selection import train_test_split\n",
    "X_train, X_test, y_train_log, y_test_log = train_test_split(X, df['log_리드타임'], test_size=0.2, random_state=42)\n"
   ]
  },
  {
   "cell_type": "code",
   "execution_count": 241,
   "id": "0b0ece38-0ed0-430d-9204-b3072b87ba03",
   "metadata": {},
   "outputs": [],
   "source": [
    "from sklearn.ensemble import RandomForestRegressor\n",
    "\n",
    "# 랜덤 포레스트 회귀\n",
    "model_rf = RandomForestRegressor(n_estimators=100, random_state=42)\n",
    "model_rf.fit(X_train, y_train_log)\n",
    "\n",
    "# 로그 변환된 y에 대한 예측 (log_리드타임 예측)\n",
    "y_pred_log = model_rf.predict(X_test)\n",
    "\n",
    "# 예측한 값을 다시 원래 값으로 변환 (expm1으로 복원)\n",
    "y_pred = np.expm1(y_pred_log)\n",
    "\n",
    "# 테스트 데이터의 원래 값도 복원\n",
    "y_test_original = np.expm1(y_test_log)\n"
   ]
  },
  {
   "cell_type": "code",
   "execution_count": 242,
   "id": "f6bb7a98-6529-4914-95b7-e2110a325ba5",
   "metadata": {},
   "outputs": [
    {
     "name": "stdout",
     "output_type": "stream",
     "text": [
      "Mean Squared Error (MSE): 1754.9095774913383\n",
      "Mean Absolute Error (MAE): 27.32494867679814\n",
      "R^2 Score: 0.34872700677082835\n"
     ]
    }
   ],
   "source": [
    "# 성능 평가\n",
    "from sklearn.metrics import mean_squared_error, mean_absolute_error, r2_score\n",
    "\n",
    "mse = mean_squared_error(y_test_original, y_pred)\n",
    "mae = mean_absolute_error(y_test_original, y_pred)\n",
    "r2 = r2_score(y_test_original, y_pred)\n",
    "\n",
    "\n",
    "print(f\"Mean Squared Error (MSE): {mse}\")\n",
    "print(f\"Mean Absolute Error (MAE): {mae}\")\n",
    "print(f\"R^2 Score: {r2}\")"
   ]
  },
  {
   "cell_type": "code",
   "execution_count": null,
   "id": "59305015-a5c1-447a-b74b-4531c62cc7db",
   "metadata": {},
   "outputs": [],
   "source": []
  }
 ],
 "metadata": {
  "kernelspec": {
   "display_name": "Python (ship)",
   "language": "python",
   "name": "ship"
  },
  "language_info": {
   "codemirror_mode": {
    "name": "ipython",
    "version": 3
   },
   "file_extension": ".py",
   "mimetype": "text/x-python",
   "name": "python",
   "nbconvert_exporter": "python",
   "pygments_lexer": "ipython3",
   "version": "3.12.5"
  }
 },
 "nbformat": 4,
 "nbformat_minor": 5
}
