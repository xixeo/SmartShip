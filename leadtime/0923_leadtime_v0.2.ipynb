{
 "cells": [
  {
   "cell_type": "code",
   "execution_count": 1,
   "id": "496f2a9e-661c-4800-af46-a4eeefc9998f",
   "metadata": {},
   "outputs": [],
   "source": [
    "import pandas as pd\n",
    "import numpy as np\n",
    "import re\n",
    "import matplotlib.pyplot as plt\n",
    "\n",
    "from sklearn.model_selection import train_test_split\n",
    "from sklearn.preprocessing import LabelEncoder, OneHotEncoder\n",
    "from sklearn.ensemble import RandomForestClassifier\n",
    "from sklearn.metrics import classification_report, accuracy_score\n",
    "from transformers import BertTokenizer"
   ]
  },
  {
   "cell_type": "code",
   "execution_count": 2,
   "id": "ead46d44-e3c4-464b-9c55-8e68b61685f8",
   "metadata": {},
   "outputs": [],
   "source": [
    "df=pd.read_excel('dataset_filledsupplier_currency_orderday.xlsx')"
   ]
  },
  {
   "cell_type": "code",
   "execution_count": 3,
   "id": "05aef43a-0b3e-408b-ba95-70285b38f602",
   "metadata": {},
   "outputs": [
    {
     "name": "stdout",
     "output_type": "stream",
     "text": [
      "<class 'pandas.core.frame.DataFrame'>\n",
      "RangeIndex: 24621 entries, 0 to 24620\n",
      "Data columns (total 32 columns):\n",
      " #   Column       Non-Null Count  Dtype  \n",
      "---  ------       --------------  -----  \n",
      " 0   청구서번호        24621 non-null  object \n",
      " 1   No.          24621 non-null  int64  \n",
      " 2   Subject      24599 non-null  object \n",
      " 3   Machinery    24621 non-null  object \n",
      " 4   Assembly     24621 non-null  object \n",
      " 5   청구품목         24621 non-null  object \n",
      " 6   Unnamed: 6   0 non-null      float64\n",
      " 7   Part No.1    24602 non-null  object \n",
      " 8   Part No.2    3592 non-null   object \n",
      " 9   청구량          24517 non-null  float64\n",
      " 10  견적           24171 non-null  object \n",
      " 11  견적수량         24517 non-null  float64\n",
      " 12  견적화폐         24621 non-null  object \n",
      " 13  견적단가         24621 non-null  float64\n",
      " 14  발주번호         24621 non-null  object \n",
      " 15  발주처          24621 non-null  object \n",
      " 16  발주           24621 non-null  object \n",
      " 17  발주수량         24621 non-null  int64  \n",
      " 18  발주금액         24621 non-null  float64\n",
      " 19  D/T          22292 non-null  object \n",
      " 20  미입고 기간       1620 non-null   object \n",
      " 21  창고입고         21302 non-null  object \n",
      " 22  창고입고수량       24621 non-null  int64  \n",
      " 23  Control No.  15433 non-null  object \n",
      " 24  입고창고         21302 non-null  object \n",
      " 25  창고출고         19258 non-null  object \n",
      " 26  창고출고수량       24621 non-null  int64  \n",
      " 27  출고선박         19258 non-null  object \n",
      " 28  출고운반선        19258 non-null  object \n",
      " 29  선박입고         5374 non-null   object \n",
      " 30  선박입고수량       24621 non-null  int64  \n",
      " 31  완료 여부        5362 non-null   object \n",
      "dtypes: float64(5), int64(5), object(22)\n",
      "memory usage: 6.0+ MB\n"
     ]
    }
   ],
   "source": [
    "df.info()"
   ]
  },
  {
   "cell_type": "code",
   "execution_count": 4,
   "id": "b2089545-cb02-4012-88a9-0da4869c274e",
   "metadata": {},
   "outputs": [
    {
     "name": "stdout",
     "output_type": "stream",
     "text": [
      "발주 일자는 있지만 미입고 기간, 창고 입고, 선박 입고도 없는 경우: 1699개\n",
      "삭제된 행의 개수: 1699개\n",
      "남은 데이터프레임의 크기: (22922, 32)\n"
     ]
    }
   ],
   "source": [
    "missing_conditions = df[\n",
    "    df['발주'].notnull() &  # 발주 일자는 비어있지 않음\n",
    "    df['미입고 기간'].isnull() &  # 미입고 기간은 비어있음\n",
    "    df['창고입고'].isnull() & # 창고 입고도 비어있음\n",
    "    df['선박입고'].isnull()  # 선박 입고도 비어있음\n",
    "\n",
    "]\n",
    "\n",
    "print(f\"발주 일자는 있지만 미입고 기간, 창고 입고, 선박 입고도 없는 경우: {len(missing_conditions)}개\")\n",
    "# 해당 조건의 행 삭제\n",
    "df = df.drop(missing_conditions.index)\n",
    "\n",
    "print(f\"삭제된 행의 개수: {len(missing_conditions)}개\")\n",
    "print(f\"남은 데이터프레임의 크기: {df.shape}\")"
   ]
  },
  {
   "cell_type": "code",
   "execution_count": 5,
   "id": "116fd26a-b562-4f62-a379-b2f3c8de8dce",
   "metadata": {},
   "outputs": [
    {
     "name": "stdout",
     "output_type": "stream",
     "text": [
      "창고 입고일은 없고 미입고 기간은 명시되어 있어 미입고 기간으로 분류해야 할 경우 : 1620개\n"
     ]
    }
   ],
   "source": [
    "#미입고기간으로 처리.\n",
    "missing_both = df[df['창고입고'].isnull() & df['미입고 기간'].notnull()]\n",
    "\n",
    "print(f\"창고 입고일은 없고 미입고 기간은 명시되어 있어 미입고 기간으로 분류해야 할 경우 : {len(missing_both)}개\")"
   ]
  },
  {
   "cell_type": "markdown",
   "id": "beb5bfc4-84f3-4bd3-9331-c7b2fbb369e0",
   "metadata": {},
   "source": [
    "# 리드타임 계산\n",
    "\n",
    "> 1. 발주와 입고가 같은 경우 리드타임을 1로 설정\n",
    "> 2. 발주 수량과 입고 수량이 같은 경우, 일반 계산으로 기본타입"
   ]
  },
  {
   "cell_type": "code",
   "execution_count": 82,
   "id": "ad7c6f0d-1824-4137-b59c-b9b42303c78b",
   "metadata": {},
   "outputs": [
    {
     "name": "stdout",
     "output_type": "stream",
     "text": [
      "              발주       창고입고  리드타임\n",
      "24594 2022-03-31 2022-04-21  21.0\n",
      "24595 2022-03-31 2022-04-21  21.0\n",
      "24596 2022-04-06 2022-07-03  88.0\n",
      "24597 2022-04-06 2022-07-03  88.0\n",
      "24598 2022-04-06 2022-07-03  88.0\n",
      "24599 2022-04-06 2022-07-03  88.0\n",
      "24600 2022-04-06 2022-07-03  88.0\n",
      "24601 2022-04-06 2022-07-03  88.0\n",
      "24602 2022-04-06 2022-07-03  88.0\n",
      "24603 2022-04-06        NaT   NaN\n"
     ]
    }
   ],
   "source": [
    "df['발주']=pd.to_datetime(df['발주'], errors='coerce')\n",
    "df['창고입고']=pd.to_datetime(df['창고입고'], errors='coerce')\n",
    "\n",
    "df['리드타임']=(df['창고입고'] - df['발주']).dt.days\n",
    "df['리드타임']=df['리드타임'].apply(lambda x:1 if x == 0 else x)\n",
    "\n",
    "print(df[['발주', '창고입고', '리드타임']].tail(10))"
   ]
  },
  {
   "cell_type": "code",
   "execution_count": 12,
   "id": "4748f853-3b40-4222-851a-8d2256a90cdb",
   "metadata": {},
   "outputs": [
    {
     "name": "stdout",
     "output_type": "stream",
     "text": [
      "21302 1620\n"
     ]
    }
   ],
   "source": [
    "print(df['리드타임'].notnull().sum(),df['리드타임'].isnull().sum())"
   ]
  },
  {
   "cell_type": "markdown",
   "id": "315aaac3-23bc-4114-aa65-724a5fdaac0d",
   "metadata": {},
   "source": [
    "# 다중 출력 모델\n",
    "### 리드타임 예측 (회귀) / 미입고 기간 예측 (분류) \n",
    "1. 텍스트 칼럼 결합 및 BERT 임베딩\n",
    "2. ( 수치형 데이터(견적단가 및 발주량) Scaling )\n",
    "3. 범주형 데이터(견적화폐) onehotEncoding\n",
    "4. BERT 임베딩 유사도 => 모델의 입력, 2.3데이터 결합 => 리드타임 OR 미입고 기간 예측"
   ]
  },
  {
   "cell_type": "markdown",
   "id": "81d70ed1-77d4-4466-9716-5a2f4ebe6eb1",
   "metadata": {},
   "source": [
    "### 전처리"
   ]
  },
  {
   "cell_type": "code",
   "execution_count": 13,
   "id": "b81e9c88-d80d-45b4-b343-f433a440d48b",
   "metadata": {},
   "outputs": [],
   "source": [
    "import re\n",
    "\n",
    "def preprocess_text(text):\n",
    "    text = text.lower()\n",
    "    text = re.sub(r'\\([^)]*\\)', '', text)\n",
    "    text = re.sub(r'[^\\w\\s\\*/\\-\\+.,#&]', '', text)\n",
    "    text = re.sub(r'\\s+', ' ', text)\n",
    "    text = re.sub(r'\\b(사용금지|사)\\b', '', text, flags=re.IGNORECASE)\n",
    "    text = text.strip()\n",
    "    return text\n",
    "\n",
    "def clean_supplier_name(name):\n",
    "    name = name.lower()\n",
    "    name = re.sub(r'coporation|coropration|coproration|corporration', 'corporation', name)\n",
    "    name = re.sub(r'\\(사용금지\\)', '', name)\n",
    "    name = re.sub(r'u\\.s\\.a', '_usa', name)\n",
    "    name = re.sub(r'\\.', '', name)\n",
    "    suffixes = r'(corporation|corp|company|co|incorporated|inc|limited|ltd|상사|공사|엔지니어링|주식회사|주|gmbh|pte ltd|llc)'\n",
    "    name = re.sub(suffixes, '', name, flags=re.IGNORECASE)\n",
    "    name = re.sub(r'[^\\w\\s-]', '', name)\n",
    "    name = re.sub(r'\\s+', ' ', name).strip()\n",
    "    return name"
   ]
  },
  {
   "cell_type": "code",
   "execution_count": 14,
   "id": "05f08286-d27f-4c2a-afca-dce765e72b12",
   "metadata": {},
   "outputs": [],
   "source": [
    "# 텍스트 컬럼 리스트\n",
    "text_columns = ['Machinery', 'Assembly', '청구품목', 'Part No.1', '발주처']\n",
    "\n",
    "for col in text_columns:\n",
    "    df[col] = df[col].astype(str)\n",
    "df['cleaned_machinery'] = df['Machinery'].apply(preprocess_text)\n",
    "df['cleaned_assembly'] = df['Assembly'].apply(preprocess_text)\n",
    "df['cleaned_item'] = df['청구품목'].apply(preprocess_text)\n",
    "df['cleaned_supplier'] = df['발주처'].apply(clean_supplier_name)\n",
    "\n",
    "df['combined_text'] = (\n",
    "    df['cleaned_machinery'].fillna('') + \" \" +\n",
    "    df['cleaned_assembly'].fillna('') + \" \" +\n",
    "    df['cleaned_item'].fillna('') + \" \" +\n",
    "    df['Part No.1'].fillna('') + \" \" +\n",
    "    df['cleaned_supplier'].fillna('')\n",
    ")"
   ]
  },
  {
   "cell_type": "code",
   "execution_count": 63,
   "id": "0b4db833-ea51-454c-b7f2-53e772c872e1",
   "metadata": {},
   "outputs": [
    {
     "name": "stdout",
     "output_type": "stream",
     "text": [
      "(22922, 13)\n",
      "                          Machinery       Assembly  \\\n",
      "0    CARGO BOOM VANG BLOCK (STBD 하)          BLOCK   \n",
      "1  SPANISH BOOM VANG BLOCK (PORT 상)          BLOCK   \n",
      "2                       PURSE BLOCK      TOW BLOCK   \n",
      "3                       MAIN ENGINE  POWER PACK AS   \n",
      "4                       MAIN ENGINE  POWER PACK AS   \n",
      "\n",
      "                                               청구품목               Part No.1  \\\n",
      "0  MCKISSICK CONSTRUCTION BLOCKS (WIRE SIZE : 5/8\")                C15S10BS   \n",
      "1  MCKISSICK CONSTRUCTION BLOCKS (WIRE SIZE : 5/8\")                C15D10BS   \n",
      "2                            WESTEC 20TON TOW BLOCK  WESTEC 20TON TOW BLOCK   \n",
      "3                        GE POWER PACK FORK - E7(B)                40028340   \n",
      "4                        GE POWER PACK FORK - E7(B)                40028340   \n",
      "\n",
      "                         발주처 견적화폐         발주  발주수량          발주금액 미입고 기간  \\\n",
      "0  MATSUI(U.S.A) COROPRATION  USD 2019-01-11     2  2.288732e+06    NaN   \n",
      "1  MATSUI(U.S.A) COROPRATION  USD 2019-01-11     1  1.917750e+06    NaN   \n",
      "2  MATSUI(U.S.A) COROPRATION  USD 2019-01-11     1  6.538572e+06    NaN   \n",
      "3  MATSUI(U.S.A) COROPRATION  USD 2019-04-01     8  3.680000e+07    NaN   \n",
      "4  MATSUI(U.S.A) COROPRATION  USD 2019-04-01     8  3.680000e+07    NaN   \n",
      "\n",
      "        창고입고   리드타임                                      combined_text  \n",
      "0 2019-05-03  112.0  cargo boom vang block block mckissick construc...  \n",
      "1 2019-04-18   97.0  spanish boom vang block block mckissick constr...  \n",
      "2 2019-05-03  112.0  purse block tow block westec 20ton tow block W...  \n",
      "3 2019-04-01    1.0  main engine power pack as ge power pack fork -...  \n",
      "4 2019-04-01    1.0  main engine power pack as ge power pack fork -...  \n"
     ]
    }
   ],
   "source": [
    "# 최종 데이터프레임 선택\n",
    "final_df = df[['Machinery', 'Assembly', '청구품목', 'Part No.1', '발주처', '견적화폐', '발주',\n",
    "               '발주수량', '발주금액', '미입고 기간', '창고입고', '리드타임', 'combined_text']].copy()\n",
    "\n",
    "# 최종 데이터프레임 확인\n",
    "print(final_df.shape)\n",
    "print(final_df.head())"
   ]
  },
  {
   "cell_type": "markdown",
   "id": "8ea612f1-3192-4263-bccb-40dc435ebd1d",
   "metadata": {},
   "source": [
    "### 데이터 분할"
   ]
  },
  {
   "cell_type": "code",
   "execution_count": 50,
   "id": "cbbd380a-07de-42d9-8df0-c9b6399434fb",
   "metadata": {},
   "outputs": [],
   "source": [
    "from sklearn.model_selection import train_test_split\n",
    "from transformers import BertTokenizer, BertModel\n",
    "import torch\n",
    "from torch.utils.data import DataLoader, TensorDataset \n",
    "\n",
    "device = torch.device('cuda' if torch.cuda.is_available() else 'cpu')"
   ]
  },
  {
   "cell_type": "code",
   "execution_count": 51,
   "id": "256dfcee-5422-4415-88ec-1524ff526e15",
   "metadata": {},
   "outputs": [
    {
     "name": "stderr",
     "output_type": "stream",
     "text": [
      "C:\\Users\\User\\anaconda3\\envs\\ship\\Lib\\site-packages\\transformers\\tokenization_utils_base.py:1601: FutureWarning: `clean_up_tokenization_spaces` was not set. It will be set to `True` by default. This behavior will be depracted in transformers v4.45, and will be then set to `False` by default. For more details check this issue: https://github.com/huggingface/transformers/issues/31884\n",
      "  warnings.warn(\n"
     ]
    }
   ],
   "source": [
    "tokenizer = BertTokenizer.from_pretrained('bert-base-uncased')\n",
    "bert_model = BertModel.from_pretrained('bert-base-uncased').to(device)"
   ]
  },
  {
   "cell_type": "code",
   "execution_count": 52,
   "id": "ba3b437a-f7c4-4f67-9dd5-5953083de550",
   "metadata": {},
   "outputs": [],
   "source": [
    "def encode_data(texts):\n",
    "    return tokenizer(texts.tolist(), padding=True, truncation=True, max_length=128, return_tensors='pt').to(device)"
   ]
  },
  {
   "cell_type": "code",
   "execution_count": 53,
   "id": "59be1439-060e-42fb-8169-f6693d6c4ba3",
   "metadata": {},
   "outputs": [],
   "source": [
    "def get_embeddings_batchwise(encodings, model, batch_size=16):\n",
    "    dataset = TensorDataset(encodings['input_ids'], encodings['attention_mask'], encodings['token_type_ids'])\n",
    "    dataloader = DataLoader(dataset, batch_size=batch_size)\n",
    "\n",
    "    all_embeddings = []\n",
    "    model.eval()\n",
    "    with torch.no_grad():\n",
    "        for batch in dataloader:\n",
    "            input_ids, attention_mask, token_type_ids = [t.to(device) for t in batch]\n",
    "            outputs = model(input_ids=input_ids, attention_mask=attention_mask, token_type_ids=token_type_ids)\n",
    "            all_embeddings.append(outputs.pooler_output.cpu())\n",
    "\n",
    "    return torch.cat(all_embeddings, dim=0)"
   ]
  },
  {
   "cell_type": "markdown",
   "id": "1d171143-d26c-4224-8522-25f7307d9f11",
   "metadata": {},
   "source": [
    "### 발주일자가 창고입고보다 앞선 날짜라 - 값 나오는 애들 drop"
   ]
  },
  {
   "cell_type": "code",
   "execution_count": 64,
   "id": "a36a75e7-4ba1-45b6-8e2f-eede46c59576",
   "metadata": {},
   "outputs": [
    {
     "name": "stdout",
     "output_type": "stream",
     "text": [
      "              발주       창고입고  리드타임                               청구품목 견적화폐\n",
      "2090  2020-01-08 2020-01-06  -2.0             MAIN ENGINE SYSTEM OIL  KRW\n",
      "2091  2020-01-08 2020-01-06  -2.0       REFRIGERATION COMPRESSOR OIL  KRW\n",
      "2327  2019-10-22 2019-10-19  -3.0                      FLEXIBLE HOSE  JPY\n",
      "2328  2019-10-22 2019-10-19  -3.0  SEAL KIT FOR HA4VSO250DP HYD PUMP  JPY\n",
      "2329  2019-10-22 2019-10-19  -3.0                      RETURN FILTER  JPY\n",
      "...          ...        ...   ...                                ...  ...\n",
      "20449 2021-11-29 2021-11-22  -7.0  FILTER ELEMENT WITH VITON O-RINGS  KRW\n",
      "20461 2021-12-15 2021-12-14  -1.0                 OIL COOLER & LINES  KRW\n",
      "21527 2021-12-01 2021-11-22  -9.0                         CONT GP -E  KRW\n",
      "23656 2022-04-19 2022-04-09 -10.0                            BATTERY  USD\n",
      "23983 2021-11-25 2021-11-19  -6.0                            BEARING  USD\n",
      "\n",
      "[368 rows x 5 columns]\n"
     ]
    }
   ],
   "source": [
    "negative_lead_time = final_df[final_df['리드타임'] < 0]\n",
    "print(negative_lead_time[['발주', '창고입고', '리드타임', '청구품목', '견적화폐']]) "
   ]
  },
  {
   "cell_type": "code",
   "execution_count": 84,
   "id": "bde40b3b-d566-4b4a-8b85-c255fe7d2151",
   "metadata": {},
   "outputs": [
    {
     "name": "stdout",
     "output_type": "stream",
     "text": [
      "NaN 값 제거 후 데이터 크기: (20934, 13)\n",
      "Texts: (20934,)\n"
     ]
    }
   ],
   "source": [
    "from sklearn.preprocessing import StandardScaler\n",
    "\n",
    "# 1. '미입고 기간'이 없는 데이터만 필터링\n",
    "fdata = final_df[final_df['미입고 기간'].isnull()].copy()\n",
    "fdata = fdata[fdata['리드타임'] >= 0]\n",
    "fdata = fdata.dropna(subset=['창고입고'])\n",
    "print(f\"NaN 값 제거 후 데이터 크기: {fdata.shape}\")\n",
    "\n",
    "# 2. 필터링된 데이터의 텍스트 데이터 준비\n",
    "texts = fdata['combined_text']\n",
    "print(f\"Texts: {texts.shape}\")\n",
    "\n"
   ]
  },
  {
   "cell_type": "code",
   "execution_count": null,
   "id": "aef6d7ee-d12b-4e09-9f83-1f9430f48399",
   "metadata": {},
   "outputs": [],
   "source": [
    "\n",
    "# 3. BERT 임베딩 생성\n",
    "encodings = encode_data(texts)\n",
    "embeddings = get_embeddings_batchwise(encodings, bert_model)\n",
    "\n",
    "# 4. '견적화폐' 원-핫 인코딩\n",
    "currency_ohe = OneHotEncoder(sparse_output=False)\n",
    "currency_encoded = currency_ohe.fit_transform(fdata[['견적화폐']])\n",
    "\n",
    "scaler = StandardScaler()\n",
    "currency_encoded_normalized = scaler.fit_transform(currency_encoded)\n"
   ]
  },
  {
   "cell_type": "code",
   "execution_count": 66,
   "id": "cb55219d-8f66-4bfe-a7e4-a7c5fd3e78b1",
   "metadata": {},
   "outputs": [
    {
     "name": "stdout",
     "output_type": "stream",
     "text": [
      "X shape: (20934, 772)\n",
      "y shape: (20934,)\n"
     ]
    }
   ],
   "source": [
    "# 5. BERT 임베딩과 정규화된 '견적화폐' 결합(정규화하는 수치형 데이터만 처리:)\n",
    "X = np.concatenate([embeddings.numpy(), currency_encoded], axis=1)\n",
    "print(f\"X shape: {X.shape}\")\n",
    "\n",
    "# 6. 리드타임 타겟 값 준비 (필터링된 fdata에 맞춰야 함)\n",
    "y = fdata['리드타임'].values\n",
    "print(f\"y shape: {y.shape}\")"
   ]
  },
  {
   "cell_type": "code",
   "execution_count": 67,
   "id": "846139f4-d922-404c-8107-38852c79451d",
   "metadata": {},
   "outputs": [],
   "source": [
    "X_train, X_test, y_train, y_test = train_test_split(X, y, test_size = 0.2, random_state=42)"
   ]
  },
  {
   "cell_type": "code",
   "execution_count": 68,
   "id": "8a4c395e-8f6e-45f8-b8de-6084138be165",
   "metadata": {},
   "outputs": [
    {
     "name": "stdout",
     "output_type": "stream",
     "text": [
      "XGBoost 테스트 데이터의 MSE: 3147.3068480629686\n"
     ]
    }
   ],
   "source": [
    "# 4. 리드타임 회귀 모델 학습 (예: XGBoost 사용)\n",
    "from sklearn.model_selection import train_test_split\n",
    "from xgboost import XGBRegressor\n",
    "from sklearn.metrics import mean_squared_error\n",
    "\n",
    "xgb_regressor = XGBRegressor()\n",
    "xgb_regressor.fit(X_train, y_train)\n",
    "\n",
    "# 모델 성능 평가\n",
    "y_pred = xgb_regressor.predict(X_test)\n",
    "print(f\"XGBoost 테스트 데이터의 MSE: {mean_squared_error(y_test, y_pred)}\")"
   ]
  },
  {
   "cell_type": "code",
   "execution_count": 75,
   "id": "b993dc40-46e3-43bd-a5c9-9fc23f781a48",
   "metadata": {},
   "outputs": [
    {
     "data": {
      "image/png": "[encoded data removed]",
      "text/plain": [
       "<Figure size 640x480 with 1 Axes>"
      ]
     },
     "metadata": {},
     "output_type": "display_data"
    }
   ],
   "source": [
    "import matplotlib\n",
    "import matplotlib.pyplot as plt\n",
    "# 리드타임 값의 분포 확인\n",
    "\n",
    "matplotlib.rcParams['font.family'] = 'Malgun Gothic'\n",
    "\n",
    "plt.hist(y, bins=50)\n",
    "plt.title('분포도')\n",
    "plt.xlabel('Lead Time (days)')\n",
    "plt.ylabel('Frequency')\n",
    "plt.show()"
   ]
  },
  {
   "cell_type": "code",
   "execution_count": 78,
   "id": "b5b647a4-305a-4225-b638-f72934e175aa",
   "metadata": {},
   "outputs": [
    {
     "name": "stdout",
     "output_type": "stream",
     "text": [
      "리드타임이 1인 데이터 수: 435\n",
      "           발주       창고입고  리드타임\n",
      "3  2019-04-01 2019-04-01   1.0\n",
      "4  2019-04-01 2019-04-01   1.0\n",
      "41 2019-02-08 2019-02-08   1.0\n",
      "64 2019-04-01 2019-04-01   1.0\n",
      "65 2019-04-01 2019-04-01   1.0\n"
     ]
    }
   ],
   "source": [
    "# 리드타임이 1인 데이터를 필터링\n",
    "lead_time_one = fdata[fdata['리드타임'] == 1]\n",
    "\n",
    "# 리드타임이 1인 데이터 확인\n",
    "print(f\"리드타임이 1인 데이터 수: {len(lead_time_one)}\")\n",
    "print(lead_time_one[['발주', '창고입고', '리드타임']].head())\n"
   ]
  },
  {
   "cell_type": "code",
   "execution_count": 79,
   "id": "05d886c4-d3f4-4614-a834-16c8b573e6ea",
   "metadata": {},
   "outputs": [
    {
     "data": {
      "image/png": "[encoded data removed]",
      "text/plain": [
       "<Figure size 640x480 with 1 Axes>"
      ]
     },
     "metadata": {},
     "output_type": "display_data"
    },
    {
     "data": {
      "image/png": "[encoded data removed]",
      "text/plain": [
       "<Figure size 640x480 with 1 Axes>"
      ]
     },
     "metadata": {},
     "output_type": "display_data"
    }
   ],
   "source": [
    "# 리드타임 1인 데이터 분포 시각화\n",
    "plt.hist(lead_time_one['리드타임'], bins=50, alpha=0.5, label='Lead Time = 1')\n",
    "plt.title('Distribution of Lead Time (1 day)')\n",
    "plt.xlabel('Lead Time (days)')\n",
    "plt.ylabel('Frequency')\n",
    "plt.legend()\n",
    "plt.show()\n",
    "\n",
    "# 리드타임 1이 아닌 데이터 시각화\n",
    "lead_time_more_than_one = fdata[fdata['리드타임'] > 1]\n",
    "plt.hist(lead_time_more_than_one['리드타임'], bins=50, alpha=0.5, label='Lead Time > 1')\n",
    "plt.title('Distribution of Lead Time (>1 day)')\n",
    "plt.xlabel('Lead Time (days)')\n",
    "plt.ylabel('Frequency')\n",
    "plt.legend()\n",
    "plt.show()"
   ]
  },
  {
   "cell_type": "code",
   "execution_count": 80,
   "id": "6c14450a-1b80-4ce9-9ad4-811a670ff136",
   "metadata": {},
   "outputs": [
    {
     "name": "stdout",
     "output_type": "stream",
     "text": [
      "              발주       창고입고  리드타임\n",
      "3     2019-04-01 2019-04-01   1.0\n",
      "4     2019-04-01 2019-04-01   1.0\n",
      "41    2019-02-08 2019-02-08   1.0\n",
      "64    2019-04-01 2019-04-01   1.0\n",
      "65    2019-04-01 2019-04-01   1.0\n",
      "...          ...        ...   ...\n",
      "24576 2022-03-25 2022-03-31   6.0\n",
      "24577 2022-03-25 2022-03-31   6.0\n",
      "24578 2022-03-25 2022-03-31   6.0\n",
      "24579 2022-03-25 2022-03-31   6.0\n",
      "24580 2022-03-25 2022-03-31   6.0\n",
      "\n",
      "[2189 rows x 3 columns]\n",
      "리드타임이 10일 이하인 데이터 수: 2189\n"
     ]
    },
    {
     "data": {
      "image/png": "[encoded data removed]",
      "text/plain": [
       "<Figure size 640x480 with 1 Axes>"
      ]
     },
     "metadata": {},
     "output_type": "display_data"
    }
   ],
   "source": [
    "# 리드타임이 10일 이하인 값 확인\n",
    "small_lead_times = fdata[fdata['리드타임'] <= 10]\n",
    "\n",
    "# 리드타임이 작은 데이터 요약\n",
    "print(small_lead_times[['발주', '창고입고', '리드타임']])\n",
    "print(f\"리드타임이 10일 이하인 데이터 수: {len(small_lead_times)}\")\n",
    "\n",
    "# 시각화\n",
    "plt.hist(small_lead_times['리드타임'], bins=10)\n",
    "plt.title('Lead Time Distribution (<=10 days)')\n",
    "plt.xlabel('Lead Time (days)')\n",
    "plt.ylabel('Frequency')\n",
    "plt.show()"
   ]
  },
  {
   "cell_type": "code",
   "execution_count": 85,
   "id": "f7dfc461-09f6-415f-95aa-393133f4d40f",
   "metadata": {},
   "outputs": [
    {
     "data": {
      "image/png": "[encoded data removed]",
      "text/plain": [
       "<Figure size 640x480 with 1 Axes>"
      ]
     },
     "metadata": {},
     "output_type": "display_data"
    }
   ],
   "source": [
    "# 리드타임 로그 변환\n",
    "fdata['log_리드타임'] = np.log1p(fdata['리드타임'])  # log(1+x)로 변환해 0값도 처리 가능\n",
    "\n",
    "# 로그 변환 후 분포 시각화\n",
    "plt.hist(fdata['log_리드타임'], bins=50)\n",
    "plt.title('Log Transformed Lead Time Distribution')\n",
    "plt.xlabel('Log(Lead Time)')\n",
    "plt.ylabel('Frequency')\n",
    "plt.show()\n"
   ]
  },
  {
   "cell_type": "code",
   "execution_count": 86,
   "id": "27001836-84ab-46a5-9cd0-ecafcfda6396",
   "metadata": {},
   "outputs": [
    {
     "name": "stdout",
     "output_type": "stream",
     "text": [
      "XGBoost 테스트 데이터의 MSE (로그 변환 후): 3452.9250759349707\n"
     ]
    }
   ],
   "source": [
    "# 로그 변환된 리드타임으로 모델 학습\n",
    "X = np.concatenate([embeddings.numpy(), currency_encoded], axis=1)\n",
    "y = fdata['log_리드타임'].values\n",
    "\n",
    "X_train, X_test, y_train, y_test = train_test_split(X, y, test_size=0.2, random_state=42)\n",
    "xgb_regressor.fit(X_train, y_train)\n",
    "\n",
    "# 예측 후 로그 변환을 다시 원래 값으로 되돌림\n",
    "y_pred_log = xgb_regressor.predict(X_test)\n",
    "y_pred = np.expm1(y_pred_log)  # exp(log(x+1)) - 1로 원래 값 복원\n",
    "\n",
    "# 모델 성능 평가\n",
    "print(f\"XGBoost 테스트 데이터의 MSE (로그 변환 후): {mean_squared_error(np.expm1(y_test), y_pred)}\")\n"
   ]
  },
  {
   "cell_type": "code",
   "execution_count": null,
   "id": "770f3368-3b2b-46db-b3e1-dc5d7dd84529",
   "metadata": {},
   "outputs": [],
   "source": []
  }
 ],
 "metadata": {
  "kernelspec": {
   "display_name": "Python (ship)",
   "language": "python",
   "name": "ship"
  },
  "language_info": {
   "codemirror_mode": {
    "name": "ipython",
    "version": 3
   },
   "file_extension": ".py",
   "mimetype": "text/x-python",
   "name": "python",
   "nbconvert_exporter": "python",
   "pygments_lexer": "ipython3",
   "version": "3.12.5"
  }
 },
 "nbformat": 4,
 "nbformat_minor": 5
}
