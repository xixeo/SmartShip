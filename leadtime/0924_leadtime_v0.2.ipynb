{
 "cells": [
  {
   "cell_type": "code",
   "execution_count": 1,
   "id": "496f2a9e-661c-4800-af46-a4eeefc9998f",
   "metadata": {},
   "outputs": [],
   "source": [
    "import pandas as pd\n",
    "import numpy as np\n",
    "import re\n",
    "import matplotlib.pyplot as plt\n",
    "\n",
    "from sklearn.model_selection import train_test_split\n",
    "from sklearn.preprocessing import LabelEncoder, OneHotEncoder\n",
    "from sklearn.ensemble import RandomForestClassifier\n",
    "from sklearn.metrics import classification_report, accuracy_score\n",
    "from transformers import BertTokenizer"
   ]
  },
  {
   "cell_type": "code",
   "execution_count": 14,
   "id": "ead46d44-e3c4-464b-9c55-8e68b61685f8",
   "metadata": {},
   "outputs": [],
   "source": [
    "df=pd.read_excel('dataset_filledsupplier_currency_orderday.xlsx')"
   ]
  },
  {
   "cell_type": "code",
   "execution_count": 3,
   "id": "05aef43a-0b3e-408b-ba95-70285b38f602",
   "metadata": {},
   "outputs": [
    {
     "name": "stdout",
     "output_type": "stream",
     "text": [
      "<class 'pandas.core.frame.DataFrame'>\n",
      "RangeIndex: 24621 entries, 0 to 24620\n",
      "Data columns (total 32 columns):\n",
      " #   Column       Non-Null Count  Dtype  \n",
      "---  ------       --------------  -----  \n",
      " 0   청구서번호        24621 non-null  object \n",
      " 1   No.          24621 non-null  int64  \n",
      " 2   Subject      24599 non-null  object \n",
      " 3   Machinery    24621 non-null  object \n",
      " 4   Assembly     24621 non-null  object \n",
      " 5   청구품목         24621 non-null  object \n",
      " 6   Unnamed: 6   0 non-null      float64\n",
      " 7   Part No.1    24602 non-null  object \n",
      " 8   Part No.2    3592 non-null   object \n",
      " 9   청구량          24517 non-null  float64\n",
      " 10  견적           24171 non-null  object \n",
      " 11  견적수량         24517 non-null  float64\n",
      " 12  견적화폐         24621 non-null  object \n",
      " 13  견적단가         24621 non-null  float64\n",
      " 14  발주번호         24621 non-null  object \n",
      " 15  발주처          24621 non-null  object \n",
      " 16  발주           24621 non-null  object \n",
      " 17  발주수량         24621 non-null  int64  \n",
      " 18  발주금액         24621 non-null  float64\n",
      " 19  D/T          22292 non-null  object \n",
      " 20  미입고 기간       1620 non-null   object \n",
      " 21  창고입고         21302 non-null  object \n",
      " 22  창고입고수량       24621 non-null  int64  \n",
      " 23  Control No.  15433 non-null  object \n",
      " 24  입고창고         21302 non-null  object \n",
      " 25  창고출고         19258 non-null  object \n",
      " 26  창고출고수량       24621 non-null  int64  \n",
      " 27  출고선박         19258 non-null  object \n",
      " 28  출고운반선        19258 non-null  object \n",
      " 29  선박입고         5374 non-null   object \n",
      " 30  선박입고수량       24621 non-null  int64  \n",
      " 31  완료 여부        5362 non-null   object \n",
      "dtypes: float64(5), int64(5), object(22)\n",
      "memory usage: 6.0+ MB\n"
     ]
    }
   ],
   "source": [
    "df.info()"
   ]
  },
  {
   "cell_type": "code",
   "execution_count": 4,
   "id": "eb2252db-28d5-446a-877e-e003fc04a134",
   "metadata": {},
   "outputs": [
    {
     "name": "stdout",
     "output_type": "stream",
     "text": [
      "81\n"
     ]
    }
   ],
   "source": [
    "print(len(df['발주처'].unique()))"
   ]
  },
  {
   "cell_type": "markdown",
   "id": "8fce6d15-4bb0-4aaa-8501-039d839b3bc4",
   "metadata": {},
   "source": [
    "## 클리닝"
   ]
  },
  {
   "cell_type": "code",
   "execution_count": 15,
   "id": "b2089545-cb02-4012-88a9-0da4869c274e",
   "metadata": {},
   "outputs": [
    {
     "name": "stdout",
     "output_type": "stream",
     "text": [
      "발주 일자는 있지만 미입고 기간, 창고 입고, 선박 입고도 없는 경우: 1699개\n",
      "삭제된 행의 개수: 1699개\n",
      "남은 데이터프레임의 크기: (22922, 32)\n"
     ]
    }
   ],
   "source": [
    "missing_conditions = df[\n",
    "    df['발주'].notnull() &  # 발주 일자는 비어있지 않음\n",
    "    df['미입고 기간'].isnull() &  # 미입고 기간은 비어있음\n",
    "    df['창고입고'].isnull() & # 창고 입고도 비어있음\n",
    "    df['선박입고'].isnull()  # 선박 입고도 비어있음\n",
    "\n",
    "]\n",
    "\n",
    "print(f\"발주 일자는 있지만 미입고 기간, 창고 입고, 선박 입고도 없는 경우: {len(missing_conditions)}개\")\n",
    "df = df.drop(missing_conditions.index)\n",
    "\n",
    "print(f\"삭제된 행의 개수: {len(missing_conditions)}개\")\n",
    "print(f\"남은 데이터프레임의 크기: {df.shape}\")"
   ]
  },
  {
   "cell_type": "code",
   "execution_count": 16,
   "id": "116fd26a-b562-4f62-a379-b2f3c8de8dce",
   "metadata": {},
   "outputs": [
    {
     "name": "stdout",
     "output_type": "stream",
     "text": [
      "창고 입고일은 없고 미입고 기간은 명시되어 있어 미입고 기간으로 분류해야 할 경우 : 1620개\n"
     ]
    }
   ],
   "source": [
    "#미입고기간으로 처리.\n",
    "missing_both = df[df['창고입고'].isnull() & df['미입고 기간'].notnull()]\n",
    "\n",
    "print(f\"창고 입고일은 없고 미입고 기간은 명시되어 있어 미입고 기간으로 분류해야 할 경우 : {len(missing_both)}개\")"
   ]
  },
  {
   "cell_type": "code",
   "execution_count": 22,
   "id": "ad7c6f0d-1824-4137-b59c-b9b42303c78b",
   "metadata": {},
   "outputs": [
    {
     "name": "stdout",
     "output_type": "stream",
     "text": [
      "(18804, 33)\n"
     ]
    }
   ],
   "source": [
    "df = df[df['미입고 기간'].isnull()]\n",
    "\n",
    "df['발주'] = pd.to_datetime(df['발주'], errors='coerce')\n",
    "df['창고입고'] = pd.to_datetime(df['창고입고'], errors='coerce')\n",
    "\n",
    "# 리드타임 계산\n",
    "df['리드타임'] = (df['창고입고'] - df['발주']).dt.days\n",
    "\n",
    "# 리드타임이 0인 경우 1로 변경\n",
    "df['리드타임'] = df['리드타임'].apply(lambda x: 1 if x == 0 else x)\n",
    "\n",
    "# 리드타임이 1일 미만이거나 200일을 초과한 경우 제거\n",
    "df = df[(df['리드타임'] > 0 ) & (df['리드타임'] <=160)]\n",
    "\n",
    "# 창고입고가 결측값인 행 제거\n",
    "df = df.dropna(subset=['창고입고'])\n",
    "\n",
    "print(df.shape)"
   ]
  },
  {
   "cell_type": "code",
   "execution_count": 23,
   "id": "74c885e4-868c-4225-af2b-d0d53b365913",
   "metadata": {},
   "outputs": [],
   "source": [
    "columns_to_keep = ['Machinery', 'Assembly', '청구품목', '발주처', '견적화폐', '견적단가', '발주수량', '발주', '창고입고', '리드타임']\n",
    "df = df[columns_to_keep]"
   ]
  },
  {
   "cell_type": "code",
   "execution_count": 24,
   "id": "9a67aca9-3917-46d8-bb94-8a2b0d33de9c",
   "metadata": {},
   "outputs": [
    {
     "name": "stdout",
     "output_type": "stream",
     "text": [
      "Machinery    0\n",
      "Assembly     0\n",
      "청구품목         0\n",
      "발주처          0\n",
      "견적화폐         0\n",
      "견적단가         0\n",
      "발주수량         0\n",
      "발주           0\n",
      "창고입고         0\n",
      "리드타임         0\n",
      "dtype: int64\n"
     ]
    }
   ],
   "source": [
    "print(df.isnull().sum())"
   ]
  },
  {
   "cell_type": "code",
   "execution_count": 25,
   "id": "51166f8a-d406-4d21-a813-487b919f0a3b",
   "metadata": {},
   "outputs": [
    {
     "name": "stdout",
     "output_type": "stream",
     "text": [
      "count    18804.000000\n",
      "mean        62.048447\n",
      "std         46.321266\n",
      "min          1.000000\n",
      "25%         18.000000\n",
      "50%         56.000000\n",
      "75%         97.000000\n",
      "max        160.000000\n",
      "Name: 리드타임, dtype: float64\n"
     ]
    }
   ],
   "source": [
    "print(df['리드타임'].describe())\n"
   ]
  },
  {
   "cell_type": "code",
   "execution_count": 26,
   "id": "588ca0cd-070a-4eab-9cb9-cdec247c167f",
   "metadata": {},
   "outputs": [
    {
     "data": {
      "image/png": "[encoded data removed]",
      "text/plain": [
       "<Figure size 1000x600 with 1 Axes>"
      ]
     },
     "metadata": {},
     "output_type": "display_data"
    }
   ],
   "source": [
    "import matplotlib.pyplot as plt\n",
    "import seaborn as sns\n",
    "\n",
    "plt.rcParams['font.family']='Malgun Gothic'\n",
    "\n",
    "plt.figure(figsize=(10, 6))\n",
    "sns.histplot(df['리드타임'], bins=30, kde=True)\n",
    "plt.title('리드타임 분포')\n",
    "plt.xlabel('리드타임 (일)')\n",
    "plt.ylabel('빈도')\n",
    "plt.show()"
   ]
  },
  {
   "cell_type": "code",
   "execution_count": 27,
   "id": "fa168de0-9556-4a8e-9766-9c9f123683f9",
   "metadata": {},
   "outputs": [
    {
     "data": {
      "image/png": "[encoded data removed]",
      "text/plain": [
       "<Figure size 1000x600 with 1 Axes>"
      ]
     },
     "metadata": {},
     "output_type": "display_data"
    }
   ],
   "source": [
    "df['리드타임_범주'] = pd.cut(df['리드타임'], bins=[0, 7, 14, 30, 60, 90, df['리드타임'].max()], labels=['1주 이내', '2주 이내', '1개월 이내', '2개월 이내', '3개월 이내', '3개월 이상'])\n",
    "plt.rcParams['font.family']='Malgun Gothic'\n",
    "plt.figure(figsize=(10, 6))\n",
    "sns.countplot(data=df, x='리드타임_범주')\n",
    "plt.title('리드타임 범주 분포')\n",
    "plt.xlabel('리드타임 범주')\n",
    "plt.ylabel('빈도')\n",
    "plt.show()"
   ]
  },
  {
   "cell_type": "markdown",
   "id": "315aaac3-23bc-4114-aa65-724a5fdaac0d",
   "metadata": {},
   "source": [
    "### 리드타임 예측 (회귀)\n",
    "1. 텍스트 칼럼 결합 및 BERT 임베딩\n",
    "2. ( 수치형 데이터(견적단가 및 발주량) Scaling )\n",
    "3. 범주형 데이터(견적화폐) onehotEncoding\n",
    "4. 모델의 입력, 2.3데이터 결합 => 리드타임 예측"
   ]
  },
  {
   "cell_type": "markdown",
   "id": "debf6c2a-35d8-4df0-a7ef-cd9d3c2541d6",
   "metadata": {},
   "source": [
    "## 전처리\n",
    "\n",
    "> 각 텍스트 필드 개별적으로 rf idf 변환하고 결합"
   ]
  },
  {
   "cell_type": "code",
   "execution_count": 28,
   "id": "b81e9c88-d80d-45b4-b343-f433a440d48b",
   "metadata": {},
   "outputs": [],
   "source": [
    "import re\n",
    "\n",
    "def preprocess_text(text):\n",
    "    text = text.lower()\n",
    "    text = re.sub(r'\\([^)]*\\)', '', text)\n",
    "    text = re.sub(r'[^\\w\\s\\*/\\-\\+.,#&]', '', text)\n",
    "    text = re.sub(r'\\s+', ' ', text)\n",
    "    text = re.sub(r'\\b(사용금지|사)\\b', '', text, flags=re.IGNORECASE)\n",
    "    text = text.strip()\n",
    "    return text\n",
    "\n",
    "def clean_supplier_name(name):\n",
    "    name = name.lower()\n",
    "    name = re.sub(r'coporation|coropration|coproration|corporration', 'corporation', name)\n",
    "    name = re.sub(r'\\(사용금지\\)', '', name)\n",
    "    name = re.sub(r'u\\.s\\.a', '_usa', name)\n",
    "    name = re.sub(r'\\.', '', name)\n",
    "    suffixes = r'(corporation|corp|company|co|incorporated|inc|limited|ltd|상사|공사|엔지니어링|주식회사|주|gmbh|pte ltd|llc)'\n",
    "    name = re.sub(suffixes, '', name, flags=re.IGNORECASE)\n",
    "    name = re.sub(r'[^\\w\\s-]', '', name)\n",
    "    name = re.sub(r'\\s+', ' ', name).strip()\n",
    "    return name"
   ]
  },
  {
   "cell_type": "code",
   "execution_count": 29,
   "id": "05f08286-d27f-4c2a-afca-dce765e72b12",
   "metadata": {},
   "outputs": [],
   "source": [
    "text_columns = ['Machinery', 'Assembly', '청구품목']\n",
    "\n",
    "for col in text_columns:\n",
    "    df[col] = df[col].astype(str)\n",
    "df['cleaned_machinery'] = df['Machinery'].apply(preprocess_text)\n",
    "df['cleaned_assembly'] = df['Assembly'].apply(preprocess_text)\n",
    "df['cleaned_item'] = df['청구품목'].apply(preprocess_text)\n"
   ]
  },
  {
   "cell_type": "code",
   "execution_count": 40,
   "id": "2afba987-9259-427d-ac6a-05ea121a8136",
   "metadata": {},
   "outputs": [],
   "source": [
    "#!conda install conda-forge::category_encoders -y"
   ]
  },
  {
   "cell_type": "code",
   "execution_count": 30,
   "id": "d2a9542f-e889-48be-a25f-10f29056f6d0",
   "metadata": {},
   "outputs": [
    {
     "name": "stdout",
     "output_type": "stream",
     "text": [
      "  cleaned_supplier  발주처_encoded  리드타임\n",
      "0       matsui_usa     81.49162   112\n",
      "1       matsui_usa     81.49162    97\n",
      "2       matsui_usa     81.49162   112\n",
      "3       matsui_usa     81.49162     1\n",
      "4       matsui_usa     81.49162     1\n"
     ]
    }
   ],
   "source": [
    "import category_encoders as ce\n",
    "\n",
    "# 발주처의 전처리\n",
    "df['cleaned_supplier'] = df['발주처'].apply(clean_supplier_name)\n",
    "\n",
    "# 발주처를 스무딩이 적용된 타겟 인코딩 (리드타임을 목표 변수로 가정)\n",
    "target_encoder = ce.TargetEncoder(cols=['cleaned_supplier'], smoothing=10)\n",
    "df['발주처_encoded'] = target_encoder.fit_transform(df['cleaned_supplier'], df['리드타임'])\n",
    "\n",
    "# 결과 확인\n",
    "print(df[['cleaned_supplier', '발주처_encoded', '리드타임']].head())"
   ]
  },
  {
   "cell_type": "markdown",
   "id": "8ea612f1-3192-4263-bccb-40dc435ebd1d",
   "metadata": {},
   "source": [
    "### 데이터 분할\n",
    "\n",
    "> 로그 변환 및 tf-idf 벡터화 시 nan 값 생길 수 있으므로 처리에 주의요함"
   ]
  },
  {
   "cell_type": "code",
   "execution_count": 31,
   "id": "cbbd380a-07de-42d9-8df0-c9b6399434fb",
   "metadata": {},
   "outputs": [],
   "source": [
    "from sklearn.preprocessing import OneHotEncoder, StandardScaler, MinMaxScaler\n",
    "import numpy as np\n",
    "from scipy.sparse import hstack, csr_matrix\n",
    "\n",
    "# 환율 설정\n",
    "exchange_rate = {\n",
    "    'KRW': 1/1300, \n",
    "    'USD': 1,      \n",
    "    'EUR': 1.1,     \n",
    "    'JPY': 1/110    \n",
    "}\n",
    "\n",
    "# 1. 수치형 데이터 처리 (로그 변환 및 NaN 처리)\n",
    "df['converted_unit_price'] = df.apply(lambda x: x['견적단가'] * exchange_rate[x['견적화폐']], axis=1)\n",
    "df['converted_price'] = df['converted_unit_price'] * df['발주수량']\n",
    "\n",
    "# 로그 변환 전에 0 이하의 값 제거\n",
    "df = df[df['converted_price'] > 0]\n",
    "\n",
    "# 로그 변환 후 NaN 값 제거\n",
    "df['log_converted_price'] = np.log1p(df['converted_price'])\n",
    "\n",
    "# 수치형 데이터에 대해 NaN 제거\n",
    "df = df.dropna(subset=['log_converted_price', '발주수량'])\n",
    "\n"
   ]
  },
  {
   "cell_type": "code",
   "execution_count": 32,
   "id": "9ea22818-d805-49dc-9b3a-fdd841d626f4",
   "metadata": {},
   "outputs": [
    {
     "name": "stdout",
     "output_type": "stream",
     "text": [
      "TF-IDF Machinery Shape: (18758, 135)\n",
      "TF-IDF Assembly Shape: (18758, 1607)\n",
      "TF-IDF Item Shape: (18758, 2837)\n"
     ]
    }
   ],
   "source": [
    "from sklearn.feature_extraction.text import TfidfVectorizer\n",
    "\n",
    "tfidf_machinery = TfidfVectorizer(max_features=5000)  \n",
    "tfidf_assembly = TfidfVectorizer(max_features=5000)\n",
    "tfidf_item = TfidfVectorizer(max_features=5000)\n",
    "\n",
    "tfidf_machinery_matrix = tfidf_machinery.fit_transform(df['cleaned_machinery'])\n",
    "tfidf_assembly_matrix = tfidf_assembly.fit_transform(df['cleaned_assembly'])\n",
    "tfidf_item_matrix = tfidf_item.fit_transform(df['cleaned_item'])\n",
    "\n",
    "print(f\"TF-IDF Machinery Shape: {tfidf_machinery_matrix.shape}\")\n",
    "print(f\"TF-IDF Assembly Shape: {tfidf_assembly_matrix.shape}\")\n",
    "print(f\"TF-IDF Item Shape: {tfidf_item_matrix.shape}\")"
   ]
  },
  {
   "cell_type": "code",
   "execution_count": 33,
   "id": "82bdffaa-87cb-4e6b-9507-4ed95e9cf4b1",
   "metadata": {},
   "outputs": [],
   "source": [
    "# 3. 수치형 데이터 스케일링\n",
    "scaler = StandardScaler()\n",
    "log_price_scaled = scaler.fit_transform(df[['log_converted_price']])\n",
    "quantity = df[['발주수량']].values"
   ]
  },
  {
   "cell_type": "code",
   "execution_count": 34,
   "id": "9aa50697-89e1-48eb-9928-7e75f8a7c262",
   "metadata": {},
   "outputs": [
    {
     "name": "stdout",
     "output_type": "stream",
     "text": [
      "Final Feature Shape: (18758, 4586)\n"
     ]
    }
   ],
   "source": [
    "# 7. 화폐 단위 One-Hot 인코딩\n",
    "currency_ohe = OneHotEncoder(sparse_output=False)\n",
    "currency_encoded = currency_ohe.fit_transform(df[['견적화폐']])\n",
    "\n",
    "# 5. 수치형 데이터 결합 \n",
    "X_combined_numeric = np.hstack([\n",
    "    log_price_scaled, \n",
    "    quantity, \n",
    "    df['발주처_encoded'].values.reshape(-1, 1), \n",
    "    currency_encoded\n",
    "])\n",
    "\n",
    "X_text = hstack([tfidf_machinery_matrix, tfidf_assembly_matrix, tfidf_item_matrix])\n",
    "X_text_dense = X_text.toarray()\n",
    "\n",
    "# 수치형 데이터와 텍스트 데이터 모두에서 NaN이 없는 행 필터링\n",
    "valid_rows = ~np.isnan(X_combined_numeric).any(axis=1) & ~np.isnan(X_text_dense).any(axis=1)\n",
    "\n",
    "# 유효한 행으로 필터링\n",
    "X_text_filtered = X_text_dense[valid_rows]\n",
    "X_combined_numeric_filtered = X_combined_numeric[valid_rows]\n",
    "\n",
    "# 7. 최종 결합 (희소 행렬로 변환하여 결합)\n",
    "X_final = hstack([csr_matrix(X_text_filtered), csr_matrix(X_combined_numeric_filtered)])\n",
    "\n",
    "# 결과 확인\n",
    "print(f\"Final Feature Shape: {X_final.shape}\")"
   ]
  },
  {
   "cell_type": "code",
   "execution_count": 35,
   "id": "154a9140-d5fe-4a7a-aaaf-f5fc53377a62",
   "metadata": {},
   "outputs": [],
   "source": [
    "\n",
    "y = df['리드타임'].values\n",
    "\n",
    "X_train, X_test, y_train, y_test = train_test_split(X_final, y, test_size=0.2, random_state=42)\n"
   ]
  },
  {
   "cell_type": "code",
   "execution_count": null,
   "id": "0b0ece38-0ed0-430d-9204-b3072b87ba03",
   "metadata": {},
   "outputs": [],
   "source": [
    "from sklearn.ensemble import RandomForestRegressor\n",
    "from sklearn.metrics import mean_squared_error, mean_absolute_error, r2_score\n",
    "\n",
    "rf_model = RandomForestRegressor(n_estimators=100, random_state=42)\n",
    "\n",
    "# 학습\n",
    "rf_model.fit(X_train, y_train)\n",
    "\n",
    "# 예측\n",
    "y_pred = rf_model.predict(X_test)"
   ]
  },
  {
   "cell_type": "code",
   "execution_count": 144,
   "id": "f6bb7a98-6529-4914-95b7-e2110a325ba5",
   "metadata": {},
   "outputs": [
    {
     "name": "stdout",
     "output_type": "stream",
     "text": [
      "Mean Squared Error (MSE): 1729.4734436561055\n",
      "Mean Absolute Error (MAE): 28.078028884469248\n",
      "R^2 Score: 0.34482510203003125\n"
     ]
    }
   ],
   "source": [
    "# 10. 모델 평가\n",
    "from sklearn.metrics import mean_squared_error, mean_absolute_error, r2_score\n",
    "\n",
    "# 성능 평가\n",
    "mse = mean_squared_error(y_test, y_pred)\n",
    "mae = mean_absolute_error(y_test, y_pred)\n",
    "r2 = r2_score(y_test, y_pred)\n",
    "\n",
    "print(f\"Mean Squared Error (MSE): {mse}\")\n",
    "print(f\"Mean Absolute Error (MAE): {mae}\")\n",
    "print(f\"R^2 Score: {r2}\")"
   ]
  },
  {
   "cell_type": "code",
   "execution_count": null,
   "id": "59305015-a5c1-447a-b74b-4531c62cc7db",
   "metadata": {},
   "outputs": [],
   "source": []
  }
 ],
 "metadata": {
  "kernelspec": {
   "display_name": "Python (ship)",
   "language": "python",
   "name": "ship"
  },
  "language_info": {
   "codemirror_mode": {
    "name": "ipython",
    "version": 3
   },
   "file_extension": ".py",
   "mimetype": "text/x-python",
   "name": "python",
   "nbconvert_exporter": "python",
   "pygments_lexer": "ipython3",
   "version": "3.12.5"
  }
 },
 "nbformat": 4,
 "nbformat_minor": 5
}
