{
 "cells": [
  {
   "cell_type": "code",
   "execution_count": 1,
   "id": "e83a08e1-5041-4642-99f5-c82449e37554",
   "metadata": {},
   "outputs": [
    {
     "name": "stdout",
     "output_type": "stream",
     "text": [
      "CUDA available: True\n",
      "Current device: 0\n",
      "Device name: NVIDIA GeForce GTX 1650\n"
     ]
    }
   ],
   "source": [
    "import torch\n",
    "\n",
    "print(\"CUDA available:\", torch.cuda.is_available())\n",
    "\n",
    "print(\"Current device:\", torch.cuda.current_device())\n",
    "print(\"Device name:\", torch.cuda.get_device_name(torch.cuda.current_device()))"
   ]
  },
  {
   "cell_type": "code",
   "execution_count": 2,
   "id": "6526e20d-c98e-48d0-b5bb-b5f808ede823",
   "metadata": {},
   "outputs": [],
   "source": [
    "import pandas as pd\n",
    "import numpy as np\n",
    "import re\n",
    "\n",
    "from sklearn.model_selection import train_test_split\n",
    "from sklearn.preprocessing import LabelEncoder\n",
    "from sklearn.ensemble import RandomForestClassifier\n",
    "from sklearn.metrics import classification_report, accuracy_score"
   ]
  },
  {
   "cell_type": "code",
   "execution_count": 3,
   "id": "e2d1ff7f-9042-4774-94de-dd80bd002a16",
   "metadata": {},
   "outputs": [],
   "source": [
    "data=pd.read_excel('dataset0828.xlsx')"
   ]
  },
  {
   "cell_type": "code",
   "execution_count": 4,
   "id": "64cb3b8e-7afc-406b-b683-e9fc57c549b8",
   "metadata": {},
   "outputs": [
    {
     "name": "stdout",
     "output_type": "stream",
     "text": [
      "<class 'pandas.core.frame.DataFrame'>\n",
      "RangeIndex: 24664 entries, 0 to 24663\n",
      "Data columns (total 32 columns):\n",
      " #   Column       Non-Null Count  Dtype  \n",
      "---  ------       --------------  -----  \n",
      " 0   청구서번호        24664 non-null  object \n",
      " 1   No.          24664 non-null  int64  \n",
      " 2   Subject      24642 non-null  object \n",
      " 3   Machinery    24664 non-null  object \n",
      " 4   Assembly     24664 non-null  object \n",
      " 5   청구품목         24664 non-null  object \n",
      " 6   Unnamed: 6   0 non-null      float64\n",
      " 7   Part No.1    24645 non-null  object \n",
      " 8   Part No.2    3599 non-null   object \n",
      " 9   청구량          24546 non-null  float64\n",
      " 10  견적           24200 non-null  object \n",
      " 11  견적수량         24546 non-null  float64\n",
      " 12  견적화폐         24546 non-null  object \n",
      " 13  견적단가         24664 non-null  float64\n",
      " 14  발주번호         24664 non-null  object \n",
      " 15  발주처          24664 non-null  object \n",
      " 16  발주           24664 non-null  object \n",
      " 17  발주수량         24546 non-null  float64\n",
      " 18  발주금액         24546 non-null  float64\n",
      " 19  D/T          22335 non-null  object \n",
      " 20  미입고 기간       1620 non-null   object \n",
      " 21  창고입고         21345 non-null  object \n",
      " 22  창고입고수량       24664 non-null  int64  \n",
      " 23  Control No.  15465 non-null  object \n",
      " 24  입고창고         21345 non-null  object \n",
      " 25  창고출고         19277 non-null  object \n",
      " 26  창고출고수량       24664 non-null  int64  \n",
      " 27  출고선박         19277 non-null  object \n",
      " 28  출고운반선        19277 non-null  object \n",
      " 29  선박입고         5376 non-null   object \n",
      " 30  선박입고수량       24664 non-null  int64  \n",
      " 31  완료 여부        5364 non-null   object \n",
      "dtypes: float64(6), int64(4), object(22)\n",
      "memory usage: 6.0+ MB\n"
     ]
    }
   ],
   "source": [
    "data.info()"
   ]
  },
  {
   "cell_type": "code",
   "execution_count": 5,
   "id": "1f68d784-6d51-43a8-8ef6-bbad5d5109d3",
   "metadata": {},
   "outputs": [],
   "source": [
    "import re\n",
    "\n",
    "def preprocess_text(text):\n",
    "    # 괄호 안의 내용 제거\n",
    "    text = re.sub(r'\\([^)]*\\)', '', text)\n",
    "    # 특수 문자 제거 (알파벳, 숫자, 일부 허용된 특수문자 제외)\n",
    "    text = re.sub(r'[^\\w\\s\\*\\-\\+/.,]', '', text)\n",
    "    # 여러 공백을 언더스코어로 변환\n",
    "    text = re.sub(r'\\s+', '_', text)\n",
    "    # 텍스트 중간의 연속된 언더스코어를 하나로 줄임\n",
    "    text = re.sub(r'_+', '_', text)\n",
    "    # 중간에 언더스코어가 불필요하게 남아있는 경우 처리\n",
    "    text = re.sub(r'(?<!\\w)_(?!\\w)', '', text)\n",
    "    # 언더스코어 앞뒤로 존재하는 특수문자 제거\n",
    "    text = re.sub(r'_([^\\w]+)_', '_', text)\n",
    "    text = re.sub(r'_([^\\w]+)$', '', text)\n",
    "    text = re.sub(r'^([^\\w]+)_', '', text)\n",
    "    # 텍스트 끝부분의 불필요한 언더스코어 제거\n",
    "    text = re.sub(r'_+$', '', text)\n",
    "    # 영어 단어는 소문자로 변환\n",
    "    text = ' '.join([word.lower() if re.match(r'[A-Za-z]', word) else word for word in text.split()])\n",
    "    text = text.strip()\n",
    "    return text\n",
    "\n",
    "def clean_supplier_name(name):\n",
    "    # 접미사 제거\n",
    "    suffixes = r'\\b(Corp\\.?|Corporation|Company|Co\\.?|Incorporated|Inc\\.?|Limited|Ltd\\.?|GmbH|S\\.L\\.|SDN\\. BHD\\.)\\b'\n",
    "    name = re.sub(suffixes, '', name, flags=re.IGNORECASE)\n",
    "    # 특수 문자 제거\n",
    "    name = re.sub(r'[^\\w\\s]', '', name)\n",
    "    # 불필요한 단어 제거\n",
    "    name = re.sub(r'\\b(사용금지|사)\\b', '', name, flags=re.IGNORECASE)\n",
    "    # 공백 정리\n",
    "    name = re.sub(r'\\s+', ' ', name).strip()\n",
    "    # 오타 수정 및 문자열 정리\n",
    "    name = re.sub(r'coporation|coropration|coproration|corporration', 'corporation', name, flags=re.IGNORECASE)\n",
    "    name = name.lower().strip()\n",
    "    return name"
   ]
  },
  {
   "cell_type": "code",
   "execution_count": 6,
   "id": "0e38477e-fa6b-4076-a3da-5af07d2a02cb",
   "metadata": {},
   "outputs": [],
   "source": [
    "# 각 칼럼 전처리\n",
    "data['cleaned_machinery'] = data['Machinery'].apply(preprocess_text)\n",
    "data['cleaned_assembly'] = data['Assembly'].apply(preprocess_text)\n",
    "data['cleaned_item'] = data['청구품목'].apply(preprocess_text)\n",
    "data['cleaned_part'] = data['Part No.1'].astype(str).apply(preprocess_text)\n",
    "data['cleaned_supplier'] = data['발주처'].apply(clean_supplier_name)\n",
    "\n",
    "# 전처리된 칼럼 결합\n",
    "data['combined_text'] = data['cleaned_machinery'].fillna('') + \" \" + data['cleaned_assembly'].fillna('') + \" \" + data['cleaned_item'].fillna('') + \" \" + data['cleaned_part'].fillna('') + \" \" + data['cleaned_supplier'].fillna('')\n"
   ]
  },
  {
   "cell_type": "code",
   "execution_count": 7,
   "id": "2c685cdd-83a5-452c-b78e-bcd3c53af7f5",
   "metadata": {},
   "outputs": [
    {
     "name": "stdout",
     "output_type": "stream",
     "text": [
      "                                           combined_text\n",
      "0      cargo_boom_vang_block block mckissick_construc...\n",
      "1      spanish_boom_vang_block block mckissick_constr...\n",
      "2      purse_block tow_block westec_20ton_tow_block w...\n",
      "3      main_engine power_pack_as ge_power_pack_fork_e...\n",
      "4      main_engine power_pack_as ge_power_pack_fork_e...\n",
      "...                                                  ...\n",
      "24659  no.3_generator_engine 342-0537_GENERATOR_GP-E ...\n",
      "24660  no.3_generator_engine 342-0537_GENERATOR_GP-E ...\n",
      "24661  no.3_generator_engine 342-0537_GENERATOR_GP-E ...\n",
      "24662  no.3_generator_engine 342-0537_GENERATOR_GP-E ...\n",
      "24663  no.3_generator_engine 342-0537_GENERATOR_GP-E ...\n",
      "\n",
      "[24664 rows x 1 columns]\n"
     ]
    }
   ],
   "source": [
    "print(data[['combined_text']])"
   ]
  },
  {
   "cell_type": "code",
   "execution_count": 8,
   "id": "463a83f9-bb98-4700-b241-b8c006c59b42",
   "metadata": {},
   "outputs": [
    {
     "data": {
      "text/plain": [
       "(1054224, 1471130)"
      ]
     },
     "execution_count": 8,
     "metadata": {},
     "output_type": "execute_result"
    }
   ],
   "source": [
    "from gensim.models import FastText\n",
    "import torch\n",
    "\n",
    "\n",
    "# 문장을 토큰화하여 리스트로 만들어야 합니다.\n",
    "sentences = [text.split() for text in data['combined_text']]\n",
    "\n",
    "# Gensim을 사용하여 FastText 모델 학습\n",
    "model = FastText(vector_size=100, window=3, min_count=1)  # 파라미터를 원하는 대로 조정 가능\n",
    "model.build_vocab(sentences)  # 어휘 빌드\n",
    "model.train(sentences, total_examples=len(sentences), epochs=10)  # 모델 학습"
   ]
  },
  {
   "cell_type": "code",
   "execution_count": 9,
   "id": "166e9254-3a18-40f4-a5fd-20f0796fdcde",
   "metadata": {},
   "outputs": [
    {
     "name": "stderr",
     "output_type": "stream",
     "text": [
      "C:\\Users\\User\\AppData\\Local\\Temp\\ipykernel_11652\\3945233529.py:8: UserWarning: Creating a tensor from a list of numpy.ndarrays is extremely slow. Please consider converting the list to a single numpy.ndarray with numpy.array() before converting to a tensor. (Triggered internally at C:\\actions-runner\\_work\\pytorch\\pytorch\\builder\\windows\\pytorch\\torch\\csrc\\utils\\tensor_new.cpp:281.)\n",
      "  embedding = torch.tensor(word_vectors).mean(dim=0)  # 단어 벡터의 평균 계산\n"
     ]
    },
    {
     "name": "stdout",
     "output_type": "stream",
     "text": [
      "torch.Size([24664, 100])\n"
     ]
    }
   ],
   "source": [
    "\n",
    "# FastText 임베딩 생성\n",
    "embeddings = []\n",
    "for text in data['combined_text']:\n",
    "    # 각 텍스트의 평균 임베딩을 구합니다\n",
    "    words = text.split()\n",
    "    word_vectors = [model.wv[word] for word in words if word in model.wv]\n",
    "    if word_vectors:  # 단어가 모델 어휘에 있는 경우\n",
    "        embedding = torch.tensor(word_vectors).mean(dim=0)  # 단어 벡터의 평균 계산\n",
    "    else:\n",
    "        embedding = torch.zeros(model.vector_size)  # 단어가 없는 경우, 0 벡터로 처리\n",
    "    embeddings.append(embedding)\n",
    "\n",
    "# 임베딩 리스트를 텐서로 변환\n",
    "embeddings_tensor = torch.stack(embeddings)\n",
    "\n",
    "print(embeddings_tensor.shape)  # 확인용 출력"
   ]
  },
  {
   "cell_type": "code",
   "execution_count": 10,
   "id": "c5c6c6a8-1537-405f-b228-2373dc7708c2",
   "metadata": {},
   "outputs": [],
   "source": [
    "import torch\n",
    "import torch.nn as nn\n",
    "import torch.optim as optim\n",
    "from sklearn.preprocessing import LabelEncoder\n",
    "from sklearn.model_selection import train_test_split\n",
    "\n",
    "# 데이터 준비\n",
    "machinery = data['Machinery'].values\n",
    "assembly = data['Assembly'].values\n",
    "\n",
    "# LabelEncoder를 사용하여 문자열을 정수로 인코딩\n",
    "machinery_encoder = LabelEncoder()\n",
    "assembly_encoder = LabelEncoder()\n",
    "\n",
    "machinery_labels = machinery_encoder.fit_transform(machinery)\n",
    "assembly_labels = assembly_encoder.fit_transform(assembly)"
   ]
  },
  {
   "cell_type": "code",
   "execution_count": 11,
   "id": "fe227dba-0285-4352-ad25-c1da4b7e51e0",
   "metadata": {},
   "outputs": [
    {
     "name": "stdout",
     "output_type": "stream",
     "text": [
      "Using device: cuda\n"
     ]
    }
   ],
   "source": [
    "device = torch.device(\"cuda\" if torch.cuda.is_available() else \"cpu\")\n",
    "print(f\"Using device: {device}\")"
   ]
  },
  {
   "cell_type": "code",
   "execution_count": 35,
   "id": "1b404d9b-ac94-4ef0-9d92-dcfd47ce6a11",
   "metadata": {},
   "outputs": [],
   "source": [
    "import torch\n",
    "import torch.nn as nn\n",
    "import torch.optim as optim\n",
    "from sklearn.preprocessing import LabelEncoder, StandardScaler\n",
    "from sklearn.model_selection import train_test_split\n",
    "\n",
    "# 1. 데이터 준비 및 인코딩\n",
    "machinery = data['Machinery'].values\n",
    "assembly = data['Assembly'].values\n",
    "\n",
    "machinery_encoder = LabelEncoder()\n",
    "assembly_encoder = LabelEncoder()\n",
    "\n",
    "machinery_labels = machinery_encoder.fit_transform(machinery)\n",
    "assembly_labels = assembly_encoder.fit_transform(assembly)\n",
    "\n",
    "# 2. 임베딩을 numpy 배열로 변환\n",
    "X = embeddings_tensor.numpy()\n",
    "\n",
    "# 3. Train-Test Split (각 레이블에 대해 동일한 분할 사용)\n",
    "X_train, X_test, y_train_machinery, y_test_machinery, y_train_assembly, y_test_assembly = train_test_split(\n",
    "    X, machinery_labels, assembly_labels, test_size=0.2, random_state=42)\n",
    "\n",
    "# 4. 데이터 정규화 (StandardScaler)\n",
    "scaler = StandardScaler()\n",
    "X_train_normalized = scaler.fit_transform(X_train)\n",
    "X_test_normalized = scaler.transform(X_test)\n",
    "\n",
    "\n",
    "# 5. Train 데이터를 torch Tensor로 변환\n",
    "X_train_tensor = torch.tensor(X_train_normalized, dtype=torch.float32).to(device)\n",
    "X_test_tensor = torch.tensor(X_test_normalized, dtype=torch.float32).to(device)\n",
    "y_train_machinery_tensor = torch.tensor(y_train_machinery, dtype=torch.long).to(device)\n",
    "y_test_machinery_tensor = torch.tensor(y_test_machinery, dtype=torch.long).to(device)\n",
    "y_train_assembly_tensor = torch.tensor(y_train_assembly, dtype=torch.long).to(device)\n",
    "y_test_assembly_tensor = torch.tensor(y_test_assembly, dtype=torch.long).to(device)"
   ]
  },
  {
   "cell_type": "code",
   "execution_count": 36,
   "id": "21cef2cc-c498-4ce1-a15c-9992b2295fc1",
   "metadata": {},
   "outputs": [],
   "source": [
    "class SharedTransformer(nn.Module):\n",
    "    def __init__(self, input_dim, hidden_dim, num_heads, num_layers, dropout=0.1):\n",
    "        super(SharedTransformer, self).__init__()\n",
    "        self.embedding = nn.Linear(input_dim, hidden_dim)\n",
    "        transformer_layer = nn.TransformerEncoderLayer(d_model=hidden_dim, nhead=num_heads, dropout=dropout)\n",
    "        self.transformer_encoder = nn.TransformerEncoder(transformer_layer, num_layers=num_layers)\n",
    "        \n",
    "    def forward(self, x):\n",
    "        x = self.embedding(x)\n",
    "        x = self.transformer_encoder(x)\n",
    "        return x\n",
    "\n",
    "class MachineryHead(nn.Module):\n",
    "    def __init__(self, hidden_dim, output_dim):\n",
    "        super(MachineryHead, self).__init__()\n",
    "        self.fc = nn.Linear(hidden_dim, output_dim)\n",
    "    \n",
    "    def forward(self, x):\n",
    "        return self.fc(x.mean(dim=1))\n",
    "\n",
    "class AssemblyHead(nn.Module):\n",
    "    def __init__(self, hidden_dim, output_dim):\n",
    "        super(AssemblyHead, self).__init__()\n",
    "        self.fc = nn.Sequential(\n",
    "            nn.Linear(hidden_dim + machinery_output_dim, hidden_dim),\n",
    "            nn.ReLU(),\n",
    "            nn.Linear(hidden_dim, hidden_dim // 2),\n",
    "            nn.ReLU(),\n",
    "            nn.Linear(hidden_dim // 2, output_dim)\n",
    "        )\n",
    "    \n",
    "    def forward(self, x, machinery_out):\n",
    "        combined_input = torch.cat((x.mean(dim=1), machinery_out), dim=-1)\n",
    "        return self.fc(combined_input)"
   ]
  },
  {
   "cell_type": "code",
   "execution_count": 37,
   "id": "75a8f617-1a2d-441a-98a5-d6a12dce05c7",
   "metadata": {},
   "outputs": [],
   "source": [
    "input_dim = X_train_tensor.size(1)\n",
    "hidden_dim = 256\n",
    "# 각 레이블의 클래스 수에 따라 모델의 출력 차원 정의\n",
    "machinery_output_dim = len(np.unique(machinery_labels))  # 전체 클래스 개수\n",
    "assembly_output_dim = len(np.unique(assembly_labels))  # 전체 클래스 개수\n",
    "num_heads = 4\n",
    "num_layers = 2"
   ]
  },
  {
   "cell_type": "code",
   "execution_count": 45,
   "id": "eeca84d0-8fac-4738-94e1-47085d0fa83e",
   "metadata": {},
   "outputs": [
    {
     "name": "stdout",
     "output_type": "stream",
     "text": [
      "SharedTransformer(\n",
      "  (embedding): Linear(in_features=100, out_features=256, bias=True)\n",
      "  (transformer_encoder): TransformerEncoder(\n",
      "    (layers): ModuleList(\n",
      "      (0-1): 2 x TransformerEncoderLayer(\n",
      "        (self_attn): MultiheadAttention(\n",
      "          (out_proj): NonDynamicallyQuantizableLinear(in_features=256, out_features=256, bias=True)\n",
      "        )\n",
      "        (linear1): Linear(in_features=256, out_features=2048, bias=True)\n",
      "        (dropout): Dropout(p=0.1, inplace=False)\n",
      "        (linear2): Linear(in_features=2048, out_features=256, bias=True)\n",
      "        (norm1): LayerNorm((256,), eps=1e-05, elementwise_affine=True)\n",
      "        (norm2): LayerNorm((256,), eps=1e-05, elementwise_affine=True)\n",
      "        (dropout1): Dropout(p=0.1, inplace=False)\n",
      "        (dropout2): Dropout(p=0.1, inplace=False)\n",
      "      )\n",
      "    )\n",
      "  )\n",
      ")\n",
      "MachineryHead(\n",
      "  (fc): Linear(in_features=256, out_features=168, bias=True)\n",
      ")\n",
      "AssemblyHead(\n",
      "  (fc): Sequential(\n",
      "    (0): Linear(in_features=424, out_features=256, bias=True)\n",
      "    (1): ReLU()\n",
      "    (2): Linear(in_features=256, out_features=128, bias=True)\n",
      "    (3): ReLU()\n",
      "    (4): Linear(in_features=128, out_features=1789, bias=True)\n",
      "  )\n",
      ")\n"
     ]
    }
   ],
   "source": [
    "# 공유된 Transformer .\n",
    "shared_transformer = SharedTransformer(input_dim, hidden_dim, num_heads, num_layers).to(device)\n",
    "print(shared_transformer)\n",
    "\n",
    "# Machinery와 Assembly에 대한 개별 최종 레이어\n",
    "machinery_head = MachineryHead(hidden_dim, machinery_output_dim).to(device)\n",
    "print(machinery_head)\n",
    "\n",
    "assembly_head = AssemblyHead(hidden_dim, assembly_output_dim).to(device)\n",
    "print(assembly_head)\n"
   ]
  },
  {
   "cell_type": "code",
   "execution_count": 39,
   "id": "04bd3635-1d31-40d0-9b33-54c0ce36de60",
   "metadata": {},
   "outputs": [],
   "source": [
    "criterion_machinery = nn.CrossEntropyLoss().to(device)\n",
    "criterion_assembly = nn.CrossEntropyLoss().to(device)"
   ]
  },
  {
   "cell_type": "code",
   "execution_count": 40,
   "id": "d94a6e4d-ebcc-482e-94e6-26c4bbc01548",
   "metadata": {},
   "outputs": [],
   "source": [
    "optimizer = optim.Adam(list(shared_transformer.parameters()) +\n",
    "                       list(machinery_head.parameters()) +\n",
    "                       list(assembly_head.parameters()), lr=0.001)\n"
   ]
  },
  {
   "cell_type": "code",
   "execution_count": 41,
   "id": "ab19f268-0c2a-4a3c-92a6-fb3f5f5eb614",
   "metadata": {},
   "outputs": [],
   "source": [
    "scheduler = optim.lr_scheduler.StepLR(optimizer, step_size=20, gamma=0.5)\n"
   ]
  },
  {
   "cell_type": "code",
   "execution_count": 42,
   "id": "79d504b3-f3cf-40c2-8c6e-f27e3758ccf1",
   "metadata": {},
   "outputs": [
    {
     "name": "stdout",
     "output_type": "stream",
     "text": [
      "Epoch [10/100], Machinery Loss: 1.5664, Assembly Loss: 6.5104, Total Loss: 8.0768\n",
      "Epoch [20/100], Machinery Loss: 1.0740, Assembly Loss: 5.2238, Total Loss: 6.2978\n",
      "Epoch [30/100], Machinery Loss: 0.8397, Assembly Loss: 4.3557, Total Loss: 5.1954\n",
      "Epoch [40/100], Machinery Loss: 0.6786, Assembly Loss: 3.5312, Total Loss: 4.2098\n",
      "Epoch [50/100], Machinery Loss: 0.5948, Assembly Loss: 2.8343, Total Loss: 3.4291\n",
      "Epoch [60/100], Machinery Loss: 0.5216, Assembly Loss: 2.2058, Total Loss: 2.7274\n",
      "Epoch [70/100], Machinery Loss: 0.5126, Assembly Loss: 1.9014, Total Loss: 2.4140\n",
      "Epoch [80/100], Machinery Loss: 0.4440, Assembly Loss: 1.4999, Total Loss: 1.9438\n",
      "Epoch [90/100], Machinery Loss: 0.4106, Assembly Loss: 1.2463, Total Loss: 1.6569\n",
      "Epoch [100/100], Machinery Loss: 0.3882, Assembly Loss: 1.0517, Total Loss: 1.4399\n"
     ]
    }
   ],
   "source": [
    "num_epochs = 100\n",
    "for epoch in range(num_epochs):\n",
    "    optimizer.zero_grad()\n",
    "    \n",
    "    # 공유된 Transformer 모델로 입력 데이터 처리\n",
    "    shared_output = shared_transformer(X_train_tensor.unsqueeze(1))\n",
    "    \n",
    "    # Machinery 예측\n",
    "    machinery_output = machinery_head(shared_output)\n",
    "    loss_machinery = criterion_machinery(machinery_output, y_train_machinery_tensor)\n",
    "    \n",
    "    # Assembly 예측 (Machinery 예측 결과 활용)\n",
    "    assembly_output = assembly_head(shared_output, machinery_output)\n",
    "    loss_assembly = criterion_assembly(assembly_output, y_train_assembly_tensor)\n",
    "    \n",
    "    # 총 손실 계산 및 역전파\n",
    "    total_loss = loss_machinery + loss_assembly\n",
    "    total_loss.backward()\n",
    "    optimizer.step()\n",
    "    \n",
    "    if (epoch + 1) % 10 == 0:\n",
    "        print(f\"Epoch [{epoch + 1}/{num_epochs}], \"\n",
    "              f\"Machinery Loss: {loss_machinery.item():.4f}, \"\n",
    "              f\"Assembly Loss: {loss_assembly.item():.4f}, \"\n",
    "              f\"Total Loss: {total_loss.item():.4f}\")"
   ]
  },
  {
   "cell_type": "code",
   "execution_count": null,
   "id": "8ccc3dac-5cdb-40eb-846f-e5701b3fcf7c",
   "metadata": {},
   "outputs": [],
   "source": []
  }
 ],
 "metadata": {
  "kernelspec": {
   "display_name": "Python (ship)",
   "language": "python",
   "name": "ship"
  },
  "language_info": {
   "codemirror_mode": {
    "name": "ipython",
    "version": 3
   },
   "file_extension": ".py",
   "mimetype": "text/x-python",
   "name": "python",
   "nbconvert_exporter": "python",
   "pygments_lexer": "ipython3",
   "version": "3.12.5"
  }
 },
 "nbformat": 4,
 "nbformat_minor": 5
}
