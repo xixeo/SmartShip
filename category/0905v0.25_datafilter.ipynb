{
 "cells": [
  {
   "cell_type": "code",
   "execution_count": 67,
   "id": "e83a08e1-5041-4642-99f5-c82449e37554",
   "metadata": {},
   "outputs": [
    {
     "name": "stdout",
     "output_type": "stream",
     "text": [
      "CUDA available: True\n",
      "Current device: 0\n",
      "Device name: NVIDIA GeForce GTX 1650\n"
     ]
    }
   ],
   "source": [
    "import torch\n",
    "\n",
    "print(\"CUDA available:\", torch.cuda.is_available())\n",
    "\n",
    "print(\"Current device:\", torch.cuda.current_device())\n",
    "print(\"Device name:\", torch.cuda.get_device_name(torch.cuda.current_device()))"
   ]
  },
  {
   "cell_type": "code",
   "execution_count": 68,
   "id": "6526e20d-c98e-48d0-b5bb-b5f808ede823",
   "metadata": {},
   "outputs": [],
   "source": [
    "import pandas as pd\n",
    "import numpy as np\n",
    "import re\n",
    "\n",
    "from sklearn.model_selection import train_test_split\n",
    "from sklearn.preprocessing import LabelEncoder\n",
    "from sklearn.ensemble import RandomForestClassifier\n",
    "from sklearn.metrics import classification_report, accuracy_score"
   ]
  },
  {
   "cell_type": "code",
   "execution_count": 69,
   "id": "e2d1ff7f-9042-4774-94de-dd80bd002a16",
   "metadata": {},
   "outputs": [],
   "source": [
    "data=pd.read_excel('dataset0828.xlsx')"
   ]
  },
  {
   "cell_type": "code",
   "execution_count": 70,
   "id": "64cb3b8e-7afc-406b-b683-e9fc57c549b8",
   "metadata": {},
   "outputs": [],
   "source": [
    "# 데이터 포인트 수 계산\n",
    "total_data_points = len(data)\n",
    "\n",
    "# 0.1% 기준으로 설정\n",
    "threshold = total_data_points * 0.001\n",
    "\n",
    "# Machinery와 Assembly에서 0.1% 이상 등장하는 클래스만 남기기\n",
    "machinery_counts = data['Machinery'].value_counts()\n",
    "assembly_counts = data['Assembly'].value_counts()\n",
    "\n",
    "# 기준을 넘는 클래스만 필터링\n",
    "filtered_machinery = machinery_counts[machinery_counts >= threshold].index\n",
    "filtered_assembly = assembly_counts[assembly_counts >= threshold].index"
   ]
  },
  {
   "cell_type": "code",
   "execution_count": 71,
   "id": "f6415bad-7987-4a3e-9fcb-9ce23587279b",
   "metadata": {},
   "outputs": [
    {
     "name": "stdout",
     "output_type": "stream",
     "text": [
      "Filtered data size: 15162\n",
      "Number of unique Machinery labels: 68\n",
      "Number of unique Assembly labels: 256\n"
     ]
    }
   ],
   "source": [
    "data_filtered = data[data['Machinery'].isin(filtered_machinery) & data['Assembly'].isin(filtered_assembly)]\n",
    "\n",
    "# 결과 확인\n",
    "print(f\"Filtered data size: {data_filtered.shape[0]}\")\n",
    "print(f\"Number of unique Machinery labels: {data_filtered['Machinery'].nunique()}\")\n",
    "print(f\"Number of unique Assembly labels: {data_filtered['Assembly'].nunique()}\")"
   ]
  },
  {
   "cell_type": "code",
   "execution_count": 72,
   "id": "6aabee51-6303-42db-87c5-bfc9bd270e9a",
   "metadata": {},
   "outputs": [],
   "source": [
    "data_filtered.to_excel(\"filtered_dataset.xlsx\", index=False)"
   ]
  },
  {
   "cell_type": "code",
   "execution_count": 133,
   "id": "4cef868a-96d7-4e86-bc3e-c5a1e440ddd3",
   "metadata": {},
   "outputs": [],
   "source": [
    "data=pd.read_excel('filtered_dataset.xlsx')"
   ]
  },
  {
   "cell_type": "code",
   "execution_count": 134,
   "id": "bebfe21e-476b-47be-8898-5292f62584e7",
   "metadata": {},
   "outputs": [
    {
     "name": "stdout",
     "output_type": "stream",
     "text": [
      "<class 'pandas.core.frame.DataFrame'>\n",
      "RangeIndex: 15162 entries, 0 to 15161\n",
      "Data columns (total 32 columns):\n",
      " #   Column       Non-Null Count  Dtype  \n",
      "---  ------       --------------  -----  \n",
      " 0   청구서번호        15162 non-null  object \n",
      " 1   No.          15162 non-null  int64  \n",
      " 2   Subject      15152 non-null  object \n",
      " 3   Machinery    15162 non-null  object \n",
      " 4   Assembly     15162 non-null  object \n",
      " 5   청구품목         15162 non-null  object \n",
      " 6   Unnamed: 6   0 non-null      float64\n",
      " 7   Part No.1    15154 non-null  object \n",
      " 8   Part No.2    2614 non-null   object \n",
      " 9   청구량          15092 non-null  float64\n",
      " 10  견적           14957 non-null  object \n",
      " 11  견적수량         15092 non-null  float64\n",
      " 12  견적화폐         15092 non-null  object \n",
      " 13  견적단가         15162 non-null  float64\n",
      " 14  발주번호         15162 non-null  object \n",
      " 15  발주처          15162 non-null  object \n",
      " 16  발주           15162 non-null  object \n",
      " 17  발주수량         15092 non-null  float64\n",
      " 18  발주금액         15092 non-null  float64\n",
      " 19  D/T          13597 non-null  object \n",
      " 20  미입고 기간       1058 non-null   object \n",
      " 21  창고입고         13012 non-null  object \n",
      " 22  창고입고수량       15162 non-null  int64  \n",
      " 23  Control No.  9490 non-null   object \n",
      " 24  입고창고         13012 non-null  object \n",
      " 25  창고출고         11609 non-null  object \n",
      " 26  창고출고수량       15162 non-null  int64  \n",
      " 27  출고선박         11609 non-null  object \n",
      " 28  출고운반선        11609 non-null  object \n",
      " 29  선박입고         3307 non-null   object \n",
      " 30  선박입고수량       15162 non-null  int64  \n",
      " 31  완료 여부        3301 non-null   object \n",
      "dtypes: float64(6), int64(4), object(22)\n",
      "memory usage: 3.7+ MB\n"
     ]
    }
   ],
   "source": [
    "data.info()"
   ]
  },
  {
   "cell_type": "code",
   "execution_count": 135,
   "id": "1f68d784-6d51-43a8-8ef6-bbad5d5109d3",
   "metadata": {},
   "outputs": [],
   "source": [
    "import re\n",
    "\n",
    "def preprocess_text(text):\n",
    "    # 괄호 안의 내용 제거\n",
    "    text = re.sub(r'\\([^)]*\\)', '', text)\n",
    "    # 특수 문자 제거 (알파벳, 숫자, 일부 허용된 특수문자 제외)\n",
    "    text = re.sub(r'[^\\w\\s\\*\\-\\+/.,]', '', text)\n",
    "    # 여러 공백을 언더스코어로 변환\n",
    "    text = re.sub(r'\\s+', '_', text)\n",
    "    # 텍스트 중간의 연속된 언더스코어를 하나로 줄임\n",
    "    text = re.sub(r'_+', '_', text)\n",
    "    # 중간에 언더스코어가 불필요하게 남아있는 경우 처리\n",
    "    text = re.sub(r'(?<!\\w)_(?!\\w)', '', text)\n",
    "    # 언더스코어 앞뒤로 존재하는 특수문자 제거\n",
    "    text = re.sub(r'_([^\\w]+)_', '_', text)\n",
    "    text = re.sub(r'_([^\\w]+)$', '', text)\n",
    "    text = re.sub(r'^([^\\w]+)_', '', text)\n",
    "    # 텍스트 끝부분의 불필요한 언더스코어 제거\n",
    "    text = re.sub(r'_+$', '', text)\n",
    "    # 영어 단어는 소문자로 변환\n",
    "    text = ' '.join([word.lower() if re.match(r'[A-Za-z]', word) else word for word in text.split()])\n",
    "    text = text.strip()\n",
    "    return text\n",
    "\n",
    "def clean_supplier_name(name):\n",
    "    # 접미사 제거\n",
    "    suffixes = r'\\b(Corp\\.?|Corporation|Company|Co\\.?|Incorporated|Inc\\.?|Limited|Ltd\\.?|GmbH|S\\.L\\.|SDN\\. BHD\\.)\\b'\n",
    "    name = re.sub(suffixes, '', name, flags=re.IGNORECASE)\n",
    "    # 특수 문자 제거\n",
    "    name = re.sub(r'[^\\w\\s]', '', name)\n",
    "    # 불필요한 단어 제거\n",
    "    name = re.sub(r'\\b(사용금지|사)\\b', '', name, flags=re.IGNORECASE)\n",
    "    # 공백 정리\n",
    "    name = re.sub(r'\\s+', ' ', name).strip()\n",
    "    # 오타 수정 및 문자열 정리\n",
    "    name = re.sub(r'coporation|coropration|coproration|corporration', 'corporation', name, flags=re.IGNORECASE)\n",
    "    name = name.lower().strip()\n",
    "    return name"
   ]
  },
  {
   "cell_type": "code",
   "execution_count": 136,
   "id": "0e38477e-fa6b-4076-a3da-5af07d2a02cb",
   "metadata": {},
   "outputs": [],
   "source": [
    "# 각 칼럼 전처리\n",
    "data['cleaned_item'] = data['청구품목'].apply(preprocess_text)\n",
    "data['cleaned_supplier'] = data['발주처'].apply(clean_supplier_name)\n",
    "\n",
    "# 전처리된 칼럼 결합\n",
    "data['combined_text'] =data['cleaned_item'].fillna('') + \" \" + data['cleaned_supplier'].fillna('')\n"
   ]
  },
  {
   "cell_type": "code",
   "execution_count": 137,
   "id": "2c685cdd-83a5-452c-b78e-bcd3c53af7f5",
   "metadata": {},
   "outputs": [
    {
     "name": "stdout",
     "output_type": "stream",
     "text": [
      "                                     combined_text\n",
      "0      ge_power_pack_fork_e7 matsuiusa corporation\n",
      "1      ge_power_pack_fork_e7 matsuiusa corporation\n",
      "2                  nylon_54_4_1/4,_100md_50fms kti\n",
      "3                  nylon_48_4_1/4,_100md_50fms kti\n",
      "4                  nylon_42_4_1/4,_100md_50fms kti\n",
      "...                                            ...\n",
      "15157             ring-o haein corporation_cheonan\n",
      "15158     ring-retaining haein corporation_cheonan\n",
      "15159     sleeve-bearing haein corporation_cheonan\n",
      "15160       bearing-ball haein corporation_cheonan\n",
      "15161    bearing-ball_de haein corporation_cheonan\n",
      "\n",
      "[15162 rows x 1 columns]\n"
     ]
    }
   ],
   "source": [
    "print(data[['combined_text']])"
   ]
  },
  {
   "cell_type": "code",
   "execution_count": 138,
   "id": "463a83f9-bb98-4700-b241-b8c006c59b42",
   "metadata": {},
   "outputs": [
    {
     "data": {
      "text/plain": [
       "(215717, 443560)"
      ]
     },
     "execution_count": 138,
     "metadata": {},
     "output_type": "execute_result"
    }
   ],
   "source": [
    "from gensim.models import FastText\n",
    "import torch\n",
    "\n",
    "\n",
    "# 문장을 토큰화하여 리스트로 만들어야 합니다.\n",
    "sentences = [text.split() for text in data['combined_text']]\n",
    "\n",
    "# Gensim을 사용하여 FastText 모델 학습\n",
    "model = FastText(vector_size=100, window=3, min_count=1)  # 파라미터를 원하는 대로 조정 가능\n",
    "model.build_vocab(sentences)  # 어휘 빌드\n",
    "model.train(sentences, total_examples=len(sentences), epochs=10)  # 모델 학습"
   ]
  },
  {
   "cell_type": "code",
   "execution_count": 139,
   "id": "166e9254-3a18-40f4-a5fd-20f0796fdcde",
   "metadata": {},
   "outputs": [
    {
     "name": "stdout",
     "output_type": "stream",
     "text": [
      "torch.Size([15162, 100])\n"
     ]
    }
   ],
   "source": [
    "\n",
    "# FastText 임베딩 생성\n",
    "embeddings = []\n",
    "for text in data['combined_text']:\n",
    "    # 각 텍스트의 평균 임베딩을 구합니다\n",
    "    words = text.split()\n",
    "    word_vectors = [model.wv[word] for word in words if word in model.wv]\n",
    "    if word_vectors:  # 단어가 모델 어휘에 있는 경우\n",
    "        embedding = torch.tensor(word_vectors).mean(dim=0)  # 단어 벡터의 평균 계산\n",
    "    else:\n",
    "        embedding = torch.zeros(model.vector_size)  # 단어가 없는 경우, 0 벡터로 처리\n",
    "    embeddings.append(embedding)\n",
    "\n",
    "# 임베딩 리스트를 텐서로 변환\n",
    "embeddings_tensor = torch.stack(embeddings)\n",
    "\n",
    "print(embeddings_tensor.shape)  # 확인용 출력"
   ]
  },
  {
   "cell_type": "code",
   "execution_count": 140,
   "id": "fe227dba-0285-4352-ad25-c1da4b7e51e0",
   "metadata": {},
   "outputs": [
    {
     "name": "stdout",
     "output_type": "stream",
     "text": [
      "Using device: cuda\n"
     ]
    }
   ],
   "source": [
    "device = torch.device(\"cuda\" if torch.cuda.is_available() else \"cpu\")\n",
    "print(f\"Using device: {device}\")"
   ]
  },
  {
   "cell_type": "code",
   "execution_count": 141,
   "id": "1b404d9b-ac94-4ef0-9d92-dcfd47ce6a11",
   "metadata": {},
   "outputs": [],
   "source": [
    "import torch\n",
    "import torch.nn as nn\n",
    "import torch.optim as optim\n",
    "from sklearn.preprocessing import LabelEncoder, StandardScaler\n",
    "from sklearn.model_selection import train_test_split\n",
    "\n",
    "# 1. 데이터 준비 및 인코딩\n",
    "machinery = data['Machinery'].values\n",
    "assembly = data['Assembly'].values\n",
    "\n",
    "machinery_encoder = LabelEncoder()\n",
    "assembly_encoder = LabelEncoder()\n",
    "\n",
    "machinery_labels = machinery_encoder.fit_transform(machinery)\n",
    "assembly_labels = assembly_encoder.fit_transform(assembly)\n",
    "\n",
    "# 2. 임베딩을 numpy 배열로 변환\n",
    "X = embeddings_tensor.numpy()\n",
    "\n",
    "# 3. Train-Test Split (각 레이블에 대해 동일한 분할 사용)\n",
    "X_train_val, X_test, y_train_val_machinery, y_test_machinery, y_train_val_assembly, y_test_assembly = train_test_split(\n",
    "    X, machinery_labels, assembly_labels, test_size=0.2, random_state=42\n",
    ")\n",
    "\n",
    "X_train, X_val, y_train_machinery, y_val_machinery, y_train_assembly, y_val_assembly = train_test_split(\n",
    "    X_train_val, y_train_val_machinery, y_train_val_assembly, test_size=0.2, random_state=42\n",
    ")\n",
    "\n",
    "# 4. 데이터 정규화 (StandardScaler)\n",
    "scaler = StandardScaler()\n",
    "X_train_normalized = scaler.fit_transform(X_train)\n",
    "X_val_normalized = scaler.transform(X_val)  # 검증 데이터 정규화\n",
    "X_test_normalized = scaler.transform(X_test)  # 테스트 데이터 정규화\n",
    "\n",
    "\n",
    "# 5. Train 데이터를 torch Tensor로 변환\n",
    "X_train_tensor = torch.tensor(X_train_normalized, dtype=torch.float32).to(device)\n",
    "X_val_tensor = torch.tensor(X_val_normalized, dtype=torch.float32).to(device)\n",
    "X_test_tensor = torch.tensor(X_test_normalized, dtype=torch.float32).to(device)\n",
    "\n",
    "y_train_machinery_tensor = torch.tensor(y_train_machinery, dtype=torch.long).to(device)\n",
    "y_val_machinery_tensor = torch.tensor(y_val_machinery, dtype=torch.long).to(device)\n",
    "y_test_machinery_tensor = torch.tensor(y_test_machinery, dtype=torch.long).to(device)\n",
    "\n",
    "y_train_assembly_tensor = torch.tensor(y_train_assembly, dtype=torch.long).to(device)\n",
    "y_val_assembly_tensor = torch.tensor(y_val_assembly, dtype=torch.long).to(device)\n",
    "y_test_assembly_tensor = torch.tensor(y_test_assembly, dtype=torch.long).to(device)\n"
   ]
  },
  {
   "cell_type": "code",
   "execution_count": 142,
   "id": "21cef2cc-c498-4ce1-a15c-9992b2295fc1",
   "metadata": {},
   "outputs": [],
   "source": [
    "class SharedTransformer(nn.Module):\n",
    "    def __init__(self, input_dim, hidden_dim, num_heads, num_layers, dropout=0.3):\n",
    "        super(SharedTransformer, self).__init__()\n",
    "        self.embedding = nn.Linear(input_dim, hidden_dim)\n",
    "        transformer_layer = nn.TransformerEncoderLayer(\n",
    "            d_model=hidden_dim,\n",
    "            nhead=num_heads,\n",
    "            dropout=dropout,\n",
    "            batch_first=True\n",
    "        )\n",
    "        self.transformer_encoder = nn.TransformerEncoder(transformer_layer, num_layers=num_layers)\n",
    "        \n",
    "    def forward(self, x):\n",
    "        x = self.embedding(x)\n",
    "        x = self.transformer_encoder(x)\n",
    "        return x\n",
    "\n",
    "class MachineryHead(nn.Module):\n",
    "    def __init__(self, hidden_dim, output_dim):\n",
    "        super(MachineryHead, self).__init__()\n",
    "        self.fc = nn.Linear(hidden_dim, output_dim)  # output_dim should be 68\n",
    "    \n",
    "    def forward(self, x):\n",
    "        return self.fc(x)\n",
    "\n",
    "class AssemblyHead(nn.Module):\n",
    "    def __init__(self, hidden_dim, machinery_output_dim, output_dim):\n",
    "        super(AssemblyHead, self).__init__()\n",
    "        self.fc1 = nn.Linear(hidden_dim, hidden_dim)  # SharedTransformer output processing\n",
    "        self.fc_reduce = nn.Linear(machinery_output_dim, hidden_dim)  # Reduce machinery output to match hidden_dim\n",
    "        self.fc2 = nn.Sequential(\n",
    "            nn.Linear(hidden_dim + hidden_dim, 256),  # combined input size is hidden_dim + hidden_dim\n",
    "            nn.ReLU(),\n",
    "            nn.Linear(256, 128),\n",
    "            nn.ReLU(),\n",
    "            nn.Linear(128, output_dim)  # output_dim should be 256\n",
    "        )\n",
    "    \n",
    "    def forward(self, x, machinery_out):\n",
    "        x = self.fc1(x)  # Processed SharedTransformer output\n",
    "        machinery_out_reduced = self.fc_reduce(machinery_out)  # Processed MachineryHead output\n",
    "        combined_input = torch.cat((x, machinery_out_reduced), dim=-1)  # Concatenate outputs\n",
    "        return self.fc2(combined_input)"
   ]
  },
  {
   "cell_type": "code",
   "execution_count": 143,
   "id": "75a8f617-1a2d-441a-98a5-d6a12dce05c7",
   "metadata": {},
   "outputs": [],
   "source": [
    "hidden_dim = 256\n",
    "num_heads = 4\n",
    "num_layers = 2\n",
    "input_dim = 100  # 예를 들어, 입력 특성 차원\n",
    "\n",
    "# 각 레이블의 클래스 수에 따라 모델의 출력 차원 정의\n",
    "machinery_output_dim = 68  # Number of unique Machinery labels\n",
    "assembly_output_dim = 256  # Number of unique Assembly labels\n"
   ]
  },
  {
   "cell_type": "code",
   "execution_count": 144,
   "id": "eeca84d0-8fac-4738-94e1-47085d0fa83e",
   "metadata": {},
   "outputs": [
    {
     "name": "stdout",
     "output_type": "stream",
     "text": [
      "SharedTransformer(\n",
      "  (embedding): Linear(in_features=100, out_features=256, bias=True)\n",
      "  (transformer_encoder): TransformerEncoder(\n",
      "    (layers): ModuleList(\n",
      "      (0-1): 2 x TransformerEncoderLayer(\n",
      "        (self_attn): MultiheadAttention(\n",
      "          (out_proj): NonDynamicallyQuantizableLinear(in_features=256, out_features=256, bias=True)\n",
      "        )\n",
      "        (linear1): Linear(in_features=256, out_features=2048, bias=True)\n",
      "        (dropout): Dropout(p=0.1, inplace=False)\n",
      "        (linear2): Linear(in_features=2048, out_features=256, bias=True)\n",
      "        (norm1): LayerNorm((256,), eps=1e-05, elementwise_affine=True)\n",
      "        (norm2): LayerNorm((256,), eps=1e-05, elementwise_affine=True)\n",
      "        (dropout1): Dropout(p=0.1, inplace=False)\n",
      "        (dropout2): Dropout(p=0.1, inplace=False)\n",
      "      )\n",
      "    )\n",
      "  )\n",
      ")\n",
      "MachineryHead(\n",
      "  (fc): Linear(in_features=256, out_features=68, bias=True)\n",
      ")\n",
      "AssemblyHead(\n",
      "  (fc1): Linear(in_features=256, out_features=256, bias=True)\n",
      "  (fc_reduce): Linear(in_features=68, out_features=256, bias=True)\n",
      "  (fc2): Sequential(\n",
      "    (0): Linear(in_features=512, out_features=256, bias=True)\n",
      "    (1): ReLU()\n",
      "    (2): Linear(in_features=256, out_features=128, bias=True)\n",
      "    (3): ReLU()\n",
      "    (4): Linear(in_features=128, out_features=256, bias=True)\n",
      "  )\n",
      ")\n"
     ]
    }
   ],
   "source": [
    "device = torch.device('cuda' if torch.cuda.is_available() else 'cpu')\n",
    "\n",
    "\n",
    "shared_transformer = SharedTransformer(input_dim=100, hidden_dim=256, num_heads=4, num_layers=2, dropout=0.1).to(device)\n",
    "print(shared_transformer)\n",
    "\n",
    "machinery_head = MachineryHead(hidden_dim=256, output_dim=machinery_output_dim).to(device)\n",
    "print(machinery_head)\n",
    "\n",
    "assembly_head = AssemblyHead(hidden_dim=256, machinery_output_dim=machinery_output_dim, output_dim=assembly_output_dim).to(device)\n",
    "print(assembly_head)\n"
   ]
  },
  {
   "cell_type": "code",
   "execution_count": null,
   "id": "41aadad9-2ceb-44fc-bc48-bf1291f593a9",
   "metadata": {},
   "outputs": [],
   "source": [
    "for inputs, labels_machinery, labels_assembly in train_loader:\n",
    "    inputs = inputs.to(device)\n",
    "    labels_machinery = labels_machinery.to(device)\n",
    "    labels_assembly = labels_assembly.to(device)\n",
    "    \n",
    "    # Process with the model\n",
    "    shared_output = shared_transformer(inputs)\n",
    "    print(f\"Shared Output Shape: {shared_output.shape}\")\n",
    "    \n",
    "    machinery_output = machinery_head(shared_output)\n",
    "    print(f\"Machinery Output Shape: {machinery_output.shape}\")\n",
    "    \n",
    "    assembly_output = assembly_head(shared_output, machinery_output)\n",
    "    print(f\"Assembly Output Shape: {assembly_output.shape}\")\n",
    "    \n",
    "    break  # Only checking the shape for the first batch"
   ]
  },
  {
   "cell_type": "code",
   "execution_count": 145,
   "id": "04bd3635-1d31-40d0-9b33-54c0ce36de60",
   "metadata": {},
   "outputs": [],
   "source": [
    "criterion_machinery = nn.CrossEntropyLoss().to(device)\n",
    "criterion_assembly = nn.CrossEntropyLoss().to(device)"
   ]
  },
  {
   "cell_type": "code",
   "execution_count": 146,
   "id": "d94a6e4d-ebcc-482e-94e6-26c4bbc01548",
   "metadata": {},
   "outputs": [],
   "source": [
    "shared_transformer.to(device)\n",
    "machinery_head.to(device)\n",
    "assembly_head.to(device)\n",
    "optimizer = optim.Adam(list(shared_transformer.parameters()) +\n",
    "                       list(machinery_head.parameters()) +\n",
    "                       list(assembly_head.parameters()), lr=0.001)\n"
   ]
  },
  {
   "cell_type": "code",
   "execution_count": 147,
   "id": "ab19f268-0c2a-4a3c-92a6-fb3f5f5eb614",
   "metadata": {},
   "outputs": [],
   "source": [
    "scheduler = optim.lr_scheduler.StepLR(optimizer, step_size=50, gamma=0.5)\n"
   ]
  },
  {
   "cell_type": "code",
   "execution_count": 148,
   "id": "4d662f9b-c1e3-4154-b692-a1384669906a",
   "metadata": {},
   "outputs": [],
   "source": [
    "from torch.utils.data import TensorDataset, DataLoader\n",
    "# 데이터셋과 데이터로더 정의\n",
    "train_dataset = TensorDataset(X_train_tensor, y_train_machinery_tensor, y_train_assembly_tensor)\n",
    "val_dataset = TensorDataset(X_val_tensor, y_val_machinery_tensor, y_val_assembly_tensor)\n",
    "test_dataset = TensorDataset(X_test_tensor, y_test_machinery_tensor, y_test_assembly_tensor)\n",
    "\n",
    "batch_size = 32\n",
    "train_loader = DataLoader(dataset=train_dataset, batch_size=batch_size, shuffle=True)\n",
    "val_loader = DataLoader(dataset=val_dataset, batch_size=batch_size, shuffle=False)\n",
    "test_loader = DataLoader(dataset=test_dataset, batch_size=batch_size, shuffle=False)\n"
   ]
  },
  {
   "cell_type": "code",
   "execution_count": 149,
   "id": "79d504b3-f3cf-40c2-8c6e-f27e3758ccf1",
   "metadata": {},
   "outputs": [
    {
     "name": "stdout",
     "output_type": "stream",
     "text": [
      "Epoch [10/110], Train Loss: 0.1421, Val Loss: 0.1433\n",
      "Epoch [20/110], Train Loss: 0.1441, Val Loss: 0.1477\n",
      "Epoch [30/110], Train Loss: 0.1305, Val Loss: 0.1314\n",
      "Epoch [40/110], Train Loss: 0.1226, Val Loss: 0.1281\n",
      "Epoch [50/110], Train Loss: 0.1219, Val Loss: 0.1317\n",
      "Epoch [60/110], Train Loss: 0.1059, Val Loss: 0.1220\n",
      "Epoch [70/110], Train Loss: 0.1010, Val Loss: 0.1240\n",
      "Epoch [80/110], Train Loss: 0.0963, Val Loss: 0.1184\n",
      "Epoch [90/110], Train Loss: 0.0933, Val Loss: 0.1207\n",
      "Epoch [100/110], Train Loss: 0.0905, Val Loss: 0.1233\n",
      "Epoch [110/110], Train Loss: 0.0829, Val Loss: 0.1229\n"
     ]
    }
   ],
   "source": [
    "# 얼리 스토핑 설정\n",
    "patience = 10  # 검증 손실이 개선되지 않는 에포크 수\n",
    "best_val_loss = np.inf\n",
    "epochs_no_improve = 0\n",
    "\n",
    "num_epochs = 110\n",
    "for epoch in range(num_epochs):\n",
    "    # 모델을 학습 모드로 설정\n",
    "    shared_transformer.train()\n",
    "    machinery_head.train()\n",
    "    assembly_head.train()\n",
    "    \n",
    "    total_train_loss = 0\n",
    "    for inputs, labels_machinery, labels_assembly in train_loader:\n",
    "        inputs = inputs.to(device)\n",
    "        labels_machinery = labels_machinery.to(device)\n",
    "        labels_assembly = labels_assembly.to(device)\n",
    "        \n",
    "        optimizer.zero_grad()\n",
    "        \n",
    "        # 공유된 Transformer 모델로 입력 데이터 처리\n",
    "        shared_output = shared_transformer(inputs)\n",
    "        \n",
    "        # Machinery 예측\n",
    "        machinery_output = machinery_head(shared_output)\n",
    "        loss_machinery = criterion_machinery(machinery_output, labels_machinery)\n",
    "        \n",
    "        # Assembly 예측 (Machinery 예측 결과 활용)\n",
    "        assembly_output = assembly_head(shared_output, machinery_output)\n",
    "        loss_assembly = criterion_assembly(assembly_output, labels_assembly)\n",
    "        \n",
    "        # 총 손실 계산 및 역전파\n",
    "        total_loss = loss_machinery + loss_assembly\n",
    "        total_loss.backward()\n",
    "        optimizer.step()\n",
    "        \n",
    "        total_train_loss += total_loss.item()\n",
    "        \n",
    "    scheduler.step()\n",
    "\n",
    "    # 평균 학습 손실 계산\n",
    "    avg_train_loss = total_train_loss / len(train_loader.dataset)\n",
    "    \n",
    "     # 모델을 평가 모드로 설정\n",
    "    shared_transformer.eval()\n",
    "    machinery_head.eval()\n",
    "    assembly_head.eval()\n",
    "    \n",
    "    total_val_loss = 0\n",
    "    with torch.no_grad():\n",
    "        for inputs, labels_machinery, labels_assembly in val_loader:\n",
    "            inputs = inputs.to(device)\n",
    "            labels_machinery = labels_machinery.to(device)\n",
    "            labels_assembly = labels_assembly.to(device)\n",
    "            \n",
    "            # 공유된 Transformer 모델로 입력 데이터 처리\n",
    "            shared_output = shared_transformer(inputs)\n",
    "            \n",
    "            # Machinery 예측\n",
    "            machinery_output = machinery_head(shared_output)\n",
    "            loss_machinery = criterion_machinery(machinery_output, labels_machinery)\n",
    "            \n",
    "            # Assembly 예측 (Machinery 예측 결과 활용)\n",
    "            assembly_output = assembly_head(shared_output, machinery_output)\n",
    "            loss_assembly = criterion_assembly(assembly_output, labels_assembly)\n",
    "            \n",
    "            # 총 손실 계산\n",
    "            total_loss = loss_machinery + loss_assembly\n",
    "            total_val_loss += total_loss.item()\n",
    "    \n",
    "    # 평균 검증 손실 계산\n",
    "    avg_val_loss = total_val_loss / len(val_loader.dataset)\n",
    "    \n",
    "    if (epoch + 1) % 10 == 0:\n",
    "        print(f\"Epoch [{epoch + 1}/{num_epochs}], \"\n",
    "              f\"Train Loss: {avg_train_loss:.4f}, \"\n",
    "              f\"Val Loss: {avg_val_loss:.4f}\")\n",
    "\n",
    "    # 얼리 스토핑 체크\n",
    "    if avg_val_loss < best_val_loss:\n",
    "        best_val_loss = avg_val_loss\n",
    "        epochs_no_improve = 0\n",
    "    else:\n",
    "        epochs_no_improve += 1\n",
    "        print(f\"Validation loss did not improve for {epochs_no_improve} epochs.\")\n",
    "    \n",
    "    if epochs_no_improve >= patience:\n",
    "        print(f\"Early stopping at epoch {epoch + 1}\")\n",
    "        break"
   ]
  },
  {
   "cell_type": "code",
   "execution_count": 150,
   "id": "59a43f31-08f7-47d7-bdc0-c15bfce7b384",
   "metadata": {},
   "outputs": [
    {
     "name": "stdout",
     "output_type": "stream",
     "text": [
      "Test Loss: 0.1237\n",
      "Sample 1:\n",
      "  Predicted Machinery: 30, Actual Machinery: 30\n",
      "  Predicted Assembly: 122, Actual Assembly: 122\n",
      "Sample 2:\n",
      "  Predicted Machinery: 54, Actual Machinery: 54\n",
      "  Predicted Assembly: 91, Actual Assembly: 91\n",
      "Sample 3:\n",
      "  Predicted Machinery: 37, Actual Machinery: 37\n",
      "  Predicted Assembly: 228, Actual Assembly: 165\n",
      "Sample 4:\n",
      "  Predicted Machinery: 7, Actual Machinery: 37\n",
      "  Predicted Assembly: 233, Actual Assembly: 204\n",
      "Sample 5:\n",
      "  Predicted Machinery: 2, Actual Machinery: 2\n",
      "  Predicted Assembly: 149, Actual Assembly: 153\n",
      "Sample 6:\n",
      "  Predicted Machinery: 34, Actual Machinery: 34\n",
      "  Predicted Assembly: 206, Actual Assembly: 206\n",
      "Sample 7:\n",
      "  Predicted Machinery: 38, Actual Machinery: 38\n",
      "  Predicted Assembly: 29, Actual Assembly: 41\n",
      "Sample 8:\n",
      "  Predicted Machinery: 7, Actual Machinery: 7\n",
      "  Predicted Assembly: 233, Actual Assembly: 211\n",
      "Sample 9:\n",
      "  Predicted Machinery: 38, Actual Machinery: 38\n",
      "  Predicted Assembly: 1, Actual Assembly: 34\n",
      "Sample 10:\n",
      "  Predicted Machinery: 30, Actual Machinery: 30\n",
      "  Predicted Assembly: 208, Actual Assembly: 110\n"
     ]
    }
   ],
   "source": [
    "# 학습이 끝난 후 테스트 데이터셋에서 평가\n",
    "shared_transformer.eval()\n",
    "machinery_head.eval()\n",
    "assembly_head.eval()\n",
    "\n",
    "total_test_loss = 0\n",
    "all_machinery_preds = []\n",
    "all_assembly_preds = []\n",
    "all_machinery_labels = []\n",
    "all_assembly_labels = []\n",
    "\n",
    "with torch.no_grad():\n",
    "    for inputs, labels_machinery, labels_assembly in test_loader:\n",
    "        inputs = inputs.to(device)\n",
    "        labels_machinery = labels_machinery.to(device)\n",
    "        labels_assembly = labels_assembly.to(device)\n",
    "\n",
    "        # 공유된 Transformer 모델로 입력 데이터 처리\n",
    "        shared_output = shared_transformer(inputs)\n",
    "\n",
    "        # Machinery 예측\n",
    "        machinery_output = machinery_head(shared_output)\n",
    "        loss_machinery = criterion_machinery(machinery_output, labels_machinery)\n",
    "        \n",
    "        # Assembly 예측 (Machinery 예측 결과 활용)\n",
    "        assembly_output = assembly_head(shared_output, machinery_output)\n",
    "        loss_assembly = criterion_assembly(assembly_output, labels_assembly)\n",
    "        \n",
    "        # 총 손실 계산\n",
    "        total_loss = loss_machinery + loss_assembly\n",
    "        total_test_loss += total_loss.item()\n",
    "\n",
    "        # 예측 결과 저장 (argmax로 클래스 예측)\n",
    "        machinery_preds = torch.argmax(machinery_output, dim=1)\n",
    "        assembly_preds = torch.argmax(assembly_output, dim=1)\n",
    "\n",
    "        all_machinery_preds.extend(machinery_preds.cpu().numpy())\n",
    "        all_assembly_preds.extend(assembly_preds.cpu().numpy())\n",
    "        all_machinery_labels.extend(labels_machinery.cpu().numpy())\n",
    "        all_assembly_labels.extend(labels_assembly.cpu().numpy())\n",
    "\n",
    "# 평균 테스트 손실 계산\n",
    "avg_test_loss = total_test_loss / len(test_loader.dataset)\n",
    "print(f\"Test Loss: {avg_test_loss:.4f}\")\n",
    "\n",
    "# 예측값과 실제값 출력 (예를 들어, 처음 10개의 데이터에 대해)\n",
    "for i in range(10):\n",
    "    print(f\"Sample {i+1}:\")\n",
    "    print(f\"  Predicted Machinery: {all_machinery_preds[i]}, Actual Machinery: {all_machinery_labels[i]}\")\n",
    "    print(f\"  Predicted Assembly: {all_assembly_preds[i]}, Actual Assembly: {all_assembly_labels[i]}\")"
   ]
  },
  {
   "cell_type": "code",
   "execution_count": 169,
   "id": "b2d58ebd-5df9-4977-b5f5-bd1d914d51a1",
   "metadata": {},
   "outputs": [],
   "source": [
    "user_input_item = \"PLUG-DRAIN\"\n",
    "user_input_supplier = \"HAEIN Coporation_Cheonan\"\n",
    "\n",
    "# 전처리 적용\n",
    "cleaned_item = preprocess_text(user_input_item)\n",
    "cleaned_supplier = clean_supplier_name(user_input_supplier)\n",
    "\n",
    "# 전처리된 칼럼 결합\n",
    "combined_text = cleaned_item + \" \" + cleaned_supplier\n",
    "\n",
    "# 텍스트를 토큰화\n",
    "words = combined_text.split()\n",
    "\n",
    "# 각 단어를 FastText 모델에서 임베딩 벡터로 변환하고, 평균 벡터를 구함\n",
    "word_vectors = [model.wv[word] for word in words if word in model.wv]\n",
    "if word_vectors:\n",
    "    embedding = torch.tensor(word_vectors).mean(dim=0)\n",
    "else:\n",
    "    embedding = torch.zeros(model.vector_size)"
   ]
  },
  {
   "cell_type": "code",
   "execution_count": 170,
   "id": "3ce7af23-41ab-4248-bd66-e4b5e2339d0f",
   "metadata": {},
   "outputs": [
    {
     "name": "stdout",
     "output_type": "stream",
     "text": [
      "Rank 1:\n",
      "  Predicted Machinery: M/E REDUCTION GEAR\n",
      "  Predicted Assembly: 5H1113 FILTER GP-ENGINE OIL\n",
      "Rank 2:\n",
      "  Predicted Machinery: REF SYSTEM\n",
      "  Predicted Assembly: NMC CONTROLLER\n",
      "Rank 3:\n",
      "  Predicted Machinery: BOW THRUSTER TRANSMISSION\n",
      "  Predicted Assembly: 5N8336 CYLINER HEAD GP\n",
      "Rank 4:\n",
      "  Predicted Machinery: NO.3 GENERATOR ENGINE\n",
      "  Predicted Assembly: PARTS, PERFORMANCE\n",
      "Rank 5:\n",
      "  Predicted Machinery: SKIFF BOAT REDUCTION GEAR\n",
      "  Predicted Assembly: LUBRICATION ASSEMBLY 3800MRHV\n"
     ]
    }
   ],
   "source": [
    "\n",
    "# 모델을 평가 모드로 설정\n",
    "shared_transformer.eval()\n",
    "machinery_head.eval()\n",
    "assembly_head.eval()\n",
    "\n",
    "# 예측을 위한 준비된 함수\n",
    "def predict_top_k(input_embedding, k=5):\n",
    "    input_tensor = input_embedding.unsqueeze(0).to(device)\n",
    "    \n",
    "    with torch.no_grad():\n",
    "        shared_output = shared_transformer(input_tensor)\n",
    "        machinery_output = machinery_head(shared_output)\n",
    "        assembly_output = assembly_head(shared_output, machinery_output)\n",
    "    \n",
    "    # 상위 k개의 예측을 추출\n",
    "    top_k_machinery = torch.topk(machinery_output, k, dim=1)\n",
    "    top_k_assembly = torch.topk(assembly_output, k, dim=1)\n",
    "    \n",
    "    # 인덱스와 해당 확률을 가져옴\n",
    "    top_k_machinery_indices = top_k_machinery.indices.squeeze(0).cpu().numpy()\n",
    "    top_k_assembly_indices = top_k_assembly.indices.squeeze(0).cpu().numpy()\n",
    "    \n",
    "    return top_k_machinery_indices, top_k_assembly_indices\n",
    "\n",
    "# 예측 실행\n",
    "top_k_machinery, top_k_assembly = predict_top_k(embedding, k=5)\n",
    "\n",
    "# 각 예측의 인덱스를 원래 문자열로 변환\n",
    "top_k_machinery_labels = machinery_encoder.inverse_transform(top_k_machinery)\n",
    "top_k_assembly_labels = assembly_encoder.inverse_transform(top_k_assembly)\n",
    "\n",
    "# 결과 출력\n",
    "for i in range(5):\n",
    "    print(f\"Rank {i+1}:\")\n",
    "    print(f\"  Predicted Machinery: {top_k_machinery_labels[i]}\")\n",
    "    print(f\"  Predicted Assembly: {top_k_assembly_labels[i]}\")"
   ]
  },
  {
   "cell_type": "code",
   "execution_count": null,
   "id": "57dc2528-3d20-46de-aae3-5c3e3fcb8d6a",
   "metadata": {},
   "outputs": [],
   "source": []
  },
  {
   "cell_type": "code",
   "execution_count": null,
   "id": "cf009e4d-8dd6-4e58-a3ad-df4efd1bdd23",
   "metadata": {},
   "outputs": [],
   "source": []
  }
 ],
 "metadata": {
  "kernelspec": {
   "display_name": "Python (ship)",
   "language": "python",
   "name": "ship"
  },
  "language_info": {
   "codemirror_mode": {
    "name": "ipython",
    "version": 3
   },
   "file_extension": ".py",
   "mimetype": "text/x-python",
   "name": "python",
   "nbconvert_exporter": "python",
   "pygments_lexer": "ipython3",
   "version": "3.12.5"
  }
 },
 "nbformat": 4,
 "nbformat_minor": 5
}
