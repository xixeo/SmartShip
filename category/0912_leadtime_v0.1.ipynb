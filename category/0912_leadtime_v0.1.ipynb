{
 "cells": [
  {
   "cell_type": "code",
   "execution_count": 1,
   "id": "56d0d6d0-7a41-4a0d-a0ad-eba1d8e6ae75",
   "metadata": {},
   "outputs": [
    {
     "name": "stdout",
     "output_type": "stream",
     "text": [
      "CUDA available: True\n",
      "Current device: 0\n",
      "Device name: NVIDIA GeForce GTX 1650\n"
     ]
    }
   ],
   "source": [
    "import torch\n",
    "\n",
    "print(\"CUDA available:\", torch.cuda.is_available())\n",
    "\n",
    "print(\"Current device:\", torch.cuda.current_device())\n",
    "print(\"Device name:\", torch.cuda.get_device_name(torch.cuda.current_device()))"
   ]
  },
  {
   "cell_type": "code",
   "execution_count": 2,
   "id": "496f2a9e-661c-4800-af46-a4eeefc9998f",
   "metadata": {},
   "outputs": [],
   "source": [
    "import pandas as pd\n",
    "import numpy as np\n",
    "import re\n",
    "\n",
    "from sklearn.model_selection import train_test_split\n",
    "from sklearn.preprocessing import LabelEncoder\n",
    "from sklearn.ensemble import RandomForestClassifier\n",
    "from sklearn.metrics import classification_report, accuracy_score"
   ]
  },
  {
   "cell_type": "code",
   "execution_count": 7,
   "id": "ead46d44-e3c4-464b-9c55-8e68b61685f8",
   "metadata": {},
   "outputs": [],
   "source": [
    "data=pd.read_excel('merged.xlsx')"
   ]
  },
  {
   "cell_type": "code",
   "execution_count": 8,
   "id": "05aef43a-0b3e-408b-ba95-70285b38f602",
   "metadata": {},
   "outputs": [
    {
     "name": "stdout",
     "output_type": "stream",
     "text": [
      "<class 'pandas.core.frame.DataFrame'>\n",
      "RangeIndex: 24665 entries, 0 to 24664\n",
      "Data columns (total 33 columns):\n",
      " #   Column       Non-Null Count  Dtype  \n",
      "---  ------       --------------  -----  \n",
      " 0   청구서번호        24664 non-null  object \n",
      " 1   No.          24664 non-null  float64\n",
      " 2   Subject      24642 non-null  object \n",
      " 3   Machinery    24664 non-null  object \n",
      " 4   Assembly     24664 non-null  object \n",
      " 5   청구품목         24664 non-null  object \n",
      " 6   Unnamed: 6   0 non-null      float64\n",
      " 7   Part No.1    24640 non-null  object \n",
      " 8   Part No.2    3599 non-null   object \n",
      " 9   청구량          24546 non-null  float64\n",
      " 10  견적           24200 non-null  object \n",
      " 11  Unnamed: 11  7737 non-null   float64\n",
      " 12  견적수량         16809 non-null  float64\n",
      " 13  견적화폐         24546 non-null  object \n",
      " 14  견적단가         24664 non-null  float64\n",
      " 15  발주번호         24664 non-null  object \n",
      " 16  발주처          24546 non-null  object \n",
      " 17  발주           24546 non-null  object \n",
      " 18  발주수량         24546 non-null  float64\n",
      " 19  발주금액         24547 non-null  float64\n",
      " 20  D/T          22335 non-null  object \n",
      " 21  미입고 기간       1620 non-null   object \n",
      " 22  창고입고         21345 non-null  object \n",
      " 23  창고입고수량       24664 non-null  float64\n",
      " 24  Control No.  15465 non-null  object \n",
      " 25  입고창고         21345 non-null  object \n",
      " 26  창고출고         19277 non-null  object \n",
      " 27  창고출고수량       24664 non-null  float64\n",
      " 28  출고선박         19277 non-null  object \n",
      " 29  출고운반선        19277 non-null  object \n",
      " 30  선박입고         5376 non-null   object \n",
      " 31  선박입고수량       24664 non-null  float64\n",
      " 32  완료 여부        5364 non-null   object \n",
      "dtypes: float64(11), object(22)\n",
      "memory usage: 6.2+ MB\n"
     ]
    }
   ],
   "source": [
    "data.info()"
   ]
  },
  {
   "cell_type": "code",
   "execution_count": 12,
   "id": "2ddfcd0c-6023-42f2-8eb3-2834dc6787d9",
   "metadata": {},
   "outputs": [
    {
     "name": "stdout",
     "output_type": "stream",
     "text": [
      "창고 입고일은 있는데, 발주일자가 누락된 경우: 118개\n"
     ]
    }
   ],
   "source": [
    "#창고 입고일은 있는데, 발주일자가 누락된 경우 => 발주처 및 발주번호를 통해 결측값 채워 넣기\n",
    "missing_both = data[data['창고입고'].notnull() & data['발주'].isnull()]\n",
    "\n",
    "print(f\"창고 입고일은 있는데, 발주일자가 누락된 경우: {len(missing_both)}개\")"
   ]
  },
  {
   "cell_type": "code",
   "execution_count": 13,
   "id": "b2089545-cb02-4012-88a9-0da4869c274e",
   "metadata": {},
   "outputs": [
    {
     "name": "stdout",
     "output_type": "stream",
     "text": [
      "발주 일자는 있지만 미입고 기간, 창고 입고, 선박 입고도 없는 경우: 1699개\n"
     ]
    }
   ],
   "source": [
    "missing_conditions = data[\n",
    "    data['발주'].notnull() &  # 발주 일자는 비어있지 않음\n",
    "    data['미입고 기간'].isnull() &  # 미입고 기간은 비어있음\n",
    "    data['창고입고'].isnull() & # 창고 입고도 비어있음\n",
    "    data['선박입고'].isnull()  # 선박 입고도 비어있음\n",
    "\n",
    "]\n",
    "\n",
    "print(f\"발주 일자는 있지만 미입고 기간, 창고 입고, 선박 입고도 없는 경우: {len(missing_conditions)}개\")"
   ]
  },
  {
   "cell_type": "code",
   "execution_count": 14,
   "id": "ac7d7032-14fa-43c5-857d-f385a28e828d",
   "metadata": {},
   "outputs": [],
   "source": [
    "df=pd.read_excel('dataset0828.xlsx')"
   ]
  },
  {
   "cell_type": "code",
   "execution_count": 15,
   "id": "64ed3b96-a4f7-4991-8fb4-5b973629e7ba",
   "metadata": {},
   "outputs": [
    {
     "name": "stdout",
     "output_type": "stream",
     "text": [
      "창고 입고일은 있는데, 발주일자가 누락된 경우: 0개\n"
     ]
    }
   ],
   "source": [
    "#창고 입고일은 있는데, 발주일자가 누락된 경우 => 발주처 및 발주번호를 통해 결측값 채워 넣음.\n",
    "missing_both = df[df['창고입고'].notnull() & df['발주'].isnull()]\n",
    "\n",
    "print(f\"창고 입고일은 있는데, 발주일자가 누락된 경우: {len(missing_both)}개\")"
   ]
  },
  {
   "cell_type": "code",
   "execution_count": 16,
   "id": "1d74236f-28e0-4b3e-8656-49bfb44e890f",
   "metadata": {},
   "outputs": [
    {
     "name": "stdout",
     "output_type": "stream",
     "text": [
      "발주 일자는 있지만 미입고 기간, 창고 입고, 선박 입고도 없는 경우: 1699개\n"
     ]
    }
   ],
   "source": [
    "#발주 일자는 있는데, 미입고 기간도 없고 창고 입고도 없고 선박입고도 없음\n",
    "missing_conditions = df[\n",
    "    df['발주'].notnull() &  # 발주 일자는 비어있지 않음\n",
    "    df['미입고 기간'].isnull() &  # 미입고 기간은 비어있음\n",
    "    df['창고입고'].isnull() & # 창고 입고도 비어있음\n",
    "    df['선박입고'].isnull()  # 선박 입고도 비어있음\n",
    "\n",
    "]\n",
    "\n",
    "print(f\"발주 일자는 있지만 미입고 기간, 창고 입고, 선박 입고도 없는 경우: {len(missing_conditions)}개\")"
   ]
  },
  {
   "cell_type": "code",
   "execution_count": 19,
   "id": "116fd26a-b562-4f62-a379-b2f3c8de8dce",
   "metadata": {},
   "outputs": [
    {
     "name": "stdout",
     "output_type": "stream",
     "text": [
      "창고 입고일은 없고 미입고 기간은 명시되어 있어 미입고 기간으로 처리해야 할 경우 : 1620개\n"
     ]
    }
   ],
   "source": [
    "#미입고기간으로 처리.\n",
    "missing_both = df[df['창고입고'].isnull() & df['미입고 기간'].notnull()]\n",
    "\n",
    "print(f\"창고 입고일은 없고 미입고 기간은 명시되어 있어 미입고 기간으로 처리해야 할 경우 : {len(missing_both)}개\")"
   ]
  },
  {
   "cell_type": "markdown",
   "id": "e6415da5-b891-4267-8e7f-d278521a23ae",
   "metadata": {},
   "source": [
    "### 발주 일자는 있지만 미입고 기간, 창고 입고, 선박 입고도 없는 경우 drop"
   ]
  },
  {
   "cell_type": "code",
   "execution_count": 20,
   "id": "7e5ad214-ff7d-492a-8c75-7feb257388f2",
   "metadata": {},
   "outputs": [
    {
     "name": "stdout",
     "output_type": "stream",
     "text": [
      "삭제된 행의 개수: 1699개\n",
      "새로운 데이터프레임 크기: (22965, 32)\n"
     ]
    }
   ],
   "source": [
    "missing_conditions = df[\n",
    "    df['발주'].notnull() &  \n",
    "    df['미입고 기간'].isnull() &  \n",
    "    df['창고입고'].isnull() &  \n",
    "    df['선박입고'].isnull() \n",
    "]\n",
    "\n",
    "df_cleaned = df.drop(missing_conditions.index)\n",
    "\n",
    "print(f\"삭제된 행의 개수: {len(missing_conditions)}개\")\n",
    "print(f\"새로운 데이터프레임 크기: {df_cleaned.shape}\")"
   ]
  },
  {
   "cell_type": "markdown",
   "id": "beb5bfc4-84f3-4bd3-9331-c7b2fbb369e0",
   "metadata": {},
   "source": [
    "### TODO: 창고 입고와 발주 날짜가 같은 데이터에 대한 처리"
   ]
  },
  {
   "cell_type": "code",
   "execution_count": 45,
   "id": "ad7c6f0d-1824-4137-b59c-b9b42303c78b",
   "metadata": {},
   "outputs": [
    {
     "name": "stdout",
     "output_type": "stream",
     "text": [
      "창고입고와 발주 날짜가 같은 행의 개수: 292\n"
     ]
    }
   ],
   "source": [
    "df['발주'] = pd.to_datetime(df['발주'])\n",
    "df['창고입고'] = pd.to_datetime(df['창고입고'])\n",
    "\n",
    "same_date_df = df[df['발주'] == df['창고입고']]\n",
    "\n",
    "# 필터링된 행의 수를 세기\n",
    "count_same_date = same_date_df.shape[0]\n",
    "\n",
    "print(f\"창고입고와 발주 날짜가 같은 행의 개수: {count_same_date}\")"
   ]
  },
  {
   "cell_type": "code",
   "execution_count": 41,
   "id": "30e022b7-9552-4b92-8a8c-cc87d41197a5",
   "metadata": {},
   "outputs": [
    {
     "name": "stdout",
     "output_type": "stream",
     "text": [
      "          발주       창고입고  leadtime\n",
      "0 2019-01-11 2019-05-03       112\n",
      "1 2019-01-11 2019-04-18        97\n",
      "2 2019-01-11 2019-05-03       112\n",
      "3 2019-04-01 2019-04-01         0\n",
      "4 2019-04-01 2019-04-01         0\n"
     ]
    }
   ],
   "source": [
    "df['발주'] = pd.to_datetime(df['발주'], errors='coerce')\n",
    "df['창고입고'] = pd.to_datetime(df['창고입고'], errors='coerce')\n",
    "\n",
    "df['leadtime'] = df.apply(\n",
    "    lambda row: (row['창고입고'] - row['발주']).days if pd.notna(row['창고입고']) else 112, \n",
    "    axis=1\n",
    ")\n",
    "\n",
    "print(df[['발주', '창고입고', 'leadtime']].head())"
   ]
  },
  {
   "cell_type": "code",
   "execution_count": 48,
   "id": "bfc8fa18-f697-482c-b1d0-80f91d504941",
   "metadata": {},
   "outputs": [
    {
     "name": "stdout",
     "output_type": "stream",
     "text": [
      "<class 'pandas.core.frame.DataFrame'>\n",
      "RangeIndex: 22965 entries, 0 to 22964\n",
      "Data columns (total 32 columns):\n",
      " #   Column       Non-Null Count  Dtype  \n",
      "---  ------       --------------  -----  \n",
      " 0   청구서번호        22965 non-null  object \n",
      " 1   No.          22965 non-null  int64  \n",
      " 2   Subject      22943 non-null  object \n",
      " 3   Machinery    22965 non-null  object \n",
      " 4   Assembly     22965 non-null  object \n",
      " 5   청구품목         22965 non-null  object \n",
      " 6   Unnamed: 6   0 non-null      float64\n",
      " 7   Part No.1    22947 non-null  object \n",
      " 8   Part No.2    3330 non-null   object \n",
      " 9   청구량          22847 non-null  float64\n",
      " 10  견적           22557 non-null  object \n",
      " 11  견적수량         22847 non-null  float64\n",
      " 12  견적화폐         22847 non-null  object \n",
      " 13  견적단가         22965 non-null  float64\n",
      " 14  발주번호         22965 non-null  object \n",
      " 15  발주처          22965 non-null  object \n",
      " 16  발주           22965 non-null  object \n",
      " 17  발주수량         22847 non-null  float64\n",
      " 18  발주금액         22847 non-null  float64\n",
      " 19  D/T          21029 non-null  object \n",
      " 20  미입고 기간       1620 non-null   object \n",
      " 21  창고입고         21345 non-null  object \n",
      " 22  창고입고수량       22965 non-null  int64  \n",
      " 23  Control No.  15465 non-null  object \n",
      " 24  입고창고         21345 non-null  object \n",
      " 25  창고출고         19277 non-null  object \n",
      " 26  창고출고수량       22965 non-null  int64  \n",
      " 27  출고선박         19277 non-null  object \n",
      " 28  출고운반선        19277 non-null  object \n",
      " 29  선박입고         5376 non-null   object \n",
      " 30  선박입고수량       22965 non-null  int64  \n",
      " 31  완료 여부        5364 non-null   object \n",
      "dtypes: float64(6), int64(4), object(22)\n",
      "memory usage: 5.6+ MB\n"
     ]
    }
   ],
   "source": [
    "df = pd.read_excel('data_cleaned.xlsx')\n"
   ]
  },
  {
   "cell_type": "markdown",
   "id": "315aaac3-23bc-4114-aa65-724a5fdaac0d",
   "metadata": {},
   "source": [
    "## 미입고 기간 예측 (분류) \n",
    "> 1개월, 3개월, 6개월, 6개월 초과 등의 범주형 값\n",
    "\n",
    "## 리드타임 예측 (회귀) \n",
    "\n",
    "> 오타, 변형 서브워드로 처리하기 위해 fasttext 임베딩\n",
    "> 발주처 (79)는 카테고리 임베딩 => 따로 처리해서 결합하여 사용"
   ]
  },
  {
   "cell_type": "code",
   "execution_count": 24,
   "id": "f4a0a2b4-7c5b-45b8-9acf-1d354ea5d3f8",
   "metadata": {},
   "outputs": [],
   "source": [
    "import pandas as pd\n",
    "import numpy as np\n",
    "import re\n",
    "\n",
    "from sklearn.model_selection import train_test_split\n",
    "from sklearn.preprocessing import LabelEncoder\n",
    "from sklearn.ensemble import RandomForestClassifier\n",
    "from sklearn.metrics import classification_report, accuracy_score"
   ]
  },
  {
   "cell_type": "markdown",
   "id": "81d70ed1-77d4-4466-9716-5a2f4ebe6eb1",
   "metadata": {},
   "source": [
    "### 품목 / 발주처 텍스트 전처리"
   ]
  },
  {
   "cell_type": "code",
   "execution_count": 61,
   "id": "b81e9c88-d80d-45b4-b343-f433a440d48b",
   "metadata": {},
   "outputs": [],
   "source": [
    "import re\n",
    "\n",
    "def preprocess_text(text):\n",
    "    text = text.lower()\n",
    "    text = re.sub(r'\\([^)]*\\)', '', text)\n",
    "    text = re.sub(r'[^\\w\\s\\*/\\-\\+.,#&]', '', text)\n",
    "    text = re.sub(r'\\s+', ' ', text)\n",
    "    text = re.sub(r'\\b(사용금지|사)\\b', '', text, flags=re.IGNORECASE)\n",
    "    text = text.strip()\n",
    "    return text\n",
    "\n",
    "def clean_supplier_name(name):\n",
    "    name = name.lower()\n",
    "    name = re.sub(r'coporation|coropration|coproration|corporration', 'corporation', name)\n",
    "    name = re.sub(r'\\(사용금지\\)', '', name)\n",
    "    name = re.sub(r'u\\.s\\.a', '_usa', name)\n",
    "    name = re.sub(r'\\.', '', name)\n",
    "    suffixes = r'(corporation|corp|company|co|incorporated|inc|limited|ltd|상사|공사|엔지니어링|주식회사|주|gmbh|pte ltd|llc)'\n",
    "    name = re.sub(suffixes, '', name, flags=re.IGNORECASE)\n",
    "    name = re.sub(r'[^\\w\\s-]', '', name)\n",
    "    name = re.sub(r'\\s+', ' ', name).strip()\n",
    "    return name"
   ]
  },
  {
   "cell_type": "code",
   "execution_count": 72,
   "id": "05f08286-d27f-4c2a-afca-dce765e72b12",
   "metadata": {},
   "outputs": [],
   "source": [
    "# 텍스트형 칼럼 전처리\n",
    "df['cleaned_machinery'] = df['Machinery'].apply(preprocess_text)\n",
    "df['cleaned_assembly'] = df['Assembly'].apply(preprocess_text)\n",
    "df['cleaned_item'] = df['청구품목'].apply(preprocess_text)\n",
    "df['cleaned_supplier'] = df['발주처'].apply(clean_supplier_name)\n",
    "\n",
    "# 전처리된 칼럼 결합\n",
    "df['combined_text'] = df['cleaned_machinery'].fillna('') + \" \" + df['cleaned_assembly'].fillna('') + \" \" + df['Part No.1'].fillna('') + \" \" + df['cleaned_supplier'].fillna('') "
   ]
  },
  {
   "cell_type": "code",
   "execution_count": 63,
   "id": "0b4db833-ea51-454c-b7f2-53e772c872e1",
   "metadata": {},
   "outputs": [
    {
     "name": "stdout",
     "output_type": "stream",
     "text": [
      "0        cargo_boom_vang_block block mckissick_construc...\n",
      "1        spanish_boom_vang_block block mckissick_constr...\n",
      "2        purse_block tow_block westec_20ton_tow_block w...\n",
      "3        main_engine power_pack_as ge_power_pack_fork_e...\n",
      "4        main_engine power_pack_as ge_power_pack_fork_e...\n",
      "                               ...                        \n",
      "22960    main_engine crankshaft,_flywheel_and_vibration...\n",
      "22961    main_engine air_filter_with_silencer_installat...\n",
      "22962    main_engine air_filter_with_silencer_installat...\n",
      "22963    main_engine air_filter_with_silencer_installat...\n",
      "22964    main_engine air_filter_with_silencer_installat...\n",
      "Name: combined_text, Length: 22965, dtype: object\n"
     ]
    }
   ],
   "source": [
    "print(df['combined_text'])"
   ]
  },
  {
   "cell_type": "markdown",
   "id": "b1e25caa-9e64-4929-8627-b715e82ecc23",
   "metadata": {},
   "source": [
    "### 품목 정보 임베딩 (bert)"
   ]
  },
  {
   "cell_type": "code",
   "execution_count": null,
   "id": "17ebdf37-d54a-4ef4-83ba-1ea1d45b8128",
   "metadata": {},
   "outputs": [],
   "source": []
  },
  {
   "cell_type": "code",
   "execution_count": null,
   "id": "fb2a5214-632b-47cc-abf4-703fe3a81105",
   "metadata": {},
   "outputs": [],
   "source": []
  }
 ],
 "metadata": {
  "kernelspec": {
   "display_name": "Python (ship)",
   "language": "python",
   "name": "ship"
  },
  "language_info": {
   "codemirror_mode": {
    "name": "ipython",
    "version": 3
   },
   "file_extension": ".py",
   "mimetype": "text/x-python",
   "name": "python",
   "nbconvert_exporter": "python",
   "pygments_lexer": "ipython3",
   "version": "3.12.5"
  }
 },
 "nbformat": 4,
 "nbformat_minor": 5
}
