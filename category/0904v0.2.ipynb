{
 "cells": [
  {
   "cell_type": "code",
   "execution_count": 1,
   "id": "e83a08e1-5041-4642-99f5-c82449e37554",
   "metadata": {},
   "outputs": [
    {
     "name": "stdout",
     "output_type": "stream",
     "text": [
      "CUDA available: True\n",
      "Current device: 0\n",
      "Device name: NVIDIA GeForce GTX 1650\n"
     ]
    }
   ],
   "source": [
    "import torch\n",
    "\n",
    "print(\"CUDA available:\", torch.cuda.is_available())\n",
    "\n",
    "print(\"Current device:\", torch.cuda.current_device())\n",
    "print(\"Device name:\", torch.cuda.get_device_name(torch.cuda.current_device()))"
   ]
  },
  {
   "cell_type": "code",
   "execution_count": 1,
   "id": "6526e20d-c98e-48d0-b5bb-b5f808ede823",
   "metadata": {},
   "outputs": [],
   "source": [
    "import pandas as pd\n",
    "import numpy as np\n",
    "import re\n",
    "\n",
    "from sklearn.model_selection import train_test_split\n",
    "from sklearn.preprocessing import LabelEncoder\n",
    "from sklearn.ensemble import RandomForestClassifier\n",
    "from sklearn.metrics import classification_report, accuracy_score"
   ]
  },
  {
   "cell_type": "code",
   "execution_count": 2,
   "id": "e2d1ff7f-9042-4774-94de-dd80bd002a16",
   "metadata": {},
   "outputs": [],
   "source": [
    "data=pd.read_excel('dataset0828.xlsx')"
   ]
  },
  {
   "cell_type": "code",
   "execution_count": 3,
   "id": "64cb3b8e-7afc-406b-b683-e9fc57c549b8",
   "metadata": {},
   "outputs": [
    {
     "name": "stdout",
     "output_type": "stream",
     "text": [
      "<class 'pandas.core.frame.DataFrame'>\n",
      "RangeIndex: 24664 entries, 0 to 24663\n",
      "Data columns (total 32 columns):\n",
      " #   Column       Non-Null Count  Dtype  \n",
      "---  ------       --------------  -----  \n",
      " 0   청구서번호        24664 non-null  object \n",
      " 1   No.          24664 non-null  int64  \n",
      " 2   Subject      24642 non-null  object \n",
      " 3   Machinery    24664 non-null  object \n",
      " 4   Assembly     24664 non-null  object \n",
      " 5   청구품목         24664 non-null  object \n",
      " 6   Unnamed: 6   0 non-null      float64\n",
      " 7   Part No.1    24645 non-null  object \n",
      " 8   Part No.2    3599 non-null   object \n",
      " 9   청구량          24546 non-null  float64\n",
      " 10  견적           24200 non-null  object \n",
      " 11  견적수량         24546 non-null  float64\n",
      " 12  견적화폐         24546 non-null  object \n",
      " 13  견적단가         24664 non-null  float64\n",
      " 14  발주번호         24664 non-null  object \n",
      " 15  발주처          24664 non-null  object \n",
      " 16  발주           24664 non-null  object \n",
      " 17  발주수량         24546 non-null  float64\n",
      " 18  발주금액         24546 non-null  float64\n",
      " 19  D/T          22335 non-null  object \n",
      " 20  미입고 기간       1620 non-null   object \n",
      " 21  창고입고         21345 non-null  object \n",
      " 22  창고입고수량       24664 non-null  int64  \n",
      " 23  Control No.  15465 non-null  object \n",
      " 24  입고창고         21345 non-null  object \n",
      " 25  창고출고         19277 non-null  object \n",
      " 26  창고출고수량       24664 non-null  int64  \n",
      " 27  출고선박         19277 non-null  object \n",
      " 28  출고운반선        19277 non-null  object \n",
      " 29  선박입고         5376 non-null   object \n",
      " 30  선박입고수량       24664 non-null  int64  \n",
      " 31  완료 여부        5364 non-null   object \n",
      "dtypes: float64(6), int64(4), object(22)\n",
      "memory usage: 6.0+ MB\n"
     ]
    }
   ],
   "source": [
    "data.info()"
   ]
  },
  {
   "cell_type": "code",
   "execution_count": 4,
   "id": "1f68d784-6d51-43a8-8ef6-bbad5d5109d3",
   "metadata": {},
   "outputs": [],
   "source": [
    "import re\n",
    "\n",
    "def preprocess_text(text):\n",
    "    # 괄호 안의 내용 제거\n",
    "    text = re.sub(r'\\([^)]*\\)', '', text)\n",
    "    # 특수 문자 제거 (알파벳, 숫자, 일부 허용된 특수문자 제외)\n",
    "    text = re.sub(r'[^\\w\\s\\*\\-\\+/.,]', '', text)\n",
    "    # 여러 공백을 언더스코어로 변환\n",
    "    text = re.sub(r'\\s+', '_', text)\n",
    "    # 텍스트 중간의 연속된 언더스코어를 하나로 줄임\n",
    "    text = re.sub(r'_+', '_', text)\n",
    "    # 중간에 언더스코어가 불필요하게 남아있는 경우 처리\n",
    "    text = re.sub(r'(?<!\\w)_(?!\\w)', '', text)\n",
    "    # 언더스코어 앞뒤로 존재하는 특수문자 제거\n",
    "    text = re.sub(r'_([^\\w]+)_', '_', text)\n",
    "    text = re.sub(r'_([^\\w]+)$', '', text)\n",
    "    text = re.sub(r'^([^\\w]+)_', '', text)\n",
    "    # 텍스트 끝부분의 불필요한 언더스코어 제거\n",
    "    text = re.sub(r'_+$', '', text)\n",
    "    # 영어 단어는 소문자로 변환\n",
    "    text = ' '.join([word.lower() if re.match(r'[A-Za-z]', word) else word for word in text.split()])\n",
    "    text = text.strip()\n",
    "    return text\n",
    "\n",
    "def clean_supplier_name(name):\n",
    "    # 접미사 제거\n",
    "    suffixes = r'\\b(Corp\\.?|Corporation|Company|Co\\.?|Incorporated|Inc\\.?|Limited|Ltd\\.?|GmbH|S\\.L\\.|SDN\\. BHD\\.)\\b'\n",
    "    name = re.sub(suffixes, '', name, flags=re.IGNORECASE)\n",
    "    # 특수 문자 제거\n",
    "    name = re.sub(r'[^\\w\\s]', '', name)\n",
    "    # 불필요한 단어 제거\n",
    "    name = re.sub(r'\\b(사용금지|사)\\b', '', name, flags=re.IGNORECASE)\n",
    "    # 공백 정리\n",
    "    name = re.sub(r'\\s+', ' ', name).strip()\n",
    "    # 오타 수정 및 문자열 정리\n",
    "    name = re.sub(r'coporation|coropration|coproration|corporration', 'corporation', name, flags=re.IGNORECASE)\n",
    "    name = name.lower().strip()\n",
    "    return name"
   ]
  },
  {
   "cell_type": "code",
   "execution_count": 5,
   "id": "0e38477e-fa6b-4076-a3da-5af07d2a02cb",
   "metadata": {},
   "outputs": [],
   "source": [
    "# 각 칼럼 전처리\n",
    "data['cleaned_machinery'] = data['Machinery'].apply(preprocess_text)\n",
    "data['cleaned_assembly'] = data['Assembly'].apply(preprocess_text)\n",
    "data['cleaned_item'] = data['청구품목'].apply(preprocess_text)\n",
    "data['cleaned_part'] = data['Part No.1'].astype(str).apply(preprocess_text)\n",
    "data['cleaned_supplier'] = data['발주처'].apply(clean_supplier_name)\n",
    "\n",
    "# 전처리된 칼럼 결합\n",
    "data['combined_text'] = data['cleaned_machinery'].fillna('') + \" \" + data['cleaned_assembly'].fillna('') + \" \" + data['cleaned_item'].fillna('') + \" \" + data['cleaned_part'].fillna('') + \" \" + data['cleaned_supplier'].fillna('')\n"
   ]
  },
  {
   "cell_type": "code",
   "execution_count": 6,
   "id": "2c685cdd-83a5-452c-b78e-bcd3c53af7f5",
   "metadata": {},
   "outputs": [
    {
     "name": "stdout",
     "output_type": "stream",
     "text": [
      "                                           combined_text\n",
      "0      cargo_boom_vang_block block mckissick_construc...\n",
      "1      spanish_boom_vang_block block mckissick_constr...\n",
      "2      purse_block tow_block westec_20ton_tow_block w...\n",
      "3      main_engine power_pack_as ge_power_pack_fork_e...\n",
      "4      main_engine power_pack_as ge_power_pack_fork_e...\n",
      "...                                                  ...\n",
      "24659  no.3_generator_engine 342-0537_GENERATOR_GP-E ...\n",
      "24660  no.3_generator_engine 342-0537_GENERATOR_GP-E ...\n",
      "24661  no.3_generator_engine 342-0537_GENERATOR_GP-E ...\n",
      "24662  no.3_generator_engine 342-0537_GENERATOR_GP-E ...\n",
      "24663  no.3_generator_engine 342-0537_GENERATOR_GP-E ...\n",
      "\n",
      "[24664 rows x 1 columns]\n"
     ]
    }
   ],
   "source": [
    "print(data[['combined_text']])"
   ]
  },
  {
   "cell_type": "code",
   "execution_count": 7,
   "id": "463a83f9-bb98-4700-b241-b8c006c59b42",
   "metadata": {},
   "outputs": [
    {
     "data": {
      "text/plain": [
       "(1054726, 1471130)"
      ]
     },
     "execution_count": 7,
     "metadata": {},
     "output_type": "execute_result"
    }
   ],
   "source": [
    "from gensim.models import FastText\n",
    "import torch\n",
    "\n",
    "\n",
    "# 문장을 토큰화하여 리스트로 만들어야 합니다.\n",
    "sentences = [text.split() for text in data['combined_text']]\n",
    "\n",
    "# Gensim을 사용하여 FastText 모델 학습\n",
    "model = FastText(vector_size=100, window=3, min_count=1)  # 파라미터를 원하는 대로 조정 가능\n",
    "model.build_vocab(sentences)  # 어휘 빌드\n",
    "model.train(sentences, total_examples=len(sentences), epochs=10)  # 모델 학습"
   ]
  },
  {
   "cell_type": "code",
   "execution_count": 8,
   "id": "166e9254-3a18-40f4-a5fd-20f0796fdcde",
   "metadata": {},
   "outputs": [
    {
     "name": "stderr",
     "output_type": "stream",
     "text": [
      "C:\\Users\\User\\AppData\\Local\\Temp\\ipykernel_2844\\3945233529.py:8: UserWarning: Creating a tensor from a list of numpy.ndarrays is extremely slow. Please consider converting the list to a single numpy.ndarray with numpy.array() before converting to a tensor. (Triggered internally at C:\\actions-runner\\_work\\pytorch\\pytorch\\builder\\windows\\pytorch\\torch\\csrc\\utils\\tensor_new.cpp:281.)\n",
      "  embedding = torch.tensor(word_vectors).mean(dim=0)  # 단어 벡터의 평균 계산\n"
     ]
    },
    {
     "name": "stdout",
     "output_type": "stream",
     "text": [
      "torch.Size([24664, 100])\n"
     ]
    }
   ],
   "source": [
    "\n",
    "# FastText 임베딩 생성\n",
    "embeddings = []\n",
    "for text in data['combined_text']:\n",
    "    # 각 텍스트의 평균 임베딩을 구합니다\n",
    "    words = text.split()\n",
    "    word_vectors = [model.wv[word] for word in words if word in model.wv]\n",
    "    if word_vectors:  # 단어가 모델 어휘에 있는 경우\n",
    "        embedding = torch.tensor(word_vectors).mean(dim=0)  # 단어 벡터의 평균 계산\n",
    "    else:\n",
    "        embedding = torch.zeros(model.vector_size)  # 단어가 없는 경우, 0 벡터로 처리\n",
    "    embeddings.append(embedding)\n",
    "\n",
    "# 임베딩 리스트를 텐서로 변환\n",
    "embeddings_tensor = torch.stack(embeddings)\n",
    "\n",
    "print(embeddings_tensor.shape)  # 확인용 출력"
   ]
  },
  {
   "cell_type": "code",
   "execution_count": 12,
   "id": "c5c6c6a8-1537-405f-b228-2373dc7708c2",
   "metadata": {},
   "outputs": [],
   "source": [
    "import torch\n",
    "import torch.nn as nn\n",
    "import torch.optim as optim\n",
    "from sklearn.preprocessing import LabelEncoder\n",
    "from sklearn.model_selection import train_test_split\n",
    "\n",
    "# 데이터 준비\n",
    "machinery = data['Machinery'].values\n",
    "assembly = data['Assembly'].values\n",
    "\n",
    "# LabelEncoder를 사용하여 문자열을 정수로 인코딩\n",
    "machinery_encoder = LabelEncoder()\n",
    "assembly_encoder = LabelEncoder()\n",
    "\n",
    "machinery_labels = machinery_encoder.fit_transform(machinery)\n",
    "assembly_labels = assembly_encoder.fit_transform(assembly)"
   ]
  },
  {
   "cell_type": "code",
   "execution_count": 53,
   "id": "fe227dba-0285-4352-ad25-c1da4b7e51e0",
   "metadata": {},
   "outputs": [
    {
     "name": "stdout",
     "output_type": "stream",
     "text": [
      "Using device: cuda\n"
     ]
    }
   ],
   "source": [
    "device = torch.device(\"cuda\" if torch.cuda.is_available() else \"cpu\")\n",
    "print(f\"Using device: {device}\")"
   ]
  },
  {
   "cell_type": "code",
   "execution_count": 55,
   "id": "245d22ad-6e6a-4a9f-b411-51fa97d49d6d",
   "metadata": {},
   "outputs": [],
   "source": [
    "import os\n",
    "os.environ['CUDA_LAUNCH_BLOCKING'] = \"1\""
   ]
  },
  {
   "cell_type": "code",
   "execution_count": 67,
   "id": "1b404d9b-ac94-4ef0-9d92-dcfd47ce6a11",
   "metadata": {},
   "outputs": [],
   "source": [
    "import torch\n",
    "import torch.nn as nn\n",
    "import torch.optim as optim\n",
    "from sklearn.preprocessing import LabelEncoder, StandardScaler\n",
    "from sklearn.model_selection import train_test_split\n",
    "\n",
    "# 1. 데이터 준비 및 인코딩\n",
    "machinery = data['Machinery'].values\n",
    "assembly = data['Assembly'].values\n",
    "\n",
    "machinery_encoder = LabelEncoder()\n",
    "assembly_encoder = LabelEncoder()\n",
    "\n",
    "machinery_labels = machinery_encoder.fit_transform(machinery)\n",
    "assembly_labels = assembly_encoder.fit_transform(assembly)\n",
    "\n",
    "X = embeddings_tensor.numpy()\n",
    "y_combined = combined_labels\n",
    "\n",
    "\n",
    "# 3. Train-Test Split (각각의 타겟에 대해 독립적으로 분리)\n",
    "X_train, X_test, y_train_machinery, y_test_machinery = train_test_split(\n",
    "    X, machinery_labels, test_size=0.2, random_state=42)\n",
    "\n",
    "X_train, X_test, y_train_assembly, y_test_assembly = train_test_split(\n",
    "    X, assembly_labels, test_size=0.2, random_state=42)\n",
    "\n",
    "# 4. 데이터 정규화 (StandardScaler)\n",
    "scaler = StandardScaler()\n",
    "X_train_normalized = scaler.fit_transform(X_train)\n",
    "X_test_normalized = scaler.transform(X_test)\n",
    "\n",
    "\n",
    "# 5. Train 데이터를 torch Tensor로 변환\n",
    "X_train_tensor = torch.tensor(X_train_normalized, dtype=torch.float32)\n",
    "X_test_tensor = torch.tensor(X_test_normalized, dtype=torch.float32)\n",
    "y_train_machinery_tensor = torch.tensor(y_train_machinery, dtype=torch.long)\n",
    "y_test_machinery_tensor = torch.tensor(y_test_machinery, dtype=torch.long)\n",
    "y_train_assembly_tensor = torch.tensor(y_train_assembly, dtype=torch.long)\n",
    "y_test_assembly_tensor = torch.tensor(y_test_assembly, dtype=torch.long)\n"
   ]
  },
  {
   "cell_type": "code",
   "execution_count": 68,
   "id": "4ab4301e-48fe-42b0-a8a1-57d7fba01a04",
   "metadata": {},
   "outputs": [
    {
     "name": "stdout",
     "output_type": "stream",
     "text": [
      "y_train_tensor: tensor([  8045,  87373,  87371,  ..., 102592, 102030, 104610])\n",
      "Type of y_train_tensor: <class 'torch.Tensor'>\n",
      "Data type of y_train_tensor: torch.int64\n"
     ]
    }
   ],
   "source": [
    "# 레이블 텐서 확인\n",
    "print(\"y_train_tensor:\", y_train_tensor)\n",
    "print(\"Type of y_train_tensor:\", type(y_train_tensor))\n",
    "\n",
    "# dtype 확인\n",
    "print(\"Data type of y_train_tensor:\", y_train_tensor.dtype)"
   ]
  },
  {
   "cell_type": "code",
   "execution_count": 69,
   "id": "19cae55e-1a58-4c57-a1b5-e2e68d065ff8",
   "metadata": {},
   "outputs": [],
   "source": [
    "\n",
    "# 파라미터 설정\n",
    "input_dim = 100  # 임베딩 벡터의 크기\n",
    "hidden_dim = 128  # 은닉층의 뉴런 수\n",
    "machinery_classes = len(machinery_encoder.classes_)\n",
    "assembly_classes = len(assembly_encoder.classes_)"
   ]
  },
  {
   "cell_type": "code",
   "execution_count": 70,
   "id": "21cef2cc-c498-4ce1-a15c-9992b2295fc1",
   "metadata": {},
   "outputs": [],
   "source": [
    "import torch\n",
    "import torch.nn as nn\n",
    "import torch.optim as optim\n",
    "\n",
    "class ComplexCombinedModel(nn.Module):\n",
    "    def __init__(self, input_dim, hidden_dim, machinery_classes, assembly_classes):\n",
    "        super(ComplexCombinedModel, self).__init__()\n",
    "        \n",
    "        # Feature extractor with more layers and batch normalization\n",
    "        self.feature_extractor = nn.Sequential(\n",
    "            nn.Linear(input_dim, hidden_dim),\n",
    "            nn.ReLU(),\n",
    "            nn.BatchNorm1d(hidden_dim),\n",
    "            nn.Dropout(0.3),  # Dropout for regularization\n",
    "            nn.Linear(hidden_dim, hidden_dim),\n",
    "            nn.ReLU(),\n",
    "            nn.BatchNorm1d(hidden_dim),\n",
    "            nn.Dropout(0.3),\n",
    "            nn.Linear(hidden_dim, hidden_dim),\n",
    "            nn.ReLU(),\n",
    "            nn.BatchNorm1d(hidden_dim),\n",
    "            nn.Dropout(0.3)\n",
    "        )\n",
    "        \n",
    "        # Separate output heads for machinery and assembly with additional layers\n",
    "        self.machinery_output = nn.Sequential(\n",
    "            nn.Linear(hidden_dim, hidden_dim // 2),\n",
    "            nn.ReLU(),\n",
    "            nn.BatchNorm1d(hidden_dim // 2),\n",
    "            nn.Linear(hidden_dim // 2, machinery_classes)\n",
    "        )\n",
    "        \n",
    "        self.assembly_output = nn.Sequential(\n",
    "            nn.Linear(hidden_dim, hidden_dim // 2),\n",
    "            nn.ReLU(),\n",
    "            nn.BatchNorm1d(hidden_dim // 2),\n",
    "            nn.Linear(hidden_dim // 2, assembly_classes)\n",
    "        )\n",
    "    \n",
    "    def forward(self, x):\n",
    "        x = self.feature_extractor(x)\n",
    "        machinery_out = self.machinery_output(x)\n",
    "        assembly_out = self.assembly_output(x)\n",
    "        return (machinery_out, assembly_out)"
   ]
  },
  {
   "cell_type": "code",
   "execution_count": 72,
   "id": "feac6d3b-4819-4926-9076-94deb4c5d048",
   "metadata": {},
   "outputs": [
    {
     "data": {
      "text/plain": [
       "ComplexCombinedModel(\n",
       "  (feature_extractor): Sequential(\n",
       "    (0): Linear(in_features=100, out_features=128, bias=True)\n",
       "    (1): ReLU()\n",
       "    (2): BatchNorm1d(128, eps=1e-05, momentum=0.1, affine=True, track_running_stats=True)\n",
       "    (3): Dropout(p=0.3, inplace=False)\n",
       "    (4): Linear(in_features=128, out_features=128, bias=True)\n",
       "    (5): ReLU()\n",
       "    (6): BatchNorm1d(128, eps=1e-05, momentum=0.1, affine=True, track_running_stats=True)\n",
       "    (7): Dropout(p=0.3, inplace=False)\n",
       "    (8): Linear(in_features=128, out_features=128, bias=True)\n",
       "    (9): ReLU()\n",
       "    (10): BatchNorm1d(128, eps=1e-05, momentum=0.1, affine=True, track_running_stats=True)\n",
       "    (11): Dropout(p=0.3, inplace=False)\n",
       "  )\n",
       "  (machinery_output): Sequential(\n",
       "    (0): Linear(in_features=128, out_features=64, bias=True)\n",
       "    (1): ReLU()\n",
       "    (2): BatchNorm1d(64, eps=1e-05, momentum=0.1, affine=True, track_running_stats=True)\n",
       "    (3): Linear(in_features=64, out_features=168, bias=True)\n",
       "  )\n",
       "  (assembly_output): Sequential(\n",
       "    (0): Linear(in_features=128, out_features=64, bias=True)\n",
       "    (1): ReLU()\n",
       "    (2): BatchNorm1d(64, eps=1e-05, momentum=0.1, affine=True, track_running_stats=True)\n",
       "    (3): Linear(in_features=64, out_features=1789, bias=True)\n",
       "  )\n",
       ")"
      ]
     },
     "execution_count": 72,
     "metadata": {},
     "output_type": "execute_result"
    }
   ],
   "source": [
    "def init_weights(m):\n",
    "    if isinstance(m, nn.Linear):\n",
    "        nn.init.xavier_uniform_(m.weight)\n",
    "        if m.bias is not None:\n",
    "            nn.init.constant_(m.bias, 0)\n",
    "\n",
    "model.apply(init_weights)"
   ]
  },
  {
   "cell_type": "code",
   "execution_count": 73,
   "id": "04bd3635-1d31-40d0-9b33-54c0ce36de60",
   "metadata": {},
   "outputs": [],
   "source": [
    "machinery_classes = len(machinery_encoder.classes_)\n",
    "assembly_classes = len(assembly_encoder.classes_)\n",
    "model = ComplexCombinedModel(input_dim, hidden_dim, machinery_classes, assembly_classes)\n",
    "\n",
    "\n",
    "model.apply(init_weights)\n",
    "\n",
    "criterion_machinery = nn.CrossEntropyLoss()\n",
    "criterion_assembly = nn.CrossEntropyLoss()\n",
    "\n",
    "optimizer = optim.Adam(model.parameters(), lr=0.0001)"
   ]
  },
  {
   "cell_type": "code",
   "execution_count": 74,
   "id": "79d504b3-f3cf-40c2-8c6e-f27e3758ccf1",
   "metadata": {},
   "outputs": [],
   "source": [
    "\n",
    "# 학습 함수\n",
    "def train_model(model, data_loader, optimizer, num_epochs=50):\n",
    "    model.train()\n",
    "    for epoch in range(num_epochs):\n",
    "        total_loss = 0.0\n",
    "        for inputs, machinery_targets, assembly_targets in data_loader:\n",
    "            optimizer.zero_grad()\n",
    "            machinery_out, assembly_out = model(inputs)\n",
    "            loss_machinery = criterion_machinery(machinery_out, machinery_targets)\n",
    "            loss_assembly = criterion_assembly(assembly_out, assembly_targets)\n",
    "            loss = loss_machinery + loss_assembly\n",
    "            loss.backward()\n",
    "            optimizer.step()\n",
    "            total_loss += loss.item()\n",
    "        print(f\"Epoch [{epoch + 1}/{num_epochs}], Total Loss: {total_loss:.4f}\")\n"
   ]
  },
  {
   "cell_type": "code",
   "execution_count": 75,
   "id": "5826cf6e-0a5d-4e66-b994-a42a8f2ab15c",
   "metadata": {},
   "outputs": [],
   "source": [
    "from torch.utils.data import DataLoader, TensorDataset\n",
    "train_dataset = TensorDataset(X_train_tensor, y_train_machinery_tensor, y_train_assembly_tensor)\n",
    "train_loader = DataLoader(train_dataset, batch_size=16, shuffle=True)\n"
   ]
  },
  {
   "cell_type": "code",
   "execution_count": null,
   "id": "8ccc3dac-5cdb-40eb-846f-e5701b3fcf7c",
   "metadata": {},
   "outputs": [
    {
     "name": "stdout",
     "output_type": "stream",
     "text": [
      "Epoch [1/50], Total Loss: 13158.4228\n",
      "Epoch [2/50], Total Loss: 10631.5210\n",
      "Epoch [3/50], Total Loss: 9214.9710\n",
      "Epoch [4/50], Total Loss: 8404.2737\n",
      "Epoch [5/50], Total Loss: 7817.4108\n",
      "Epoch [6/50], Total Loss: 7379.7694\n",
      "Epoch [7/50], Total Loss: 6999.5066\n",
      "Epoch [8/50], Total Loss: 6691.7838\n",
      "Epoch [9/50], Total Loss: 6402.7395\n",
      "Epoch [10/50], Total Loss: 6163.2464\n",
      "Epoch [11/50], Total Loss: 5925.9040\n",
      "Epoch [12/50], Total Loss: 5753.4661\n",
      "Epoch [13/50], Total Loss: 5563.0537\n",
      "Epoch [14/50], Total Loss: 5404.0167\n",
      "Epoch [15/50], Total Loss: 5261.4957\n",
      "Epoch [16/50], Total Loss: 5129.6849\n",
      "Epoch [17/50], Total Loss: 5007.9639\n",
      "Epoch [18/50], Total Loss: 4894.8624\n",
      "Epoch [19/50], Total Loss: 4786.6193\n",
      "Epoch [20/50], Total Loss: 4690.0902\n"
     ]
    }
   ],
   "source": [
    "train_model(model, train_loader, optimizer, num_epochs=50)"
   ]
  },
  {
   "cell_type": "code",
   "execution_count": 35,
   "id": "bfeb7a7f-8dd4-423c-a9b6-6a804d021655",
   "metadata": {},
   "outputs": [
    {
     "name": "stdout",
     "output_type": "stream",
     "text": [
      "2272\n"
     ]
    }
   ],
   "source": [
    "unique_labels = len(set(y_combined))\n",
    "print(unique_labels)\n",
    "\n"
   ]
  },
  {
   "cell_type": "code",
   "execution_count": 59,
   "id": "07212731-f2ee-4976-b89c-74674f90f417",
   "metadata": {
    "scrolled": true
   },
   "outputs": [
    {
     "name": "stdout",
     "output_type": "stream",
     "text": [
      "True\n"
     ]
    }
   ],
   "source": [
    "import torch\n",
    "print(torch.cuda.is_available())"
   ]
  },
  {
   "cell_type": "code",
   "execution_count": null,
   "id": "437d11a6-aead-42ee-b4d1-51d7555f77ea",
   "metadata": {},
   "outputs": [],
   "source": []
  }
 ],
 "metadata": {
  "kernelspec": {
   "display_name": "Python (ship)",
   "language": "python",
   "name": "ship"
  },
  "language_info": {
   "codemirror_mode": {
    "name": "ipython",
    "version": 3
   },
   "file_extension": ".py",
   "mimetype": "text/x-python",
   "name": "python",
   "nbconvert_exporter": "python",
   "pygments_lexer": "ipython3",
   "version": "3.12.5"
  }
 },
 "nbformat": 4,
 "nbformat_minor": 5
}
