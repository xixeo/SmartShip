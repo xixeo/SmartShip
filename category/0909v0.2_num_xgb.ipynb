{
 "cells": [
  {
   "cell_type": "code",
   "execution_count": 1,
   "id": "e83a08e1-5041-4642-99f5-c82449e37554",
   "metadata": {},
   "outputs": [
    {
     "name": "stdout",
     "output_type": "stream",
     "text": [
      "CUDA available: True\n",
      "Current device: 0\n",
      "Device name: NVIDIA GeForce GTX 1650\n"
     ]
    }
   ],
   "source": [
    "import torch\n",
    "\n",
    "print(\"CUDA available:\", torch.cuda.is_available())\n",
    "\n",
    "print(\"Current device:\", torch.cuda.current_device())\n",
    "print(\"Device name:\", torch.cuda.get_device_name(torch.cuda.current_device()))"
   ]
  },
  {
   "cell_type": "code",
   "execution_count": 2,
   "id": "6526e20d-c98e-48d0-b5bb-b5f808ede823",
   "metadata": {},
   "outputs": [],
   "source": [
    "import pandas as pd\n",
    "import numpy as np\n",
    "import re\n",
    "\n",
    "from sklearn.model_selection import train_test_split\n",
    "from sklearn.preprocessing import LabelEncoder\n",
    "from sklearn.ensemble import RandomForestClassifier\n",
    "from sklearn.metrics import classification_report, accuracy_score"
   ]
  },
  {
   "cell_type": "markdown",
   "id": "663325ee-80a8-448e-9d0d-06d76ae99d18",
   "metadata": {},
   "source": [
    "## 모델이 클래스 특성을 학습하기에 충분한 표본 갯수로 데이터 제거\n",
    "\n",
    "> Machinery에서 데이터가 30개 이하인 클래스 수: 100\n",
    "> \n",
    "> Assembly에서 데이터가 30개 이하인 클래스 수: 1583\n",
    ">\n",
    "> 제거 후, 남은 데이터: 13882, MACHINERY : 62 ASSEMBLY:209"
   ]
  },
  {
   "cell_type": "code",
   "execution_count": 3,
   "id": "68c7432c-d7d4-4f38-8baa-ef842df72dba",
   "metadata": {},
   "outputs": [],
   "source": [
    "data=pd.read_excel('filtered_dataset_30.xlsx')"
   ]
  },
  {
   "cell_type": "code",
   "execution_count": 4,
   "id": "64cb3b8e-7afc-406b-b683-e9fc57c549b8",
   "metadata": {},
   "outputs": [
    {
     "name": "stdout",
     "output_type": "stream",
     "text": [
      "62 209\n"
     ]
    }
   ],
   "source": [
    "print(len(data['Machinery'].unique()),len(data['Assembly'].unique()))"
   ]
  },
  {
   "cell_type": "code",
   "execution_count": 5,
   "id": "bb48e7ee-af89-4345-b401-698b61cafa1c",
   "metadata": {},
   "outputs": [
    {
     "name": "stdout",
     "output_type": "stream",
     "text": [
      "<class 'pandas.core.frame.DataFrame'>\n",
      "RangeIndex: 13882 entries, 0 to 13881\n",
      "Data columns (total 32 columns):\n",
      " #   Column       Non-Null Count  Dtype  \n",
      "---  ------       --------------  -----  \n",
      " 0   청구서번호        13882 non-null  object \n",
      " 1   No.          13882 non-null  int64  \n",
      " 2   Subject      13872 non-null  object \n",
      " 3   Machinery    13882 non-null  object \n",
      " 4   Assembly     13882 non-null  object \n",
      " 5   청구품목         13882 non-null  object \n",
      " 6   Unnamed: 6   0 non-null      float64\n",
      " 7   Part No.1    13881 non-null  object \n",
      " 8   Part No.2    2430 non-null   object \n",
      " 9   청구량          13818 non-null  float64\n",
      " 10  견적           13698 non-null  object \n",
      " 11  견적수량         13818 non-null  float64\n",
      " 12  견적화폐         13818 non-null  object \n",
      " 13  견적단가         13882 non-null  float64\n",
      " 14  발주번호         13882 non-null  object \n",
      " 15  발주처          13882 non-null  object \n",
      " 16  발주           13882 non-null  object \n",
      " 17  발주수량         13818 non-null  float64\n",
      " 18  발주금액         13818 non-null  float64\n",
      " 19  D/T          12461 non-null  object \n",
      " 20  미입고 기간       998 non-null    object \n",
      " 21  창고입고         11867 non-null  object \n",
      " 22  창고입고수량       13882 non-null  int64  \n",
      " 23  Control No.  8571 non-null   object \n",
      " 24  입고창고         11867 non-null  object \n",
      " 25  창고출고         10595 non-null  object \n",
      " 26  창고출고수량       13882 non-null  int64  \n",
      " 27  출고선박         10595 non-null  object \n",
      " 28  출고운반선        10595 non-null  object \n",
      " 29  선박입고         3071 non-null   object \n",
      " 30  선박입고수량       13882 non-null  int64  \n",
      " 31  완료 여부        3065 non-null   object \n",
      "dtypes: float64(6), int64(4), object(22)\n",
      "memory usage: 3.4+ MB\n"
     ]
    }
   ],
   "source": [
    "data.info()"
   ]
  },
  {
   "cell_type": "code",
   "execution_count": 6,
   "id": "1f68d784-6d51-43a8-8ef6-bbad5d5109d3",
   "metadata": {},
   "outputs": [],
   "source": [
    "import re\n",
    "\n",
    "def preprocess_text(text):\n",
    "    # 괄호 안의 내용 제거\n",
    "    text = re.sub(r'\\([^)]*\\)', '', text)  \n",
    "    # 알파벳, 숫자, 필요한 특수문자 (/, *, -, +, ., ,, #, &, 등)만 허용\n",
    "    text = re.sub(r'[^\\w\\s\\*/\\-\\+.,#&]', '', text) \n",
    "    # 여러 공백을 언더스코어로 변환\n",
    "    text = re.sub(r'\\s+', '_', text)\n",
    "    # 텍스트 중간의 연속된 언더스코어를 하나로 줄임\n",
    "    text = re.sub(r'_+', '_', text) \n",
    "    # 불필요한 단어 제거\n",
    "    text = re.sub(r'\\b(사용금지|사)\\b', '', text, flags=re.IGNORECASE)\n",
    "    # 중간에 언더스코어가 불필요하게 남아있는 경우 처리\n",
    "    text = re.sub(r'(?<!\\w)_(?!\\w)', '', text)\n",
    "    # 언더스코어 앞뒤로 존재하는 특수문자 제거\n",
    "    text = re.sub(r'_([^\\w]+)_', '_', text)\n",
    "    text = re.sub(r'_([^\\w]+)$', '', text)\n",
    "    text = re.sub(r'^([^\\w]+)_', '', text)\n",
    "    # 텍스트 끝부분의 불필요한 언더스코어 제거\n",
    "    text = re.sub(r'_+$', '', text)\n",
    "    # 영어 단어는 소문자로 변환\n",
    "    text = ' '.join([word.lower() if re.match(r'[A-Za-z]', word) else word for word in text.split()])\n",
    "    text = text.strip()\n",
    "    return text\n",
    "\n",
    "def clean_supplier_name(name):\n",
    "    # 접미사 제거\n",
    "    suffixes = r'\\b(Corp\\.?|Corporation|Company|Co\\.?|Incorporated|Inc\\.?|Limited|Ltd\\.?|GmbH|S\\.L\\.|SDN\\. BHD\\.)\\b'\n",
    "    name = re.sub(suffixes, '', name, flags=re.IGNORECASE)\n",
    "    # 특수 문자 제거\n",
    "    name = re.sub(r'[^\\w\\s]', '', name)\n",
    "    # 불필요한 단어 제거\n",
    "    name = re.sub(r'\\b(사용금지|사)\\b', '', name, flags=re.IGNORECASE)\n",
    "    # 공백 정리\n",
    "    name = re.sub(r'\\s+', ' ', name).strip()\n",
    "    # 오타 수정 및 문자열 정리\n",
    "    name = re.sub(r'coporation|coropration|coproration|corporration', 'corporation', name, flags=re.IGNORECASE)\n",
    "    name = name.lower().strip()\n",
    "    return name"
   ]
  },
  {
   "cell_type": "code",
   "execution_count": 7,
   "id": "0e38477e-fa6b-4076-a3da-5af07d2a02cb",
   "metadata": {},
   "outputs": [],
   "source": [
    "# 각 칼럼 전처리\n",
    "data['cleaned_item'] = data['청구품목'].apply(preprocess_text)\n",
    "data['Part No.1'] = data['Part No.1'].astype(str)\n",
    "data['cleaned_part']=data['Part No.1'].apply(preprocess_text)\n",
    "data['cleaned_supplier'] = data['발주처'].apply(clean_supplier_name)\n",
    "\n",
    "# 전처리된 칼럼 결합\n",
    "data['combined_text'] =data['cleaned_item'].fillna('') + \" \" + data['cleaned_part'] +  \" \" + data['cleaned_supplier'].fillna('')\n"
   ]
  },
  {
   "cell_type": "code",
   "execution_count": 8,
   "id": "2c685cdd-83a5-452c-b78e-bcd3c53af7f5",
   "metadata": {},
   "outputs": [
    {
     "name": "stdout",
     "output_type": "stream",
     "text": [
      "                                           combined_text\n",
      "0      ge_power_pack_fork_e7 40028340 matsuiusa corpo...\n",
      "1      ge_power_pack_fork_e7 40028340 matsuiusa corpo...\n",
      "2      samson_super_strong_double_braid_rope_1_3/4,_3...\n",
      "3      wire_rope_g6x19_a3_cmp_slpp_28mm_x_400m 6X19X2...\n",
      "4      wire_rope_g6x19_a3_cmp_slpp_25mm_x_400m 6X19X2...\n",
      "...                                                  ...\n",
      "13877       pin-spring 7M-5130 haein corporation_cheonan\n",
      "13878     kit-bearing 342-2409 haein corporation_cheonan\n",
      "13879            seal 127-4374 haein corporation_cheonan\n",
      "13880    sleeve-shaft 206-5967 haein corporation_cheonan\n",
      "13881  bearing-ball,_6326zzsc3p6 154-3032 haein corpo...\n",
      "\n",
      "[13882 rows x 1 columns]\n"
     ]
    }
   ],
   "source": [
    "print(data[['combined_text']])"
   ]
  },
  {
   "cell_type": "code",
   "execution_count": 9,
   "id": "c02e2a13-a066-43a4-9dfd-5b14d1bfc8b9",
   "metadata": {},
   "outputs": [
    {
     "name": "stdout",
     "output_type": "stream",
     "text": [
      "Using device: cuda\n"
     ]
    }
   ],
   "source": [
    "device = torch.device(\"cuda\" if torch.cuda.is_available() else \"cpu\")\n",
    "print(f\"Using device: {device}\")"
   ]
  },
  {
   "cell_type": "markdown",
   "id": "53051fb1-ded0-4596-9d2b-fa069de0610e",
   "metadata": {},
   "source": [
    "### 정수 인코딩 x + 정수 시퀀스 y"
   ]
  },
  {
   "cell_type": "code",
   "execution_count": 9,
   "id": "cf009e4d-8dd6-4e58-a3ad-df4efd1bdd23",
   "metadata": {},
   "outputs": [],
   "source": [
    "\n",
    "from tensorflow.keras.preprocessing.text import Tokenizer\n",
    "from tensorflow.keras.preprocessing.sequence import pad_sequences\n",
    "from sklearn.model_selection import train_test_split\n",
    "from sklearn.preprocessing import LabelEncoder\n",
    "\n",
    "#  텍스트를 정수 시퀀스로 변환\n",
    "tokenizer = Tokenizer(num_words=20000)\n",
    "tokenizer.fit_on_texts(data['combined_text'])\n",
    "sequences = tokenizer.texts_to_sequences(data['combined_text'])\n",
    "\n",
    "# 시퀀스 패딩 \n",
    "max_len = 50\n",
    "X = pad_sequences(sequences, maxlen=max_len)\n",
    "\n",
    "# 정수형 레이블 (y)\n",
    "machinery_labels = data['Machinery'].values\n",
    "assembly_labels = data['Assembly'].values\n",
    "\n",
    "label_encoder_machinery = LabelEncoder()\n",
    "y_machinery = label_encoder_machinery.fit_transform(machinery_labels)\n",
    "\n",
    "label_encoder_assembly = LabelEncoder()\n",
    "y_assembly = label_encoder_assembly.fit_transform(assembly_labels)\n",
    "\n",
    "# 2. Train-Test Split\n",
    "X_train_val, X_test, y_train_val_machinery, y_test_machinery, y_train_val_assembly, y_test_assembly = train_test_split(\n",
    "    X, y_machinery, y_assembly, test_size=0.2, random_state=42, stratify=y_machinery\n",
    ")\n",
    "\n",
    "X_train, X_val, y_train_machinery, y_val_machinery, y_train_assembly, y_val_assembly = train_test_split(\n",
    "    X_train_val, y_train_val_machinery, y_train_val_assembly, test_size=0.2, random_state=42, stratify=y_train_val_machinery\n",
    ")"
   ]
  },
  {
   "cell_type": "markdown",
   "id": "888cb8b0-7a6c-4f48-9792-dc44cbe61a9e",
   "metadata": {},
   "source": [
    "### XGB 체인모델\n",
    "\n",
    "> Machinery 예측 받아서 assembly 예측함"
   ]
  },
  {
   "cell_type": "code",
   "execution_count": 24,
   "id": "f2d5dbe5-3b8d-4754-af45-7aaa889f0fd7",
   "metadata": {},
   "outputs": [],
   "source": [
    "#!conda install conda-forge::imbalanced-learn -y"
   ]
  },
  {
   "cell_type": "code",
   "execution_count": 12,
   "id": "5eee6727-d855-41bb-be38-1fe540793f5f",
   "metadata": {},
   "outputs": [],
   "source": [
    "from xgboost import XGBClassifier\n",
    "\n",
    "# 1. Machinery 예측을 위한 XGBoost 모델\n",
    "machinery_model = XGBClassifier(\n",
    "    objective='multi:softmax',  # 다중 클래스 분류\n",
    "    num_class=62,  # machinery 클래스 수\n",
    "    learning_rate=0.1,\n",
    "    max_depth=6,\n",
    "    n_estimators=100,\n",
    "    subsample=0.8,\n",
    "    colsample_bytree=0.8,\n",
    "    reg_lambda=1,\n",
    "    random_state=42,\n",
    "    verbosity=1\n",
    ")\n",
    "\n",
    "# 2. Assembly 예측을 위한 XGBoost 모델\n",
    "assembly_model = XGBClassifier(\n",
    "    objective='multi:softmax',  # 다중 클래스 분류\n",
    "    num_class=209,  # assembly 클래스 수 (예시로 200)\n",
    "    learning_rate=0.1,\n",
    "    max_depth=6,\n",
    "    n_estimators=100,\n",
    "    subsample=0.8,\n",
    "    colsample_bytree=0.8,\n",
    "    reg_lambda=1,\n",
    "    random_state=42,\n",
    "    verbosity=1\n",
    ")\n"
   ]
  },
  {
   "cell_type": "code",
   "execution_count": 60,
   "id": "6923e60f-945e-4428-8c63-1a63254c137c",
   "metadata": {},
   "outputs": [
    {
     "name": "stdout",
     "output_type": "stream",
     "text": [
      "{42: 29, 30: 24, 45: 21, 50: 22, 13: 27, 24: 26, 26: 18, 39: 22, 5: 19, 23: 22, 54: 27, 55: 8, 48: 7, 20: 30, 32: 21, 44: 17, 22: 21, 17: 26, 9: 26, 8: 30, 3: 11, 29: 18, 41: 14, 40: 15, 12: 6, 56: 6, 11: 23, 43: 6}\n"
     ]
    }
   ],
   "source": [
    "\n",
    "# 1. Machinery 클래스별 support 확인\n",
    "machinery_class_counts = Counter(y_train_machinery)\n",
    "small_machinery_classes = {cls: count for cls, count in machinery_class_counts.items() if count <= 30}\n",
    "print(small_machinery_classes)  "
   ]
  },
  {
   "cell_type": "markdown",
   "id": "16903775-b45c-4923-8550-00f3a2b8093c",
   "metadata": {},
   "source": [
    "### imbalanced-learn library 사용 (assembly에만 적용)"
   ]
  },
  {
   "cell_type": "code",
   "execution_count": 10,
   "id": "c2722214-dfa0-4488-85fc-0865a1ecf18f",
   "metadata": {},
   "outputs": [
    {
     "name": "stdout",
     "output_type": "stream",
     "text": [
      "{4: 25, 180: 29, 186: 30, 166: 24, 156: 21, 20: 19, 12: 23, 47: 21, 197: 25, 56: 19, 28: 27, 165: 22, 107: 23, 37: 18, 139: 22, 44: 30, 51: 28, 100: 27, 54: 27, 41: 29, 89: 29, 48: 30, 127: 27, 184: 29, 193: 24, 114: 21, 50: 21, 187: 27, 117: 25, 183: 27, 123: 29, 119: 19, 67: 26, 152: 23, 55: 23, 73: 26, 26: 25, 131: 21, 161: 25, 14: 28, 137: 23, 3: 27, 101: 21, 71: 29, 143: 30, 113: 29, 206: 22, 150: 23, 68: 24, 103: 19, 63: 28, 31: 27, 177: 23, 208: 23, 1: 28, 146: 26, 83: 28, 81: 21, 77: 19, 118: 28, 65: 15, 132: 30, 0: 24, 35: 27, 104: 26, 202: 21, 92: 29, 24: 19, 86: 26, 99: 25, 136: 18, 97: 19, 45: 25, 173: 25, 162: 15, 207: 25, 30: 17, 87: 22, 121: 19, 39: 19, 205: 27, 38: 18, 203: 25, 145: 20, 43: 19, 42: 14, 110: 16, 201: 23, 176: 23, 109: 18, 7: 19, 19: 19, 23: 30, 163: 22, 70: 21}\n"
     ]
    }
   ],
   "source": [
    "from collections import Counter\n",
    "from imblearn.combine import SMOTETomek\n",
    "\n",
    "# 2. Assembly 클래스별 support 확인\n",
    "assembly_class_counts = Counter(y_train_assembly)\n",
    "small_assembly_classes = {cls: count for cls, count in assembly_class_counts.items() if count <= 30}\n",
    "print(small_assembly_classes) "
   ]
  },
  {
   "cell_type": "code",
   "execution_count": 13,
   "id": "f718dd5a-b628-4a0a-a8f0-27d616ea6b87",
   "metadata": {},
   "outputs": [
    {
     "name": "stdout",
     "output_type": "stream",
     "text": [
      "Assembly Validation Accuracy: 0.7524\n",
      "              precision    recall  f1-score   support\n",
      "\n",
      "           0       0.91      1.00      0.95        10\n",
      "           1       0.60      1.00      0.75         3\n",
      "           2       0.56      1.00      0.71        10\n",
      "           3       0.33      0.20      0.25         5\n",
      "           4       0.86      1.00      0.92         6\n",
      "           5       0.43      0.25      0.32        12\n",
      "           6       0.91      1.00      0.95        30\n",
      "           7       0.80      0.31      0.44        13\n",
      "           8       0.70      0.78      0.74         9\n",
      "           9       0.75      0.80      0.77        15\n",
      "          10       0.33      0.71      0.45        14\n",
      "          11       0.95      0.80      0.87        25\n",
      "          12       1.00      0.86      0.92         7\n",
      "          13       0.92      0.92      0.92        13\n",
      "          14       1.00      0.90      0.95        10\n",
      "          15       0.62      0.42      0.50        12\n",
      "          16       0.50      0.88      0.64         8\n",
      "          17       1.00      0.62      0.77         8\n",
      "          18       0.71      0.50      0.59        10\n",
      "          19       0.50      0.38      0.43         8\n",
      "          20       1.00      1.00      1.00         4\n",
      "          21       0.80      0.50      0.62         8\n",
      "          22       1.00      0.60      0.75         5\n",
      "          23       1.00      0.86      0.92         7\n",
      "          24       1.00      1.00      1.00         4\n",
      "          25       0.83      0.65      0.73        31\n",
      "          26       1.00      1.00      1.00         1\n",
      "          27       0.00      0.00      0.00         1\n",
      "          28       0.20      0.25      0.22         4\n",
      "          29       0.88      0.64      0.74        11\n",
      "          30       1.00      0.60      0.75         5\n",
      "          31       0.33      0.33      0.33         3\n",
      "          32       0.88      1.00      0.93         7\n",
      "          33       0.73      1.00      0.84         8\n",
      "          34       0.78      1.00      0.88         7\n",
      "          35       0.75      0.75      0.75         8\n",
      "          36       0.67      0.50      0.57        12\n",
      "          37       1.00      0.60      0.75         5\n",
      "          38       0.80      0.57      0.67         7\n",
      "          39       0.40      0.40      0.40         5\n",
      "          40       1.00      0.89      0.94         9\n",
      "          41       0.62      0.71      0.67         7\n",
      "          42       0.67      0.55      0.60        11\n",
      "          43       0.70      0.88      0.78         8\n",
      "          44       0.78      0.78      0.78         9\n",
      "          45       0.67      0.50      0.57         4\n",
      "          46       1.00      1.00      1.00         5\n",
      "          47       0.00      0.00      0.00         5\n",
      "          48       0.43      0.38      0.40         8\n",
      "          49       0.47      0.67      0.55        12\n",
      "          50       1.00      0.67      0.80         9\n",
      "          51       0.67      1.00      0.80         4\n",
      "          52       0.95      1.00      0.97        18\n",
      "          53       0.91      0.91      0.91        11\n",
      "          54       0.62      0.56      0.59         9\n",
      "          55       1.00      0.83      0.91         6\n",
      "          56       0.40      0.67      0.50         3\n",
      "          57       0.30      0.60      0.40         5\n",
      "          58       1.00      1.00      1.00         6\n",
      "          59       0.81      0.68      0.74        19\n",
      "          60       1.00      0.86      0.93        22\n",
      "          61       0.94      0.96      0.95        78\n",
      "          62       0.69      0.69      0.69        13\n",
      "          63       1.00      0.80      0.89        10\n",
      "          64       0.70      1.00      0.82         7\n",
      "          65       1.00      1.00      1.00         8\n",
      "          66       0.77      0.93      0.85        44\n",
      "          67       0.33      0.29      0.31         7\n",
      "          68       1.00      1.00      1.00         7\n",
      "          69       1.00      0.84      0.91        19\n",
      "          70       1.00      1.00      1.00         4\n",
      "          71       1.00      0.60      0.75        10\n",
      "          72       0.71      1.00      0.83        12\n",
      "          73       0.75      0.43      0.55         7\n",
      "          74       1.00      0.94      0.97        17\n",
      "          75       0.62      0.50      0.56        10\n",
      "          76       0.70      0.66      0.68        29\n",
      "          77       0.67      0.75      0.71         8\n",
      "          78       0.25      0.06      0.10        17\n",
      "          79       0.58      0.63      0.60        41\n",
      "          80       0.79      0.87      0.83        30\n",
      "          81       0.29      0.50      0.36         4\n",
      "          82       0.00      0.00      0.00         7\n",
      "          83       0.60      0.75      0.67         4\n",
      "          84       0.86      1.00      0.92         6\n",
      "          85       0.60      0.50      0.55         6\n",
      "          86       0.75      0.50      0.60         6\n",
      "          87       0.50      0.43      0.46         7\n",
      "          88       0.88      1.00      0.93         7\n",
      "          89       1.00      1.00      1.00         5\n",
      "          90       0.94      0.81      0.87        21\n",
      "          91       0.58      1.00      0.74         7\n",
      "          92       0.91      1.00      0.95        10\n",
      "          93       1.00      0.88      0.93         8\n",
      "          94       0.73      0.79      0.76        14\n",
      "          95       0.89      1.00      0.94         8\n",
      "          96       0.71      0.62      0.67         8\n",
      "          97       0.50      0.60      0.55         5\n",
      "          98       0.86      0.46      0.60        13\n",
      "          99       1.00      0.43      0.60         7\n",
      "         100       0.00      0.00      0.00         1\n",
      "         101       1.00      0.50      0.67         4\n",
      "         102       0.64      0.82      0.72        11\n",
      "         103       1.00      0.57      0.73         7\n",
      "         104       1.00      1.00      1.00         9\n",
      "         105       0.94      0.94      0.94        18\n",
      "         106       0.93      1.00      0.96        13\n",
      "         107       1.00      0.33      0.50         9\n",
      "         108       0.46      0.86      0.60         7\n",
      "         109       0.50      0.43      0.46         7\n",
      "         110       1.00      0.70      0.82        10\n",
      "         111       0.38      0.83      0.53         6\n",
      "         112       0.64      0.75      0.69        12\n",
      "         113       1.00      0.80      0.89         5\n",
      "         114       0.00      0.00      0.00         5\n",
      "         115       1.00      0.92      0.96        12\n",
      "         116       0.50      0.50      0.50        10\n",
      "         117       0.67      0.67      0.67         3\n",
      "         118       0.45      0.62      0.53         8\n",
      "         119       1.00      0.20      0.33         5\n",
      "         120       0.75      0.69      0.72        13\n",
      "         121       1.00      0.09      0.17        11\n",
      "         122       0.86      0.75      0.80         8\n",
      "         123       0.89      0.73      0.80        11\n",
      "         124       0.56      0.56      0.56         9\n",
      "         125       0.75      0.60      0.67        10\n",
      "         126       0.57      0.57      0.57         7\n",
      "         127       0.62      1.00      0.77         5\n",
      "         128       0.80      0.80      0.80         5\n",
      "         129       0.67      0.88      0.76        34\n",
      "         130       0.57      0.57      0.57         7\n",
      "         131       0.88      0.88      0.88         8\n",
      "         132       0.40      0.40      0.40         5\n",
      "         133       0.64      0.86      0.73        21\n",
      "         134       0.22      0.22      0.22         9\n",
      "         135       0.25      0.20      0.22        10\n",
      "         136       1.00      1.00      1.00         4\n",
      "         137       0.67      0.50      0.57         4\n",
      "         138       1.00      0.88      0.93         8\n",
      "         139       0.67      1.00      0.80         2\n",
      "         140       0.69      1.00      0.82         9\n",
      "         141       0.90      0.94      0.92        78\n",
      "         142       0.43      0.67      0.52        18\n",
      "         143       0.67      1.00      0.80         4\n",
      "         144       0.92      0.79      0.85        14\n",
      "         145       0.83      0.62      0.71         8\n",
      "         146       1.00      1.00      1.00         7\n",
      "         147       1.00      1.00      1.00        15\n",
      "         148       0.50      0.64      0.56        11\n",
      "         149       1.00      1.00      1.00        16\n",
      "         150       0.50      1.00      0.67         3\n",
      "         151       0.48      0.62      0.54        16\n",
      "         152       1.00      0.40      0.57        10\n",
      "         153       0.80      0.80      0.80        10\n",
      "         154       0.57      0.94      0.71        18\n",
      "         155       1.00      1.00      1.00        11\n",
      "         156       0.43      0.75      0.55         4\n",
      "         157       0.78      0.78      0.78         9\n",
      "         158       0.25      1.00      0.40         1\n",
      "         159       0.50      0.75      0.60         4\n",
      "         160       0.70      0.78      0.74         9\n",
      "         161       1.00      1.00      1.00         5\n",
      "         162       0.82      1.00      0.90         9\n",
      "         163       0.50      0.40      0.44         5\n",
      "         164       0.85      0.65      0.73        17\n",
      "         165       1.00      1.00      1.00         6\n",
      "         166       1.00      1.00      1.00         6\n",
      "         167       1.00      0.88      0.94        17\n",
      "         168       0.73      0.69      0.71        16\n",
      "         169       1.00      0.62      0.76        13\n",
      "         170       0.57      0.53      0.55        15\n",
      "         171       1.00      0.45      0.62        11\n",
      "         172       0.53      1.00      0.70         8\n",
      "         173       0.75      0.60      0.67         5\n",
      "         174       0.40      0.40      0.40         5\n",
      "         175       0.88      0.88      0.88         8\n",
      "         176       0.75      0.38      0.50         8\n",
      "         177       1.00      1.00      1.00         6\n",
      "         178       0.78      1.00      0.88         7\n",
      "         179       0.88      0.75      0.81        28\n",
      "         180       1.00      0.86      0.92         7\n",
      "         181       1.00      1.00      1.00         8\n",
      "         182       0.60      1.00      0.75         6\n",
      "         183       1.00      0.67      0.80         3\n",
      "         184       0.50      0.25      0.33         4\n",
      "         185       1.00      1.00      1.00        20\n",
      "         186       0.75      1.00      0.86         6\n",
      "         187       0.86      0.86      0.86         7\n",
      "         188       1.00      0.77      0.87        13\n",
      "         189       0.74      0.72      0.73        39\n",
      "         190       0.75      0.86      0.80         7\n",
      "         191       0.65      0.68      0.67        19\n",
      "         192       0.75      0.67      0.71         9\n",
      "         193       0.17      0.33      0.22         3\n",
      "         194       1.00      0.67      0.80        12\n",
      "         195       0.89      0.53      0.67        15\n",
      "         196       1.00      0.93      0.96        14\n",
      "         197       0.73      0.89      0.80         9\n",
      "         198       0.81      0.87      0.84        15\n",
      "         199       0.79      0.94      0.86        16\n",
      "         200       0.67      0.73      0.70        11\n",
      "         201       0.50      0.67      0.57         6\n",
      "         202       1.00      1.00      1.00        10\n",
      "         203       1.00      1.00      1.00         4\n",
      "         204       0.79      0.50      0.61        22\n",
      "         205       1.00      1.00      1.00         9\n",
      "         206       0.40      0.80      0.53         5\n",
      "         207       0.00      0.00      0.00         2\n",
      "         208       1.00      1.00      1.00         5\n",
      "\n",
      "    accuracy                           0.75      2221\n",
      "   macro avg       0.74      0.72      0.71      2221\n",
      "weighted avg       0.78      0.75      0.75      2221\n",
      "\n",
      "Machinery Validation Accuracy: 0.7897\n",
      "              precision    recall  f1-score   support\n",
      "\n",
      "           0       0.77      0.73      0.75        75\n",
      "           1       0.84      0.90      0.87       149\n",
      "           2       0.94      0.88      0.91        50\n",
      "           3       0.50      0.33      0.40         3\n",
      "           4       1.00      0.88      0.93         8\n",
      "           5       0.50      0.40      0.44         5\n",
      "           6       0.92      0.79      0.85        14\n",
      "           7       0.83      0.38      0.53        13\n",
      "           8       0.00      0.00      0.00         7\n",
      "           9       0.75      0.50      0.60         6\n",
      "          10       0.78      0.64      0.70        33\n",
      "          11       1.00      0.67      0.80         6\n",
      "          12       0.00      0.00      0.00         1\n",
      "          13       1.00      0.14      0.25         7\n",
      "          14       0.77      0.37      0.50        27\n",
      "          15       0.88      0.83      0.86        18\n",
      "          16       0.78      0.58      0.67        12\n",
      "          17       1.00      1.00      1.00         7\n",
      "          18       1.00      1.00      1.00        20\n",
      "          19       0.87      0.82      0.85        57\n",
      "          20       0.25      0.25      0.25         8\n",
      "          21       0.41      0.39      0.40        18\n",
      "          22       0.00      0.00      0.00         5\n",
      "          23       0.50      0.17      0.25         6\n",
      "          24       0.44      0.57      0.50         7\n",
      "          25       0.61      0.65      0.62        31\n",
      "          26       0.00      0.00      0.00         5\n",
      "          27       0.88      0.95      0.91       257\n",
      "          28       1.00      1.00      1.00        13\n",
      "          29       0.33      0.20      0.25         5\n",
      "          30       1.00      1.00      1.00         6\n",
      "          31       0.22      0.22      0.22         9\n",
      "          32       0.38      0.60      0.46         5\n",
      "          33       0.93      0.81      0.87        32\n",
      "          34       0.72      0.96      0.83       473\n",
      "          35       0.75      0.83      0.79        36\n",
      "          36       0.95      0.95      0.95       132\n",
      "          37       0.50      0.10      0.16        73\n",
      "          38       0.72      0.33      0.45       115\n",
      "          39       0.33      0.17      0.22         6\n",
      "          40       0.00      0.00      0.00         4\n",
      "          41       0.00      0.00      0.00         4\n",
      "          42       1.00      0.86      0.92         7\n",
      "          43       1.00      1.00      1.00         1\n",
      "          44       1.00      1.00      1.00         4\n",
      "          45       1.00      0.20      0.33         5\n",
      "          46       0.50      0.18      0.27        11\n",
      "          47       0.78      0.54      0.64        13\n",
      "          48       1.00      0.50      0.67         2\n",
      "          49       0.81      0.97      0.88       206\n",
      "          50       1.00      1.00      1.00         6\n",
      "          51       1.00      1.00      1.00         8\n",
      "          52       0.95      0.84      0.89        25\n",
      "          53       0.87      0.78      0.82        76\n",
      "          54       1.00      0.86      0.92         7\n",
      "          55       1.00      0.50      0.67         2\n",
      "          56       0.00      0.00      0.00         2\n",
      "          57       0.43      0.30      0.35        10\n",
      "          58       0.00      0.00      0.00        16\n",
      "          59       0.78      0.58      0.67        12\n",
      "          60       0.92      1.00      0.96        24\n",
      "          61       0.89      1.00      0.94        16\n",
      "\n",
      "    accuracy                           0.79      2221\n",
      "   macro avg       0.68      0.57      0.60      2221\n",
      "weighted avg       0.78      0.79      0.77      2221\n",
      "\n"
     ]
    },
    {
     "name": "stderr",
     "output_type": "stream",
     "text": [
      "C:\\Users\\User\\anaconda3\\envs\\ship\\Lib\\site-packages\\sklearn\\metrics\\_classification.py:1531: UndefinedMetricWarning: Precision is ill-defined and being set to 0.0 in labels with no predicted samples. Use `zero_division` parameter to control this behavior.\n",
      "  _warn_prf(average, modifier, f\"{metric.capitalize()} is\", len(result))\n",
      "C:\\Users\\User\\anaconda3\\envs\\ship\\Lib\\site-packages\\sklearn\\metrics\\_classification.py:1531: UndefinedMetricWarning: Precision is ill-defined and being set to 0.0 in labels with no predicted samples. Use `zero_division` parameter to control this behavior.\n",
      "  _warn_prf(average, modifier, f\"{metric.capitalize()} is\", len(result))\n",
      "C:\\Users\\User\\anaconda3\\envs\\ship\\Lib\\site-packages\\sklearn\\metrics\\_classification.py:1531: UndefinedMetricWarning: Precision is ill-defined and being set to 0.0 in labels with no predicted samples. Use `zero_division` parameter to control this behavior.\n",
      "  _warn_prf(average, modifier, f\"{metric.capitalize()} is\", len(result))\n",
      "C:\\Users\\User\\anaconda3\\envs\\ship\\Lib\\site-packages\\sklearn\\metrics\\_classification.py:1531: UndefinedMetricWarning: Precision is ill-defined and being set to 0.0 in labels with no predicted samples. Use `zero_division` parameter to control this behavior.\n",
      "  _warn_prf(average, modifier, f\"{metric.capitalize()} is\", len(result))\n",
      "C:\\Users\\User\\anaconda3\\envs\\ship\\Lib\\site-packages\\sklearn\\metrics\\_classification.py:1531: UndefinedMetricWarning: Precision is ill-defined and being set to 0.0 in labels with no predicted samples. Use `zero_division` parameter to control this behavior.\n",
      "  _warn_prf(average, modifier, f\"{metric.capitalize()} is\", len(result))\n",
      "C:\\Users\\User\\anaconda3\\envs\\ship\\Lib\\site-packages\\sklearn\\metrics\\_classification.py:1531: UndefinedMetricWarning: Precision is ill-defined and being set to 0.0 in labels with no predicted samples. Use `zero_division` parameter to control this behavior.\n",
      "  _warn_prf(average, modifier, f\"{metric.capitalize()} is\", len(result))\n"
     ]
    }
   ],
   "source": [
    "# 1. Machinery 학습 \n",
    "machinery_model.fit(X_train, y_train_machinery)\n",
    "\n",
    "# Machinery 예측값을 Assembly 추가 피처로 사용\n",
    "machinery_pred_train = machinery_model.predict(X_train)\n",
    "machinery_pred_val = machinery_model.predict(X_val)\n",
    "\n",
    "X_train_with_machinery = np.column_stack((X_train, machinery_pred_train))  # 훈련 데이터\n",
    "X_val_with_machinery = np.column_stack((X_val, machinery_pred_val))  # 검증 데이터\n",
    "\n",
    "# 3. SMOTE + Tomek Links 적용 (support 30개 이하인 클래스만 증강)\n",
    "smote_tomek = SMOTETomek(sampling_strategy=small_assembly_classes, random_state=42)\n",
    "X_resampled_with_machinery, y_resampled_assembly = smote_tomek.fit_resample(X_train_with_machinery, y_train_assembly)\n",
    "\n",
    "# 4. Assembly 모델 학습 (SMOTE + Tomek Links 적용된 데이터로)\n",
    "assembly_model.fit(X_resampled_with_machinery, y_resampled_assembly)\n",
    "\n",
    "# 5. Assembly 검증 성능 평가\n",
    "assembly_pred = assembly_model.predict(X_val_with_machinery)\n",
    "assembly_accuracy = accuracy_score(y_val_assembly, assembly_pred)\n",
    "print(f'Assembly Validation Accuracy: {assembly_accuracy:.4f}')\n",
    "print(classification_report(y_val_assembly, assembly_pred))\n",
    "\n",
    "# 6. Machinery 검증 성능 평가\n",
    "machinery_pred_val_final = machinery_model.predict(X_val)\n",
    "machinery_accuracy = accuracy_score(y_val_machinery, machinery_pred_val_final)\n",
    "print(f'Machinery Validation Accuracy: {machinery_accuracy:.4f}')\n",
    "print(classification_report(y_val_machinery, machinery_pred_val_final))"
   ]
  },
  {
   "cell_type": "markdown",
   "id": "e3337770-7665-4aaa-ad92-b828adc57cc4",
   "metadata": {},
   "source": [
    "### 결과해석 및 개선방향\n",
    "> assembly 클래스는 support 30개 이하 클래스를 증강하는 것으로 소수클래스에 대한 성능 향상이 이루어졌으나,\n",
    "\n",
    "> machinery 클래스의 macro avg는 smote를 해도 성능 향상이 이루어지지 않음\n",
    "\n",
    "> machinery는 소수 클래스에 대한 더 정제된 처리가 필요하나, 전체 정확도가 0.79이므로 그리드서치 진행해보기로 함"
   ]
  },
  {
   "cell_type": "markdown",
   "id": "24f33a4c-03ce-4aa5-9411-0aca4a25797d",
   "metadata": {},
   "source": [
    "## 그리드서치 "
   ]
  },
  {
   "cell_type": "markdown",
   "id": "915c68ce-9782-447d-a5a1-9de76c3d35a9",
   "metadata": {},
   "source": [
    "### machinery optimized model 생성"
   ]
  },
  {
   "cell_type": "code",
   "execution_count": 65,
   "id": "4b3e7fe7-8633-4dda-a870-1e1bf389c9b8",
   "metadata": {},
   "outputs": [
    {
     "name": "stdout",
     "output_type": "stream",
     "text": [
      "Fitting 3 folds for each of 48 candidates, totalling 144 fits\n",
      "Best parameters for Machinery: {'colsample_bytree': 0.8, 'learning_rate': 0.1, 'max_depth': 8, 'n_estimators': 150, 'subsample': 1.0}\n"
     ]
    }
   ],
   "source": [
    "from sklearn.model_selection import GridSearchCV\n",
    "\n",
    "# 하이퍼파라미터 그리드 설정\n",
    "param_grid_machinery = {\n",
    "    'learning_rate': [0.05, 0.1],  # 추가된 0.05\n",
    "    'max_depth': [4, 6, 8],\n",
    "    'n_estimators': [100, 150],  # 추가된 150\n",
    "    'subsample': [0.8, 1.0],  # 추가된 0.7\n",
    "    'colsample_bytree': [0.8, 1.0],  # 추가된 0.7\n",
    "}\n",
    "\n",
    "grid_search_machinery = GridSearchCV(\n",
    "    estimator=machinery_model,\n",
    "    param_grid=param_grid_machinery,\n",
    "    scoring='accuracy',\n",
    "    cv=3,  \n",
    "    verbose=1,\n",
    "    n_jobs=-1  \n",
    ")\n",
    "\n",
    "grid_search_machinery.fit(X_train, y_train_machinery)\n",
    "\n",
    "print(f\"Best parameters for Machinery: {grid_search_machinery.best_params_}\")"
   ]
  },
  {
   "cell_type": "code",
   "execution_count": 15,
   "id": "21c4d223-ebff-4e6f-b7e2-0382fb97c7b4",
   "metadata": {},
   "outputs": [
    {
     "name": "stdout",
     "output_type": "stream",
     "text": [
      "Accuracy of the optimized model: 0.8055\n"
     ]
    }
   ],
   "source": [
    "# gridsearch 한 결과로 모델 재학습함\n",
    "\n",
    "machinery_optimized_model = XGBClassifier(\n",
    "    objective='multi:softmax',\n",
    "    num_class=62,\n",
    "    learning_rate=0.1,\n",
    "    max_depth=8,\n",
    "    n_estimators=150,\n",
    "    subsample=1.0,\n",
    "    colsample_bytree=0.8,\n",
    "    reg_lambda=1,\n",
    "    random_state=42,\n",
    "    verbosity=1\n",
    ")\n",
    "\n",
    "machinery_optimized_model.fit(X_train, y_train_machinery)\n",
    "\n",
    "from sklearn.metrics import accuracy_score\n",
    "\n",
    "y_pred_machinery = machinery_optimized_model.predict(X_test)\n",
    "accuracy = accuracy_score(y_test_machinery, y_pred_machinery)\n",
    "print(f\"Accuracy of the optimized model: {accuracy:.4f}\")"
   ]
  },
  {
   "cell_type": "markdown",
   "id": "553d77cc-567e-4612-bfc7-8589a9c94ab2",
   "metadata": {},
   "source": [
    "### Assembly optimized model 생성"
   ]
  },
  {
   "cell_type": "code",
   "execution_count": 68,
   "id": "9082a963-11fc-474b-871e-197a9fdf014a",
   "metadata": {},
   "outputs": [
    {
     "name": "stdout",
     "output_type": "stream",
     "text": [
      "Fitting 3 folds for each of 48 candidates, totalling 144 fits\n",
      "Best parameters for Assembly: {'colsample_bytree': 0.8, 'learning_rate': 0.05, 'max_depth': 8, 'n_estimators': 180, 'subsample': 0.8}\n"
     ]
    }
   ],
   "source": [
    "param_grid_assembly = {\n",
    "    'learning_rate': [0.05, 0.1],  \n",
    "    'max_depth': [4, 6, 8],\n",
    "    'n_estimators': [150, 180],  \n",
    "    'subsample': [0.8, 1.0],  \n",
    "    'colsample_bytree': [0.7, 0.8], \n",
    "}\n",
    "\n",
    "grid_search_assembly = GridSearchCV(\n",
    "    estimator=assembly_model,\n",
    "    param_grid=param_grid_assembly,\n",
    "    scoring='accuracy',\n",
    "    cv=3,  \n",
    "    verbose=1,\n",
    "    n_jobs=-1 \n",
    ")\n",
    "\n",
    "grid_search_assembly.fit(X_train_with_machinery, y_train_assembly)\n",
    "\n",
    "print(f\"Best parameters for Assembly: {grid_search_assembly.best_params_}\")"
   ]
  },
  {
   "cell_type": "code",
   "execution_count": 17,
   "id": "6d1e7a12-485a-4998-8c23-b111b5cf9b1e",
   "metadata": {},
   "outputs": [
    {
     "name": "stdout",
     "output_type": "stream",
     "text": [
      "Accuracy of the Assembly optimized model: 0.7832\n"
     ]
    }
   ],
   "source": [
    "# 최적 파라미터로 optimized 해서 test로 확인함\n",
    "\n",
    "assembly_optimized_model = XGBClassifier(\n",
    "    objective='multi:softmax',\n",
    "    num_class=209,\n",
    "    learning_rate=0.05,\n",
    "    max_depth=8,\n",
    "    n_estimators=180,\n",
    "    subsample=0.8,\n",
    "    colsample_bytree=0.8,\n",
    "    reg_lambda=1,\n",
    "    random_state=42,\n",
    "    verbosity=1\n",
    ")\n",
    "\n",
    "# 모델 재학습\n",
    "assembly_optimized_model.fit(X_train, y_train_assembly)\n",
    "\n",
    "# 테스트 데이터로 예측\n",
    "y_pred_assembly = assembly_optimized_model.predict(X_test)\n",
    "\n",
    "# 정확도 계산\n",
    "accuracy = accuracy_score(y_test_assembly, y_pred_assembly)\n",
    "print(f\"Accuracy of the Assembly optimized model: {accuracy:.4f}\")"
   ]
  },
  {
   "cell_type": "code",
   "execution_count": 74,
   "id": "cc04b382-e85f-4249-8b2a-d63f04271b84",
   "metadata": {},
   "outputs": [],
   "source": [
    "import pickle\n",
    "from xgboost import XGBClassifier\n",
    "\n",
    "# 토크나이저 저장\n",
    "with open('tokenizer.pkl', 'wb') as f:\n",
    "    pickle.dump(tokenizer, f)\n"
   ]
  },
  {
   "cell_type": "code",
   "execution_count": null,
   "id": "6eb7e147-31d9-4971-8b6a-72c3a24ed775",
   "metadata": {},
   "outputs": [],
   "source": [
    "# 모델저장 \n",
    "with open('machinery_optimized_model.pkl', 'wb') as f:\n",
    "    pickle.dump(machinery_optimized_model, f)\n",
    "    \n",
    "with open('assembly_optimized_model.pkl', 'wb') as f:\n",
    "    pickle.dump(assembly_optimized_model, f)\n"
   ]
  },
  {
   "cell_type": "code",
   "execution_count": 11,
   "id": "d9b61039-79ce-4a46-80aa-edcb4d848bac",
   "metadata": {},
   "outputs": [],
   "source": [
    "import pickle\n",
    "\n",
    "# LabelEncoder 저장\n",
    "with open('label_encoder_machinery.pkl', 'wb') as f:\n",
    "    pickle.dump(label_encoder_machinery, f)\n",
    "\n",
    "with open('label_encoder_assembly.pkl', 'wb') as f:\n",
    "    pickle.dump(label_encoder_assembly, f)"
   ]
  },
  {
   "cell_type": "code",
   "execution_count": null,
   "id": "6a972d97-65ff-4536-af7c-699f34b373f9",
   "metadata": {},
   "outputs": [],
   "source": []
  }
 ],
 "metadata": {
  "kernelspec": {
   "display_name": "Python (ship)",
   "language": "python",
   "name": "ship"
  },
  "language_info": {
   "codemirror_mode": {
    "name": "ipython",
    "version": 3
   },
   "file_extension": ".py",
   "mimetype": "text/x-python",
   "name": "python",
   "nbconvert_exporter": "python",
   "pygments_lexer": "ipython3",
   "version": "3.12.5"
  }
 },
 "nbformat": 4,
 "nbformat_minor": 5
}
