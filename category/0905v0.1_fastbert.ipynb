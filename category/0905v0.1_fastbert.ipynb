{
 "cells": [
  {
   "cell_type": "code",
   "execution_count": 1,
   "id": "e83a08e1-5041-4642-99f5-c82449e37554",
   "metadata": {},
   "outputs": [
    {
     "name": "stdout",
     "output_type": "stream",
     "text": [
      "CUDA available: True\n",
      "Current device: 0\n",
      "Device name: NVIDIA GeForce GTX 1650\n"
     ]
    }
   ],
   "source": [
    "import torch\n",
    "\n",
    "print(\"CUDA available:\", torch.cuda.is_available())\n",
    "\n",
    "print(\"Current device:\", torch.cuda.current_device())\n",
    "print(\"Device name:\", torch.cuda.get_device_name(torch.cuda.current_device()))"
   ]
  },
  {
   "cell_type": "code",
   "execution_count": 2,
   "id": "6526e20d-c98e-48d0-b5bb-b5f808ede823",
   "metadata": {},
   "outputs": [],
   "source": [
    "import pandas as pd\n",
    "import numpy as np\n",
    "import re\n",
    "\n",
    "from sklearn.model_selection import train_test_split\n",
    "from sklearn.preprocessing import LabelEncoder\n",
    "from sklearn.ensemble import RandomForestClassifier\n",
    "from sklearn.metrics import classification_report, accuracy_score"
   ]
  },
  {
   "cell_type": "code",
   "execution_count": 3,
   "id": "e2d1ff7f-9042-4774-94de-dd80bd002a16",
   "metadata": {},
   "outputs": [],
   "source": [
    "data=pd.read_excel('filtered_dataset0.1.xlsx')"
   ]
  },
  {
   "cell_type": "code",
   "execution_count": 4,
   "id": "bebfe21e-476b-47be-8898-5292f62584e7",
   "metadata": {},
   "outputs": [
    {
     "name": "stdout",
     "output_type": "stream",
     "text": [
      "<class 'pandas.core.frame.DataFrame'>\n",
      "RangeIndex: 15162 entries, 0 to 15161\n",
      "Data columns (total 32 columns):\n",
      " #   Column       Non-Null Count  Dtype  \n",
      "---  ------       --------------  -----  \n",
      " 0   청구서번호        15162 non-null  object \n",
      " 1   No.          15162 non-null  int64  \n",
      " 2   Subject      15152 non-null  object \n",
      " 3   Machinery    15162 non-null  object \n",
      " 4   Assembly     15162 non-null  object \n",
      " 5   청구품목         15162 non-null  object \n",
      " 6   Unnamed: 6   0 non-null      float64\n",
      " 7   Part No.1    15154 non-null  object \n",
      " 8   Part No.2    2614 non-null   object \n",
      " 9   청구량          15092 non-null  float64\n",
      " 10  견적           14957 non-null  object \n",
      " 11  견적수량         15092 non-null  float64\n",
      " 12  견적화폐         15092 non-null  object \n",
      " 13  견적단가         15162 non-null  float64\n",
      " 14  발주번호         15162 non-null  object \n",
      " 15  발주처          15162 non-null  object \n",
      " 16  발주           15162 non-null  object \n",
      " 17  발주수량         15092 non-null  float64\n",
      " 18  발주금액         15092 non-null  float64\n",
      " 19  D/T          13597 non-null  object \n",
      " 20  미입고 기간       1058 non-null   object \n",
      " 21  창고입고         13012 non-null  object \n",
      " 22  창고입고수량       15162 non-null  int64  \n",
      " 23  Control No.  9490 non-null   object \n",
      " 24  입고창고         13012 non-null  object \n",
      " 25  창고출고         11609 non-null  object \n",
      " 26  창고출고수량       15162 non-null  int64  \n",
      " 27  출고선박         11609 non-null  object \n",
      " 28  출고운반선        11609 non-null  object \n",
      " 29  선박입고         3307 non-null   object \n",
      " 30  선박입고수량       15162 non-null  int64  \n",
      " 31  완료 여부        3301 non-null   object \n",
      "dtypes: float64(6), int64(4), object(22)\n",
      "memory usage: 3.7+ MB\n"
     ]
    }
   ],
   "source": [
    "data.info()"
   ]
  },
  {
   "cell_type": "code",
   "execution_count": 5,
   "id": "1f68d784-6d51-43a8-8ef6-bbad5d5109d3",
   "metadata": {},
   "outputs": [],
   "source": [
    "import re\n",
    "\n",
    "def preprocess_text(text):\n",
    "    # 괄호 안의 내용 제거\n",
    "    text = re.sub(r'\\([^)]*\\)', '', text)\n",
    "    # 특수 문자 제거 (알파벳, 숫자, 일부 허용된 특수문자 제외)\n",
    "    text = re.sub(r'[^\\w\\s\\*\\-\\+/.,]', '', text)\n",
    "    # 여러 공백을 언더스코어로 변환\n",
    "    text = re.sub(r'\\s+', '_', text)\n",
    "    # 텍스트 중간의 연속된 언더스코어를 하나로 줄임\n",
    "    text = re.sub(r'_+', '_', text)\n",
    "    # 중간에 언더스코어가 불필요하게 남아있는 경우 처리\n",
    "    text = re.sub(r'(?<!\\w)_(?!\\w)', '', text)\n",
    "    # 언더스코어 앞뒤로 존재하는 특수문자 제거\n",
    "    text = re.sub(r'_([^\\w]+)_', '_', text)\n",
    "    text = re.sub(r'_([^\\w]+)$', '', text)\n",
    "    text = re.sub(r'^([^\\w]+)_', '', text)\n",
    "    # 텍스트 끝부분의 불필요한 언더스코어 제거\n",
    "    text = re.sub(r'_+$', '', text)\n",
    "    # 영어 단어는 소문자로 변환\n",
    "    text = ' '.join([word.lower() if re.match(r'[A-Za-z]', word) else word for word in text.split()])\n",
    "    text = text.strip()\n",
    "    return text\n",
    "\n",
    "def clean_supplier_name(name):\n",
    "    # 접미사 제거\n",
    "    suffixes = r'\\b(Corp\\.?|Corporation|Company|Co\\.?|Incorporated|Inc\\.?|Limited|Ltd\\.?|GmbH|S\\.L\\.|SDN\\. BHD\\.)\\b'\n",
    "    name = re.sub(suffixes, '', name, flags=re.IGNORECASE)\n",
    "    # 특수 문자 제거\n",
    "    name = re.sub(r'[^\\w\\s]', '', name)\n",
    "    # 불필요한 단어 제거\n",
    "    name = re.sub(r'\\b(사용금지|사)\\b', '', name, flags=re.IGNORECASE)\n",
    "    # 공백 정리\n",
    "    name = re.sub(r'\\s+', ' ', name).strip()\n",
    "    # 오타 수정 및 문자열 정리\n",
    "    name = re.sub(r'coporation|coropration|coproration|corporration', 'corporation', name, flags=re.IGNORECASE)\n",
    "    name = name.lower().strip()\n",
    "    return name"
   ]
  },
  {
   "cell_type": "code",
   "execution_count": 6,
   "id": "0e38477e-fa6b-4076-a3da-5af07d2a02cb",
   "metadata": {},
   "outputs": [],
   "source": [
    "# 각 칼럼 전처리\n",
    "data['cleaned_item'] = data['청구품목'].apply(preprocess_text)\n",
    "data['cleaned_supplier'] = data['발주처'].apply(clean_supplier_name)\n",
    "\n",
    "# 전처리된 칼럼 결합\n",
    "data['combined_text'] =data['cleaned_item'].fillna('') + \" \" + data['cleaned_supplier'].fillna('')\n"
   ]
  },
  {
   "cell_type": "code",
   "execution_count": 7,
   "id": "2c685cdd-83a5-452c-b78e-bcd3c53af7f5",
   "metadata": {},
   "outputs": [
    {
     "name": "stdout",
     "output_type": "stream",
     "text": [
      "                                     combined_text\n",
      "0      ge_power_pack_fork_e7 matsuiusa corporation\n",
      "1      ge_power_pack_fork_e7 matsuiusa corporation\n",
      "2                  nylon_54_4_1/4,_100md_50fms kti\n",
      "3                  nylon_48_4_1/4,_100md_50fms kti\n",
      "4                  nylon_42_4_1/4,_100md_50fms kti\n",
      "...                                            ...\n",
      "15157             ring-o haein corporation_cheonan\n",
      "15158     ring-retaining haein corporation_cheonan\n",
      "15159     sleeve-bearing haein corporation_cheonan\n",
      "15160       bearing-ball haein corporation_cheonan\n",
      "15161    bearing-ball_de haein corporation_cheonan\n",
      "\n",
      "[15162 rows x 1 columns]\n"
     ]
    }
   ],
   "source": [
    "print(data[['combined_text']])"
   ]
  },
  {
   "cell_type": "code",
   "execution_count": 8,
   "id": "463a83f9-bb98-4700-b241-b8c006c59b42",
   "metadata": {},
   "outputs": [
    {
     "data": {
      "text/plain": [
       "(216300, 443560)"
      ]
     },
     "execution_count": 8,
     "metadata": {},
     "output_type": "execute_result"
    }
   ],
   "source": [
    "from gensim.models import FastText, Word2Vec\n",
    "import torch\n",
    "\n",
    "# 문장을 토큰화하여 리스트로 만들어야 합니다.\n",
    "sentences = [text.split() for text in data['combined_text']]\n",
    "\n",
    "# FastText 모델 학습\n",
    "ft_model = FastText(vector_size=100, window=5, min_count=1, min_n=3, max_n=6, sg=1)\n",
    "ft_model.build_vocab(sentences)\n",
    "ft_model.train(sentences, total_examples=len(sentences), epochs=10)\n",
    "\n",
    "# Word2Vec 모델 학습\n",
    "w2v_model = Word2Vec(sentences, vector_size=100, window=5, min_count=1, sg=1)\n",
    "w2v_model.train(sentences, total_examples=len(sentences), epochs=10)"
   ]
  },
  {
   "cell_type": "code",
   "execution_count": 11,
   "id": "166e9254-3a18-40f4-a5fd-20f0796fdcde",
   "metadata": {},
   "outputs": [
    {
     "name": "stdout",
     "output_type": "stream",
     "text": [
      "torch.Size([15162, 200])\n"
     ]
    }
   ],
   "source": [
    "# FastText 임베딩을 가져오는 함수\n",
    "def get_embedding(word, model):\n",
    "    if word in model.wv:\n",
    "        return torch.tensor(model.wv[word])\n",
    "    else:\n",
    "        # 서브워드 임베딩의 평균을 계산\n",
    "        subwords = [word[i:j] for i in range(len(word)) for j in range(i+1, len(word)+1)]\n",
    "        subword_vectors = [model.wv[subword] for subword in subwords if subword in model.wv]\n",
    "        \n",
    "        if subword_vectors:\n",
    "            return torch.tensor(subword_vectors).mean(dim=0)\n",
    "        else:\n",
    "            return torch.zeros(model.vector_size)  # 단어가 없는 경우 0 벡터로 처리\n",
    "# FastText 임베딩과 Word2Vec 임베딩을 결합한 함수\n",
    "def get_combined_embedding(word, ft_model, w2v_model):\n",
    "    ft_vector = get_embedding(word, ft_model)  # FastText에서 얻은 임베딩\n",
    "    if word in w2v_model.wv:\n",
    "        w2v_vector = torch.tensor(w2v_model.wv[word])  # Word2Vec에서 얻은 임베딩\n",
    "    else:\n",
    "        w2v_vector = torch.zeros(w2v_model.vector_size)  # 단어가 없는 경우 0 벡터로 처리\n",
    "\n",
    "    combined_vector = torch.cat((ft_vector, w2v_vector))  # 두 임베딩을 결합 (concatenate)\n",
    "    return combined_vector\n",
    "\n",
    "# 결합된 임베딩을 생성\n",
    "combined_embeddings = []\n",
    "for text in data['combined_text']:\n",
    "    words = text.split()\n",
    "    word_vectors = [get_combined_embedding(word, ft_model, w2v_model) for word in words]\n",
    "    if word_vectors:\n",
    "        embedding = torch.stack(word_vectors).mean(dim=0)  # 단어 벡터의 평균 계산\n",
    "    else:\n",
    "        embedding = torch.zeros(model.vector_size + w2v_model.vector_size)  # 단어가 없는 경우 0 벡터로 처리\n",
    "    combined_embeddings.append(embedding)\n",
    "\n",
    "# 결합된 임베딩 리스트를 텐서로 변환\n",
    "combined_embeddings_tensor = torch.stack(combined_embeddings)\n",
    "\n",
    "print(combined_embeddings_tensor.shape)  # 결합된 임베딩 텐서"
   ]
  },
  {
   "cell_type": "code",
   "execution_count": 13,
   "id": "208ec7e7-b472-4213-b596-9e04300142c2",
   "metadata": {},
   "outputs": [],
   "source": [
    "import torch\n",
    "import torch.nn.functional as F\n",
    "\n",
    "# 모든 단어에 대해 결합된 임베딩을 계산하고 저장\n",
    "combined_word_vectors = {}\n",
    "for word in ft_model.wv.index_to_key:  # FastText 모델의 모든 단어에 대해 반복\n",
    "    combined_word_vectors[word] = get_combined_embedding(word, ft_model, w2v_model)\n",
    "\n",
    "# 특정 단어와 가장 유사한 단어 5개를 찾는 함수 정의\n",
    "def find_similar_words(target_word, combined_word_vectors, topn=5):\n",
    "    if target_word not in combined_word_vectors:\n",
    "        print(f\"Word '{target_word}' not in vocabulary.\")\n",
    "        return []\n",
    "\n",
    "    target_vector = combined_word_vectors[target_word]\n",
    "    similarities = {}\n",
    "\n",
    "    for word, vector in combined_word_vectors.items():\n",
    "        similarity = F.cosine_similarity(target_vector.unsqueeze(0), vector.unsqueeze(0)).item()\n",
    "        similarities[word] = similarity\n",
    "\n",
    "    # 상위 topn개의 유사 단어를 찾음\n",
    "    sorted_similarities = sorted(similarities.items(), key=lambda item: item[1], reverse=True)\n",
    "    return sorted_similarities[:topn]"
   ]
  },
  {
   "cell_type": "code",
   "execution_count": 14,
   "id": "5f396888-1d67-4912-89ca-5f40b388ec93",
   "metadata": {},
   "outputs": [
    {
     "name": "stdout",
     "output_type": "stream",
     "text": [
      "Words most similar to 'valve':\n",
      "valve: 1.0000\n",
      "valve_pcl402/3-sc-bsp: 0.9899\n",
      "valve_c/bal_h-1180: 0.9895\n",
      "check_valve: 0.9864\n",
      "valve_pcl402/2-se-sae: 0.9858\n"
     ]
    }
   ],
   "source": [
    "# 특정 단어의 유사 단어 찾기\n",
    "word = \"valve\"  # 여기에는 확인하고 싶은 단어를 넣으세요\n",
    "similar_words = find_similar_words(word, combined_word_vectors, topn=5)\n",
    "\n",
    "# 결과 출력\n",
    "print(f\"Words most similar to '{word}':\")\n",
    "for similar_word, similarity in similar_words:\n",
    "    print(f\"{similar_word}: {similarity:.4f}\")"
   ]
  },
  {
   "cell_type": "code",
   "execution_count": 15,
   "id": "fe227dba-0285-4352-ad25-c1da4b7e51e0",
   "metadata": {},
   "outputs": [
    {
     "name": "stdout",
     "output_type": "stream",
     "text": [
      "Using device: cuda\n"
     ]
    }
   ],
   "source": [
    "device = torch.device(\"cuda\" if torch.cuda.is_available() else \"cpu\")\n",
    "print(f\"Using device: {device}\")"
   ]
  },
  {
   "cell_type": "code",
   "execution_count": 16,
   "id": "1b404d9b-ac94-4ef0-9d92-dcfd47ce6a11",
   "metadata": {},
   "outputs": [],
   "source": [
    "import torch\n",
    "import torch.nn as nn\n",
    "import torch.optim as optim\n",
    "from sklearn.preprocessing import LabelEncoder, StandardScaler\n",
    "from sklearn.model_selection import train_test_split\n",
    "\n",
    "# 1. 데이터 준비 및 인코딩\n",
    "machinery = data['Machinery'].values\n",
    "assembly = data['Assembly'].values\n",
    "\n",
    "machinery_encoder = LabelEncoder()\n",
    "assembly_encoder = LabelEncoder()\n",
    "\n",
    "machinery_labels = machinery_encoder.fit_transform(machinery)\n",
    "assembly_labels = assembly_encoder.fit_transform(assembly)\n",
    "\n",
    "# 2. 임베딩을 numpy 배열로 변환-스케일러 위해서. 스케일러 안쓸거면 그냥써도됨\n",
    "X = combined_embeddings_tensor\n",
    "\n",
    "# 3. Train-Test Split (각 레이블에 대해 동일한 분할 사용)\n",
    "X_train_val, X_test, y_train_val_machinery, y_test_machinery, y_train_val_assembly, y_test_assembly = train_test_split(\n",
    "    X.numpy(), machinery_labels, assembly_labels, test_size=0.2, random_state=42\n",
    ")\n",
    "\n",
    "X_train, X_val, y_train_machinery, y_val_machinery, y_train_assembly, y_val_assembly = train_test_split(\n",
    "    X_train_val, y_train_val_machinery, y_train_val_assembly, test_size=0.2, random_state=42\n",
    ")\n",
    "\n",
    "# 5. Train 데이터를 torch Tensor로 변환\n",
    "X_train_tensor = torch.tensor(X_train, dtype=torch.float32).to(device)\n",
    "X_val_tensor = torch.tensor(X_val, dtype=torch.float32).to(device)\n",
    "X_test_tensor = torch.tensor(X_test, dtype=torch.float32).to(device)\n",
    "\n",
    "y_train_machinery_tensor = torch.tensor(y_train_machinery, dtype=torch.long).to(device)\n",
    "y_val_machinery_tensor = torch.tensor(y_val_machinery, dtype=torch.long).to(device)\n",
    "y_test_machinery_tensor = torch.tensor(y_test_machinery, dtype=torch.long).to(device)\n",
    "\n",
    "y_train_assembly_tensor = torch.tensor(y_train_assembly, dtype=torch.long).to(device)\n",
    "y_val_assembly_tensor = torch.tensor(y_val_assembly, dtype=torch.long).to(device)\n",
    "y_test_assembly_tensor = torch.tensor(y_test_assembly, dtype=torch.long).to(device)\n"
   ]
  },
  {
   "cell_type": "code",
   "execution_count": 30,
   "id": "75a8f617-1a2d-441a-98a5-d6a12dce05c7",
   "metadata": {},
   "outputs": [],
   "source": [
    "from transformers import BertTokenizer\n",
    "\n",
    "# 토크나이저 초기화\n",
    "tokenizer = BertTokenizer.from_pretrained('bert-base-uncased')\n",
    "\n",
    "# 1.텍스트를 BERT 입력 형식으로 변환\n",
    "def encode_texts(texts, tokenizer, max_length=128):\n",
    "    encoding = tokenizer.batch_encode_plus(\n",
    "        texts,\n",
    "        truncation=True,\n",
    "        padding=True,\n",
    "        max_length=max_length,\n",
    "        return_tensors='pt'\n",
    "    )\n",
    "    return encoding['input_ids'], encoding['attention_mask']\n",
    "    \n",
    "X_input_ids, X_attention_mask = encode_texts(data['combined_text'], tokenizer)\n"
   ]
  },
  {
   "cell_type": "code",
   "execution_count": 34,
   "id": "c6680403-d49f-49c1-bf7a-2d497b590848",
   "metadata": {},
   "outputs": [
    {
     "name": "stdout",
     "output_type": "stream",
     "text": [
      "<class 'numpy.ndarray'>\n",
      "[54 38 43 39 30]\n"
     ]
    }
   ],
   "source": [
    "#2. train_test split\n",
    "# 80%의 데이터를 train_val (train+validation) 세트로, 20%를 test 세트로 분할\n",
    "X_train_val_input_ids, X_test_input_ids, X_train_val_attention_mask, X_test_attention_mask, y_train_val_machinery, y_test_machinery, y_train_val_assembly, y_test_assembly = train_test_split(\n",
    "    X_input_ids, X_attention_mask, machinery_labels, assembly_labels, test_size=0.2, random_state=42\n",
    ")\n",
    "\n",
    "# 80%의 train_val 세트를 다시 75% (train)와 25% (validation)로 분할\n",
    "X_train_input_ids, X_val_input_ids, X_train_attention_mask, X_val_attention_mask, y_train_machinery, y_val_machinery, y_train_assembly, y_val_assembly = train_test_split(\n",
    "    X_train_val_input_ids, X_train_val_attention_mask, y_train_val_machinery, y_train_val_assembly, test_size=0.25, random_state=42\n",
    ")\n",
    "print(type(y_train_machinery))\n",
    "print(y_train_machinery[:5])  #"
   ]
  },
  {
   "cell_type": "code",
   "execution_count": 32,
   "id": "ee6eb201-a5f2-4ae9-9225-e5d7aaad4a62",
   "metadata": {},
   "outputs": [],
   "source": [
    "# 3. 텐서로 변환\n",
    "y_train_machinery_tensor = torch.tensor(y_train_machinery, dtype=torch.long)\n",
    "y_val_machinery_tensor = torch.tensor(y_val_machinery, dtype=torch.long)\n",
    "y_test_machinery_tensor = torch.tensor(y_test_machinery, dtype=torch.long)\n",
    "\n",
    "y_train_assembly_tensor = torch.tensor(y_train_assembly, dtype=torch.long)\n",
    "y_val_assembly_tensor = torch.tensor(y_val_assembly, dtype=torch.long)\n",
    "y_test_assembly_tensor = torch.tensor(y_test_assembly, dtype=torch.long)\n"
   ]
  },
  {
   "cell_type": "code",
   "execution_count": 35,
   "id": "1ce9496a-9c8e-4232-aa03-c3efbe2ffa96",
   "metadata": {},
   "outputs": [
    {
     "name": "stdout",
     "output_type": "stream",
     "text": [
      "y_train_machinery size: torch.Size([9096])\n",
      "y_train_assembly size: torch.Size([9096])\n",
      "X_val_input_ids size: torch.Size([3033, 64])\n",
      "X_val_attention_mask size: torch.Size([3033, 64])\n",
      "y_val_machinery size: torch.Size([3033])\n",
      "y_val_assembly size: torch.Size([3033])\n"
     ]
    }
   ],
   "source": [
    "# 크기 출력 - tensor를 안붙이고 그냥 size를 달라고 하니까 못뱉어냄.\n",
    "print(f\"y_train_machinery size: {y_train_machinery_tensor.size()}\")\n",
    "print(f\"y_train_assembly size: {y_train_assembly_tensor.size()}\")\n",
    "\n",
    "print(f\"X_val_input_ids size: {X_val_input_ids.size()}\")\n",
    "print(f\"X_val_attention_mask size: {X_val_attention_mask.size()}\")\n",
    "print(f\"y_val_machinery size: {y_val_machinery_tensor.size()}\")\n",
    "print(f\"y_val_assembly size: {y_val_assembly_tensor.size()}\")"
   ]
  },
  {
   "cell_type": "code",
   "execution_count": 36,
   "id": "2ba940ca-cd72-438f-9599-9e542d05b4af",
   "metadata": {},
   "outputs": [],
   "source": [
    "\n",
    "# 4. TensorDataset과 DataLoader 생성\n",
    "train_dataset = TensorDataset(X_train_input_ids, X_train_attention_mask, y_train_machinery_tensor, y_train_assembly_tensor)\n",
    "val_dataset = TensorDataset(X_val_input_ids, X_val_attention_mask, y_val_machinery_tensor, y_val_assembly_tensor)\n",
    "\n",
    "batch_size = 32\n",
    "train_loader = DataLoader(dataset=train_dataset, batch_size=batch_size, shuffle=True, drop_last=True)\n",
    "val_loader = DataLoader(dataset=val_dataset, batch_size=batch_size, shuffle=False)"
   ]
  },
  {
   "cell_type": "code",
   "execution_count": 37,
   "id": "21cef2cc-c498-4ce1-a15c-9992b2295fc1",
   "metadata": {},
   "outputs": [],
   "source": [
    "import torch\n",
    "import torch.nn as nn\n",
    "from transformers import BertModel, BertTokenizer \n",
    "\n",
    "class BERTClassifier(nn.Module):\n",
    "    def __init__(self, bert_model_name, embedding_dim, num_classes_machinery, num_classes_assembly):\n",
    "        super(BERTClassifier, self).__init__()\n",
    "        self.bert = BertModel.from_pretrained(bert_model_name)\n",
    "        self.fc_machinery = nn.Linear(embedding_dim, num_classes_machinery)\n",
    "        self.fc_assembly = nn.Linear(embedding_dim, num_classes_assembly)\n",
    "\n",
    "    def forward(self, input_ids, attention_mask):\n",
    "        outputs = self.bert(input_ids=input_ids, attention_mask=attention_mask)\n",
    "        pooled_output = outputs[1]  # BERT의 [CLS] 토큰 출력 사용\n",
    "        machinery_out = self.fc_machinery(pooled_output)\n",
    "        assembly_out = self.fc_assembly(pooled_output)\n",
    "        return machinery_out, assembly_out"
   ]
  },
  {
   "cell_type": "code",
   "execution_count": 38,
   "id": "71205f68-8784-4e1e-92be-b58ad19c7a64",
   "metadata": {},
   "outputs": [],
   "source": [
    "device = torch.device('cuda' if torch.cuda.is_available() else 'cpu')\n",
    "model = BERTClassifier('bert-base-uncased', embedding_dim=768, num_classes_machinery=len(machinery_encoder.classes_), num_classes_assembly=len(assembly_encoder.classes_)).to(device)\n"
   ]
  },
  {
   "cell_type": "code",
   "execution_count": 40,
   "id": "319b7074-2b7c-48ed-aa71-7da87a8dc1ec",
   "metadata": {},
   "outputs": [
    {
     "name": "stderr",
     "output_type": "stream",
     "text": [
      "C:\\Users\\User\\anaconda3\\envs\\ship\\Lib\\site-packages\\transformers\\models\\bert\\modeling_bert.py:439: UserWarning: 1Torch was not compiled with flash attention. (Triggered internally at C:\\actions-runner\\_work\\pytorch\\pytorch\\builder\\windows\\pytorch\\aten\\src\\ATen\\native\\transformers\\cuda\\sdp_utils.cpp:555.)\n",
      "  attn_output = torch.nn.functional.scaled_dot_product_attention(\n"
     ]
    },
    {
     "name": "stdout",
     "output_type": "stream",
     "text": [
      "Epoch 1/100 - Loss: 6.135068416595459\n",
      "Epoch 2/100 - Loss: 5.425899982452393\n",
      "Epoch 3/100 - Loss: 4.623385429382324\n",
      "Epoch 4/100 - Loss: 4.47451114654541\n",
      "Epoch 5/100 - Loss: 3.911362648010254\n",
      "Epoch 6/100 - Loss: 3.908961296081543\n"
     ]
    },
    {
     "ename": "KeyboardInterrupt",
     "evalue": "",
     "output_type": "error",
     "traceback": [
      "\u001b[1;31m---------------------------------------------------------------------------\u001b[0m",
      "\u001b[1;31mKeyboardInterrupt\u001b[0m                         Traceback (most recent call last)",
      "Cell \u001b[1;32mIn[40], line 12\u001b[0m\n\u001b[0;32m      9\u001b[0m model\u001b[38;5;241m.\u001b[39mtrain()\n\u001b[0;32m     10\u001b[0m \u001b[38;5;28;01mfor\u001b[39;00m i, (input_ids, attention_mask, y_machinery, y_assembly) \u001b[38;5;129;01min\u001b[39;00m \u001b[38;5;28menumerate\u001b[39m(train_loader):\n\u001b[1;32m---> 12\u001b[0m     input_ids \u001b[38;5;241m=\u001b[39m \u001b[43minput_ids\u001b[49m\u001b[38;5;241;43m.\u001b[39;49m\u001b[43mto\u001b[49m\u001b[43m(\u001b[49m\u001b[43mdevice\u001b[49m\u001b[43m)\u001b[49m\n\u001b[0;32m     13\u001b[0m     attention_mask \u001b[38;5;241m=\u001b[39m attention_mask\u001b[38;5;241m.\u001b[39mto(device)\n\u001b[0;32m     14\u001b[0m     y_machinery \u001b[38;5;241m=\u001b[39m y_machinery\u001b[38;5;241m.\u001b[39mto(device)\n",
      "\u001b[1;31mKeyboardInterrupt\u001b[0m: "
     ]
    }
   ],
   "source": [
    "# 옵티마이저와 손실 함수 설정\n",
    "optimizer = torch.optim.Adam(model.parameters(), lr=2e-5)\n",
    "criterion = nn.CrossEntropyLoss()\n",
    "\n",
    "num_epochs=100\n",
    "device = torch.device('cuda' if torch.cuda.is_available() else 'cpu')\n",
    "\n",
    "for epoch in range(num_epochs):\n",
    "    model.train()\n",
    "    for i, (input_ids, attention_mask, y_machinery, y_assembly) in enumerate(train_loader):\n",
    "\n",
    "        input_ids = input_ids.to(device)\n",
    "        attention_mask = attention_mask.to(device)\n",
    "        y_machinery = y_machinery.to(device)\n",
    "        y_assembly = y_assembly.to(device)\n",
    "        \n",
    "        optimizer.zero_grad()\n",
    "        machinery_out, assembly_out = model(input_ids, attention_mask)\n",
    "        loss_machinery = criterion(machinery_out, y_machinery)\n",
    "        loss_assembly = criterion(assembly_out, y_assembly)\n",
    "        loss = loss_machinery + loss_assembly\n",
    "        loss.backward()\n",
    "        optimizer.step()\n",
    "\n",
    "    print(f\"Epoch {epoch + 1}/{num_epochs} - Loss: {loss.item()}\")"
   ]
  },
  {
   "cell_type": "code",
   "execution_count": null,
   "id": "52dbf625-2b93-41c4-b956-66115c275b1e",
   "metadata": {},
   "outputs": [],
   "source": [
    "print(f'X_train shape: {X_train.shape}')\n",
    "print(f'y_train_machinery shape: {y_train_machinery.shape}')\n",
    "print(f'y_train_assembly shape: {y_train_assembly.shape}')"
   ]
  },
  {
   "cell_type": "code",
   "execution_count": null,
   "id": "b4eef1ea-d477-496d-966a-0bdaad6f2e13",
   "metadata": {},
   "outputs": [],
   "source": []
  },
  {
   "cell_type": "code",
   "execution_count": null,
   "id": "57dc2528-3d20-46de-aae3-5c3e3fcb8d6a",
   "metadata": {},
   "outputs": [],
   "source": []
  },
  {
   "cell_type": "code",
   "execution_count": null,
   "id": "cf009e4d-8dd6-4e58-a3ad-df4efd1bdd23",
   "metadata": {},
   "outputs": [],
   "source": []
  }
 ],
 "metadata": {
  "kernelspec": {
   "display_name": "Python (ship)",
   "language": "python",
   "name": "ship"
  },
  "language_info": {
   "codemirror_mode": {
    "name": "ipython",
    "version": 3
   },
   "file_extension": ".py",
   "mimetype": "text/x-python",
   "name": "python",
   "nbconvert_exporter": "python",
   "pygments_lexer": "ipython3",
   "version": "3.12.5"
  }
 },
 "nbformat": 4,
 "nbformat_minor": 5
}
