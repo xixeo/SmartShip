{
 "cells": [
  {
   "cell_type": "code",
   "execution_count": 1,
   "id": "f7bf7863-85ef-4e5f-95d8-2563ae591184",
   "metadata": {},
   "outputs": [],
   "source": [
    "import pandas as pd\n",
    "import numpy as np\n",
    "import re\n",
    "import csv\n"
   ]
  },
  {
   "cell_type": "code",
   "execution_count": 2,
   "id": "0cac673b-2031-4a4a-842f-0d53f1696c1e",
   "metadata": {},
   "outputs": [],
   "source": [
    "data = pd.read_excel('./data/filtered_30_filled_money.xlsx')"
   ]
  },
  {
   "cell_type": "code",
   "execution_count": 3,
   "id": "5afd37e9-6ba7-4774-979e-9e8782473266",
   "metadata": {},
   "outputs": [
    {
     "name": "stdout",
     "output_type": "stream",
     "text": [
      "                                                청구품목  \\\n",
      "0                         GE POWER PACK FORK - E7(B)   \n",
      "1                         GE POWER PACK FORK - E7(B)   \n",
      "2  SAMSON SUPER STRONG DOUBLE BRAID ROPE 1 3/4\", ...   \n",
      "3        WIRE ROPE G)6X(S)19 A3 CMP SLPP 28MM X 400M   \n",
      "4        WIRE ROPE G)6X(S)19 A3 CMP SLPP 25MM X 400M   \n",
      "\n",
      "                         발주처  \n",
      "0  MATSUI(U.S.A) COROPRATION  \n",
      "1  MATSUI(U.S.A) COROPRATION  \n",
      "2                        KTI  \n",
      "3                    대광기업(주)  \n",
      "4                    대광기업(주)  \n"
     ]
    }
   ],
   "source": [
    "def remove_restricted_text(text):\n",
    "    return re.sub(r'\\(사용금지\\)', '', text).strip()\n",
    "\n",
    "# Remove \"(사용금지)\" from '청구품목' and '발주처' columns\n",
    "data['청구품목'] = data['청구품목'].apply(remove_restricted_text)\n",
    "data['발주처'] = data['발주처'].apply(remove_restricted_text)\n",
    "\n",
    "\n",
    "# Check the cleaned data\n",
    "print(data[['청구품목', '발주처']].head())"
   ]
  },
  {
   "cell_type": "code",
   "execution_count": 4,
   "id": "5844a56d-4652-438b-a1be-2ae3d3cc6442",
   "metadata": {},
   "outputs": [],
   "source": [
    "machinery_df = data[['Machinery']].drop_duplicates().reset_index(drop=True)\n",
    "machinery_df['machinery_id'] = machinery_df.index + 1\n"
   ]
  },
  {
   "cell_type": "code",
   "execution_count": 5,
   "id": "9d3ebf17-e52f-43c0-9ce6-4a37a6cfc515",
   "metadata": {},
   "outputs": [],
   "source": [
    "# Create assembly dataframe\n",
    "assembly_df = data[['Machinery', 'Assembly']].drop_duplicates().reset_index(drop=True)\n",
    "assembly_df = assembly_df.merge(machinery_df, on='Machinery')\n",
    "assembly_df['assembly_id'] = assembly_df.index + 1\n",
    "assembly_df.rename(columns={'Assembly': 'assembly_name'}, inplace=True)\n"
   ]
  },
  {
   "cell_type": "code",
   "execution_count": 6,
   "id": "6467912a-76aa-4136-8d06-8a390cc4afbb",
   "metadata": {},
   "outputs": [
    {
     "name": "stdout",
     "output_type": "stream",
     "text": [
      "Duplicate Assemblies:\n",
      "                              Machinery                       assembly_name  \\\n",
      "3                      CORKLINE STACKER                         TUBING ASSY   \n",
      "4                 NO.1 GENERATOR ENGINE                      OVERHAUL PARTS   \n",
      "7                 NO.1 GENERATOR ENGINE                          GASKET KIT   \n",
      "11                NO.1 GENERATOR ENGINE  4N5111 PUMP GP-FUEL INJECTION PUMP   \n",
      "16                NO.1 GENERATOR ENGINE   7N3036 CYLINDER HEAD GP-SIDE VIEW   \n",
      "..                                  ...                                 ...   \n",
      "397          MAIN BOOM PORT VANG WINCH                           WINCH ASSY   \n",
      "398          MAIN BOOM PORT VANG WINCH                          COMMON PART   \n",
      "399                         POWER BLOCK                         COMMON PART   \n",
      "400                         MAIN ENGINE                        TURBOCHARGER   \n",
      "401  NAVI DECK FWD NET BOAT DAVIT WINCH                          WINCH ASSY   \n",
      "\n",
      "     machinery_id  assembly_id  \n",
      "3               4            4  \n",
      "4               5            5  \n",
      "7               5            8  \n",
      "11              5           12  \n",
      "16              5           17  \n",
      "..            ...          ...  \n",
      "397            57          398  \n",
      "398            57          399  \n",
      "399             8          400  \n",
      "400             1          401  \n",
      "401            47          402  \n",
      "\n",
      "[273 rows x 4 columns]\n"
     ]
    }
   ],
   "source": [
    "# Check for any potential duplicate assemblies for the same machinery\n",
    "duplicate_assemblies = assembly_df[assembly_df.duplicated(subset=['assembly_name'], keep=False)]\n",
    "print(f\"Duplicate Assemblies:\\n{duplicate_assemblies}\")\n"
   ]
  },
  {
   "cell_type": "code",
   "execution_count": 7,
   "id": "45e38a0a-c7a4-4910-aa1d-1cb1f94fd38f",
   "metadata": {},
   "outputs": [],
   "source": [
    "# Remove duplicates in assembly_df to ensure unique assemblies\n",
    "assembly_df.drop_duplicates(subset=['assembly_name'], inplace=True)\n"
   ]
  },
  {
   "cell_type": "code",
   "execution_count": 8,
   "id": "c47f544a-af33-445f-9b47-7784b3d5bd72",
   "metadata": {},
   "outputs": [
    {
     "name": "stdout",
     "output_type": "stream",
     "text": [
      "Unique Assembly Count (After removing duplicates): 209\n"
     ]
    }
   ],
   "source": [
    "# Verify unique assembly count\n",
    "unique_assembly_count = assembly_df['assembly_name'].nunique()\n",
    "print(f\"Unique Assembly Count (After removing duplicates): {unique_assembly_count}\")\n"
   ]
  },
  {
   "cell_type": "code",
   "execution_count": 9,
   "id": "af7a276b-af0d-4e99-955c-6ea85ab97677",
   "metadata": {},
   "outputs": [],
   "source": [
    "claim_items_df = data[['Assembly', '청구품목', 'Part No.1', '견적화폐', '견적단가', '발주처']].reset_index(drop=True)\n"
   ]
  },
  {
   "cell_type": "code",
   "execution_count": 10,
   "id": "8b58d8a3-c6e9-4a4c-9a9b-ae987d5ae986",
   "metadata": {},
   "outputs": [],
   "source": [
    "claim_items_df = claim_items_df.merge(assembly_df[['assembly_name', 'assembly_id']], left_on='Assembly', right_on='assembly_name', how='left')\n"
   ]
  },
  {
   "cell_type": "code",
   "execution_count": 11,
   "id": "59b21362-e91f-45ab-a256-c900898c5b86",
   "metadata": {},
   "outputs": [],
   "source": [
    "# Rename columns\n",
    "claim_items_df.rename(columns={\n",
    "    '청구품목': 'item_name', \n",
    "    'Part No.1': 'part_no', \n",
    "    '견적화폐': 'currency', \n",
    "    '견적단가': 'price', \n",
    "    '발주처': 'supplier'\n",
    "}, inplace=True)\n"
   ]
  },
  {
   "cell_type": "code",
   "execution_count": 12,
   "id": "c271bf92-b5fe-4e59-80dd-b1bd30e0c114",
   "metadata": {},
   "outputs": [],
   "source": [
    "# Drop duplicate rows if necessary in claim_items_df\n",
    "claim_items_df.drop_duplicates(subset=['item_name', 'part_no', 'currency', 'price', 'supplier', 'assembly_id'], inplace=True)\n",
    "\n"
   ]
  },
  {
   "cell_type": "code",
   "execution_count": 13,
   "id": "37eaca5e-4833-4bfc-a566-1c78b7518507",
   "metadata": {},
   "outputs": [],
   "source": [
    "claim_items_df['item_id'] = claim_items_df.index + 1\n"
   ]
  },
  {
   "cell_type": "code",
   "execution_count": 14,
   "id": "567cb52e-90af-4c0e-8265-e284cf3967ba",
   "metadata": {},
   "outputs": [],
   "source": [
    "# Save to CSV in a valid local directory\n",
    "machinery_df[['machinery_id', 'Machinery']].rename(columns={'Machinery': 'machinery_name'}).to_csv('machinery.csv', index=False, quoting=csv.QUOTE_MINIMAL)\n",
    "assembly_df[['assembly_id', 'assembly_name', 'machinery_id']].to_csv('assembly.csv', index=False, quoting=csv.QUOTE_MINIMAL)\n",
    "claim_items_df[['item_id', 'item_name', 'part_no', 'currency', 'price', 'supplier', 'assembly_id']].to_csv('claim_items.csv', index=False,  quoting=csv.QUOTE_MINIMAL)\n"
   ]
  },
  {
   "cell_type": "code",
   "execution_count": 15,
   "id": "a77c3dc5-2731-44a8-b879-88ae22d923fe",
   "metadata": {},
   "outputs": [
    {
     "name": "stdout",
     "output_type": "stream",
     "text": [
      "Final Unique Assembly Count: 209\n",
      "Final Unique Claim Items Count: 9312\n"
     ]
    }
   ],
   "source": [
    "# Print final counts for verification\n",
    "print(f\"Final Unique Assembly Count: {assembly_df['assembly_id'].nunique()}\")\n",
    "print(f\"Final Unique Claim Items Count: {claim_items_df['item_id'].nunique()}\")"
   ]
  },
  {
   "cell_type": "code",
   "execution_count": 16,
   "id": "ddaba01d-b449-47a1-acc4-eb9a9f334a1f",
   "metadata": {},
   "outputs": [],
   "source": [
    "# Create supplier dataframe\n",
    "supplier_df = data[['발주처']].drop_duplicates().reset_index(drop=True)\n"
   ]
  },
  {
   "cell_type": "code",
   "execution_count": 17,
   "id": "89c91962-28f2-4a7f-9981-6cacd5e89822",
   "metadata": {},
   "outputs": [],
   "source": [
    "# Assign a unique ID to each supplier\n",
    "supplier_df['supplier_id'] = supplier_df.index + 1\n"
   ]
  },
  {
   "cell_type": "code",
   "execution_count": 18,
   "id": "65d511f8-13f1-40ad-9002-1133701dacb7",
   "metadata": {},
   "outputs": [],
   "source": [
    "supplier_df['발주처'] = supplier_df['발주처'].apply(remove_restricted_text)\n"
   ]
  },
  {
   "cell_type": "code",
   "execution_count": 19,
   "id": "fb916c28-e3cd-431b-ac51-b823939b0cf3",
   "metadata": {},
   "outputs": [],
   "source": [
    "# Rename columns\n",
    "supplier_df.rename(columns={'발주처': 'supplier_name'}, inplace=True)\n",
    "\n",
    "# Save the supplier table as a CSV file\n",
    "supplier_df.to_csv('suppliers.csv', index=False, quoting=csv.QUOTE_MINIMAL)\n"
   ]
  },
  {
   "cell_type": "code",
   "execution_count": 20,
   "id": "6c4f4af8-2dfb-4e4c-97ac-7aca35465c2e",
   "metadata": {},
   "outputs": [
    {
     "name": "stdout",
     "output_type": "stream",
     "text": [
      "               supplier_name  supplier_id\n",
      "0  MATSUI(U.S.A) COROPRATION            1\n",
      "1                        KTI            2\n",
      "2                    대광기업(주)            3\n",
      "3                 K.TH MARCO            4\n",
      "4   HAEIN Coporation_Cheonan            5\n"
     ]
    }
   ],
   "source": [
    "# Check the supplier dataframe\n",
    "print(supplier_df.head())"
   ]
  },
  {
   "cell_type": "code",
   "execution_count": 10,
   "id": "6bc922e8-a192-4801-8ab8-f714808c0df7",
   "metadata": {},
   "outputs": [],
   "source": [
    "claim_items_df = pd.read_csv('./category_csv/claim_items.csv')"
   ]
  },
  {
   "cell_type": "code",
   "execution_count": 11,
   "id": "73548ca2-f58c-486d-abbd-1c648a53d4ba",
   "metadata": {},
   "outputs": [
    {
     "name": "stdout",
     "output_type": "stream",
     "text": [
      "Empty DataFrame\n",
      "Columns: [item_id, item_name, part_no, currency, price, supplier, assembly_id]\n",
      "Index: []\n"
     ]
    }
   ],
   "source": [
    "missing_assembly_id_rows = claim_items_df[claim_items_df['assembly_id'].isna()]\n",
    "\n",
    "print(missing_assembly_id_rows)"
   ]
  },
  {
   "cell_type": "code",
   "execution_count": null,
   "id": "7cc1fb44-eb7e-4d26-8d33-681d8ae148b0",
   "metadata": {},
   "outputs": [],
   "source": []
  }
 ],
 "metadata": {
  "kernelspec": {
   "display_name": "Python (ship)",
   "language": "python",
   "name": "ship"
  },
  "language_info": {
   "codemirror_mode": {
    "name": "ipython",
    "version": 3
   },
   "file_extension": ".py",
   "mimetype": "text/x-python",
   "name": "python",
   "nbconvert_exporter": "python",
   "pygments_lexer": "ipython3",
   "version": "3.12.5"
  }
 },
 "nbformat": 4,
 "nbformat_minor": 5
}
