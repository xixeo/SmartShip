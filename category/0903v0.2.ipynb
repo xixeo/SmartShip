{
 "cells": [
  {
   "cell_type": "code",
   "execution_count": 5,
   "id": "9347d20c-b77d-4978-a777-b5a2c578e6db",
   "metadata": {},
   "outputs": [
    {
     "name": "stdout",
     "output_type": "stream",
     "text": [
      "CUDA available: True\n",
      "Current device: 0\n",
      "Device name: NVIDIA GeForce GTX 1650\n"
     ]
    }
   ],
   "source": [
    "import torch\n",
    "\n",
    "# CUDA가 사용 가능한지 확인\n",
    "print(\"CUDA available:\", torch.cuda.is_available())\n",
    "\n",
    "# 현재 사용 중인 디바이스 확인\n",
    "print(\"Current device:\", torch.cuda.current_device())\n",
    "\n",
    "# 사용 가능한 디바이스의 이름 확인\n",
    "print(\"Device name:\", torch.cuda.get_device_name(torch.cuda.current_device()))"
   ]
  },
  {
   "cell_type": "code",
   "execution_count": 6,
   "id": "794493a7-faa8-46a2-9dac-0a785139f798",
   "metadata": {},
   "outputs": [],
   "source": [
    "import pandas as pd\n",
    "import numpy as np\n",
    "import re\n",
    "\n",
    "from sklearn.model_selection import train_test_split\n",
    "from sklearn.preprocessing import LabelEncoder\n",
    "from sklearn.ensemble import RandomForestClassifier\n",
    "from sklearn.metrics import classification_report, accuracy_score"
   ]
  },
  {
   "cell_type": "code",
   "execution_count": 7,
   "id": "d3eb0618-1573-4d8d-b98b-066d679ccd2e",
   "metadata": {},
   "outputs": [],
   "source": [
    "data=pd.read_excel('dataset0828.xlsx')"
   ]
  },
  {
   "cell_type": "code",
   "execution_count": 8,
   "id": "cdd80e7d-fa44-462c-9cd9-5673a5e0bc46",
   "metadata": {},
   "outputs": [],
   "source": [
    "import re\n",
    "\n",
    "def preprocess_text(text):\n",
    "    # 괄호 안의 내용 제거\n",
    "    text = re.sub(r'\\([^)]*\\)', '', text)\n",
    "    # 특수 문자 제거 (알파벳, 숫자, 일부 허용된 특수문자 제외)\n",
    "    text = re.sub(r'[^\\w\\s\\*\\-\\+/.,]', '', text)\n",
    "    # 여러 공백을 언더스코어로 변환\n",
    "    text = re.sub(r'\\s+', '_', text)\n",
    "    # 텍스트 중간의 연속된 언더스코어를 하나로 줄임\n",
    "    text = re.sub(r'_+', '_', text)\n",
    "    # 중간에 언더스코어가 불필요하게 남아있는 경우 처리\n",
    "    text = re.sub(r'(?<!\\w)_(?!\\w)', '', text)\n",
    "    # 언더스코어 앞뒤로 존재하는 특수문자 제거\n",
    "    text = re.sub(r'_([^\\w]+)_', '_', text)\n",
    "    text = re.sub(r'_([^\\w]+)$', '', text)\n",
    "    text = re.sub(r'^([^\\w]+)_', '', text)\n",
    "    # 텍스트 끝부분의 불필요한 언더스코어 제거\n",
    "    text = re.sub(r'_+$', '', text)\n",
    "    # 영어 단어는 소문자로 변환\n",
    "    text = ' '.join([word.lower() if re.match(r'[A-Za-z]', word) else word for word in text.split()])\n",
    "    text = text.strip()\n",
    "    return text\n",
    "\n",
    "def clean_supplier_name(name):\n",
    "    # 접미사 제거\n",
    "    suffixes = r'\\b(Corp\\.?|Corporation|Company|Co\\.?|Incorporated|Inc\\.?|Limited|Ltd\\.?|GmbH|S\\.L\\.|SDN\\. BHD\\.)\\b'\n",
    "    name = re.sub(suffixes, '', name, flags=re.IGNORECASE)\n",
    "    # 특수 문자 제거\n",
    "    name = re.sub(r'[^\\w\\s]', '', name)\n",
    "    # 불필요한 단어 제거\n",
    "    name = re.sub(r'\\b(사용금지|사)\\b', '', name, flags=re.IGNORECASE)\n",
    "    # 공백 정리\n",
    "    name = re.sub(r'\\s+', ' ', name).strip()\n",
    "    # 오타 수정 및 문자열 정리\n",
    "    name = re.sub(r'coporation|coropration|coproration|corporration', 'corporation', name, flags=re.IGNORECASE)\n",
    "    name = name.lower().strip()\n",
    "    return name"
   ]
  },
  {
   "cell_type": "code",
   "execution_count": 9,
   "id": "d628c3b1-4e61-4fb1-b5e9-b8d6db841a60",
   "metadata": {},
   "outputs": [],
   "source": [
    "# 각 칼럼 전처리\n",
    "data['cleaned_item'] = data['청구품목'].apply(preprocess_text)\n",
    "data['cleaned_supplier'] = data['발주처'].apply(clean_supplier_name)\n",
    "\n",
    "# 전처리된 칼럼 결합\n",
    "data['combined_text'] = data['cleaned_item'] + \" \" + data['cleaned_supplier']"
   ]
  },
  {
   "cell_type": "code",
   "execution_count": 10,
   "id": "601abd5a-1c5e-432b-9df2-a317a934b09b",
   "metadata": {},
   "outputs": [
    {
     "name": "stdout",
     "output_type": "stream",
     "text": [
      "                                           combined_text\n",
      "0      mckissick_construction_blocks matsuiusa corpor...\n",
      "1      mckissick_construction_blocks matsuiusa corpor...\n",
      "2           westec_20ton_tow_block matsuiusa corporation\n",
      "3            ge_power_pack_fork_e7 matsuiusa corporation\n",
      "4            ge_power_pack_fork_e7 matsuiusa corporation\n",
      "...                                                  ...\n",
      "24659                   ring-o haein corporation_cheonan\n",
      "24660           ring-retaining haein corporation_cheonan\n",
      "24661           sleeve-bearing haein corporation_cheonan\n",
      "24662             bearing-ball haein corporation_cheonan\n",
      "24663          bearing-ball_de haein corporation_cheonan\n",
      "\n",
      "[24664 rows x 1 columns]\n"
     ]
    }
   ],
   "source": [
    "# 전처리된 데이터 확인\n",
    "print(data[['combined_text']])"
   ]
  },
  {
   "cell_type": "code",
   "execution_count": 18,
   "id": "2d187e2d-e5d2-42ad-8f00-b1ede6f82984",
   "metadata": {},
   "outputs": [],
   "source": [
    "#!conda install conda-forge/label/gcc7::gensim -y"
   ]
  },
  {
   "cell_type": "code",
   "execution_count": 12,
   "id": "4995e097-5e0b-4070-bbcc-b4744b66316b",
   "metadata": {},
   "outputs": [
    {
     "data": {
      "text/plain": [
       "(365392, 731210)"
      ]
     },
     "execution_count": 12,
     "metadata": {},
     "output_type": "execute_result"
    }
   ],
   "source": [
    "from gensim.models import FastText\n",
    "import torch\n",
    "\n",
    "\n",
    "# 문장을 토큰화하여 리스트로 만들어야 합니다.\n",
    "sentences = [text.split() for text in data['combined_text']]\n",
    "\n",
    "# Gensim을 사용하여 FastText 모델 학습\n",
    "model = FastText(vector_size=100, window=3, min_count=1)  # 파라미터를 원하는 대로 조정 가능\n",
    "model.build_vocab(sentences)  # 어휘 빌드\n",
    "model.train(sentences, total_examples=len(sentences), epochs=10)  # 모델 학습"
   ]
  },
  {
   "cell_type": "code",
   "execution_count": 26,
   "id": "1cf03e66-1e42-4073-b2ca-52accbd93523",
   "metadata": {},
   "outputs": [
    {
     "name": "stdout",
     "output_type": "stream",
     "text": [
      "torch.Size([24664, 100])\n"
     ]
    }
   ],
   "source": [
    "\n",
    "# FastText 임베딩 생성\n",
    "embeddings = []\n",
    "for text in data['combined_text']:\n",
    "    # 각 텍스트의 평균 임베딩을 구합니다\n",
    "    words = text.split()\n",
    "    word_vectors = [model.wv[word] for word in words if word in model.wv]\n",
    "    if word_vectors:  # 단어가 모델 어휘에 있는 경우\n",
    "        embedding = torch.tensor(word_vectors).mean(dim=0)  # 단어 벡터의 평균 계산\n",
    "    else:\n",
    "        embedding = torch.zeros(model.vector_size)  # 단어가 없는 경우, 0 벡터로 처리\n",
    "    embeddings.append(embedding)\n",
    "\n",
    "# 임베딩 리스트를 텐서로 변환\n",
    "embeddings_tensor = torch.stack(embeddings)\n",
    "\n",
    "print(embeddings_tensor.shape)  # 확인용 출력"
   ]
  },
  {
   "cell_type": "code",
   "execution_count": 27,
   "id": "5f5e7d07-16d8-493c-8caa-5f8e61024fc0",
   "metadata": {},
   "outputs": [],
   "source": [
    "import torch\n",
    "import torch.nn as nn\n",
    "import torch.optim as optim\n",
    "from sklearn.preprocessing import LabelEncoder\n",
    "from sklearn.model_selection import train_test_split\n",
    "\n",
    "# 데이터 준비\n",
    "machinery = data['Machinery'].values\n",
    "assembly = data['Assembly'].values\n",
    "\n",
    "# LabelEncoder를 사용하여 문자열을 정수로 인코딩\n",
    "machinery_encoder = LabelEncoder()\n",
    "assembly_encoder = LabelEncoder()\n",
    "\n",
    "machinery_labels = machinery_encoder.fit_transform(machinery)\n",
    "assembly_labels = assembly_encoder.fit_transform(assembly)"
   ]
  },
  {
   "cell_type": "code",
   "execution_count": 28,
   "id": "fe991961-ae59-4613-8057-c2e64f10d884",
   "metadata": {},
   "outputs": [],
   "source": [
    "import torch\n",
    "import torch.nn as nn\n",
    "import torch.optim as optim\n",
    "from sklearn.preprocessing import LabelEncoder, StandardScaler\n",
    "from sklearn.model_selection import train_test_split\n",
    "\n",
    "# 1. 데이터 준비 및 인코딩\n",
    "machinery = data['Machinery'].values\n",
    "assembly = data['Assembly'].values\n",
    "\n",
    "machinery_encoder = LabelEncoder()\n",
    "assembly_encoder = LabelEncoder()\n",
    "\n",
    "machinery_labels = machinery_encoder.fit_transform(machinery)\n",
    "assembly_labels = assembly_encoder.fit_transform(assembly)\n",
    "\n",
    "# 2. 임베딩을 numpy 배열로 변환\n",
    "X = embeddings_tensor.numpy()\n",
    "\n",
    "# 3. Train-Test Split (각 레이블에 대해 동일한 분할 사용)\n",
    "X_train, X_test, y_train_machinery, y_test_machinery, y_train_assembly, y_test_assembly = train_test_split(\n",
    "    X, machinery_labels, assembly_labels, test_size=0.2, random_state=42)\n",
    "\n",
    "# 4. 데이터 정규화 (StandardScaler)\n",
    "scaler = StandardScaler()\n",
    "X_train_normalized = scaler.fit_transform(X_train)\n",
    "X_test_normalized = scaler.transform(X_test)\n",
    "\n",
    "\n",
    "# 5. Train 데이터를 torch Tensor로 변환\n",
    "X_train_tensor = torch.tensor(X_train_normalized, dtype=torch.float32).to(device)\n",
    "X_test_tensor = torch.tensor(X_test_normalized, dtype=torch.float32).to(device)\n",
    "y_train_machinery_tensor = torch.tensor(y_train_machinery, dtype=torch.long).to(device)\n",
    "y_test_machinery_tensor = torch.tensor(y_test_machinery, dtype=torch.long).to(device)\n",
    "y_train_assembly_tensor = torch.tensor(y_train_assembly, dtype=torch.long).to(device)\n",
    "y_test_assembly_tensor = torch.tensor(y_test_assembly, dtype=torch.long).to(device)"
   ]
  },
  {
   "cell_type": "code",
   "execution_count": 29,
   "id": "f73036f3-e8d4-4591-ac63-68ba3274c36b",
   "metadata": {},
   "outputs": [],
   "source": [
    "class SharedTransformer(nn.Module):\n",
    "    def __init__(self, input_dim, hidden_dim, num_heads, num_layers, dropout=0.1):\n",
    "        super(SharedTransformer, self).__init__()\n",
    "        self.embedding = nn.Linear(input_dim, hidden_dim)\n",
    "        transformer_layer = nn.TransformerEncoderLayer(d_model=hidden_dim, nhead=num_heads, dropout=dropout)\n",
    "        self.transformer_encoder = nn.TransformerEncoder(transformer_layer, num_layers=num_layers)\n",
    "        \n",
    "    def forward(self, x):\n",
    "        x = self.embedding(x)\n",
    "        x = self.transformer_encoder(x)\n",
    "        return x\n",
    "\n",
    "class MachineryHead(nn.Module):\n",
    "    def __init__(self, hidden_dim, output_dim):\n",
    "        super(MachineryHead, self).__init__()\n",
    "        self.fc = nn.Linear(hidden_dim, output_dim)\n",
    "    \n",
    "    def forward(self, x):\n",
    "        return self.fc(x.mean(dim=1))\n",
    "\n",
    "class AssemblyHead(nn.Module):\n",
    "    def __init__(self, hidden_dim, output_dim):\n",
    "        super(AssemblyHead, self).__init__()\n",
    "        self.fc = nn.Linear(hidden_dim, output_dim)\n",
    "    \n",
    "    def forward(self, x):\n",
    "        return self.fc(x.mean(dim=1))"
   ]
  },
  {
   "cell_type": "code",
   "execution_count": 30,
   "id": "8ee3b70e-3570-4427-947c-89b0f79aedd7",
   "metadata": {},
   "outputs": [
    {
     "name": "stdout",
     "output_type": "stream",
     "text": [
      "Using device: cuda\n"
     ]
    }
   ],
   "source": [
    "device = torch.device(\"cuda\" if torch.cuda.is_available() else \"cpu\")\n",
    "print(f\"Using device: {device}\")"
   ]
  },
  {
   "cell_type": "code",
   "execution_count": 31,
   "id": "ca4d17fb-29b6-4370-8cda-4b3081b42a7a",
   "metadata": {},
   "outputs": [],
   "source": [
    "input_dim = X_train_tensor.size(1)\n",
    "hidden_dim = 256\n",
    "# 각 레이블의 클래스 수에 따라 모델의 출력 차원 정의\n",
    "machinery_output_dim = len(np.unique(machinery_labels))  # 전체 클래스 개수\n",
    "assembly_output_dim = len(np.unique(assembly_labels))  # 전체 클래스 개수\n",
    "num_heads = 4\n",
    "num_layers = 2"
   ]
  },
  {
   "cell_type": "code",
   "execution_count": 32,
   "id": "5b9e4432-d544-4fef-88c6-2b30a9bbec82",
   "metadata": {},
   "outputs": [
    {
     "name": "stderr",
     "output_type": "stream",
     "text": [
      "C:\\Users\\User\\anaconda3\\envs\\ship\\Lib\\site-packages\\torch\\nn\\modules\\transformer.py:307: UserWarning: enable_nested_tensor is True, but self.use_nested_tensor is False because encoder_layer.self_attn.batch_first was not True(use batch_first for better inference performance)\n",
      "  warnings.warn(f\"enable_nested_tensor is True, but self.use_nested_tensor is False because {why_not_sparsity_fast_path}\")\n"
     ]
    }
   ],
   "source": [
    "# 공유된 Transformer .\n",
    "shared_transformer = SharedTransformer(input_dim, hidden_dim, num_heads, num_layers).to(device)\n",
    "\n",
    "# Machinery와 Assembly에 대한 개별 최종 레이어\n",
    "machinery_head = MachineryHead(hidden_dim, machinery_output_dim).to(device)\n",
    "assembly_head = AssemblyHead(hidden_dim, assembly_output_dim).to(device)"
   ]
  },
  {
   "cell_type": "code",
   "execution_count": 33,
   "id": "7857d22f-f283-46c4-9929-bbe064e0741a",
   "metadata": {},
   "outputs": [],
   "source": [
    "criterion_machinery = nn.CrossEntropyLoss().to(device)\n",
    "criterion_assembly = nn.CrossEntropyLoss().to(device)"
   ]
  },
  {
   "cell_type": "code",
   "execution_count": 34,
   "id": "a854d877-eb36-49b7-b3f3-48bfe05af491",
   "metadata": {},
   "outputs": [],
   "source": [
    "optimizer = optim.Adam(list(shared_transformer.parameters()) +\n",
    "                       list(machinery_head.parameters()) +\n",
    "                       list(assembly_head.parameters()), lr=0.001)\n"
   ]
  },
  {
   "cell_type": "code",
   "execution_count": 35,
   "id": "137f79f8-7dc5-4064-9e9d-9f7d6ebc6110",
   "metadata": {},
   "outputs": [],
   "source": [
    "scheduler = optim.lr_scheduler.StepLR(optimizer, step_size=20, gamma=0.5)\n"
   ]
  },
  {
   "cell_type": "code",
   "execution_count": 36,
   "id": "8e29bfd8-960a-4630-beba-39779ba4bb68",
   "metadata": {},
   "outputs": [
    {
     "name": "stderr",
     "output_type": "stream",
     "text": [
      "C:\\Users\\User\\anaconda3\\envs\\ship\\Lib\\site-packages\\torch\\nn\\functional.py:5560: UserWarning: 1Torch was not compiled with flash attention. (Triggered internally at C:\\actions-runner\\_work\\pytorch\\pytorch\\builder\\windows\\pytorch\\aten\\src\\ATen\\native\\transformers\\cuda\\sdp_utils.cpp:555.)\n",
      "  attn_output = scaled_dot_product_attention(q, k, v, attn_mask, dropout_p, is_causal)\n"
     ]
    },
    {
     "name": "stdout",
     "output_type": "stream",
     "text": [
      "Epoch [10/200], Machinery Loss: 2.2392, Assembly Loss: 5.9622, Total Loss: 8.2014\n",
      "Epoch [20/200], Machinery Loss: 1.9065, Assembly Loss: 5.0783, Total Loss: 6.9848\n",
      "Epoch [30/200], Machinery Loss: 1.7957, Assembly Loss: 4.8032, Total Loss: 6.5989\n",
      "Epoch [40/200], Machinery Loss: 1.7239, Assembly Loss: 4.6308, Total Loss: 6.3547\n",
      "Epoch [50/200], Machinery Loss: 1.6831, Assembly Loss: 4.5530, Total Loss: 6.2361\n",
      "Epoch [60/200], Machinery Loss: 1.6530, Assembly Loss: 4.4806, Total Loss: 6.1336\n",
      "Epoch [70/200], Machinery Loss: 1.6375, Assembly Loss: 4.4413, Total Loss: 6.0788\n",
      "Epoch [80/200], Machinery Loss: 1.6197, Assembly Loss: 4.3996, Total Loss: 6.0194\n",
      "Epoch [90/200], Machinery Loss: 1.6110, Assembly Loss: 4.3779, Total Loss: 5.9889\n",
      "Epoch [100/200], Machinery Loss: 1.6046, Assembly Loss: 4.3564, Total Loss: 5.9610\n",
      "Epoch [110/200], Machinery Loss: 1.5983, Assembly Loss: 4.3430, Total Loss: 5.9413\n",
      "Epoch [120/200], Machinery Loss: 1.5959, Assembly Loss: 4.3307, Total Loss: 5.9266\n",
      "Epoch [130/200], Machinery Loss: 1.5939, Assembly Loss: 4.3228, Total Loss: 5.9167\n",
      "Epoch [140/200], Machinery Loss: 1.5904, Assembly Loss: 4.3168, Total Loss: 5.9072\n",
      "Epoch [150/200], Machinery Loss: 1.5884, Assembly Loss: 4.3142, Total Loss: 5.9027\n",
      "Epoch [160/200], Machinery Loss: 1.5868, Assembly Loss: 4.3102, Total Loss: 5.8970\n",
      "Epoch [170/200], Machinery Loss: 1.5874, Assembly Loss: 4.3084, Total Loss: 5.8958\n",
      "Epoch [180/200], Machinery Loss: 1.5862, Assembly Loss: 4.3046, Total Loss: 5.8908\n",
      "Epoch [190/200], Machinery Loss: 1.5854, Assembly Loss: 4.3064, Total Loss: 5.8918\n",
      "Epoch [200/200], Machinery Loss: 1.5873, Assembly Loss: 4.3052, Total Loss: 5.8925\n"
     ]
    }
   ],
   "source": [
    "num_epochs = 200\n",
    "for epoch in range(num_epochs):\n",
    "    optimizer.zero_grad()\n",
    "    \n",
    "    # 공유된 Transformer 모델로 입력 데이터 처리\n",
    "    shared_output = shared_transformer(X_train_tensor.unsqueeze(1))\n",
    "    \n",
    "    # Machinery 예측\n",
    "    machinery_output = machinery_head(shared_output)\n",
    "    loss_machinery = criterion_machinery(machinery_output, y_train_machinery_tensor)\n",
    "    \n",
    "    # Assembly 예측\n",
    "    assembly_output = assembly_head(shared_output)\n",
    "    loss_assembly = criterion_assembly(assembly_output, y_train_assembly_tensor)\n",
    "    \n",
    "    # 총 손실 계산 및 역전파\n",
    "    total_loss = loss_machinery + loss_assembly\n",
    "    total_loss.backward()\n",
    "    optimizer.step()\n",
    "    \n",
    "    # 학습률 스케줄러 업데이트\n",
    "    scheduler.step()\n",
    "\n",
    "    if (epoch + 1) % 10 == 0:\n",
    "        print(f\"Epoch [{epoch + 1}/{num_epochs}], \"\n",
    "              f\"Machinery Loss: {loss_machinery.item():.4f}, \"\n",
    "              f\"Assembly Loss: {loss_assembly.item():.4f}, \"\n",
    "              f\"Total Loss: {total_loss.item():.4f}\")"
   ]
  },
  {
   "cell_type": "code",
   "execution_count": null,
   "id": "d9c1502b-2761-4f1f-8175-f6025741cdac",
   "metadata": {},
   "outputs": [],
   "source": []
  }
 ],
 "metadata": {
  "kernelspec": {
   "display_name": "Python (ship)",
   "language": "python",
   "name": "ship"
  },
  "language_info": {
   "codemirror_mode": {
    "name": "ipython",
    "version": 3
   },
   "file_extension": ".py",
   "mimetype": "text/x-python",
   "name": "python",
   "nbconvert_exporter": "python",
   "pygments_lexer": "ipython3",
   "version": "3.12.5"
  }
 },
 "nbformat": 4,
 "nbformat_minor": 5
}
